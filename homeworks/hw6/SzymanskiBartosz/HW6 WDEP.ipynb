{
 "cells": [
  {
   "cell_type": "code",
   "execution_count": 86,
   "id": "211a7a0a",
   "metadata": {},
   "outputs": [],
   "source": [
    "import pandas as pd\n",
    "import matplotlib.pyplot as plt\n",
    "import seaborn as sns"
   ]
  },
  {
   "cell_type": "code",
   "execution_count": 6,
   "id": "7d29b5f3",
   "metadata": {},
   "outputs": [],
   "source": [
    "dane = pd.read_csv('szczescie.csv')"
   ]
  },
  {
   "cell_type": "markdown",
   "id": "26579e83",
   "metadata": {},
   "source": [
    "# 1. Opis zbioru danych"
   ]
  },
  {
   "cell_type": "markdown",
   "id": "ec5fb158",
   "metadata": {},
   "source": [
    "Zbiór danych opisuje poziom szczęścia w poszczególnych za pomocą różnych wskażników. Składa się on z 143 wierzsy oraz 12 kolumn.\n",
    "Pierwsze dwie kolumny zawierają napisy (stringi), a w pozostałych kolumnach znajdują się zmienne liczbowe (float)."
   ]
  },
  {
   "cell_type": "markdown",
   "id": "d86dddef",
   "metadata": {},
   "source": [
    "## Znaczenie kolumn\n",
    "<b>Country name</b> - nazwa kraju <br>\n",
    "<b>Regional indicator</b> - region w jakim znajduje się kraj <br>\n",
    "<b>Ladder score</b> - wskażnik szczęścia, będący średnią z odpowiedzi ankietowanych w skali od 0 do 10 na ile są szczęśliwi <br>\n",
    "<b>upperwhisker</b> - górna granica wskażnika szczęścia <br>\n",
    "<b>lowerwhisker</b> - dolna granica wskażnika szczęścia <br>\n",
    "<b>Log GDP per capita</b> -  Logarytm naturalny PKB per capita kraju, skorygowany o parytet siły nabywczej (PPP), aby uwzględnić różnice w kosztach życia między krajami </b><br>\n",
    "<b>Social support</b> - Średnia krajowa odpowiedzi binarnych (0 lub 1, reprezentujących odpowiedzi Nie/Tak) na pytanie o posiadanie krewnych lub przyjaciół, na których można liczyć w trudnych chwilach <br>\n",
    "<b>Healthy life expectancy</b> - Średnia liczba lat, które noworodek przeżyłby w dobrym zdrowiu, oparta na wskaźnikach śmiertelności i oczekiwanej długości życia w różnym wieku <br>\n",
    "<b>Freedom to make life choices</b> - Średnia krajowa odpowiedzi na pytanie o zadowolenie z wolności wyboru, co robić ze swoim życiem <br>\n",
    "<b>Generosity</b> -  Resztowa wartość z regresji średniej krajowej odpowiedzi na pytanie o darowizny na cele charytatywne na PKB per capita <br>\n",
    "<b>Perceptions of corruption</b> - Średnia krajowa odpowiedzi na pytania o postrzegany stopień korupcji w rządzie i biznesie <br>\n",
    "<b>Dystopia + residual</b> - Dystopia to wyimaginowany kraj z najbardziej nieszczęśliwymi ludźmi na świecie, używany jako punkt odniesienia do porównań. Wartość Dystopia + residual to kombinacja wyniku dystopii i niewyjaśnionej resztowej wartości dla każdego kraju, co zapewnia, że łączny wynik jest zawsze dodatni. Każdy z tych czynników przyczynia się do ogólnego wyniku szczęścia, ale wartość dystopia + resztowa jest punktem odniesienia, który zapewnia, że żaden kraj nie ma niższego wyniku niż hipotetyczna dystopia"
   ]
  },
  {
   "cell_type": "markdown",
   "id": "907d0dd6",
   "metadata": {},
   "source": [
    "# 2. Analiza zmiennych"
   ]
  },
  {
   "cell_type": "code",
   "execution_count": 63,
   "id": "413c7e04",
   "metadata": {
    "scrolled": true
   },
   "outputs": [
    {
     "data": {
      "text/plain": [
       "Ladder score                    1.170717\n",
       "upperwhisker                    1.155008\n",
       "lowerwhisker                    1.187133\n",
       "Log GDP per capita              0.425098\n",
       "Social support                  0.333317\n",
       "Healthy life expectancy         0.164923\n",
       "Freedom to make life choices    0.162492\n",
       "Generosity                      0.073441\n",
       "Perceptions of corruption       0.126238\n",
       "Dystopia + residual             0.537459\n",
       "dtype: float64"
      ]
     },
     "execution_count": 63,
     "metadata": {},
     "output_type": "execute_result"
    }
   ],
   "source": [
    "liczbowe = dane.iloc[:, 2:12]\n",
    "liczbowe.mean()"
   ]
  },
  {
   "cell_type": "code",
   "execution_count": 64,
   "id": "d871484f",
   "metadata": {},
   "outputs": [
    {
     "data": {
      "text/plain": [
       "Ladder score                    1.170717\n",
       "upperwhisker                    1.155008\n",
       "lowerwhisker                    1.187133\n",
       "Log GDP per capita              0.425098\n",
       "Social support                  0.333317\n",
       "Healthy life expectancy         0.164923\n",
       "Freedom to make life choices    0.162492\n",
       "Generosity                      0.073441\n",
       "Perceptions of corruption       0.126238\n",
       "Dystopia + residual             0.537459\n",
       "dtype: float64"
      ]
     },
     "execution_count": 64,
     "metadata": {},
     "output_type": "execute_result"
    }
   ],
   "source": [
    "liczbowe.std()"
   ]
  },
  {
   "cell_type": "code",
   "execution_count": 65,
   "id": "1bd5ff53",
   "metadata": {},
   "outputs": [
    {
     "data": {
      "text/plain": [
       "Ladder score                    7.741\n",
       "upperwhisker                    7.815\n",
       "lowerwhisker                    7.667\n",
       "Log GDP per capita              2.141\n",
       "Social support                  1.617\n",
       "Healthy life expectancy         0.857\n",
       "Freedom to make life choices    0.863\n",
       "Generosity                      0.401\n",
       "Perceptions of corruption       0.575\n",
       "Dystopia + residual             2.998\n",
       "dtype: float64"
      ]
     },
     "execution_count": 65,
     "metadata": {},
     "output_type": "execute_result"
    }
   ],
   "source": [
    "liczbowe.max()"
   ]
  },
  {
   "cell_type": "code",
   "execution_count": 66,
   "id": "a762024f",
   "metadata": {},
   "outputs": [
    {
     "data": {
      "text/plain": [
       "Ladder score                    1.721\n",
       "upperwhisker                    1.775\n",
       "lowerwhisker                    1.667\n",
       "Log GDP per capita              0.000\n",
       "Social support                  0.000\n",
       "Healthy life expectancy         0.000\n",
       "Freedom to make life choices    0.000\n",
       "Generosity                      0.000\n",
       "Perceptions of corruption       0.000\n",
       "Dystopia + residual            -0.073\n",
       "dtype: float64"
      ]
     },
     "execution_count": 66,
     "metadata": {},
     "output_type": "execute_result"
    }
   ],
   "source": [
    "liczbowe.min()"
   ]
  },
  {
   "cell_type": "code",
   "execution_count": 67,
   "id": "7c271a34",
   "metadata": {},
   "outputs": [
    {
     "data": {
      "text/plain": [
       "Ladder score                    5.7850\n",
       "upperwhisker                    5.8950\n",
       "lowerwhisker                    5.6740\n",
       "Log GDP per capita              1.4315\n",
       "Social support                  1.2375\n",
       "Healthy life expectancy         0.5495\n",
       "Freedom to make life choices    0.6410\n",
       "Generosity                      0.1365\n",
       "Perceptions of corruption       0.1205\n",
       "Dystopia + residual             1.6445\n",
       "dtype: float64"
      ]
     },
     "execution_count": 67,
     "metadata": {},
     "output_type": "execute_result"
    }
   ],
   "source": [
    "liczbowe.median()"
   ]
  },
  {
   "cell_type": "code",
   "execution_count": 73,
   "id": "ee02c19b",
   "metadata": {},
   "outputs": [
    {
     "data": {
      "text/plain": [
       "Ladder score                    1.69000\n",
       "upperwhisker                    1.66200\n",
       "lowerwhisker                    1.71300\n",
       "Log GDP per capita              0.66375\n",
       "Social support                  0.46150\n",
       "Healthy life expectancy         0.25050\n",
       "Freedom to make life choices    0.20850\n",
       "Generosity                      0.10150\n",
       "Perceptions of corruption       0.12500\n",
       "Dystopia + residual             0.57350\n",
       "dtype: float64"
      ]
     },
     "execution_count": 73,
     "metadata": {},
     "output_type": "execute_result"
    }
   ],
   "source": [
    "liczbowe.quantile(0.75)-liczbowe.quantile(0.25) #IQR"
   ]
  },
  {
   "cell_type": "code",
   "execution_count": 75,
   "id": "b4ddbe32",
   "metadata": {},
   "outputs": [
    {
     "data": {
      "text/plain": [
       "Ladder score                   -0.181577\n",
       "upperwhisker                   -0.097284\n",
       "lowerwhisker                   -0.251821\n",
       "Log GDP per capita             -0.348987\n",
       "Social support                  0.510899\n",
       "Healthy life expectancy        -0.373817\n",
       "Freedom to make life choices    1.305890\n",
       "Generosity                      0.845147\n",
       "Perceptions of corruption       2.012911\n",
       "Dystopia + residual             0.801369\n",
       "dtype: float64"
      ]
     },
     "execution_count": 75,
     "metadata": {},
     "output_type": "execute_result"
    }
   ],
   "source": [
    "liczbowe.kurt()"
   ]
  },
  {
   "cell_type": "code",
   "execution_count": 76,
   "id": "902bbbd8",
   "metadata": {},
   "outputs": [
    {
     "data": {
      "text/plain": [
       "Ladder score                   -0.521820\n",
       "upperwhisker                   -0.547456\n",
       "lowerwhisker                   -0.499001\n",
       "Log GDP per capita             -0.507127\n",
       "Social support                 -0.992283\n",
       "Healthy life expectancy        -0.546061\n",
       "Freedom to make life choices   -1.018833\n",
       "Generosity                      0.663054\n",
       "Perceptions of corruption       1.524926\n",
       "Dystopia + residual            -0.601796\n",
       "dtype: float64"
      ]
     },
     "execution_count": 76,
     "metadata": {},
     "output_type": "execute_result"
    }
   ],
   "source": [
    "liczbowe.skew()"
   ]
  },
  {
   "cell_type": "markdown",
   "id": "cb5c685e",
   "metadata": {},
   "source": [
    "# 3. Analiza zmiennych w zależności od regionu"
   ]
  },
  {
   "cell_type": "code",
   "execution_count": 81,
   "id": "e6f8e9a3",
   "metadata": {},
   "outputs": [
    {
     "data": {
      "text/html": [
       "<div>\n",
       "<style scoped>\n",
       "    .dataframe tbody tr th:only-of-type {\n",
       "        vertical-align: middle;\n",
       "    }\n",
       "\n",
       "    .dataframe tbody tr th {\n",
       "        vertical-align: top;\n",
       "    }\n",
       "\n",
       "    .dataframe thead th {\n",
       "        text-align: right;\n",
       "    }\n",
       "</style>\n",
       "<table border=\"1\" class=\"dataframe\">\n",
       "  <thead>\n",
       "    <tr style=\"text-align: right;\">\n",
       "      <th></th>\n",
       "      <th>Ladder score</th>\n",
       "      <th>upperwhisker</th>\n",
       "      <th>lowerwhisker</th>\n",
       "      <th>Log GDP per capita</th>\n",
       "      <th>Social support</th>\n",
       "      <th>Healthy life expectancy</th>\n",
       "      <th>Freedom to make life choices</th>\n",
       "      <th>Generosity</th>\n",
       "      <th>Perceptions of corruption</th>\n",
       "      <th>Dystopia + residual</th>\n",
       "    </tr>\n",
       "    <tr>\n",
       "      <th>Regional indicator</th>\n",
       "      <th></th>\n",
       "      <th></th>\n",
       "      <th></th>\n",
       "      <th></th>\n",
       "      <th></th>\n",
       "      <th></th>\n",
       "      <th></th>\n",
       "      <th></th>\n",
       "      <th></th>\n",
       "      <th></th>\n",
       "    </tr>\n",
       "  </thead>\n",
       "  <tbody>\n",
       "    <tr>\n",
       "      <th>Central and Eastern Europe</th>\n",
       "      <td>6.170941</td>\n",
       "      <td>6.267529</td>\n",
       "      <td>6.074235</td>\n",
       "      <td>1.637765</td>\n",
       "      <td>1.390706</td>\n",
       "      <td>0.610412</td>\n",
       "      <td>0.650471</td>\n",
       "      <td>0.135353</td>\n",
       "      <td>0.089353</td>\n",
       "      <td>1.656706</td>\n",
       "    </tr>\n",
       "    <tr>\n",
       "      <th>Commonwealth of Independent States</th>\n",
       "      <td>5.538500</td>\n",
       "      <td>5.637500</td>\n",
       "      <td>5.439400</td>\n",
       "      <td>1.401000</td>\n",
       "      <td>1.254556</td>\n",
       "      <td>0.543556</td>\n",
       "      <td>0.697444</td>\n",
       "      <td>0.143111</td>\n",
       "      <td>0.122333</td>\n",
       "      <td>1.404667</td>\n",
       "    </tr>\n",
       "    <tr>\n",
       "      <th>East Asia</th>\n",
       "      <td>5.934333</td>\n",
       "      <td>6.022667</td>\n",
       "      <td>5.846333</td>\n",
       "      <td>1.700333</td>\n",
       "      <td>1.302000</td>\n",
       "      <td>0.681833</td>\n",
       "      <td>0.587667</td>\n",
       "      <td>0.122167</td>\n",
       "      <td>0.200000</td>\n",
       "      <td>1.340833</td>\n",
       "    </tr>\n",
       "    <tr>\n",
       "      <th>Latin America and Caribbean</th>\n",
       "      <td>6.143368</td>\n",
       "      <td>6.268263</td>\n",
       "      <td>6.018474</td>\n",
       "      <td>1.328211</td>\n",
       "      <td>1.267316</td>\n",
       "      <td>0.571158</td>\n",
       "      <td>0.703263</td>\n",
       "      <td>0.106789</td>\n",
       "      <td>0.109211</td>\n",
       "      <td>2.057474</td>\n",
       "    </tr>\n",
       "    <tr>\n",
       "      <th>Middle East and North Africa</th>\n",
       "      <td>5.199941</td>\n",
       "      <td>5.312294</td>\n",
       "      <td>5.087529</td>\n",
       "      <td>1.460533</td>\n",
       "      <td>1.084200</td>\n",
       "      <td>0.553200</td>\n",
       "      <td>0.493667</td>\n",
       "      <td>0.108000</td>\n",
       "      <td>0.146067</td>\n",
       "      <td>1.325067</td>\n",
       "    </tr>\n",
       "    <tr>\n",
       "      <th>North America and ANZ</th>\n",
       "      <td>6.927750</td>\n",
       "      <td>7.012000</td>\n",
       "      <td>6.843250</td>\n",
       "      <td>1.860750</td>\n",
       "      <td>1.459750</td>\n",
       "      <td>0.652000</td>\n",
       "      <td>0.704500</td>\n",
       "      <td>0.226000</td>\n",
       "      <td>0.335000</td>\n",
       "      <td>1.689250</td>\n",
       "    </tr>\n",
       "    <tr>\n",
       "      <th>South Asia</th>\n",
       "      <td>3.895667</td>\n",
       "      <td>3.996500</td>\n",
       "      <td>3.795000</td>\n",
       "      <td>1.051833</td>\n",
       "      <td>0.611833</td>\n",
       "      <td>0.420333</td>\n",
       "      <td>0.553333</td>\n",
       "      <td>0.150333</td>\n",
       "      <td>0.099500</td>\n",
       "      <td>1.008500</td>\n",
       "    </tr>\n",
       "    <tr>\n",
       "      <th>Southeast Asia</th>\n",
       "      <td>5.551889</td>\n",
       "      <td>5.662111</td>\n",
       "      <td>5.441556</td>\n",
       "      <td>1.374333</td>\n",
       "      <td>1.144556</td>\n",
       "      <td>0.520222</td>\n",
       "      <td>0.765000</td>\n",
       "      <td>0.223333</td>\n",
       "      <td>0.164556</td>\n",
       "      <td>1.360111</td>\n",
       "    </tr>\n",
       "    <tr>\n",
       "      <th>Sub-Saharan Africa</th>\n",
       "      <td>4.329686</td>\n",
       "      <td>4.476200</td>\n",
       "      <td>4.183314</td>\n",
       "      <td>0.904171</td>\n",
       "      <td>0.788714</td>\n",
       "      <td>0.297686</td>\n",
       "      <td>0.515486</td>\n",
       "      <td>0.150400</td>\n",
       "      <td>0.111429</td>\n",
       "      <td>1.562086</td>\n",
       "    </tr>\n",
       "    <tr>\n",
       "      <th>Western Europe</th>\n",
       "      <td>6.841650</td>\n",
       "      <td>6.928500</td>\n",
       "      <td>6.754600</td>\n",
       "      <td>1.873350</td>\n",
       "      <td>1.415150</td>\n",
       "      <td>0.709150</td>\n",
       "      <td>0.709700</td>\n",
       "      <td>0.171350</td>\n",
       "      <td>0.308650</td>\n",
       "      <td>1.654350</td>\n",
       "    </tr>\n",
       "  </tbody>\n",
       "</table>\n",
       "</div>"
      ],
      "text/plain": [
       "                                    Ladder score  upperwhisker  lowerwhisker  \\\n",
       "Regional indicator                                                             \n",
       "Central and Eastern Europe              6.170941      6.267529      6.074235   \n",
       "Commonwealth of Independent States      5.538500      5.637500      5.439400   \n",
       "East Asia                               5.934333      6.022667      5.846333   \n",
       "Latin America and Caribbean             6.143368      6.268263      6.018474   \n",
       "Middle East and North Africa            5.199941      5.312294      5.087529   \n",
       "North America and ANZ                   6.927750      7.012000      6.843250   \n",
       "South Asia                              3.895667      3.996500      3.795000   \n",
       "Southeast Asia                          5.551889      5.662111      5.441556   \n",
       "Sub-Saharan Africa                      4.329686      4.476200      4.183314   \n",
       "Western Europe                          6.841650      6.928500      6.754600   \n",
       "\n",
       "                                    Log GDP per capita  Social support  \\\n",
       "Regional indicator                                                       \n",
       "Central and Eastern Europe                    1.637765        1.390706   \n",
       "Commonwealth of Independent States            1.401000        1.254556   \n",
       "East Asia                                     1.700333        1.302000   \n",
       "Latin America and Caribbean                   1.328211        1.267316   \n",
       "Middle East and North Africa                  1.460533        1.084200   \n",
       "North America and ANZ                         1.860750        1.459750   \n",
       "South Asia                                    1.051833        0.611833   \n",
       "Southeast Asia                                1.374333        1.144556   \n",
       "Sub-Saharan Africa                            0.904171        0.788714   \n",
       "Western Europe                                1.873350        1.415150   \n",
       "\n",
       "                                    Healthy life expectancy  \\\n",
       "Regional indicator                                            \n",
       "Central and Eastern Europe                         0.610412   \n",
       "Commonwealth of Independent States                 0.543556   \n",
       "East Asia                                          0.681833   \n",
       "Latin America and Caribbean                        0.571158   \n",
       "Middle East and North Africa                       0.553200   \n",
       "North America and ANZ                              0.652000   \n",
       "South Asia                                         0.420333   \n",
       "Southeast Asia                                     0.520222   \n",
       "Sub-Saharan Africa                                 0.297686   \n",
       "Western Europe                                     0.709150   \n",
       "\n",
       "                                    Freedom to make life choices  Generosity  \\\n",
       "Regional indicator                                                             \n",
       "Central and Eastern Europe                              0.650471    0.135353   \n",
       "Commonwealth of Independent States                      0.697444    0.143111   \n",
       "East Asia                                               0.587667    0.122167   \n",
       "Latin America and Caribbean                             0.703263    0.106789   \n",
       "Middle East and North Africa                            0.493667    0.108000   \n",
       "North America and ANZ                                   0.704500    0.226000   \n",
       "South Asia                                              0.553333    0.150333   \n",
       "Southeast Asia                                          0.765000    0.223333   \n",
       "Sub-Saharan Africa                                      0.515486    0.150400   \n",
       "Western Europe                                          0.709700    0.171350   \n",
       "\n",
       "                                    Perceptions of corruption  \\\n",
       "Regional indicator                                              \n",
       "Central and Eastern Europe                           0.089353   \n",
       "Commonwealth of Independent States                   0.122333   \n",
       "East Asia                                            0.200000   \n",
       "Latin America and Caribbean                          0.109211   \n",
       "Middle East and North Africa                         0.146067   \n",
       "North America and ANZ                                0.335000   \n",
       "South Asia                                           0.099500   \n",
       "Southeast Asia                                       0.164556   \n",
       "Sub-Saharan Africa                                   0.111429   \n",
       "Western Europe                                       0.308650   \n",
       "\n",
       "                                    Dystopia + residual  \n",
       "Regional indicator                                       \n",
       "Central and Eastern Europe                     1.656706  \n",
       "Commonwealth of Independent States             1.404667  \n",
       "East Asia                                      1.340833  \n",
       "Latin America and Caribbean                    2.057474  \n",
       "Middle East and North Africa                   1.325067  \n",
       "North America and ANZ                          1.689250  \n",
       "South Asia                                     1.008500  \n",
       "Southeast Asia                                 1.360111  \n",
       "Sub-Saharan Africa                             1.562086  \n",
       "Western Europe                                 1.654350  "
      ]
     },
     "execution_count": 81,
     "metadata": {},
     "output_type": "execute_result"
    }
   ],
   "source": [
    "dane.groupby(\"Regional indicator\").mean()"
   ]
  },
  {
   "cell_type": "code",
   "execution_count": 82,
   "id": "7e15dfa4",
   "metadata": {},
   "outputs": [
    {
     "data": {
      "text/html": [
       "<div>\n",
       "<style scoped>\n",
       "    .dataframe tbody tr th:only-of-type {\n",
       "        vertical-align: middle;\n",
       "    }\n",
       "\n",
       "    .dataframe tbody tr th {\n",
       "        vertical-align: top;\n",
       "    }\n",
       "\n",
       "    .dataframe thead th {\n",
       "        text-align: right;\n",
       "    }\n",
       "</style>\n",
       "<table border=\"1\" class=\"dataframe\">\n",
       "  <thead>\n",
       "    <tr style=\"text-align: right;\">\n",
       "      <th></th>\n",
       "      <th>Ladder score</th>\n",
       "      <th>upperwhisker</th>\n",
       "      <th>lowerwhisker</th>\n",
       "      <th>Log GDP per capita</th>\n",
       "      <th>Social support</th>\n",
       "      <th>Healthy life expectancy</th>\n",
       "      <th>Freedom to make life choices</th>\n",
       "      <th>Generosity</th>\n",
       "      <th>Perceptions of corruption</th>\n",
       "      <th>Dystopia + residual</th>\n",
       "    </tr>\n",
       "    <tr>\n",
       "      <th>Regional indicator</th>\n",
       "      <th></th>\n",
       "      <th></th>\n",
       "      <th></th>\n",
       "      <th></th>\n",
       "      <th></th>\n",
       "      <th></th>\n",
       "      <th></th>\n",
       "      <th></th>\n",
       "      <th></th>\n",
       "      <th></th>\n",
       "    </tr>\n",
       "  </thead>\n",
       "  <tbody>\n",
       "    <tr>\n",
       "      <th>Central and Eastern Europe</th>\n",
       "      <td>6.2570</td>\n",
       "      <td>6.3320</td>\n",
       "      <td>6.1820</td>\n",
       "      <td>1.7000</td>\n",
       "      <td>1.4450</td>\n",
       "      <td>0.5980</td>\n",
       "      <td>0.6320</td>\n",
       "      <td>0.1270</td>\n",
       "      <td>0.0680</td>\n",
       "      <td>1.6400</td>\n",
       "    </tr>\n",
       "    <tr>\n",
       "      <th>Commonwealth of Independent States</th>\n",
       "      <td>5.5845</td>\n",
       "      <td>5.6775</td>\n",
       "      <td>5.4910</td>\n",
       "      <td>1.4330</td>\n",
       "      <td>1.3150</td>\n",
       "      <td>0.5390</td>\n",
       "      <td>0.6800</td>\n",
       "      <td>0.1380</td>\n",
       "      <td>0.1210</td>\n",
       "      <td>1.4510</td>\n",
       "    </tr>\n",
       "    <tr>\n",
       "      <th>East Asia</th>\n",
       "      <td>6.0155</td>\n",
       "      <td>6.1025</td>\n",
       "      <td>5.9265</td>\n",
       "      <td>1.8005</td>\n",
       "      <td>1.2925</td>\n",
       "      <td>0.7100</td>\n",
       "      <td>0.5935</td>\n",
       "      <td>0.1290</td>\n",
       "      <td>0.1830</td>\n",
       "      <td>1.5320</td>\n",
       "    </tr>\n",
       "    <tr>\n",
       "      <th>Latin America and Caribbean</th>\n",
       "      <td>6.1880</td>\n",
       "      <td>6.3060</td>\n",
       "      <td>6.0700</td>\n",
       "      <td>1.3980</td>\n",
       "      <td>1.2690</td>\n",
       "      <td>0.5490</td>\n",
       "      <td>0.7200</td>\n",
       "      <td>0.1000</td>\n",
       "      <td>0.0800</td>\n",
       "      <td>1.9070</td>\n",
       "    </tr>\n",
       "    <tr>\n",
       "      <th>Middle East and North Africa</th>\n",
       "      <td>4.9750</td>\n",
       "      <td>5.0850</td>\n",
       "      <td>4.8660</td>\n",
       "      <td>1.3770</td>\n",
       "      <td>1.1360</td>\n",
       "      <td>0.5630</td>\n",
       "      <td>0.4900</td>\n",
       "      <td>0.0910</td>\n",
       "      <td>0.1720</td>\n",
       "      <td>1.7410</td>\n",
       "    </tr>\n",
       "    <tr>\n",
       "      <th>North America and ANZ</th>\n",
       "      <td>6.9645</td>\n",
       "      <td>7.0445</td>\n",
       "      <td>6.8845</td>\n",
       "      <td>1.8470</td>\n",
       "      <td>1.4600</td>\n",
       "      <td>0.6825</td>\n",
       "      <td>0.7380</td>\n",
       "      <td>0.2255</td>\n",
       "      <td>0.3455</td>\n",
       "      <td>1.6585</td>\n",
       "    </tr>\n",
       "    <tr>\n",
       "      <th>South Asia</th>\n",
       "      <td>3.9760</td>\n",
       "      <td>4.0705</td>\n",
       "      <td>3.8815</td>\n",
       "      <td>1.0955</td>\n",
       "      <td>0.6265</td>\n",
       "      <td>0.4300</td>\n",
       "      <td>0.6180</td>\n",
       "      <td>0.1440</td>\n",
       "      <td>0.1015</td>\n",
       "      <td>0.8375</td>\n",
       "    </tr>\n",
       "    <tr>\n",
       "      <th>Southeast Asia</th>\n",
       "      <td>5.9750</td>\n",
       "      <td>6.0780</td>\n",
       "      <td>5.8580</td>\n",
       "      <td>1.3310</td>\n",
       "      <td>1.1460</td>\n",
       "      <td>0.4720</td>\n",
       "      <td>0.7960</td>\n",
       "      <td>0.1700</td>\n",
       "      <td>0.1360</td>\n",
       "      <td>1.4630</td>\n",
       "    </tr>\n",
       "    <tr>\n",
       "      <th>Sub-Saharan Africa</th>\n",
       "      <td>4.3770</td>\n",
       "      <td>4.5100</td>\n",
       "      <td>4.2450</td>\n",
       "      <td>0.8310</td>\n",
       "      <td>0.7510</td>\n",
       "      <td>0.3010</td>\n",
       "      <td>0.5230</td>\n",
       "      <td>0.1450</td>\n",
       "      <td>0.1070</td>\n",
       "      <td>1.6600</td>\n",
       "    </tr>\n",
       "    <tr>\n",
       "      <th>Western Europe</th>\n",
       "      <td>6.8660</td>\n",
       "      <td>6.9440</td>\n",
       "      <td>6.7865</td>\n",
       "      <td>1.8695</td>\n",
       "      <td>1.4075</td>\n",
       "      <td>0.7050</td>\n",
       "      <td>0.7280</td>\n",
       "      <td>0.1735</td>\n",
       "      <td>0.3310</td>\n",
       "      <td>1.6345</td>\n",
       "    </tr>\n",
       "  </tbody>\n",
       "</table>\n",
       "</div>"
      ],
      "text/plain": [
       "                                    Ladder score  upperwhisker  lowerwhisker  \\\n",
       "Regional indicator                                                             \n",
       "Central and Eastern Europe                6.2570        6.3320        6.1820   \n",
       "Commonwealth of Independent States        5.5845        5.6775        5.4910   \n",
       "East Asia                                 6.0155        6.1025        5.9265   \n",
       "Latin America and Caribbean               6.1880        6.3060        6.0700   \n",
       "Middle East and North Africa              4.9750        5.0850        4.8660   \n",
       "North America and ANZ                     6.9645        7.0445        6.8845   \n",
       "South Asia                                3.9760        4.0705        3.8815   \n",
       "Southeast Asia                            5.9750        6.0780        5.8580   \n",
       "Sub-Saharan Africa                        4.3770        4.5100        4.2450   \n",
       "Western Europe                            6.8660        6.9440        6.7865   \n",
       "\n",
       "                                    Log GDP per capita  Social support  \\\n",
       "Regional indicator                                                       \n",
       "Central and Eastern Europe                      1.7000          1.4450   \n",
       "Commonwealth of Independent States              1.4330          1.3150   \n",
       "East Asia                                       1.8005          1.2925   \n",
       "Latin America and Caribbean                     1.3980          1.2690   \n",
       "Middle East and North Africa                    1.3770          1.1360   \n",
       "North America and ANZ                           1.8470          1.4600   \n",
       "South Asia                                      1.0955          0.6265   \n",
       "Southeast Asia                                  1.3310          1.1460   \n",
       "Sub-Saharan Africa                              0.8310          0.7510   \n",
       "Western Europe                                  1.8695          1.4075   \n",
       "\n",
       "                                    Healthy life expectancy  \\\n",
       "Regional indicator                                            \n",
       "Central and Eastern Europe                           0.5980   \n",
       "Commonwealth of Independent States                   0.5390   \n",
       "East Asia                                            0.7100   \n",
       "Latin America and Caribbean                          0.5490   \n",
       "Middle East and North Africa                         0.5630   \n",
       "North America and ANZ                                0.6825   \n",
       "South Asia                                           0.4300   \n",
       "Southeast Asia                                       0.4720   \n",
       "Sub-Saharan Africa                                   0.3010   \n",
       "Western Europe                                       0.7050   \n",
       "\n",
       "                                    Freedom to make life choices  Generosity  \\\n",
       "Regional indicator                                                             \n",
       "Central and Eastern Europe                                0.6320      0.1270   \n",
       "Commonwealth of Independent States                        0.6800      0.1380   \n",
       "East Asia                                                 0.5935      0.1290   \n",
       "Latin America and Caribbean                               0.7200      0.1000   \n",
       "Middle East and North Africa                              0.4900      0.0910   \n",
       "North America and ANZ                                     0.7380      0.2255   \n",
       "South Asia                                                0.6180      0.1440   \n",
       "Southeast Asia                                            0.7960      0.1700   \n",
       "Sub-Saharan Africa                                        0.5230      0.1450   \n",
       "Western Europe                                            0.7280      0.1735   \n",
       "\n",
       "                                    Perceptions of corruption  \\\n",
       "Regional indicator                                              \n",
       "Central and Eastern Europe                             0.0680   \n",
       "Commonwealth of Independent States                     0.1210   \n",
       "East Asia                                              0.1830   \n",
       "Latin America and Caribbean                            0.0800   \n",
       "Middle East and North Africa                           0.1720   \n",
       "North America and ANZ                                  0.3455   \n",
       "South Asia                                             0.1015   \n",
       "Southeast Asia                                         0.1360   \n",
       "Sub-Saharan Africa                                     0.1070   \n",
       "Western Europe                                         0.3310   \n",
       "\n",
       "                                    Dystopia + residual  \n",
       "Regional indicator                                       \n",
       "Central and Eastern Europe                       1.6400  \n",
       "Commonwealth of Independent States               1.4510  \n",
       "East Asia                                        1.5320  \n",
       "Latin America and Caribbean                      1.9070  \n",
       "Middle East and North Africa                     1.7410  \n",
       "North America and ANZ                            1.6585  \n",
       "South Asia                                       0.8375  \n",
       "Southeast Asia                                   1.4630  \n",
       "Sub-Saharan Africa                               1.6600  \n",
       "Western Europe                                   1.6345  "
      ]
     },
     "execution_count": 82,
     "metadata": {},
     "output_type": "execute_result"
    }
   ],
   "source": [
    "dane.groupby(\"Regional indicator\").median()"
   ]
  },
  {
   "cell_type": "code",
   "execution_count": 83,
   "id": "e063814e",
   "metadata": {},
   "outputs": [
    {
     "data": {
      "text/html": [
       "<div>\n",
       "<style scoped>\n",
       "    .dataframe tbody tr th:only-of-type {\n",
       "        vertical-align: middle;\n",
       "    }\n",
       "\n",
       "    .dataframe tbody tr th {\n",
       "        vertical-align: top;\n",
       "    }\n",
       "\n",
       "    .dataframe thead th {\n",
       "        text-align: right;\n",
       "    }\n",
       "</style>\n",
       "<table border=\"1\" class=\"dataframe\">\n",
       "  <thead>\n",
       "    <tr style=\"text-align: right;\">\n",
       "      <th></th>\n",
       "      <th>Ladder score</th>\n",
       "      <th>upperwhisker</th>\n",
       "      <th>lowerwhisker</th>\n",
       "      <th>Log GDP per capita</th>\n",
       "      <th>Social support</th>\n",
       "      <th>Healthy life expectancy</th>\n",
       "      <th>Freedom to make life choices</th>\n",
       "      <th>Generosity</th>\n",
       "      <th>Perceptions of corruption</th>\n",
       "      <th>Dystopia + residual</th>\n",
       "    </tr>\n",
       "    <tr>\n",
       "      <th>Regional indicator</th>\n",
       "      <th></th>\n",
       "      <th></th>\n",
       "      <th></th>\n",
       "      <th></th>\n",
       "      <th></th>\n",
       "      <th></th>\n",
       "      <th></th>\n",
       "      <th></th>\n",
       "      <th></th>\n",
       "      <th></th>\n",
       "    </tr>\n",
       "  </thead>\n",
       "  <tbody>\n",
       "    <tr>\n",
       "      <th>Central and Eastern Europe</th>\n",
       "      <td>0.244830</td>\n",
       "      <td>0.235074</td>\n",
       "      <td>0.255028</td>\n",
       "      <td>0.018305</td>\n",
       "      <td>0.024518</td>\n",
       "      <td>0.001367</td>\n",
       "      <td>0.009017</td>\n",
       "      <td>0.004221</td>\n",
       "      <td>0.008899</td>\n",
       "      <td>0.136967</td>\n",
       "    </tr>\n",
       "    <tr>\n",
       "      <th>Commonwealth of Independent States</th>\n",
       "      <td>0.231024</td>\n",
       "      <td>0.225146</td>\n",
       "      <td>0.237365</td>\n",
       "      <td>0.034142</td>\n",
       "      <td>0.043347</td>\n",
       "      <td>0.001178</td>\n",
       "      <td>0.008515</td>\n",
       "      <td>0.009105</td>\n",
       "      <td>0.005480</td>\n",
       "      <td>0.102476</td>\n",
       "    </tr>\n",
       "    <tr>\n",
       "      <th>East Asia</th>\n",
       "      <td>0.159020</td>\n",
       "      <td>0.160637</td>\n",
       "      <td>0.157557</td>\n",
       "      <td>0.049217</td>\n",
       "      <td>0.016318</td>\n",
       "      <td>0.026467</td>\n",
       "      <td>0.007676</td>\n",
       "      <td>0.005337</td>\n",
       "      <td>0.013051</td>\n",
       "      <td>0.272243</td>\n",
       "    </tr>\n",
       "    <tr>\n",
       "      <th>Latin America and Caribbean</th>\n",
       "      <td>0.142081</td>\n",
       "      <td>0.135935</td>\n",
       "      <td>0.150376</td>\n",
       "      <td>0.133455</td>\n",
       "      <td>0.012876</td>\n",
       "      <td>0.004306</td>\n",
       "      <td>0.005920</td>\n",
       "      <td>0.001132</td>\n",
       "      <td>0.005094</td>\n",
       "      <td>0.138695</td>\n",
       "    </tr>\n",
       "    <tr>\n",
       "      <th>Middle East and North Africa</th>\n",
       "      <td>1.588493</td>\n",
       "      <td>1.583667</td>\n",
       "      <td>1.595745</td>\n",
       "      <td>0.112380</td>\n",
       "      <td>0.077301</td>\n",
       "      <td>0.009694</td>\n",
       "      <td>0.050361</td>\n",
       "      <td>0.004495</td>\n",
       "      <td>0.006032</td>\n",
       "      <td>0.470614</td>\n",
       "    </tr>\n",
       "    <tr>\n",
       "      <th>North America and ANZ</th>\n",
       "      <td>0.022945</td>\n",
       "      <td>0.021237</td>\n",
       "      <td>0.024983</td>\n",
       "      <td>0.003058</td>\n",
       "      <td>0.003038</td>\n",
       "      <td>0.005514</td>\n",
       "      <td>0.006356</td>\n",
       "      <td>0.000009</td>\n",
       "      <td>0.016605</td>\n",
       "      <td>0.021855</td>\n",
       "    </tr>\n",
       "    <tr>\n",
       "      <th>South Asia</th>\n",
       "      <td>1.385491</td>\n",
       "      <td>1.447396</td>\n",
       "      <td>1.326097</td>\n",
       "      <td>0.060202</td>\n",
       "      <td>0.194502</td>\n",
       "      <td>0.015645</td>\n",
       "      <td>0.082382</td>\n",
       "      <td>0.001542</td>\n",
       "      <td>0.002156</td>\n",
       "      <td>0.516236</td>\n",
       "    </tr>\n",
       "    <tr>\n",
       "      <th>Southeast Asia</th>\n",
       "      <td>0.607649</td>\n",
       "      <td>0.589620</td>\n",
       "      <td>0.625695</td>\n",
       "      <td>0.122243</td>\n",
       "      <td>0.029224</td>\n",
       "      <td>0.012982</td>\n",
       "      <td>0.015556</td>\n",
       "      <td>0.013366</td>\n",
       "      <td>0.026498</td>\n",
       "      <td>0.221911</td>\n",
       "    </tr>\n",
       "    <tr>\n",
       "      <th>Sub-Saharan Africa</th>\n",
       "      <td>0.495721</td>\n",
       "      <td>0.483459</td>\n",
       "      <td>0.510330</td>\n",
       "      <td>0.074666</td>\n",
       "      <td>0.067339</td>\n",
       "      <td>0.007555</td>\n",
       "      <td>0.014700</td>\n",
       "      <td>0.004265</td>\n",
       "      <td>0.003430</td>\n",
       "      <td>0.373458</td>\n",
       "    </tr>\n",
       "    <tr>\n",
       "      <th>Western Europe</th>\n",
       "      <td>0.289476</td>\n",
       "      <td>0.281810</td>\n",
       "      <td>0.297932</td>\n",
       "      <td>0.012822</td>\n",
       "      <td>0.010158</td>\n",
       "      <td>0.000340</td>\n",
       "      <td>0.016719</td>\n",
       "      <td>0.004755</td>\n",
       "      <td>0.030255</td>\n",
       "      <td>0.051901</td>\n",
       "    </tr>\n",
       "  </tbody>\n",
       "</table>\n",
       "</div>"
      ],
      "text/plain": [
       "                                    Ladder score  upperwhisker  lowerwhisker  \\\n",
       "Regional indicator                                                             \n",
       "Central and Eastern Europe              0.244830      0.235074      0.255028   \n",
       "Commonwealth of Independent States      0.231024      0.225146      0.237365   \n",
       "East Asia                               0.159020      0.160637      0.157557   \n",
       "Latin America and Caribbean             0.142081      0.135935      0.150376   \n",
       "Middle East and North Africa            1.588493      1.583667      1.595745   \n",
       "North America and ANZ                   0.022945      0.021237      0.024983   \n",
       "South Asia                              1.385491      1.447396      1.326097   \n",
       "Southeast Asia                          0.607649      0.589620      0.625695   \n",
       "Sub-Saharan Africa                      0.495721      0.483459      0.510330   \n",
       "Western Europe                          0.289476      0.281810      0.297932   \n",
       "\n",
       "                                    Log GDP per capita  Social support  \\\n",
       "Regional indicator                                                       \n",
       "Central and Eastern Europe                    0.018305        0.024518   \n",
       "Commonwealth of Independent States            0.034142        0.043347   \n",
       "East Asia                                     0.049217        0.016318   \n",
       "Latin America and Caribbean                   0.133455        0.012876   \n",
       "Middle East and North Africa                  0.112380        0.077301   \n",
       "North America and ANZ                         0.003058        0.003038   \n",
       "South Asia                                    0.060202        0.194502   \n",
       "Southeast Asia                                0.122243        0.029224   \n",
       "Sub-Saharan Africa                            0.074666        0.067339   \n",
       "Western Europe                                0.012822        0.010158   \n",
       "\n",
       "                                    Healthy life expectancy  \\\n",
       "Regional indicator                                            \n",
       "Central and Eastern Europe                         0.001367   \n",
       "Commonwealth of Independent States                 0.001178   \n",
       "East Asia                                          0.026467   \n",
       "Latin America and Caribbean                        0.004306   \n",
       "Middle East and North Africa                       0.009694   \n",
       "North America and ANZ                              0.005514   \n",
       "South Asia                                         0.015645   \n",
       "Southeast Asia                                     0.012982   \n",
       "Sub-Saharan Africa                                 0.007555   \n",
       "Western Europe                                     0.000340   \n",
       "\n",
       "                                    Freedom to make life choices  Generosity  \\\n",
       "Regional indicator                                                             \n",
       "Central and Eastern Europe                              0.009017    0.004221   \n",
       "Commonwealth of Independent States                      0.008515    0.009105   \n",
       "East Asia                                               0.007676    0.005337   \n",
       "Latin America and Caribbean                             0.005920    0.001132   \n",
       "Middle East and North Africa                            0.050361    0.004495   \n",
       "North America and ANZ                                   0.006356    0.000009   \n",
       "South Asia                                              0.082382    0.001542   \n",
       "Southeast Asia                                          0.015556    0.013366   \n",
       "Sub-Saharan Africa                                      0.014700    0.004265   \n",
       "Western Europe                                          0.016719    0.004755   \n",
       "\n",
       "                                    Perceptions of corruption  \\\n",
       "Regional indicator                                              \n",
       "Central and Eastern Europe                           0.008899   \n",
       "Commonwealth of Independent States                   0.005480   \n",
       "East Asia                                            0.013051   \n",
       "Latin America and Caribbean                          0.005094   \n",
       "Middle East and North Africa                         0.006032   \n",
       "North America and ANZ                                0.016605   \n",
       "South Asia                                           0.002156   \n",
       "Southeast Asia                                       0.026498   \n",
       "Sub-Saharan Africa                                   0.003430   \n",
       "Western Europe                                       0.030255   \n",
       "\n",
       "                                    Dystopia + residual  \n",
       "Regional indicator                                       \n",
       "Central and Eastern Europe                     0.136967  \n",
       "Commonwealth of Independent States             0.102476  \n",
       "East Asia                                      0.272243  \n",
       "Latin America and Caribbean                    0.138695  \n",
       "Middle East and North Africa                   0.470614  \n",
       "North America and ANZ                          0.021855  \n",
       "South Asia                                     0.516236  \n",
       "Southeast Asia                                 0.221911  \n",
       "Sub-Saharan Africa                             0.373458  \n",
       "Western Europe                                 0.051901  "
      ]
     },
     "execution_count": 83,
     "metadata": {},
     "output_type": "execute_result"
    }
   ],
   "source": [
    "dane.groupby(\"Regional indicator\").var()"
   ]
  },
  {
   "cell_type": "markdown",
   "id": "d51cf06b",
   "metadata": {},
   "source": [
    "# 4.Wykresy analizujące rozkład zmiennych"
   ]
  },
  {
   "cell_type": "code",
   "execution_count": 121,
   "id": "fdc5ac13",
   "metadata": {},
   "outputs": [
    {
     "data": {
      "text/plain": [
       "<AxesSubplot:xlabel='Regional indicator', ylabel='Ladder score'>"
      ]
     },
     "execution_count": 121,
     "metadata": {},
     "output_type": "execute_result"
    },
    {
     "data": {
      "image/png": "[encoded data removed]",
      "text/plain": [
       "<Figure size 864x576 with 1 Axes>"
      ]
     },
     "metadata": {
      "needs_background": "light"
     },
     "output_type": "display_data"
    }
   ],
   "source": [
    "plt.figure(figsize=(12, 8))\n",
    "europa = dane[\"Regional indicator\"]\n",
    "filtr = europa.str.contains('Europe')\n",
    "europa = dane[filtr]\n",
    "sns.boxplot(data=europa, x = \"Regional indicator\", y = \"Ladder score\")"
   ]
  },
  {
   "cell_type": "markdown",
   "id": "3cc2e7fd",
   "metadata": {},
   "source": [
    "Wykres przedstawia rozkład wskażnika szczęścia w europie zachodniej oraz europie środkowo-wschodniej. Widzimy, że w europie zachodniej rozstęp oraz rozrzut danych jest większy. Jednocześnie w tej części Europy wskażnik szczęścia jest na wyższym poziomie. Dla Europy zachodniej mediana wynosi niemal 7, podczas gdy w Europie  to niespełna 6,5. Zatem wnioskiem jest, że ludzie w Europie zachodniej są średnio bardziej szcześliwi od ludzi w środkowo-wschodniej Europie"
   ]
  },
  {
   "cell_type": "code",
   "execution_count": 129,
   "id": "a098ffd4",
   "metadata": {},
   "outputs": [
    {
     "data": {
      "text/plain": [
       "<AxesSubplot:xlabel='Regional indicator', ylabel='Freedom to make life choices'>"
      ]
     },
     "execution_count": 129,
     "metadata": {},
     "output_type": "execute_result"
    },
    {
     "data": {
      "image/png": "[encoded data removed]",
      "text/plain": [
       "<Figure size 864x576 with 1 Axes>"
      ]
     },
     "metadata": {
      "needs_background": "light"
     },
     "output_type": "display_data"
    }
   ],
   "source": [
    "plt.figure(figsize=(12, 8))\n",
    "azja = dane[\"Regional indicator\"]\n",
    "filtr = azja.str.contains('Asia')\n",
    "azja = dane[filtr]\n",
    "sns.boxplot(data=azja, x = \"Regional indicator\", y = \"Freedom to make life choices\")"
   ]
  },
  {
   "cell_type": "markdown",
   "id": "d43de7ef",
   "metadata": {},
   "source": [
    "Wykres przedstawia rozkład wolności w podejmowaniu decyzji w poszczególnych Azji. Widzimy, że najwyższa mediana jest dla południowo-wschodniej Azji, jednocześnie w tym regionie dane są najmniej rozrzucone. Mediany w południowej Azji  i wschodniej Azji są zbliżone i mają większy rozrzut niż Azja południowo-wschodnia. Wnioskiem jest, że największą wolność w podejmowaniu decyzji mają mieszkańcy południowo-wschodniej Azji i są co do tego zdecydowani. Mieszkańcy pozostałych regionów są mniej zodowoleni z wolności w podejmowaniu decyzji, ale zdania są bardziej podzielone"
   ]
  },
  {
   "cell_type": "markdown",
   "id": "020fa43e",
   "metadata": {},
   "source": [
    "# 5.Wykresy analizujące zależności zmiennych"
   ]
  },
  {
   "cell_type": "code",
   "execution_count": 131,
   "id": "e3300ab9",
   "metadata": {},
   "outputs": [
    {
     "data": {
      "image/png": "[encoded data removed]",
      "text/plain": [
       "<Figure size 864x576 with 1 Axes>"
      ]
     },
     "metadata": {
      "needs_background": "light"
     },
     "output_type": "display_data"
    }
   ],
   "source": [
    "plt.figure(figsize=(12, 8))\n",
    "sns.scatterplot(data=dane, x='Ladder score', y='Log GDP per capita', hue='Regional indicator')\n",
    "plt.show()"
   ]
  },
  {
   "cell_type": "markdown",
   "id": "d60c35c2",
   "metadata": {},
   "source": [
    "Widzimy, że wraz ze wzrostem wskażnika szczęścia rośnie PKB, przy czym najmniejsze wartościu obu tych wskażników mają kraje z Afryki, a największe kraje z Europy zachodniej. Zatem w bogatszych krajach ludzie są szczęśliwsi"
   ]
  },
  {
   "cell_type": "code",
   "execution_count": 134,
   "id": "eeb08d81",
   "metadata": {},
   "outputs": [
    {
     "data": {
      "image/png": "[encoded data removed]",
      "text/plain": [
       "<Figure size 864x576 with 1 Axes>"
      ]
     },
     "metadata": {
      "needs_background": "light"
     },
     "output_type": "display_data"
    }
   ],
   "source": [
    "plt.figure(figsize=(12, 8))\n",
    "sns.scatterplot(data=dane, x='Social support', y='Healthy life expectancy')\n",
    "plt.show()"
   ]
  },
  {
   "cell_type": "markdown",
   "id": "88c3218a",
   "metadata": {},
   "source": [
    "Wzrost wsparcia społecznego idzie w parze ze wzrostem wskażnika oczekiwanej długości życia. Ludzie, którzy mają wsparcie wśród swoich bliskich mają dłuższą oczekiwaną długość życia"
   ]
  },
  {
   "cell_type": "code",
   "execution_count": null,
   "id": "539a0d59",
   "metadata": {},
   "outputs": [],
   "source": []
  }
 ],
 "metadata": {
  "kernelspec": {
   "display_name": "Python 3 (ipykernel)",
   "language": "python",
   "name": "python3"
  },
  "language_info": {
   "codemirror_mode": {
    "name": "ipython",
    "version": 3
   },
   "file_extension": ".py",
   "mimetype": "text/x-python",
   "name": "python",
   "nbconvert_exporter": "python",
   "pygments_lexer": "ipython3",
   "version": "3.9.12"
  }
 },
 "nbformat": 4,
 "nbformat_minor": 5
}
