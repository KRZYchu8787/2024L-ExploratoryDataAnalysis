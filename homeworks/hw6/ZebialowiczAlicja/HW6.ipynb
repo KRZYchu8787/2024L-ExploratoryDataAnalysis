{
 "cells": [
  {
   "cell_type": "markdown",
   "id": "579fc5b5",
   "metadata": {},
   "source": [
    "# Praca domowa 6\n",
    "Alicja Żebiałowicz\n"
   ]
  },
  {
   "cell_type": "code",
   "execution_count": 1,
   "id": "9d42a0a9",
   "metadata": {},
   "outputs": [],
   "source": [
    "import numpy as np\n",
    "import pandas as pd\n",
    "import matplotlib.pyplot as plt\n",
    "import seaborn as sns"
   ]
  },
  {
   "cell_type": "code",
   "execution_count": 2,
   "id": "49f1ecc9",
   "metadata": {},
   "outputs": [],
   "source": [
    "df = pd.read_csv(\"energy_dataset_.csv\",\n",
    "                delimiter = \",\").dropna().reset_index(drop = True)"
   ]
  },
  {
   "cell_type": "markdown",
   "id": "b6b27438",
   "metadata": {},
   "source": [
    "### 1. Opis zbioru danych"
   ]
  },
  {
   "cell_type": "code",
   "execution_count": 38,
   "id": "ef8b3d63",
   "metadata": {},
   "outputs": [
    {
     "data": {
      "text/html": [
       "<div>\n",
       "<style scoped>\n",
       "    .dataframe tbody tr th:only-of-type {\n",
       "        vertical-align: middle;\n",
       "    }\n",
       "\n",
       "    .dataframe tbody tr th {\n",
       "        vertical-align: top;\n",
       "    }\n",
       "\n",
       "    .dataframe thead th {\n",
       "        text-align: right;\n",
       "    }\n",
       "</style>\n",
       "<table border=\"1\" class=\"dataframe\">\n",
       "  <thead>\n",
       "    <tr style=\"text-align: right;\">\n",
       "      <th></th>\n",
       "      <th>Type_of_Renewable_Energy</th>\n",
       "      <th>Installed_Capacity_MW</th>\n",
       "      <th>Energy_Production_MWh</th>\n",
       "      <th>Energy_Consumption_MWh</th>\n",
       "      <th>Energy_Storage_Capacity_MWh</th>\n",
       "      <th>Storage_Efficiency_Percentage</th>\n",
       "      <th>Grid_Integration_Level</th>\n",
       "      <th>Initial_Investment_USD</th>\n",
       "      <th>Funding_Sources</th>\n",
       "      <th>Financial_Incentives_USD</th>\n",
       "      <th>GHG_Emission_Reduction_tCO2e</th>\n",
       "      <th>Air_Pollution_Reduction_Index</th>\n",
       "      <th>Jobs_Created</th>\n",
       "    </tr>\n",
       "  </thead>\n",
       "  <tbody>\n",
       "    <tr>\n",
       "      <th>0</th>\n",
       "      <td>4</td>\n",
       "      <td>93.423205</td>\n",
       "      <td>103853.2206</td>\n",
       "      <td>248708.4892</td>\n",
       "      <td>2953.248771</td>\n",
       "      <td>89.887562</td>\n",
       "      <td>4</td>\n",
       "      <td>4.732248e+08</td>\n",
       "      <td>1</td>\n",
       "      <td>9.207772e+06</td>\n",
       "      <td>6663.816572</td>\n",
       "      <td>81.742461</td>\n",
       "      <td>1366</td>\n",
       "    </tr>\n",
       "    <tr>\n",
       "      <th>1</th>\n",
       "      <td>4</td>\n",
       "      <td>590.468942</td>\n",
       "      <td>190223.0649</td>\n",
       "      <td>166104.1642</td>\n",
       "      <td>5305.174042</td>\n",
       "      <td>84.403343</td>\n",
       "      <td>4</td>\n",
       "      <td>1.670697e+08</td>\n",
       "      <td>2</td>\n",
       "      <td>1.685101e+06</td>\n",
       "      <td>30656.049820</td>\n",
       "      <td>78.139042</td>\n",
       "      <td>1743</td>\n",
       "    </tr>\n",
       "    <tr>\n",
       "      <th>2</th>\n",
       "      <td>1</td>\n",
       "      <td>625.951142</td>\n",
       "      <td>266023.4824</td>\n",
       "      <td>424114.6308</td>\n",
       "      <td>2620.192622</td>\n",
       "      <td>60.498249</td>\n",
       "      <td>2</td>\n",
       "      <td>8.463610e+07</td>\n",
       "      <td>2</td>\n",
       "      <td>5.111813e+06</td>\n",
       "      <td>1749.613759</td>\n",
       "      <td>8.461296</td>\n",
       "      <td>363</td>\n",
       "    </tr>\n",
       "    <tr>\n",
       "      <th>3</th>\n",
       "      <td>1</td>\n",
       "      <td>779.998728</td>\n",
       "      <td>487039.5296</td>\n",
       "      <td>308337.7316</td>\n",
       "      <td>1925.250307</td>\n",
       "      <td>86.897861</td>\n",
       "      <td>3</td>\n",
       "      <td>3.967690e+08</td>\n",
       "      <td>2</td>\n",
       "      <td>4.805902e+06</td>\n",
       "      <td>43233.237820</td>\n",
       "      <td>8.402441</td>\n",
       "      <td>2821</td>\n",
       "    </tr>\n",
       "    <tr>\n",
       "      <th>4</th>\n",
       "      <td>3</td>\n",
       "      <td>242.106837</td>\n",
       "      <td>482815.0856</td>\n",
       "      <td>360437.7705</td>\n",
       "      <td>3948.945383</td>\n",
       "      <td>70.949351</td>\n",
       "      <td>2</td>\n",
       "      <td>3.574413e+07</td>\n",
       "      <td>1</td>\n",
       "      <td>1.668601e+07</td>\n",
       "      <td>14858.662760</td>\n",
       "      <td>28.822867</td>\n",
       "      <td>2583</td>\n",
       "    </tr>\n",
       "    <tr>\n",
       "      <th>...</th>\n",
       "      <td>...</td>\n",
       "      <td>...</td>\n",
       "      <td>...</td>\n",
       "      <td>...</td>\n",
       "      <td>...</td>\n",
       "      <td>...</td>\n",
       "      <td>...</td>\n",
       "      <td>...</td>\n",
       "      <td>...</td>\n",
       "      <td>...</td>\n",
       "      <td>...</td>\n",
       "      <td>...</td>\n",
       "      <td>...</td>\n",
       "    </tr>\n",
       "    <tr>\n",
       "      <th>14995</th>\n",
       "      <td>3</td>\n",
       "      <td>745.032555</td>\n",
       "      <td>280007.5738</td>\n",
       "      <td>230544.8268</td>\n",
       "      <td>4351.687893</td>\n",
       "      <td>90.791405</td>\n",
       "      <td>4</td>\n",
       "      <td>3.484136e+08</td>\n",
       "      <td>2</td>\n",
       "      <td>1.558508e+07</td>\n",
       "      <td>25234.911810</td>\n",
       "      <td>78.923200</td>\n",
       "      <td>1452</td>\n",
       "    </tr>\n",
       "    <tr>\n",
       "      <th>14996</th>\n",
       "      <td>1</td>\n",
       "      <td>15.187023</td>\n",
       "      <td>377340.5803</td>\n",
       "      <td>358547.3589</td>\n",
       "      <td>6792.194696</td>\n",
       "      <td>78.252040</td>\n",
       "      <td>4</td>\n",
       "      <td>2.560179e+08</td>\n",
       "      <td>3</td>\n",
       "      <td>6.866618e+06</td>\n",
       "      <td>15762.519790</td>\n",
       "      <td>54.982974</td>\n",
       "      <td>2598</td>\n",
       "    </tr>\n",
       "    <tr>\n",
       "      <th>14997</th>\n",
       "      <td>3</td>\n",
       "      <td>877.539059</td>\n",
       "      <td>480497.3920</td>\n",
       "      <td>214441.6719</td>\n",
       "      <td>4588.725297</td>\n",
       "      <td>58.282928</td>\n",
       "      <td>1</td>\n",
       "      <td>1.300112e+08</td>\n",
       "      <td>2</td>\n",
       "      <td>3.837764e+06</td>\n",
       "      <td>44597.809410</td>\n",
       "      <td>43.915897</td>\n",
       "      <td>2713</td>\n",
       "    </tr>\n",
       "    <tr>\n",
       "      <th>14998</th>\n",
       "      <td>7</td>\n",
       "      <td>551.264716</td>\n",
       "      <td>436383.1694</td>\n",
       "      <td>137043.8713</td>\n",
       "      <td>7251.144215</td>\n",
       "      <td>73.573666</td>\n",
       "      <td>2</td>\n",
       "      <td>3.334831e+08</td>\n",
       "      <td>2</td>\n",
       "      <td>5.347706e+06</td>\n",
       "      <td>34363.858000</td>\n",
       "      <td>4.877145</td>\n",
       "      <td>2128</td>\n",
       "    </tr>\n",
       "    <tr>\n",
       "      <th>14999</th>\n",
       "      <td>3</td>\n",
       "      <td>863.421803</td>\n",
       "      <td>314014.3005</td>\n",
       "      <td>124461.9178</td>\n",
       "      <td>7366.166362</td>\n",
       "      <td>86.868893</td>\n",
       "      <td>4</td>\n",
       "      <td>2.989825e+08</td>\n",
       "      <td>2</td>\n",
       "      <td>1.832534e+07</td>\n",
       "      <td>27193.217600</td>\n",
       "      <td>50.559075</td>\n",
       "      <td>1871</td>\n",
       "    </tr>\n",
       "  </tbody>\n",
       "</table>\n",
       "<p>15000 rows × 13 columns</p>\n",
       "</div>"
      ],
      "text/plain": [
       "       Type_of_Renewable_Energy  Installed_Capacity_MW  Energy_Production_MWh  \\\n",
       "0                             4              93.423205            103853.2206   \n",
       "1                             4             590.468942            190223.0649   \n",
       "2                             1             625.951142            266023.4824   \n",
       "3                             1             779.998728            487039.5296   \n",
       "4                             3             242.106837            482815.0856   \n",
       "...                         ...                    ...                    ...   \n",
       "14995                         3             745.032555            280007.5738   \n",
       "14996                         1              15.187023            377340.5803   \n",
       "14997                         3             877.539059            480497.3920   \n",
       "14998                         7             551.264716            436383.1694   \n",
       "14999                         3             863.421803            314014.3005   \n",
       "\n",
       "       Energy_Consumption_MWh  Energy_Storage_Capacity_MWh  \\\n",
       "0                 248708.4892                  2953.248771   \n",
       "1                 166104.1642                  5305.174042   \n",
       "2                 424114.6308                  2620.192622   \n",
       "3                 308337.7316                  1925.250307   \n",
       "4                 360437.7705                  3948.945383   \n",
       "...                       ...                          ...   \n",
       "14995             230544.8268                  4351.687893   \n",
       "14996             358547.3589                  6792.194696   \n",
       "14997             214441.6719                  4588.725297   \n",
       "14998             137043.8713                  7251.144215   \n",
       "14999             124461.9178                  7366.166362   \n",
       "\n",
       "       Storage_Efficiency_Percentage  Grid_Integration_Level  \\\n",
       "0                          89.887562                       4   \n",
       "1                          84.403343                       4   \n",
       "2                          60.498249                       2   \n",
       "3                          86.897861                       3   \n",
       "4                          70.949351                       2   \n",
       "...                              ...                     ...   \n",
       "14995                      90.791405                       4   \n",
       "14996                      78.252040                       4   \n",
       "14997                      58.282928                       1   \n",
       "14998                      73.573666                       2   \n",
       "14999                      86.868893                       4   \n",
       "\n",
       "       Initial_Investment_USD  Funding_Sources  Financial_Incentives_USD  \\\n",
       "0                4.732248e+08                1              9.207772e+06   \n",
       "1                1.670697e+08                2              1.685101e+06   \n",
       "2                8.463610e+07                2              5.111813e+06   \n",
       "3                3.967690e+08                2              4.805902e+06   \n",
       "4                3.574413e+07                1              1.668601e+07   \n",
       "...                       ...              ...                       ...   \n",
       "14995            3.484136e+08                2              1.558508e+07   \n",
       "14996            2.560179e+08                3              6.866618e+06   \n",
       "14997            1.300112e+08                2              3.837764e+06   \n",
       "14998            3.334831e+08                2              5.347706e+06   \n",
       "14999            2.989825e+08                2              1.832534e+07   \n",
       "\n",
       "       GHG_Emission_Reduction_tCO2e  Air_Pollution_Reduction_Index  \\\n",
       "0                       6663.816572                      81.742461   \n",
       "1                      30656.049820                      78.139042   \n",
       "2                       1749.613759                       8.461296   \n",
       "3                      43233.237820                       8.402441   \n",
       "4                      14858.662760                      28.822867   \n",
       "...                             ...                            ...   \n",
       "14995                  25234.911810                      78.923200   \n",
       "14996                  15762.519790                      54.982974   \n",
       "14997                  44597.809410                      43.915897   \n",
       "14998                  34363.858000                       4.877145   \n",
       "14999                  27193.217600                      50.559075   \n",
       "\n",
       "       Jobs_Created  \n",
       "0              1366  \n",
       "1              1743  \n",
       "2               363  \n",
       "3              2821  \n",
       "4              2583  \n",
       "...             ...  \n",
       "14995          1452  \n",
       "14996          2598  \n",
       "14997          2713  \n",
       "14998          2128  \n",
       "14999          1871  \n",
       "\n",
       "[15000 rows x 13 columns]"
      ]
     },
     "execution_count": 38,
     "metadata": {},
     "output_type": "execute_result"
    }
   ],
   "source": [
    "df"
   ]
  },
  {
   "cell_type": "code",
   "execution_count": 39,
   "id": "ecfcf259",
   "metadata": {
    "scrolled": true
   },
   "outputs": [
    {
     "data": {
      "text/plain": [
       "Type_of_Renewable_Energy           int64\n",
       "Installed_Capacity_MW            float64\n",
       "Energy_Production_MWh            float64\n",
       "Energy_Consumption_MWh           float64\n",
       "Energy_Storage_Capacity_MWh      float64\n",
       "Storage_Efficiency_Percentage    float64\n",
       "Grid_Integration_Level             int64\n",
       "Initial_Investment_USD           float64\n",
       "Funding_Sources                    int64\n",
       "Financial_Incentives_USD         float64\n",
       "GHG_Emission_Reduction_tCO2e     float64\n",
       "Air_Pollution_Reduction_Index    float64\n",
       "Jobs_Created                       int64\n",
       "dtype: object"
      ]
     },
     "execution_count": 39,
     "metadata": {},
     "output_type": "execute_result"
    }
   ],
   "source": [
    "df.dtypes"
   ]
  },
  {
   "cell_type": "code",
   "execution_count": 40,
   "id": "2edc724f",
   "metadata": {},
   "outputs": [
    {
     "data": {
      "text/plain": [
       "(15000, 13)"
      ]
     },
     "execution_count": 40,
     "metadata": {},
     "output_type": "execute_result"
    }
   ],
   "source": [
    "df.shape"
   ]
  },
  {
   "cell_type": "markdown",
   "id": "91a84cc9",
   "metadata": {},
   "source": [
    "Zbiór danych dotyczy systemów energii odnawialnej.\n",
    "\n",
    "Składa się z 1500 wierszy i 13 kolumn.\n",
    "\n",
    "Kolumny oznaczają następująco:\n",
    "\n",
    "1. Type_of_Renewable_Energy - Kod numeryczny reprezentujący rodzaj odnawialnego źródła energii (1: Słoneczna, 2: Wiatrowa, 3: Hydroelektryczna, 4: Geotermalna, 5: Biomasa, 6: Pływy, 7: Falowa)\n",
    "2. Installed_Capacity_MW - Zainstalowana moc w megawatach (MW)\n",
    "3. Energy_Production_MWh - Roczna produkcja energii w megawatogodzinach (MWh)\n",
    "4. Energy_Consumption_MWh - Roczne zużycie energii w megawatogodzinach (MWh)\n",
    "5. Energy_Storage_Capacity_MWh - Pojemność magazynowania energii w megawatogodzinach (MWh)\n",
    "6. Storage_Efficiency_Percentage - Sprawność systemów magazynowania energii w procentach\n",
    "7. Grid_Integration_Level - Kod numeryczny reprezentujący poziom integracji sieci (1: W pełni zintegrowana, 2: Częściowo zintegrowana, 3: Minimalna integracja, 4: Izolowana mikrosieć)\n",
    "8. Initial_Investment_USD - Początkowe koszty inwestycji w USD\n",
    "9. Funding_Sources - Kod numeryczny reprezentujący źródło finansowania (1: Rząd, 2: Prywatne, 3: Partnerstwo publiczno-prywatne)\n",
    "10. Financial_Incentives_USD - Zachęty finansowe w USD\n",
    "11. GHG_Emission_Reduction_tCO2e - Redukcja emisji gazów cieplarnianych w tonach ekwiwalentu CO2 (tCO2e)\n",
    "12. Air_Pollution_Reduction_Index - Wskaźnik redukcji zanieczyszczenia powietrza.\n",
    "13. Jobs_Created - Liczba utworzonych miejsc pracy\n",
    "\n",
    "\n",
    "Typy zmiennych:\n",
    "\n",
    "Jakościowe:\n",
    "- Nominalne: Type_of_Renewable_Energy, Funding_Sources\n",
    "- Uporządkowane: Grid_Integration_Level\n",
    "\n",
    "Ilościowe:\n",
    "- Zliczenia: Jobs_Created\n",
    "- Ilorazowe: Installed_Capacity_MW, Energy_Production_MWh, Energy_Consumption_MWh, Energy_Storage_Capacity_MWh, Storage_Efficiency_Percentage, Initial_Investment_USD, Financial_Incentives_USD, GHG_Emission_Reduction_tCO2e\n",
    "- Przedziałowe: Air_Pollution_Reduction_Index"
   ]
  },
  {
   "cell_type": "markdown",
   "id": "d1754674",
   "metadata": {},
   "source": [
    "### Analiza zmiennych w zbiorze danych"
   ]
  },
  {
   "cell_type": "code",
   "execution_count": 41,
   "id": "baec1a88",
   "metadata": {},
   "outputs": [
    {
     "data": {
      "text/html": [
       "<div>\n",
       "<style scoped>\n",
       "    .dataframe tbody tr th:only-of-type {\n",
       "        vertical-align: middle;\n",
       "    }\n",
       "\n",
       "    .dataframe tbody tr th {\n",
       "        vertical-align: top;\n",
       "    }\n",
       "\n",
       "    .dataframe thead th {\n",
       "        text-align: right;\n",
       "    }\n",
       "</style>\n",
       "<table border=\"1\" class=\"dataframe\">\n",
       "  <thead>\n",
       "    <tr style=\"text-align: right;\">\n",
       "      <th></th>\n",
       "      <th>Type_of_Renewable_Energy</th>\n",
       "      <th>Installed_Capacity_MW</th>\n",
       "      <th>Energy_Production_MWh</th>\n",
       "      <th>Energy_Consumption_MWh</th>\n",
       "      <th>Energy_Storage_Capacity_MWh</th>\n",
       "      <th>Storage_Efficiency_Percentage</th>\n",
       "      <th>Grid_Integration_Level</th>\n",
       "      <th>Initial_Investment_USD</th>\n",
       "      <th>Funding_Sources</th>\n",
       "      <th>Financial_Incentives_USD</th>\n",
       "      <th>GHG_Emission_Reduction_tCO2e</th>\n",
       "      <th>Air_Pollution_Reduction_Index</th>\n",
       "      <th>Jobs_Created</th>\n",
       "    </tr>\n",
       "  </thead>\n",
       "  <tbody>\n",
       "    <tr>\n",
       "      <th>count</th>\n",
       "      <td>15000.000000</td>\n",
       "      <td>15000.000000</td>\n",
       "      <td>15000.000000</td>\n",
       "      <td>15000.000000</td>\n",
       "      <td>15000.000000</td>\n",
       "      <td>15000.000000</td>\n",
       "      <td>15000.000000</td>\n",
       "      <td>1.500000e+04</td>\n",
       "      <td>15000.000000</td>\n",
       "      <td>1.500000e+04</td>\n",
       "      <td>15000.000000</td>\n",
       "      <td>15000.000000</td>\n",
       "      <td>15000.000000</td>\n",
       "    </tr>\n",
       "    <tr>\n",
       "      <th>mean</th>\n",
       "      <td>3.973933</td>\n",
       "      <td>495.855747</td>\n",
       "      <td>252350.955621</td>\n",
       "      <td>225981.854966</td>\n",
       "      <td>5030.196472</td>\n",
       "      <td>75.219334</td>\n",
       "      <td>2.501267</td>\n",
       "      <td>2.514849e+08</td>\n",
       "      <td>2.004000</td>\n",
       "      <td>1.002977e+07</td>\n",
       "      <td>25234.722158</td>\n",
       "      <td>50.724179</td>\n",
       "      <td>2502.668600</td>\n",
       "    </tr>\n",
       "    <tr>\n",
       "      <th>std</th>\n",
       "      <td>1.999380</td>\n",
       "      <td>288.212872</td>\n",
       "      <td>144062.915425</td>\n",
       "      <td>129223.677997</td>\n",
       "      <td>2894.096326</td>\n",
       "      <td>14.485289</td>\n",
       "      <td>1.123306</td>\n",
       "      <td>1.432843e+08</td>\n",
       "      <td>0.817493</td>\n",
       "      <td>5.787303e+06</td>\n",
       "      <td>14378.915277</td>\n",
       "      <td>28.556578</td>\n",
       "      <td>1451.212661</td>\n",
       "    </tr>\n",
       "    <tr>\n",
       "      <th>min</th>\n",
       "      <td>1.000000</td>\n",
       "      <td>1.091767</td>\n",
       "      <td>1030.103692</td>\n",
       "      <td>584.048006</td>\n",
       "      <td>2.200208</td>\n",
       "      <td>50.003494</td>\n",
       "      <td>1.000000</td>\n",
       "      <td>1.008107e+06</td>\n",
       "      <td>1.000000</td>\n",
       "      <td>5.155842e+04</td>\n",
       "      <td>100.974460</td>\n",
       "      <td>1.009712</td>\n",
       "      <td>10.000000</td>\n",
       "    </tr>\n",
       "    <tr>\n",
       "      <th>25%</th>\n",
       "      <td>2.000000</td>\n",
       "      <td>245.475737</td>\n",
       "      <td>128568.875900</td>\n",
       "      <td>115587.428225</td>\n",
       "      <td>2543.341380</td>\n",
       "      <td>62.694076</td>\n",
       "      <td>1.000000</td>\n",
       "      <td>1.259709e+08</td>\n",
       "      <td>1.000000</td>\n",
       "      <td>4.963454e+06</td>\n",
       "      <td>12754.476927</td>\n",
       "      <td>26.224426</td>\n",
       "      <td>1228.000000</td>\n",
       "    </tr>\n",
       "    <tr>\n",
       "      <th>50%</th>\n",
       "      <td>4.000000</td>\n",
       "      <td>492.907555</td>\n",
       "      <td>253216.871250</td>\n",
       "      <td>225226.374350</td>\n",
       "      <td>5054.036248</td>\n",
       "      <td>75.279702</td>\n",
       "      <td>3.000000</td>\n",
       "      <td>2.539910e+08</td>\n",
       "      <td>2.000000</td>\n",
       "      <td>1.002414e+07</td>\n",
       "      <td>25424.477000</td>\n",
       "      <td>50.250207</td>\n",
       "      <td>2496.000000</td>\n",
       "    </tr>\n",
       "    <tr>\n",
       "      <th>75%</th>\n",
       "      <td>6.000000</td>\n",
       "      <td>742.254682</td>\n",
       "      <td>377083.805575</td>\n",
       "      <td>338656.214700</td>\n",
       "      <td>7536.935405</td>\n",
       "      <td>87.754318</td>\n",
       "      <td>4.000000</td>\n",
       "      <td>3.759130e+08</td>\n",
       "      <td>3.000000</td>\n",
       "      <td>1.507417e+07</td>\n",
       "      <td>37750.426285</td>\n",
       "      <td>75.720133</td>\n",
       "      <td>3765.000000</td>\n",
       "    </tr>\n",
       "    <tr>\n",
       "      <th>max</th>\n",
       "      <td>7.000000</td>\n",
       "      <td>999.982979</td>\n",
       "      <td>499991.200400</td>\n",
       "      <td>449922.667800</td>\n",
       "      <td>9999.145037</td>\n",
       "      <td>99.994955</td>\n",
       "      <td>4.000000</td>\n",
       "      <td>4.999407e+08</td>\n",
       "      <td>3.000000</td>\n",
       "      <td>1.999855e+07</td>\n",
       "      <td>49997.578530</td>\n",
       "      <td>99.980494</td>\n",
       "      <td>4999.000000</td>\n",
       "    </tr>\n",
       "  </tbody>\n",
       "</table>\n",
       "</div>"
      ],
      "text/plain": [
       "       Type_of_Renewable_Energy  Installed_Capacity_MW  Energy_Production_MWh  \\\n",
       "count              15000.000000           15000.000000           15000.000000   \n",
       "mean                   3.973933             495.855747          252350.955621   \n",
       "std                    1.999380             288.212872          144062.915425   \n",
       "min                    1.000000               1.091767            1030.103692   \n",
       "25%                    2.000000             245.475737          128568.875900   \n",
       "50%                    4.000000             492.907555          253216.871250   \n",
       "75%                    6.000000             742.254682          377083.805575   \n",
       "max                    7.000000             999.982979          499991.200400   \n",
       "\n",
       "       Energy_Consumption_MWh  Energy_Storage_Capacity_MWh  \\\n",
       "count            15000.000000                 15000.000000   \n",
       "mean            225981.854966                  5030.196472   \n",
       "std             129223.677997                  2894.096326   \n",
       "min                584.048006                     2.200208   \n",
       "25%             115587.428225                  2543.341380   \n",
       "50%             225226.374350                  5054.036248   \n",
       "75%             338656.214700                  7536.935405   \n",
       "max             449922.667800                  9999.145037   \n",
       "\n",
       "       Storage_Efficiency_Percentage  Grid_Integration_Level  \\\n",
       "count                   15000.000000            15000.000000   \n",
       "mean                       75.219334                2.501267   \n",
       "std                        14.485289                1.123306   \n",
       "min                        50.003494                1.000000   \n",
       "25%                        62.694076                1.000000   \n",
       "50%                        75.279702                3.000000   \n",
       "75%                        87.754318                4.000000   \n",
       "max                        99.994955                4.000000   \n",
       "\n",
       "       Initial_Investment_USD  Funding_Sources  Financial_Incentives_USD  \\\n",
       "count            1.500000e+04     15000.000000              1.500000e+04   \n",
       "mean             2.514849e+08         2.004000              1.002977e+07   \n",
       "std              1.432843e+08         0.817493              5.787303e+06   \n",
       "min              1.008107e+06         1.000000              5.155842e+04   \n",
       "25%              1.259709e+08         1.000000              4.963454e+06   \n",
       "50%              2.539910e+08         2.000000              1.002414e+07   \n",
       "75%              3.759130e+08         3.000000              1.507417e+07   \n",
       "max              4.999407e+08         3.000000              1.999855e+07   \n",
       "\n",
       "       GHG_Emission_Reduction_tCO2e  Air_Pollution_Reduction_Index  \\\n",
       "count                  15000.000000                   15000.000000   \n",
       "mean                   25234.722158                      50.724179   \n",
       "std                    14378.915277                      28.556578   \n",
       "min                      100.974460                       1.009712   \n",
       "25%                    12754.476927                      26.224426   \n",
       "50%                    25424.477000                      50.250207   \n",
       "75%                    37750.426285                      75.720133   \n",
       "max                    49997.578530                      99.980494   \n",
       "\n",
       "       Jobs_Created  \n",
       "count  15000.000000  \n",
       "mean    2502.668600  \n",
       "std     1451.212661  \n",
       "min       10.000000  \n",
       "25%     1228.000000  \n",
       "50%     2496.000000  \n",
       "75%     3765.000000  \n",
       "max     4999.000000  "
      ]
     },
     "execution_count": 41,
     "metadata": {},
     "output_type": "execute_result"
    }
   ],
   "source": [
    "df.describe()"
   ]
  },
  {
   "cell_type": "markdown",
   "id": "338a722a",
   "metadata": {},
   "source": [
    "### Analiza zmiennych w zależności od przynależności do grupy "
   ]
  },
  {
   "cell_type": "code",
   "execution_count": 42,
   "id": "e3aa3ff7",
   "metadata": {},
   "outputs": [
    {
     "data": {
      "text/plain": [
       "Type_of_Renewable_Energy\n",
       "1    254610.28220\n",
       "2    252096.22225\n",
       "3    254014.54060\n",
       "4    259192.07320\n",
       "5    252748.11900\n",
       "6    251053.07295\n",
       "7    248857.83500\n",
       "Name: Energy_Production_MWh, dtype: float64"
      ]
     },
     "execution_count": 42,
     "metadata": {},
     "output_type": "execute_result"
    }
   ],
   "source": [
    "df[['Energy_Production_MWh','Type_of_Renewable_Energy']].groupby('Type_of_Renewable_Energy').Energy_Production_MWh.agg(\"median\")"
   ]
  },
  {
   "cell_type": "markdown",
   "id": "c8c33e1d",
   "metadata": {},
   "source": [
    "Mediana rocznej produkcji energii w megawatogodzinach w zależności od typu energii jest największa dla energii geotermalnej, a najmniejsze dla falowej."
   ]
  },
  {
   "cell_type": "code",
   "execution_count": 43,
   "id": "56a3de46",
   "metadata": {},
   "outputs": [
    {
     "data": {
      "text/plain": [
       "Type_of_Renewable_Energy\n",
       "1    1111604.336\n",
       "2    1008107.103\n",
       "3    1022383.276\n",
       "4    1457078.966\n",
       "5    1036624.361\n",
       "6    1110290.066\n",
       "7    1666786.814\n",
       "Name: Initial_Investment_USD, dtype: float64"
      ]
     },
     "execution_count": 43,
     "metadata": {},
     "output_type": "execute_result"
    }
   ],
   "source": [
    "df[['Initial_Investment_USD','Type_of_Renewable_Energy']].groupby('Type_of_Renewable_Energy').Initial_Investment_USD.agg(\"min\")"
   ]
  },
  {
   "cell_type": "markdown",
   "id": "eec83e5e",
   "metadata": {},
   "source": [
    "Minimalne początkowe koszty inwestycji w USD w zależności od typu energii są najmniejsze dla energii wiatrowej, a największe dla falowej."
   ]
  },
  {
   "cell_type": "code",
   "execution_count": 44,
   "id": "20de356d",
   "metadata": {},
   "outputs": [
    {
     "data": {
      "text/plain": [
       "Funding_Sources\n",
       "1    50.960718\n",
       "2    50.421014\n",
       "3    50.789650\n",
       "Name: Air_Pollution_Reduction_Index, dtype: float64"
      ]
     },
     "execution_count": 44,
     "metadata": {},
     "output_type": "execute_result"
    }
   ],
   "source": [
    "df[['Air_Pollution_Reduction_Index','Funding_Sources']].groupby('Funding_Sources').Air_Pollution_Reduction_Index.agg(\"mean\")"
   ]
  },
  {
   "cell_type": "markdown",
   "id": "a546cc95",
   "metadata": {},
   "source": [
    "Średni wskaźnik redukcji zanieczyszczenia powietrza w zależności od źródła finansowania jest największy, jeśli źródło finansowania jest publiczne, a najmniejsze, jeśli prywatne."
   ]
  },
  {
   "cell_type": "code",
   "execution_count": 45,
   "id": "5678bd26",
   "metadata": {},
   "outputs": [
    {
     "data": {
      "text/plain": [
       "Grid_Integration_Level\n",
       "1    2496.993688\n",
       "2    2503.874693\n",
       "3    2512.230195\n",
       "4    2497.732435\n",
       "Name: Jobs_Created, dtype: float64"
      ]
     },
     "execution_count": 45,
     "metadata": {},
     "output_type": "execute_result"
    }
   ],
   "source": [
    "df[['Jobs_Created','Grid_Integration_Level']].groupby('Grid_Integration_Level').Jobs_Created.agg(\"mean\")"
   ]
  },
  {
   "cell_type": "markdown",
   "id": "b9b44345",
   "metadata": {},
   "source": [
    "Średnia liczba utworzonych miejsc pracy w zależności od poziomu integracji sieci jest największa dla sieci z minimalną integracją, a najmniejsza dla sieci w pełni zintegrowanych."
   ]
  },
  {
   "cell_type": "markdown",
   "id": "00c48845",
   "metadata": {},
   "source": [
    "###  Wykresy analizujące rozkład zmiennych w zbiorze danych razem z wnioskami"
   ]
  },
  {
   "cell_type": "markdown",
   "id": "30a43122",
   "metadata": {},
   "source": [
    "Wykres liczby utworzonych miejsc pracy w zależności od typu energii"
   ]
  },
  {
   "cell_type": "code",
   "execution_count": 46,
   "id": "2136516d",
   "metadata": {},
   "outputs": [
    {
     "data": {
      "image/png": "[encoded data removed]",
      "text/plain": [
       "<Figure size 432x288 with 1 Axes>"
      ]
     },
     "metadata": {
      "needs_background": "light"
     },
     "output_type": "display_data"
    }
   ],
   "source": [
    "sns.boxplot(data=df, x = \"Type_of_Renewable_Energy\", y = \"Jobs_Created\", color='w')\n",
    "plt.show()"
   ]
  },
  {
   "cell_type": "markdown",
   "id": "743bd426",
   "metadata": {},
   "source": [
    "Wniosek - Wykresy pudełkowe liczby utworzonych miejsc pracy w zależności od typu energii wyglądają praktycznie identycznie.\n",
    "Mediana jest w okolicy 2500. Zatem najprawdopodobniej liczba utworzonych miejsc pracy w bardzo małym stopniu zależy od typu energii."
   ]
  },
  {
   "cell_type": "markdown",
   "id": "a46770b0",
   "metadata": {},
   "source": [
    "Wykres rocznej produkcji energii w megawatogodzinach w zależności od  poziomu integracji sieci"
   ]
  },
  {
   "cell_type": "code",
   "execution_count": 47,
   "id": "e180bc44",
   "metadata": {},
   "outputs": [
    {
     "data": {
      "image/png": "[encoded data removed]",
      "text/plain": [
       "<Figure size 432x288 with 1 Axes>"
      ]
     },
     "metadata": {
      "needs_background": "light"
     },
     "output_type": "display_data"
    }
   ],
   "source": [
    "sns.boxplot(data=df, x = \"Grid_Integration_Level\", y = \"Energy_Production_MWh\", color='w')\n",
    "plt.show()"
   ]
  },
  {
   "cell_type": "markdown",
   "id": "141f5f05",
   "metadata": {},
   "source": [
    "Wniosek - Wykresy pudełkowe rocznej produkcji energii w megawatogodzinach w zależności od poziomu integracji sieci wyglądają praktycznie identycznie. Mediana jest w okolicy 250000 MWh. Zatem najprawdopodobniej roczna produkcja energii w bardzo małym stopniu zależy od poziomu integracji sieci."
   ]
  },
  {
   "cell_type": "markdown",
   "id": "32cd7a15",
   "metadata": {},
   "source": [
    "### Wykresy wskazujące zależności w zbiorze danych z wnioskam"
   ]
  },
  {
   "cell_type": "markdown",
   "id": "270d666b",
   "metadata": {},
   "source": [
    "Wykres zależności minimalnej mocy w watach w zależności od typu energii odnawialnej"
   ]
  },
  {
   "cell_type": "code",
   "execution_count": 48,
   "id": "5bc8d607",
   "metadata": {},
   "outputs": [
    {
     "data": {
      "image/png": "[encoded data removed]",
      "text/plain": [
       "<Figure size 432x288 with 1 Axes>"
      ]
     },
     "metadata": {
      "needs_background": "light"
     },
     "output_type": "display_data"
    }
   ],
   "source": [
    "df.groupby('Type_of_Renewable_Energy').Installed_Capacity_MW.min().plot(kind = \"bar\")\n",
    "plt.show()"
   ]
  },
  {
   "cell_type": "markdown",
   "id": "c92f05ac",
   "metadata": {},
   "source": [
    "Wniosek - Minimalna moc w watach jest najmniejsza dla energii hydroelektrycznej, a największa dla energii falowej.\n",
    "\n",
    "---"
   ]
  },
  {
   "cell_type": "markdown",
   "id": "1f60876c",
   "metadata": {},
   "source": [
    "Wykres zależności rocznej produkcji energii w MWh i wkaźnika redukcji zanieczyszczeń powietrza"
   ]
  },
  {
   "cell_type": "code",
   "execution_count": 49,
   "id": "1fc8cc3d",
   "metadata": {},
   "outputs": [
    {
     "data": {
      "image/png": "[encoded data removed]",
      "text/plain": [
       "<Figure size 432x288 with 1 Axes>"
      ]
     },
     "metadata": {
      "needs_background": "light"
     },
     "output_type": "display_data"
    }
   ],
   "source": [
    "df.plot(x = \"Energy_Production_MWh\", y = \"Air_Pollution_Reduction_Index\", kind = \"scatter\", alpha = 0.5, logy = True, s = 0.3)\n",
    "plt.show()"
   ]
  },
  {
   "cell_type": "markdown",
   "id": "6d7b39ea",
   "metadata": {},
   "source": [
    "Wniosek - Wskaźnik redukcji zanieczyszczeń powietrza mało co zależy od rocznej produkcji energii, bo punkty są rozłożone w miarę równomiernie względem osi x."
   ]
  }
 ],
 "metadata": {
  "kernelspec": {
   "display_name": "Python 3 (ipykernel)",
   "language": "python",
   "name": "python3"
  },
  "language_info": {
   "codemirror_mode": {
    "name": "ipython",
    "version": 3
   },
   "file_extension": ".py",
   "mimetype": "text/x-python",
   "name": "python",
   "nbconvert_exporter": "python",
   "pygments_lexer": "ipython3",
   "version": "3.9.12"
  }
 },
 "nbformat": 4,
 "nbformat_minor": 5
}
