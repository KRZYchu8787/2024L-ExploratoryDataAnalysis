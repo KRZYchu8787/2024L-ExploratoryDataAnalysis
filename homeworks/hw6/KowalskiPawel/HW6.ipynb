{
 "cells": [
  {
   "cell_type": "code",
   "execution_count": 2,
   "id": "b7b11fd9",
   "metadata": {},
   "outputs": [],
   "source": [
    "import matplotlib.pyplot as plt\n",
    "import numpy as np\n",
    "import pandas as pd\n",
    "import seaborn as sns"
   ]
  },
  {
   "cell_type": "code",
   "execution_count": 24,
   "id": "1dedc157",
   "metadata": {
    "scrolled": true
   },
   "outputs": [
    {
     "data": {
      "text/html": [
       "<div>\n",
       "<style scoped>\n",
       "    .dataframe tbody tr th:only-of-type {\n",
       "        vertical-align: middle;\n",
       "    }\n",
       "\n",
       "    .dataframe tbody tr th {\n",
       "        vertical-align: top;\n",
       "    }\n",
       "\n",
       "    .dataframe thead th {\n",
       "        text-align: right;\n",
       "    }\n",
       "</style>\n",
       "<table border=\"1\" class=\"dataframe\">\n",
       "  <thead>\n",
       "    <tr style=\"text-align: right;\">\n",
       "      <th></th>\n",
       "      <th>Country name</th>\n",
       "      <th>year</th>\n",
       "      <th>Life Ladder</th>\n",
       "      <th>Log GDP per capita</th>\n",
       "      <th>Social support</th>\n",
       "      <th>Healthy life expectancy at birth</th>\n",
       "      <th>Freedom to make life choices</th>\n",
       "      <th>Generosity</th>\n",
       "      <th>Perceptions of corruption</th>\n",
       "      <th>Positive affect</th>\n",
       "      <th>Negative affect</th>\n",
       "    </tr>\n",
       "  </thead>\n",
       "  <tbody>\n",
       "    <tr>\n",
       "      <th>0</th>\n",
       "      <td>Afghanistan</td>\n",
       "      <td>2008</td>\n",
       "      <td>3.724</td>\n",
       "      <td>7.350</td>\n",
       "      <td>0.451</td>\n",
       "      <td>50.500</td>\n",
       "      <td>0.718</td>\n",
       "      <td>0.164</td>\n",
       "      <td>0.882</td>\n",
       "      <td>0.414</td>\n",
       "      <td>0.258</td>\n",
       "    </tr>\n",
       "    <tr>\n",
       "      <th>1</th>\n",
       "      <td>Afghanistan</td>\n",
       "      <td>2009</td>\n",
       "      <td>4.402</td>\n",
       "      <td>7.509</td>\n",
       "      <td>0.552</td>\n",
       "      <td>50.800</td>\n",
       "      <td>0.679</td>\n",
       "      <td>0.187</td>\n",
       "      <td>0.850</td>\n",
       "      <td>0.481</td>\n",
       "      <td>0.237</td>\n",
       "    </tr>\n",
       "    <tr>\n",
       "      <th>2</th>\n",
       "      <td>Afghanistan</td>\n",
       "      <td>2010</td>\n",
       "      <td>4.758</td>\n",
       "      <td>7.614</td>\n",
       "      <td>0.539</td>\n",
       "      <td>51.100</td>\n",
       "      <td>0.600</td>\n",
       "      <td>0.118</td>\n",
       "      <td>0.707</td>\n",
       "      <td>0.517</td>\n",
       "      <td>0.275</td>\n",
       "    </tr>\n",
       "    <tr>\n",
       "      <th>3</th>\n",
       "      <td>Afghanistan</td>\n",
       "      <td>2011</td>\n",
       "      <td>3.832</td>\n",
       "      <td>7.581</td>\n",
       "      <td>0.521</td>\n",
       "      <td>51.400</td>\n",
       "      <td>0.496</td>\n",
       "      <td>0.160</td>\n",
       "      <td>0.731</td>\n",
       "      <td>0.480</td>\n",
       "      <td>0.267</td>\n",
       "    </tr>\n",
       "    <tr>\n",
       "      <th>4</th>\n",
       "      <td>Afghanistan</td>\n",
       "      <td>2012</td>\n",
       "      <td>3.783</td>\n",
       "      <td>7.661</td>\n",
       "      <td>0.521</td>\n",
       "      <td>51.700</td>\n",
       "      <td>0.531</td>\n",
       "      <td>0.234</td>\n",
       "      <td>0.776</td>\n",
       "      <td>0.614</td>\n",
       "      <td>0.268</td>\n",
       "    </tr>\n",
       "    <tr>\n",
       "      <th>...</th>\n",
       "      <td>...</td>\n",
       "      <td>...</td>\n",
       "      <td>...</td>\n",
       "      <td>...</td>\n",
       "      <td>...</td>\n",
       "      <td>...</td>\n",
       "      <td>...</td>\n",
       "      <td>...</td>\n",
       "      <td>...</td>\n",
       "      <td>...</td>\n",
       "      <td>...</td>\n",
       "    </tr>\n",
       "    <tr>\n",
       "      <th>2358</th>\n",
       "      <td>Zimbabwe</td>\n",
       "      <td>2019</td>\n",
       "      <td>2.694</td>\n",
       "      <td>7.698</td>\n",
       "      <td>0.759</td>\n",
       "      <td>53.100</td>\n",
       "      <td>0.632</td>\n",
       "      <td>-0.051</td>\n",
       "      <td>0.831</td>\n",
       "      <td>0.658</td>\n",
       "      <td>0.235</td>\n",
       "    </tr>\n",
       "    <tr>\n",
       "      <th>2359</th>\n",
       "      <td>Zimbabwe</td>\n",
       "      <td>2020</td>\n",
       "      <td>3.160</td>\n",
       "      <td>7.596</td>\n",
       "      <td>0.717</td>\n",
       "      <td>53.575</td>\n",
       "      <td>0.643</td>\n",
       "      <td>0.003</td>\n",
       "      <td>0.789</td>\n",
       "      <td>0.661</td>\n",
       "      <td>0.346</td>\n",
       "    </tr>\n",
       "    <tr>\n",
       "      <th>2360</th>\n",
       "      <td>Zimbabwe</td>\n",
       "      <td>2021</td>\n",
       "      <td>3.155</td>\n",
       "      <td>7.657</td>\n",
       "      <td>0.685</td>\n",
       "      <td>54.050</td>\n",
       "      <td>0.668</td>\n",
       "      <td>-0.079</td>\n",
       "      <td>0.757</td>\n",
       "      <td>0.610</td>\n",
       "      <td>0.242</td>\n",
       "    </tr>\n",
       "    <tr>\n",
       "      <th>2361</th>\n",
       "      <td>Zimbabwe</td>\n",
       "      <td>2022</td>\n",
       "      <td>3.296</td>\n",
       "      <td>7.670</td>\n",
       "      <td>0.666</td>\n",
       "      <td>54.525</td>\n",
       "      <td>0.652</td>\n",
       "      <td>-0.073</td>\n",
       "      <td>0.753</td>\n",
       "      <td>0.641</td>\n",
       "      <td>0.191</td>\n",
       "    </tr>\n",
       "    <tr>\n",
       "      <th>2362</th>\n",
       "      <td>Zimbabwe</td>\n",
       "      <td>2023</td>\n",
       "      <td>3.572</td>\n",
       "      <td>7.679</td>\n",
       "      <td>0.694</td>\n",
       "      <td>55.000</td>\n",
       "      <td>0.735</td>\n",
       "      <td>-0.069</td>\n",
       "      <td>0.757</td>\n",
       "      <td>0.610</td>\n",
       "      <td>0.179</td>\n",
       "    </tr>\n",
       "  </tbody>\n",
       "</table>\n",
       "<p>2363 rows × 11 columns</p>\n",
       "</div>"
      ],
      "text/plain": [
       "     Country name  year  Life Ladder  Log GDP per capita  Social support  \\\n",
       "0     Afghanistan  2008        3.724               7.350           0.451   \n",
       "1     Afghanistan  2009        4.402               7.509           0.552   \n",
       "2     Afghanistan  2010        4.758               7.614           0.539   \n",
       "3     Afghanistan  2011        3.832               7.581           0.521   \n",
       "4     Afghanistan  2012        3.783               7.661           0.521   \n",
       "...           ...   ...          ...                 ...             ...   \n",
       "2358     Zimbabwe  2019        2.694               7.698           0.759   \n",
       "2359     Zimbabwe  2020        3.160               7.596           0.717   \n",
       "2360     Zimbabwe  2021        3.155               7.657           0.685   \n",
       "2361     Zimbabwe  2022        3.296               7.670           0.666   \n",
       "2362     Zimbabwe  2023        3.572               7.679           0.694   \n",
       "\n",
       "      Healthy life expectancy at birth  Freedom to make life choices  \\\n",
       "0                               50.500                         0.718   \n",
       "1                               50.800                         0.679   \n",
       "2                               51.100                         0.600   \n",
       "3                               51.400                         0.496   \n",
       "4                               51.700                         0.531   \n",
       "...                                ...                           ...   \n",
       "2358                            53.100                         0.632   \n",
       "2359                            53.575                         0.643   \n",
       "2360                            54.050                         0.668   \n",
       "2361                            54.525                         0.652   \n",
       "2362                            55.000                         0.735   \n",
       "\n",
       "      Generosity  Perceptions of corruption  Positive affect  Negative affect  \n",
       "0          0.164                      0.882            0.414            0.258  \n",
       "1          0.187                      0.850            0.481            0.237  \n",
       "2          0.118                      0.707            0.517            0.275  \n",
       "3          0.160                      0.731            0.480            0.267  \n",
       "4          0.234                      0.776            0.614            0.268  \n",
       "...          ...                        ...              ...              ...  \n",
       "2358      -0.051                      0.831            0.658            0.235  \n",
       "2359       0.003                      0.789            0.661            0.346  \n",
       "2360      -0.079                      0.757            0.610            0.242  \n",
       "2361      -0.073                      0.753            0.641            0.191  \n",
       "2362      -0.069                      0.757            0.610            0.179  \n",
       "\n",
       "[2363 rows x 11 columns]"
      ]
     },
     "execution_count": 24,
     "metadata": {},
     "output_type": "execute_result"
    }
   ],
   "source": [
    "wrld_hap = pd.read_csv(\"C:/Users/kowal/Desktop/Wstep do eksploracyji/wot.csv\", encoding='ISO-8859-1')\n",
    "wrld_hap\n"
   ]
  },
  {
   "cell_type": "markdown",
   "id": "a48ca718",
   "metadata": {},
   "source": [
    "# 1) Opis zbioru danych"
   ]
  },
  {
   "cell_type": "code",
   "execution_count": 4,
   "id": "c0395277",
   "metadata": {},
   "outputs": [
    {
     "data": {
      "text/plain": [
       "(2363, 11)"
      ]
     },
     "execution_count": 4,
     "metadata": {},
     "output_type": "execute_result"
    }
   ],
   "source": [
    "wrld_hap.shape"
   ]
  },
  {
   "cell_type": "code",
   "execution_count": 5,
   "id": "9d0c39c5",
   "metadata": {},
   "outputs": [
    {
     "data": {
      "text/plain": [
       "Country name                         object\n",
       "year                                  int64\n",
       "Life Ladder                         float64\n",
       "Log GDP per capita                  float64\n",
       "Social support                      float64\n",
       "Healthy life expectancy at birth    float64\n",
       "Freedom to make life choices        float64\n",
       "Generosity                          float64\n",
       "Perceptions of corruption           float64\n",
       "Positive affect                     float64\n",
       "Negative affect                     float64\n",
       "dtype: object"
      ]
     },
     "execution_count": 5,
     "metadata": {},
     "output_type": "execute_result"
    }
   ],
   "source": [
    "wrld_hap.dtypes"
   ]
  },
  {
   "cell_type": "markdown",
   "id": "a4c7891b",
   "metadata": {},
   "source": [
    "Zbiór danych ma 2363 wiersze i 11 kolumn. Występują w nim zmienne typu object, int64 oraz float64."
   ]
  },
  {
   "cell_type": "markdown",
   "id": "358ff1c8",
   "metadata": {},
   "source": [
    "# 2) Analiza zmiennych danych"
   ]
  },
  {
   "cell_type": "code",
   "execution_count": 8,
   "id": "8faba3ae",
   "metadata": {
    "scrolled": true
   },
   "outputs": [
    {
     "data": {
      "text/html": [
       "<div>\n",
       "<style scoped>\n",
       "    .dataframe tbody tr th:only-of-type {\n",
       "        vertical-align: middle;\n",
       "    }\n",
       "\n",
       "    .dataframe tbody tr th {\n",
       "        vertical-align: top;\n",
       "    }\n",
       "\n",
       "    .dataframe thead th {\n",
       "        text-align: right;\n",
       "    }\n",
       "</style>\n",
       "<table border=\"1\" class=\"dataframe\">\n",
       "  <thead>\n",
       "    <tr style=\"text-align: right;\">\n",
       "      <th></th>\n",
       "      <th>year</th>\n",
       "      <th>Life Ladder</th>\n",
       "      <th>Log GDP per capita</th>\n",
       "      <th>Social support</th>\n",
       "      <th>Healthy life expectancy at birth</th>\n",
       "      <th>Freedom to make life choices</th>\n",
       "      <th>Generosity</th>\n",
       "      <th>Perceptions of corruption</th>\n",
       "      <th>Positive affect</th>\n",
       "      <th>Negative affect</th>\n",
       "    </tr>\n",
       "  </thead>\n",
       "  <tbody>\n",
       "    <tr>\n",
       "      <th>count</th>\n",
       "      <td>2363.000000</td>\n",
       "      <td>2363.000000</td>\n",
       "      <td>2335.000000</td>\n",
       "      <td>2350.000000</td>\n",
       "      <td>2300.000000</td>\n",
       "      <td>2327.000000</td>\n",
       "      <td>2282.000000</td>\n",
       "      <td>2238.000000</td>\n",
       "      <td>2339.000000</td>\n",
       "      <td>2347.000000</td>\n",
       "    </tr>\n",
       "    <tr>\n",
       "      <th>mean</th>\n",
       "      <td>2014.763860</td>\n",
       "      <td>5.483566</td>\n",
       "      <td>9.399671</td>\n",
       "      <td>0.809369</td>\n",
       "      <td>63.401828</td>\n",
       "      <td>0.750282</td>\n",
       "      <td>0.000098</td>\n",
       "      <td>0.743971</td>\n",
       "      <td>0.651882</td>\n",
       "      <td>0.273151</td>\n",
       "    </tr>\n",
       "    <tr>\n",
       "      <th>std</th>\n",
       "      <td>5.059436</td>\n",
       "      <td>1.125522</td>\n",
       "      <td>1.152069</td>\n",
       "      <td>0.121212</td>\n",
       "      <td>6.842644</td>\n",
       "      <td>0.139357</td>\n",
       "      <td>0.161388</td>\n",
       "      <td>0.184865</td>\n",
       "      <td>0.106240</td>\n",
       "      <td>0.087131</td>\n",
       "    </tr>\n",
       "    <tr>\n",
       "      <th>min</th>\n",
       "      <td>2005.000000</td>\n",
       "      <td>1.281000</td>\n",
       "      <td>5.527000</td>\n",
       "      <td>0.228000</td>\n",
       "      <td>6.720000</td>\n",
       "      <td>0.228000</td>\n",
       "      <td>-0.340000</td>\n",
       "      <td>0.035000</td>\n",
       "      <td>0.179000</td>\n",
       "      <td>0.083000</td>\n",
       "    </tr>\n",
       "    <tr>\n",
       "      <th>25%</th>\n",
       "      <td>2011.000000</td>\n",
       "      <td>4.647000</td>\n",
       "      <td>8.506500</td>\n",
       "      <td>0.744000</td>\n",
       "      <td>59.195000</td>\n",
       "      <td>0.661000</td>\n",
       "      <td>-0.112000</td>\n",
       "      <td>0.687000</td>\n",
       "      <td>0.572000</td>\n",
       "      <td>0.209000</td>\n",
       "    </tr>\n",
       "    <tr>\n",
       "      <th>50%</th>\n",
       "      <td>2015.000000</td>\n",
       "      <td>5.449000</td>\n",
       "      <td>9.503000</td>\n",
       "      <td>0.834500</td>\n",
       "      <td>65.100000</td>\n",
       "      <td>0.771000</td>\n",
       "      <td>-0.022000</td>\n",
       "      <td>0.798500</td>\n",
       "      <td>0.663000</td>\n",
       "      <td>0.262000</td>\n",
       "    </tr>\n",
       "    <tr>\n",
       "      <th>75%</th>\n",
       "      <td>2019.000000</td>\n",
       "      <td>6.323500</td>\n",
       "      <td>10.392500</td>\n",
       "      <td>0.904000</td>\n",
       "      <td>68.552500</td>\n",
       "      <td>0.862000</td>\n",
       "      <td>0.093750</td>\n",
       "      <td>0.867750</td>\n",
       "      <td>0.737000</td>\n",
       "      <td>0.326000</td>\n",
       "    </tr>\n",
       "    <tr>\n",
       "      <th>max</th>\n",
       "      <td>2023.000000</td>\n",
       "      <td>8.019000</td>\n",
       "      <td>11.676000</td>\n",
       "      <td>0.987000</td>\n",
       "      <td>74.600000</td>\n",
       "      <td>0.985000</td>\n",
       "      <td>0.700000</td>\n",
       "      <td>0.983000</td>\n",
       "      <td>0.884000</td>\n",
       "      <td>0.705000</td>\n",
       "    </tr>\n",
       "  </tbody>\n",
       "</table>\n",
       "</div>"
      ],
      "text/plain": [
       "              year  Life Ladder  Log GDP per capita  Social support  \\\n",
       "count  2363.000000  2363.000000         2335.000000     2350.000000   \n",
       "mean   2014.763860     5.483566            9.399671        0.809369   \n",
       "std       5.059436     1.125522            1.152069        0.121212   \n",
       "min    2005.000000     1.281000            5.527000        0.228000   \n",
       "25%    2011.000000     4.647000            8.506500        0.744000   \n",
       "50%    2015.000000     5.449000            9.503000        0.834500   \n",
       "75%    2019.000000     6.323500           10.392500        0.904000   \n",
       "max    2023.000000     8.019000           11.676000        0.987000   \n",
       "\n",
       "       Healthy life expectancy at birth  Freedom to make life choices  \\\n",
       "count                       2300.000000                   2327.000000   \n",
       "mean                          63.401828                      0.750282   \n",
       "std                            6.842644                      0.139357   \n",
       "min                            6.720000                      0.228000   \n",
       "25%                           59.195000                      0.661000   \n",
       "50%                           65.100000                      0.771000   \n",
       "75%                           68.552500                      0.862000   \n",
       "max                           74.600000                      0.985000   \n",
       "\n",
       "        Generosity  Perceptions of corruption  Positive affect  \\\n",
       "count  2282.000000                2238.000000      2339.000000   \n",
       "mean      0.000098                   0.743971         0.651882   \n",
       "std       0.161388                   0.184865         0.106240   \n",
       "min      -0.340000                   0.035000         0.179000   \n",
       "25%      -0.112000                   0.687000         0.572000   \n",
       "50%      -0.022000                   0.798500         0.663000   \n",
       "75%       0.093750                   0.867750         0.737000   \n",
       "max       0.700000                   0.983000         0.884000   \n",
       "\n",
       "       Negative affect  \n",
       "count      2347.000000  \n",
       "mean          0.273151  \n",
       "std           0.087131  \n",
       "min           0.083000  \n",
       "25%           0.209000  \n",
       "50%           0.262000  \n",
       "75%           0.326000  \n",
       "max           0.705000  "
      ]
     },
     "execution_count": 8,
     "metadata": {},
     "output_type": "execute_result"
    }
   ],
   "source": [
    "wrld_hap.describe()"
   ]
  },
  {
   "cell_type": "markdown",
   "id": "0d8c8bc1",
   "metadata": {},
   "source": [
    "Powyżej zostały policzone statystyki wszystkich zmiennych. Większośc danych w kolumnie year nie ma sensu, ale zostawiłem ją bo użytkownik może odczytać minimalny orazz maksymalny rok."
   ]
  },
  {
   "cell_type": "markdown",
   "id": "c6eb7d8d",
   "metadata": {},
   "source": [
    "# 3) Analiza zależności od przynależności do grupy"
   ]
  },
  {
   "cell_type": "code",
   "execution_count": 11,
   "id": "fb8831b9",
   "metadata": {},
   "outputs": [],
   "source": [
    "# średni poziom szczęścia w latach 2005 - 2023"
   ]
  },
  {
   "cell_type": "code",
   "execution_count": 26,
   "id": "7bcb36c5",
   "metadata": {},
   "outputs": [
    {
     "data": {
      "text/html": [
       "<div>\n",
       "<style scoped>\n",
       "    .dataframe tbody tr th:only-of-type {\n",
       "        vertical-align: middle;\n",
       "    }\n",
       "\n",
       "    .dataframe tbody tr th {\n",
       "        vertical-align: top;\n",
       "    }\n",
       "\n",
       "    .dataframe thead th {\n",
       "        text-align: right;\n",
       "    }\n",
       "</style>\n",
       "<table border=\"1\" class=\"dataframe\">\n",
       "  <thead>\n",
       "    <tr style=\"text-align: right;\">\n",
       "      <th></th>\n",
       "      <th>Średni_poziom_szczęścia</th>\n",
       "    </tr>\n",
       "    <tr>\n",
       "      <th>Country name</th>\n",
       "      <th></th>\n",
       "    </tr>\n",
       "  </thead>\n",
       "  <tbody>\n",
       "    <tr>\n",
       "      <th>Denmark</th>\n",
       "      <td>7.664111</td>\n",
       "    </tr>\n",
       "    <tr>\n",
       "      <th>Finland</th>\n",
       "      <td>7.624062</td>\n",
       "    </tr>\n",
       "    <tr>\n",
       "      <th>Iceland</th>\n",
       "      <td>7.468000</td>\n",
       "    </tr>\n",
       "    <tr>\n",
       "      <th>Norway</th>\n",
       "      <td>7.463846</td>\n",
       "    </tr>\n",
       "    <tr>\n",
       "      <th>Netherlands</th>\n",
       "      <td>7.440412</td>\n",
       "    </tr>\n",
       "    <tr>\n",
       "      <th>Switzerland</th>\n",
       "      <td>7.435692</td>\n",
       "    </tr>\n",
       "    <tr>\n",
       "      <th>Sweden</th>\n",
       "      <td>7.365167</td>\n",
       "    </tr>\n",
       "    <tr>\n",
       "      <th>Canada</th>\n",
       "      <td>7.296833</td>\n",
       "    </tr>\n",
       "    <tr>\n",
       "      <th>New Zealand</th>\n",
       "      <td>7.260706</td>\n",
       "    </tr>\n",
       "    <tr>\n",
       "      <th>Australia</th>\n",
       "      <td>7.242412</td>\n",
       "    </tr>\n",
       "  </tbody>\n",
       "</table>\n",
       "</div>"
      ],
      "text/plain": [
       "              Średni_poziom_szczęścia\n",
       "Country name                         \n",
       "Denmark                      7.664111\n",
       "Finland                      7.624062\n",
       "Iceland                      7.468000\n",
       "Norway                       7.463846\n",
       "Netherlands                  7.440412\n",
       "Switzerland                  7.435692\n",
       "Sweden                       7.365167\n",
       "Canada                       7.296833\n",
       "New Zealand                  7.260706\n",
       "Australia                    7.242412"
      ]
     },
     "execution_count": 26,
     "metadata": {},
     "output_type": "execute_result"
    }
   ],
   "source": [
    "# średnio najszczęśliwsze kraje\n",
    "srednie_szczescie = wrld_hap.groupby([\"Country name\"]).agg(Średni_poziom_szczęścia = (\"Life Ladder\", \"mean\")).sort_values('Średni_poziom_szczęścia', ascending=False)\n",
    "srednie_szczescie.head(10)"
   ]
  },
  {
   "cell_type": "code",
   "execution_count": 27,
   "id": "ccb53952",
   "metadata": {},
   "outputs": [
    {
     "data": {
      "text/html": [
       "<div>\n",
       "<style scoped>\n",
       "    .dataframe tbody tr th:only-of-type {\n",
       "        vertical-align: middle;\n",
       "    }\n",
       "\n",
       "    .dataframe tbody tr th {\n",
       "        vertical-align: top;\n",
       "    }\n",
       "\n",
       "    .dataframe thead th {\n",
       "        text-align: right;\n",
       "    }\n",
       "</style>\n",
       "<table border=\"1\" class=\"dataframe\">\n",
       "  <thead>\n",
       "    <tr style=\"text-align: right;\">\n",
       "      <th></th>\n",
       "      <th>Średni_poziom_szczęścia</th>\n",
       "    </tr>\n",
       "    <tr>\n",
       "      <th>Country name</th>\n",
       "      <th></th>\n",
       "    </tr>\n",
       "  </thead>\n",
       "  <tbody>\n",
       "    <tr>\n",
       "      <th>Comoros</th>\n",
       "      <td>3.849625</td>\n",
       "    </tr>\n",
       "    <tr>\n",
       "      <th>Lesotho</th>\n",
       "      <td>3.839800</td>\n",
       "    </tr>\n",
       "    <tr>\n",
       "      <th>Zimbabwe</th>\n",
       "      <td>3.792333</td>\n",
       "    </tr>\n",
       "    <tr>\n",
       "      <th>Togo</th>\n",
       "      <td>3.719667</td>\n",
       "    </tr>\n",
       "    <tr>\n",
       "      <th>Tanzania</th>\n",
       "      <td>3.711056</td>\n",
       "    </tr>\n",
       "    <tr>\n",
       "      <th>Rwanda</th>\n",
       "      <td>3.654417</td>\n",
       "    </tr>\n",
       "    <tr>\n",
       "      <th>Burundi</th>\n",
       "      <td>3.548200</td>\n",
       "    </tr>\n",
       "    <tr>\n",
       "      <th>Central African Republic</th>\n",
       "      <td>3.515000</td>\n",
       "    </tr>\n",
       "    <tr>\n",
       "      <th>South Sudan</th>\n",
       "      <td>3.402000</td>\n",
       "    </tr>\n",
       "    <tr>\n",
       "      <th>Afghanistan</th>\n",
       "      <td>3.219933</td>\n",
       "    </tr>\n",
       "  </tbody>\n",
       "</table>\n",
       "</div>"
      ],
      "text/plain": [
       "                          Średni_poziom_szczęścia\n",
       "Country name                                     \n",
       "Comoros                                  3.849625\n",
       "Lesotho                                  3.839800\n",
       "Zimbabwe                                 3.792333\n",
       "Togo                                     3.719667\n",
       "Tanzania                                 3.711056\n",
       "Rwanda                                   3.654417\n",
       "Burundi                                  3.548200\n",
       "Central African Republic                 3.515000\n",
       "South Sudan                              3.402000\n",
       "Afghanistan                              3.219933"
      ]
     },
     "execution_count": 27,
     "metadata": {},
     "output_type": "execute_result"
    }
   ],
   "source": [
    "# średnio najmniej szczęśliwe\n",
    "srednie_szczescie.tail(10)"
   ]
  },
  {
   "cell_type": "markdown",
   "id": "67417dc6",
   "metadata": {},
   "source": [
    "# 4) 2 wykresy rozkładów zmiennych"
   ]
  },
  {
   "cell_type": "code",
   "execution_count": 13,
   "id": "e361a888",
   "metadata": {},
   "outputs": [
    {
     "data": {
      "image/png": "[encoded data removed]",
      "text/plain": [
       "<Figure size 640x480 with 1 Axes>"
      ]
     },
     "metadata": {},
     "output_type": "display_data"
    }
   ],
   "source": [
    "# Rozkład social support \n",
    "rok2023 = wrld_hap[wrld_hap[\"year\"] == 2023][\"Social support\"]\n",
    "rok2023 = rok2023.to_frame()\n",
    "sns.boxplot(data=rok2023, color=\"w\")\n",
    "plt.show()"
   ]
  },
  {
   "cell_type": "markdown",
   "id": "f7118249",
   "metadata": {},
   "source": [
    "Jest to boxplot mówiący przedstawiający rozkład Social support dla państw w 2023 roku. Ankietowani udzialali odpowiedzi 0 bądź 1 na pytanie czy mają krewnych lub przyjaciół, na których mogą polegać. Jak widać w większości państw ludzie mogą polegać na swoich bliskich. 75% wyników jest na poziomie większym niż 0.7."
   ]
  },
  {
   "cell_type": "code",
   "execution_count": 16,
   "id": "dc4a7532",
   "metadata": {},
   "outputs": [
    {
     "data": {
      "image/png": "[encoded data removed]",
      "text/plain": [
       "<Figure size 640x480 with 1 Axes>"
      ]
     },
     "metadata": {},
     "output_type": "display_data"
    }
   ],
   "source": [
    "# Rozkład Healthy life expectancy at birth\n",
    "sns.boxplot(data = wrld_hap[\"Healthy life expectancy at birth\"], color = \"w\")\n",
    "plt.show()"
   ]
  },
  {
   "cell_type": "code",
   "execution_count": 17,
   "id": "fc73de28",
   "metadata": {
    "scrolled": true
   },
   "outputs": [
    {
     "data": {
      "text/html": [
       "<div>\n",
       "<style scoped>\n",
       "    .dataframe tbody tr th:only-of-type {\n",
       "        vertical-align: middle;\n",
       "    }\n",
       "\n",
       "    .dataframe tbody tr th {\n",
       "        vertical-align: top;\n",
       "    }\n",
       "\n",
       "    .dataframe thead th {\n",
       "        text-align: right;\n",
       "    }\n",
       "</style>\n",
       "<table border=\"1\" class=\"dataframe\">\n",
       "  <thead>\n",
       "    <tr style=\"text-align: right;\">\n",
       "      <th></th>\n",
       "      <th>Country name</th>\n",
       "      <th>year</th>\n",
       "      <th>Life Ladder</th>\n",
       "      <th>Log GDP per capita</th>\n",
       "      <th>Social support</th>\n",
       "      <th>Healthy life expectancy at birth</th>\n",
       "      <th>Freedom to make life choices</th>\n",
       "      <th>Generosity</th>\n",
       "      <th>Perceptions of corruption</th>\n",
       "      <th>Positive affect</th>\n",
       "      <th>Negative affect</th>\n",
       "    </tr>\n",
       "  </thead>\n",
       "  <tbody>\n",
       "    <tr>\n",
       "      <th>818</th>\n",
       "      <td>Haiti</td>\n",
       "      <td>2006</td>\n",
       "      <td>3.754</td>\n",
       "      <td>7.976</td>\n",
       "      <td>0.694</td>\n",
       "      <td>6.72</td>\n",
       "      <td>0.449</td>\n",
       "      <td>0.355</td>\n",
       "      <td>0.854</td>\n",
       "      <td>0.583</td>\n",
       "      <td>0.332</td>\n",
       "    </tr>\n",
       "  </tbody>\n",
       "</table>\n",
       "</div>"
      ],
      "text/plain": [
       "    Country name  year  Life Ladder  Log GDP per capita  Social support  \\\n",
       "818        Haiti  2006        3.754               7.976           0.694   \n",
       "\n",
       "     Healthy life expectancy at birth  Freedom to make life choices  \\\n",
       "818                              6.72                         0.449   \n",
       "\n",
       "     Generosity  Perceptions of corruption  Positive affect  Negative affect  \n",
       "818       0.355                      0.854            0.583            0.332  "
      ]
     },
     "execution_count": 17,
     "metadata": {},
     "output_type": "execute_result"
    }
   ],
   "source": [
    "wrld_hap[wrld_hap[\"Healthy life expectancy at birth\"]== min(wrld_hap[\"Healthy life expectancy at birth\"])]"
   ]
  },
  {
   "cell_type": "markdown",
   "id": "265b5b70",
   "metadata": {},
   "source": [
    "Boxplot ten pokazuje rozkład oczekiwanej długości życia w zdrowiu w chwili urodzenia w latach 2005-2023. Jak widać najwięcej wyników mieści się pomiędzy 60 a 70 latami. Niepokojący wynik 6.72 lat jest najprawdopobniej błędem ramki danych (nie znalazłem w internecie żadnych anomalii dla Haiti w 2006 roku)."
   ]
  },
  {
   "cell_type": "markdown",
   "id": "fc4afeb6",
   "metadata": {},
   "source": [
    "# 5) 2 wykresy zależności"
   ]
  },
  {
   "cell_type": "code",
   "execution_count": 18,
   "id": "032f1ba3",
   "metadata": {},
   "outputs": [
    {
     "data": {
      "image/png": "[encoded data removed]",
      "text/plain": [
       "<Figure size 640x480 with 1 Axes>"
      ]
     },
     "metadata": {},
     "output_type": "display_data"
    }
   ],
   "source": [
    "polska_gurom = wrld_hap[wrld_hap[\"Country name\"] == \"Poland\"]\n",
    "\n",
    "sns.scatterplot(data=polska_gurom, x='year', y='Life Ladder')\n",
    "plt.ylim(0, 10)\n",
    "plt.xticks(range(2005, 2024), rotation = 45)\n",
    "plt.show()"
   ]
  },
  {
   "cell_type": "markdown",
   "id": "cbcc2302",
   "metadata": {},
   "source": [
    "Jest to wykres zależności średniego poziomu szczęścia od lat. Jak widać w Polsce wiele się nie zmienia, nie ma żadnej ciekawszej zależności. Można powiedzieć, że jest średnio. Ale jak wiemy, jak jest średnio, to jest dobrze."
   ]
  },
  {
   "cell_type": "code",
   "execution_count": 25,
   "id": "ad9e0c66",
   "metadata": {},
   "outputs": [
    {
     "data": {
      "image/png": "[encoded data removed]",
      "text/plain": [
       "<Figure size 640x480 with 1 Axes>"
      ]
     },
     "metadata": {},
     "output_type": "display_data"
    }
   ],
   "source": [
    "zycko = wrld_hap.groupby([\"year\"]).agg(mean = (\"Healthy life expectancy at birth\", 'mean')).reset_index()\n",
    "sns.barplot(data=zycko, x='year', y='mean', color = 'gray')\n",
    "\n",
    "plt.xticks(rotation = 45)\n",
    "plt.show()"
   ]
  },
  {
   "cell_type": "markdown",
   "id": "3989f7b9",
   "metadata": {},
   "source": [
    "Wraz ze wzrostem lat średnia długość życia na świecie wydaje się wzrastać. Wyjątkiem są wyniki z 2005 roku. Nie należy się jednak nimi sugerować. Z 2005 roku mamy dane jedynie dla kilkunastu państw, więc wyniki są mocno przekłamane."
   ]
  }
 ],
 "metadata": {
  "kernelspec": {
   "display_name": "Python 3 (ipykernel)",
   "language": "python",
   "name": "python3"
  },
  "language_info": {
   "codemirror_mode": {
    "name": "ipython",
    "version": 3
   },
   "file_extension": ".py",
   "mimetype": "text/x-python",
   "name": "python",
   "nbconvert_exporter": "python",
   "pygments_lexer": "ipython3",
   "version": "3.10.9"
  }
 },
 "nbformat": 4,
 "nbformat_minor": 5
}
