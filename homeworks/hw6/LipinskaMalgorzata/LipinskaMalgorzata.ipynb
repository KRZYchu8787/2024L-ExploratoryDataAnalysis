{
 "cells": [
  {
   "cell_type": "markdown",
   "metadata": {},
   "source": [
    "<h1 style=\"font-size: 40px; text-align: center;\">Praca domowa 6</h1>"
   ]
  },
  {
   "cell_type": "markdown",
   "metadata": {},
   "source": [
    "<h1 style=\"font-size: 20px; text-align: center;\">Małgorzata Lipińska</h1>"
   ]
  },
  {
   "cell_type": "code",
   "execution_count": 18,
   "metadata": {},
   "outputs": [],
   "source": [
    "import pandas as pd\n",
    "import matplotlib.pyplot as plt\n",
    "import seaborn as sns\n",
    "df = pd.read_csv('energy_dataset_.csv')"
   ]
  },
  {
   "cell_type": "markdown",
   "metadata": {},
   "source": [
    "# Opis zbioru danych"
   ]
  },
  {
   "cell_type": "code",
   "execution_count": 19,
   "metadata": {},
   "outputs": [
    {
     "name": "stdout",
     "output_type": "stream",
     "text": [
      "<bound method NDFrame.head of        Type_of_Renewable_Energy  Installed_Capacity_MW  Energy_Production_MWh  \\\n",
      "0                             4              93.423205            103853.2206   \n",
      "1                             4             590.468942            190223.0649   \n",
      "2                             1             625.951142            266023.4824   \n",
      "3                             1             779.998728            487039.5296   \n",
      "4                             3             242.106837            482815.0856   \n",
      "...                         ...                    ...                    ...   \n",
      "14995                         3             745.032555            280007.5738   \n",
      "14996                         1              15.187023            377340.5803   \n",
      "14997                         3             877.539059            480497.3920   \n",
      "14998                         7             551.264716            436383.1694   \n",
      "14999                         3             863.421803            314014.3005   \n",
      "\n",
      "       Energy_Consumption_MWh  Energy_Storage_Capacity_MWh  \\\n",
      "0                 248708.4892                  2953.248771   \n",
      "1                 166104.1642                  5305.174042   \n",
      "2                 424114.6308                  2620.192622   \n",
      "3                 308337.7316                  1925.250307   \n",
      "4                 360437.7705                  3948.945383   \n",
      "...                       ...                          ...   \n",
      "14995             230544.8268                  4351.687893   \n",
      "14996             358547.3589                  6792.194696   \n",
      "14997             214441.6719                  4588.725297   \n",
      "14998             137043.8713                  7251.144215   \n",
      "14999             124461.9178                  7366.166362   \n",
      "\n",
      "       Storage_Efficiency_Percentage  Grid_Integration_Level  \\\n",
      "0                          89.887562                       4   \n",
      "1                          84.403343                       4   \n",
      "2                          60.498249                       2   \n",
      "3                          86.897861                       3   \n",
      "4                          70.949351                       2   \n",
      "...                              ...                     ...   \n",
      "14995                      90.791405                       4   \n",
      "14996                      78.252040                       4   \n",
      "14997                      58.282928                       1   \n",
      "14998                      73.573666                       2   \n",
      "14999                      86.868893                       4   \n",
      "\n",
      "       Initial_Investment_USD  Funding_Sources  Financial_Incentives_USD  \\\n",
      "0                4.732248e+08                1              9.207772e+06   \n",
      "1                1.670697e+08                2              1.685101e+06   \n",
      "2                8.463610e+07                2              5.111813e+06   \n",
      "3                3.967690e+08                2              4.805902e+06   \n",
      "4                3.574413e+07                1              1.668601e+07   \n",
      "...                       ...              ...                       ...   \n",
      "14995            3.484136e+08                2              1.558508e+07   \n",
      "14996            2.560179e+08                3              6.866618e+06   \n",
      "14997            1.300112e+08                2              3.837764e+06   \n",
      "14998            3.334831e+08                2              5.347706e+06   \n",
      "14999            2.989825e+08                2              1.832534e+07   \n",
      "\n",
      "       GHG_Emission_Reduction_tCO2e  Air_Pollution_Reduction_Index  \\\n",
      "0                       6663.816572                      81.742461   \n",
      "1                      30656.049820                      78.139042   \n",
      "2                       1749.613759                       8.461296   \n",
      "3                      43233.237820                       8.402441   \n",
      "4                      14858.662760                      28.822867   \n",
      "...                             ...                            ...   \n",
      "14995                  25234.911810                      78.923200   \n",
      "14996                  15762.519790                      54.982974   \n",
      "14997                  44597.809410                      43.915897   \n",
      "14998                  34363.858000                       4.877145   \n",
      "14999                  27193.217600                      50.559075   \n",
      "\n",
      "       Jobs_Created  \n",
      "0              1366  \n",
      "1              1743  \n",
      "2               363  \n",
      "3              2821  \n",
      "4              2583  \n",
      "...             ...  \n",
      "14995          1452  \n",
      "14996          2598  \n",
      "14997          2713  \n",
      "14998          2128  \n",
      "14999          1871  \n",
      "\n",
      "[15000 rows x 13 columns]>\n"
     ]
    }
   ],
   "source": [
    "print(df.head)"
   ]
  },
  {
   "cell_type": "markdown",
   "metadata": {},
   "source": [
    "**Typy danych:**\n",
    "* Ilościowe ilorazowe:\n",
    "  - Installed_Capacity_MW\n",
    "  - Energy_Production_MWh\n",
    "  - Energy_Consumption_MWh\n",
    "  - Energy_Storage_Capacity_MWh\n",
    "  - Storage_Efficiency_Percentage\n",
    "  - Initial_Investment_USD\n",
    "  - Financial_Incentives_USD\n",
    "  - GHG_Emission_Reduction_tCO2e\n",
    "  - Air_Pollution_Reduction_Index\n",
    "* Jakościowe nominalne:\n",
    "  - Type_of_Renewable_Energy\n",
    "  - Grid_Integration_Level\n",
    "  - Funding_Sources\n",
    "* Ilościowe zliczeniowe:\n",
    "  - Jobs_Created"
   ]
  },
  {
   "cell_type": "code",
   "execution_count": 20,
   "metadata": {},
   "outputs": [
    {
     "name": "stdout",
     "output_type": "stream",
     "text": [
      "15000\n"
     ]
    }
   ],
   "source": [
    "print(len(df['Jobs_Created']))"
   ]
  },
  {
   "cell_type": "markdown",
   "metadata": {},
   "source": [
    "**Rozmiar ramki danych:**\n",
    "Ramka danych ma 15000 wierszy"
   ]
  },
  {
   "cell_type": "markdown",
   "metadata": {},
   "source": [
    "# Policzenie statystyk\n",
    "Zajmiemy się przykładowo kolumną 'Energy_Production_MWh'"
   ]
  },
  {
   "cell_type": "markdown",
   "metadata": {},
   "source": [
    "**Przy pomocy wbudowanej funkcji:**"
   ]
  },
  {
   "cell_type": "code",
   "execution_count": 21,
   "metadata": {},
   "outputs": [
    {
     "name": "stdout",
     "output_type": "stream",
     "text": [
      "count     15000.000000\n",
      "mean     252350.955621\n",
      "std      144062.915425\n",
      "min        1030.103692\n",
      "25%      128568.875900\n",
      "50%      253216.871250\n",
      "75%      377083.805575\n",
      "max      499991.200400\n",
      "Name: Energy_Production_MWh, dtype: float64\n"
     ]
    }
   ],
   "source": [
    "print(df['Energy_Production_MWh'].describe())"
   ]
  },
  {
   "cell_type": "markdown",
   "metadata": {},
   "source": [
    "**Ręcznie:**"
   ]
  },
  {
   "cell_type": "code",
   "execution_count": 22,
   "metadata": {},
   "outputs": [
    {
     "name": "stdout",
     "output_type": "stream",
     "text": [
      "count:\n",
      "15000\n",
      "mean:\n",
      "252350.95562061528\n",
      "kwantyle:\n",
      "0.25    128568.875900\n",
      "0.50    253216.871250\n",
      "0.75    377083.805575\n",
      "Name: Energy_Production_MWh, dtype: float64\n",
      "elementy minimalne i maksymalne:\n",
      "1030.103692\n",
      "499991.2004\n"
     ]
    }
   ],
   "source": [
    "print('count:')\n",
    "print(len(df['Energy_Production_MWh']))\n",
    "\n",
    "print('mean:')\n",
    "print(df['Energy_Production_MWh'].mean()) \n",
    "\n",
    "print('kwantyle:')\n",
    "print(df['Energy_Production_MWh'].quantile([0.25,0.5,0.75]))\n",
    "\n",
    "print('elementy minimalne i maksymalne:')\n",
    "print(df['Energy_Production_MWh'].min())\n",
    "print(df['Energy_Production_MWh'].max())\n"
   ]
  },
  {
   "cell_type": "markdown",
   "metadata": {},
   "source": [
    "# Analiza danych ze względu na podział na grupy"
   ]
  },
  {
   "cell_type": "code",
   "execution_count": 23,
   "metadata": {},
   "outputs": [
    {
     "name": "stdout",
     "output_type": "stream",
     "text": [
      "Type_of_Renewable_Energy\n",
      "1    5401364\n",
      "2    5530174\n",
      "3    5414246\n",
      "4    5238952\n",
      "5    5402836\n",
      "6    5352948\n",
      "7    5199509\n",
      "Name: Jobs_Created, dtype: int64\n"
     ]
    }
   ],
   "source": [
    "data1=df.groupby('Type_of_Renewable_Energy')['Jobs_Created'].sum()\n",
    "print(data1)"
   ]
  },
  {
   "cell_type": "markdown",
   "metadata": {},
   "source": [
    "# Wykresy analizujące rozkład zmiennych"
   ]
  },
  {
   "cell_type": "markdown",
   "metadata": {},
   "source": [
    "**Wykres pudełkowy ilości wyprodukowanej energii**"
   ]
  },
  {
   "cell_type": "code",
   "execution_count": 24,
   "metadata": {},
   "outputs": [
    {
     "data": {
      "text/plain": [
       "Text(0.5, 1.0, 'Rozkład ilości wyprodukowanej energii')"
      ]
     },
     "execution_count": 24,
     "metadata": {},
     "output_type": "execute_result"
    },
    {
     "data": {
      "image/png": "[encoded data removed]",
      "text/plain": [
       "<Figure size 432x288 with 1 Axes>"
      ]
     },
     "metadata": {
      "needs_background": "light"
     },
     "output_type": "display_data"
    }
   ],
   "source": [
    "plt.boxplot(df['Energy_Production_MWh'])\n",
    "plt.title('Rozkład ilości wyprodukowanej energii')"
   ]
  },
  {
   "cell_type": "markdown",
   "metadata": {},
   "source": [
    "**Wnioski:**\n",
    "Wykres jest wizulaną reprezentacją powyższej analizy statystyk. Rozkład wydaje się być bardzo symetryczny."
   ]
  },
  {
   "cell_type": "markdown",
   "metadata": {},
   "source": [
    "**Wykres pudełkowy ilości zużytej energii**"
   ]
  },
  {
   "cell_type": "code",
   "execution_count": 25,
   "metadata": {},
   "outputs": [
    {
     "data": {
      "image/png": "[encoded data removed]",
      "text/plain": [
       "<Figure size 432x288 with 1 Axes>"
      ]
     },
     "metadata": {
      "needs_background": "light"
     },
     "output_type": "display_data"
    }
   ],
   "source": [
    "sns.kdeplot(df['Energy_Consumption_MWh'], shade=True)\n",
    "plt.title('Wykres gęstości zużycia energii')\n",
    "plt.xlabel('Wartość')\n",
    "plt.ylabel('Gęstość')\n",
    "plt.show()"
   ]
  },
  {
   "cell_type": "markdown",
   "metadata": {},
   "source": [
    "**Wnioski:**\n",
    "W tym przypadku rozkład wydaje się być prawie symetryczny. Można zauważyć, że ilość danych jest podobna w przedziale od 0 do 450000."
   ]
  },
  {
   "cell_type": "markdown",
   "metadata": {},
   "source": [
    "# Wykresy wskazujące zależności"
   ]
  },
  {
   "cell_type": "markdown",
   "metadata": {},
   "source": [
    "**Wykres słupkowy**"
   ]
  },
  {
   "cell_type": "code",
   "execution_count": 26,
   "metadata": {},
   "outputs": [
    {
     "data": {
      "image/png": "[encoded data removed]",
      "text/plain": [
       "<Figure size 432x288 with 1 Axes>"
      ]
     },
     "metadata": {
      "needs_background": "light"
     },
     "output_type": "display_data"
    }
   ],
   "source": [
    "# dane wykorzystamy z poprzedniej analizy\n",
    "plt.bar(x=data1.index, height=data1.values)\n",
    "plt.xlabel('Rodzaje odnawialnej energii')\n",
    "plt.ylabel('Ilość stworzonych miejsc pracy')\n",
    "plt.title('Ilości stworzonych miejsc pracy w zalezności od rodzaju odnawialnej energii')\n",
    "plt.yscale('log')  # ustawienie skali na logarytmiczną"
   ]
  },
  {
   "cell_type": "markdown",
   "metadata": {},
   "source": [
    "**Wnioski:**\n",
    "Widoczne jest, że najwięcej nowych miejsc pracy zostało stowrzone dla 2. rodzaj odnawialnej energii. Rodzaje 1,3,5 i 6 przyjmują zbliżone wartości. Natomiast zauważalne jest rónież, że zmienne 4 i 7 przyjmują znacznie mniejsze wartości."
   ]
  },
  {
   "cell_type": "markdown",
   "metadata": {},
   "source": [
    "**Wykres pudełkowy**"
   ]
  },
  {
   "cell_type": "code",
   "execution_count": 51,
   "metadata": {},
   "outputs": [
    {
     "data": {
      "text/plain": [
       "Text(0.5, 1.05, 'Rozkład początkowego wkładu w zależności od źródła finansowania')"
      ]
     },
     "execution_count": 51,
     "metadata": {},
     "output_type": "execute_result"
    },
    {
     "data": {
      "image/png": "[encoded data removed]",
      "text/plain": [
       "<Figure size 432x288 with 1 Axes>"
      ]
     },
     "metadata": {
      "needs_background": "light"
     },
     "output_type": "display_data"
    }
   ],
   "source": [
    "sns.boxplot(x='Funding_Sources', y='Initial_Investment_USD', data=df, color='skyblue') # usunięcie niepotrzebnego kolorowania\n",
    "plt.xlabel('Źródła finansowania')\n",
    "plt.ylabel('Kwota')\n",
    "plt.title('Rozkład początkowego wkładu w zależności od źródła finansowania',y=1.05)"
   ]
  },
  {
   "cell_type": "markdown",
   "metadata": {},
   "source": [
    "**Wnioski:**\n",
    "Możemy zauważyć, że różne źródła finansowania mają podobne rozkłady. Kwantyle wydają się być na prawie identyczne. "
   ]
  }
 ],
 "metadata": {
  "kernelspec": {
   "display_name": "Python 3 (ipykernel)",
   "language": "python",
   "name": "python3"
  },
  "language_info": {
   "codemirror_mode": {
    "name": "ipython",
    "version": 3
   },
   "file_extension": ".py",
   "mimetype": "text/x-python",
   "name": "python",
   "nbconvert_exporter": "python",
   "pygments_lexer": "ipython3",
   "version": "3.9.12"
  }
 },
 "nbformat": 4,
 "nbformat_minor": 4
}
