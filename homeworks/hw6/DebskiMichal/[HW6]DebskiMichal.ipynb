{
 "cells": [
  {
   "cell_type": "markdown",
   "id": "54bc48de",
   "metadata": {},
   "source": [
    "# Praca domowa 6\n"
   ]
  },
  {
   "cell_type": "code",
   "execution_count": 1,
   "id": "5830067e",
   "metadata": {},
   "outputs": [],
   "source": [
    "import numpy as np\n",
    "import pandas as pd\n",
    "import matplotlib.pyplot as plt\n",
    "import seaborn as sns"
   ]
  },
  {
   "cell_type": "code",
   "execution_count": 2,
   "id": "2124074f",
   "metadata": {},
   "outputs": [],
   "source": [
    "df = pd.read_csv(\"energy_dataset_.csv\",\n",
    "                delimiter = \",\").dropna().reset_index(drop = True)"
   ]
  },
  {
   "cell_type": "code",
   "execution_count": 3,
   "id": "a780fe1f",
   "metadata": {},
   "outputs": [
    {
     "data": {
      "text/html": [
       "<div>\n",
       "<style scoped>\n",
       "    .dataframe tbody tr th:only-of-type {\n",
       "        vertical-align: middle;\n",
       "    }\n",
       "\n",
       "    .dataframe tbody tr th {\n",
       "        vertical-align: top;\n",
       "    }\n",
       "\n",
       "    .dataframe thead th {\n",
       "        text-align: right;\n",
       "    }\n",
       "</style>\n",
       "<table border=\"1\" class=\"dataframe\">\n",
       "  <thead>\n",
       "    <tr style=\"text-align: right;\">\n",
       "      <th></th>\n",
       "      <th>Type_of_Renewable_Energy</th>\n",
       "      <th>Installed_Capacity_MW</th>\n",
       "      <th>Energy_Production_MWh</th>\n",
       "      <th>Energy_Consumption_MWh</th>\n",
       "      <th>Energy_Storage_Capacity_MWh</th>\n",
       "      <th>Storage_Efficiency_Percentage</th>\n",
       "      <th>Grid_Integration_Level</th>\n",
       "      <th>Initial_Investment_USD</th>\n",
       "      <th>Funding_Sources</th>\n",
       "      <th>Financial_Incentives_USD</th>\n",
       "      <th>GHG_Emission_Reduction_tCO2e</th>\n",
       "      <th>Air_Pollution_Reduction_Index</th>\n",
       "      <th>Jobs_Created</th>\n",
       "    </tr>\n",
       "  </thead>\n",
       "  <tbody>\n",
       "    <tr>\n",
       "      <th>0</th>\n",
       "      <td>4</td>\n",
       "      <td>93.423205</td>\n",
       "      <td>103853.2206</td>\n",
       "      <td>248708.4892</td>\n",
       "      <td>2953.248771</td>\n",
       "      <td>89.887562</td>\n",
       "      <td>4</td>\n",
       "      <td>4.732248e+08</td>\n",
       "      <td>1</td>\n",
       "      <td>9.207772e+06</td>\n",
       "      <td>6663.816572</td>\n",
       "      <td>81.742461</td>\n",
       "      <td>1366</td>\n",
       "    </tr>\n",
       "    <tr>\n",
       "      <th>1</th>\n",
       "      <td>4</td>\n",
       "      <td>590.468942</td>\n",
       "      <td>190223.0649</td>\n",
       "      <td>166104.1642</td>\n",
       "      <td>5305.174042</td>\n",
       "      <td>84.403343</td>\n",
       "      <td>4</td>\n",
       "      <td>1.670697e+08</td>\n",
       "      <td>2</td>\n",
       "      <td>1.685101e+06</td>\n",
       "      <td>30656.049820</td>\n",
       "      <td>78.139042</td>\n",
       "      <td>1743</td>\n",
       "    </tr>\n",
       "    <tr>\n",
       "      <th>2</th>\n",
       "      <td>1</td>\n",
       "      <td>625.951142</td>\n",
       "      <td>266023.4824</td>\n",
       "      <td>424114.6308</td>\n",
       "      <td>2620.192622</td>\n",
       "      <td>60.498249</td>\n",
       "      <td>2</td>\n",
       "      <td>8.463610e+07</td>\n",
       "      <td>2</td>\n",
       "      <td>5.111813e+06</td>\n",
       "      <td>1749.613759</td>\n",
       "      <td>8.461296</td>\n",
       "      <td>363</td>\n",
       "    </tr>\n",
       "    <tr>\n",
       "      <th>3</th>\n",
       "      <td>1</td>\n",
       "      <td>779.998728</td>\n",
       "      <td>487039.5296</td>\n",
       "      <td>308337.7316</td>\n",
       "      <td>1925.250307</td>\n",
       "      <td>86.897861</td>\n",
       "      <td>3</td>\n",
       "      <td>3.967690e+08</td>\n",
       "      <td>2</td>\n",
       "      <td>4.805902e+06</td>\n",
       "      <td>43233.237820</td>\n",
       "      <td>8.402441</td>\n",
       "      <td>2821</td>\n",
       "    </tr>\n",
       "    <tr>\n",
       "      <th>4</th>\n",
       "      <td>3</td>\n",
       "      <td>242.106837</td>\n",
       "      <td>482815.0856</td>\n",
       "      <td>360437.7705</td>\n",
       "      <td>3948.945383</td>\n",
       "      <td>70.949351</td>\n",
       "      <td>2</td>\n",
       "      <td>3.574413e+07</td>\n",
       "      <td>1</td>\n",
       "      <td>1.668601e+07</td>\n",
       "      <td>14858.662760</td>\n",
       "      <td>28.822867</td>\n",
       "      <td>2583</td>\n",
       "    </tr>\n",
       "  </tbody>\n",
       "</table>\n",
       "</div>"
      ],
      "text/plain": [
       "   Type_of_Renewable_Energy  Installed_Capacity_MW  Energy_Production_MWh  \\\n",
       "0                         4              93.423205            103853.2206   \n",
       "1                         4             590.468942            190223.0649   \n",
       "2                         1             625.951142            266023.4824   \n",
       "3                         1             779.998728            487039.5296   \n",
       "4                         3             242.106837            482815.0856   \n",
       "\n",
       "   Energy_Consumption_MWh  Energy_Storage_Capacity_MWh  \\\n",
       "0             248708.4892                  2953.248771   \n",
       "1             166104.1642                  5305.174042   \n",
       "2             424114.6308                  2620.192622   \n",
       "3             308337.7316                  1925.250307   \n",
       "4             360437.7705                  3948.945383   \n",
       "\n",
       "   Storage_Efficiency_Percentage  Grid_Integration_Level  \\\n",
       "0                      89.887562                       4   \n",
       "1                      84.403343                       4   \n",
       "2                      60.498249                       2   \n",
       "3                      86.897861                       3   \n",
       "4                      70.949351                       2   \n",
       "\n",
       "   Initial_Investment_USD  Funding_Sources  Financial_Incentives_USD  \\\n",
       "0            4.732248e+08                1              9.207772e+06   \n",
       "1            1.670697e+08                2              1.685101e+06   \n",
       "2            8.463610e+07                2              5.111813e+06   \n",
       "3            3.967690e+08                2              4.805902e+06   \n",
       "4            3.574413e+07                1              1.668601e+07   \n",
       "\n",
       "   GHG_Emission_Reduction_tCO2e  Air_Pollution_Reduction_Index  Jobs_Created  \n",
       "0                   6663.816572                      81.742461          1366  \n",
       "1                  30656.049820                      78.139042          1743  \n",
       "2                   1749.613759                       8.461296           363  \n",
       "3                  43233.237820                       8.402441          2821  \n",
       "4                  14858.662760                      28.822867          2583  "
      ]
     },
     "execution_count": 3,
     "metadata": {},
     "output_type": "execute_result"
    }
   ],
   "source": [
    "df.head()"
   ]
  },
  {
   "cell_type": "code",
   "execution_count": 4,
   "id": "d623e58c",
   "metadata": {},
   "outputs": [
    {
     "data": {
      "text/plain": [
       "Type_of_Renewable_Energy           int64\n",
       "Installed_Capacity_MW            float64\n",
       "Energy_Production_MWh            float64\n",
       "Energy_Consumption_MWh           float64\n",
       "Energy_Storage_Capacity_MWh      float64\n",
       "Storage_Efficiency_Percentage    float64\n",
       "Grid_Integration_Level             int64\n",
       "Initial_Investment_USD           float64\n",
       "Funding_Sources                    int64\n",
       "Financial_Incentives_USD         float64\n",
       "GHG_Emission_Reduction_tCO2e     float64\n",
       "Air_Pollution_Reduction_Index    float64\n",
       "Jobs_Created                       int64\n",
       "dtype: object"
      ]
     },
     "execution_count": 4,
     "metadata": {},
     "output_type": "execute_result"
    }
   ],
   "source": [
    "df.dtypes"
   ]
  },
  {
   "cell_type": "code",
   "execution_count": 5,
   "id": "e88b9dfb",
   "metadata": {},
   "outputs": [
    {
     "data": {
      "text/plain": [
       "(15000, 13)"
      ]
     },
     "execution_count": 5,
     "metadata": {},
     "output_type": "execute_result"
    }
   ],
   "source": [
    "df.shape"
   ]
  },
  {
   "cell_type": "markdown",
   "id": "655667c7",
   "metadata": {},
   "source": [
    "## Opis zbioru \n",
    "\n",
    "Analizowany zbiór danych zawiera informacje o różnych systemach energii odnawialnej, w tym o mocy zainstalowanej, produkcji energii, zużyciu, magazynowaniu, inwestycjach i wpływie na środowisko. Zbiór danych składa się z 13 kolumn oraz 15000 obserwacji. W kolumnach przedstawione są następujące obserwacje: \n",
    "\n",
    "1.Type_of_Renewable_Energy: Kod numeryczny reprezentujący typ enrgii odnawialnej \n",
    "(1: Energia słoneczna, 2: Energia wiatrowa, 3: Energia wodna, 4: Geotermalna, 5: Biomasa i odpady, 6: Energia pływów, 7: Energia fal).\n",
    "\n",
    "2.Installed_Capacity_MW: Moc w megawatach (MW).\n",
    "\n",
    "3.Energy_Production_MWh: Roczna produkcja energii w megawatogodzinach (MWh).\n",
    "\n",
    "4.Energy_Consumption_MWh: Roczna konsumpcja energii w magawatogodzinach (MWh).\n",
    "\n",
    "5.Energy_Storage_Capacity_MWh: Pojemność magazynowania energii w megawatogodzinach (MWh).\n",
    "\n",
    "6.Storage_Efficiency_Percentage: Sprawność systemów magazynowania energii w procentach.\n",
    "\n",
    "7.Grid_Integration_Level: Kod numeryczny reprezentujący poziom integracji sieci. (1: Fully Integrated, 2: Partially Integrated, 3: Minimal Integration, 4: Isolated Microgrid).\n",
    "\n",
    "8.Initial_Investment_USD: Początkowe koszty inwestycji w USD.\n",
    "\n",
    "9.Funding_Sources: Kod numeryczny reprezentujący źródło finansowania (1: Government, 2: Private, 3: Public-Private Partnership).\n",
    "\n",
    "10.Financial_Incentives_USD: Zachęty finansowe w USD.\n",
    "\n",
    "11.GHG_Emission_Reduction_tCO2e: Redukcja emisji gazów cieplarnianych w tonach ekwiwalentu CO2 (tCO2e).\n",
    "\n",
    "12.Air_Pollution_Reduction_Index: Wskaźnik redukcji zanieczyszczenia powietrza.\n",
    "\n",
    "13.Jobs_Created: Liczba utworzonych miejsc pracy."
   ]
  },
  {
   "cell_type": "markdown",
   "id": "34911c87",
   "metadata": {},
   "source": [
    "## Podstawowe statystyki dla poszczególnych kolumn"
   ]
  },
  {
   "cell_type": "markdown",
   "id": "b9548adf",
   "metadata": {},
   "source": [
    "#### Jobs_Created"
   ]
  },
  {
   "cell_type": "code",
   "execution_count": 6,
   "id": "a70b66f9",
   "metadata": {},
   "outputs": [
    {
     "data": {
      "text/plain": [
       "2502.6686"
      ]
     },
     "execution_count": 6,
     "metadata": {},
     "output_type": "execute_result"
    }
   ],
   "source": [
    "df.Jobs_Created.mean()"
   ]
  },
  {
   "cell_type": "code",
   "execution_count": 7,
   "id": "d063056e",
   "metadata": {},
   "outputs": [
    {
     "data": {
      "text/plain": [
       "2496.0"
      ]
     },
     "execution_count": 7,
     "metadata": {},
     "output_type": "execute_result"
    }
   ],
   "source": [
    "df.Jobs_Created.median()"
   ]
  },
  {
   "cell_type": "code",
   "execution_count": 8,
   "id": "e6e33f25",
   "metadata": {},
   "outputs": [
    {
     "data": {
      "text/plain": [
       "1451.2126607725331"
      ]
     },
     "execution_count": 8,
     "metadata": {},
     "output_type": "execute_result"
    }
   ],
   "source": [
    "df.Jobs_Created.std()"
   ]
  },
  {
   "cell_type": "code",
   "execution_count": 9,
   "id": "6d9ff30c",
   "metadata": {},
   "outputs": [
    {
     "data": {
      "text/plain": [
       "4999"
      ]
     },
     "execution_count": 9,
     "metadata": {},
     "output_type": "execute_result"
    }
   ],
   "source": [
    "df.Jobs_Created.max()"
   ]
  },
  {
   "cell_type": "code",
   "execution_count": 10,
   "id": "455e6312",
   "metadata": {},
   "outputs": [
    {
     "data": {
      "text/plain": [
       "10"
      ]
     },
     "execution_count": 10,
     "metadata": {},
     "output_type": "execute_result"
    }
   ],
   "source": [
    "df.Jobs_Created.min()"
   ]
  },
  {
   "cell_type": "code",
   "execution_count": 11,
   "id": "66495b75",
   "metadata": {},
   "outputs": [
    {
     "data": {
      "text/plain": [
       "2537.0"
      ]
     },
     "execution_count": 11,
     "metadata": {},
     "output_type": "execute_result"
    }
   ],
   "source": [
    "iqr = df.Jobs_Created.quantile(0.75) - df.Jobs_Created.quantile(0.25)\n",
    "iqr"
   ]
  },
  {
   "cell_type": "markdown",
   "id": "0f91909d",
   "metadata": {},
   "source": [
    "#### Installed_Capacity_MW  "
   ]
  },
  {
   "cell_type": "code",
   "execution_count": 12,
   "id": "32f53a9f",
   "metadata": {},
   "outputs": [
    {
     "data": {
      "text/plain": [
       "495.85574741145024"
      ]
     },
     "execution_count": 12,
     "metadata": {},
     "output_type": "execute_result"
    }
   ],
   "source": [
    "df.Installed_Capacity_MW.mean()"
   ]
  },
  {
   "cell_type": "code",
   "execution_count": 13,
   "id": "d98d75c7",
   "metadata": {},
   "outputs": [
    {
     "data": {
      "text/plain": [
       "492.90755485"
      ]
     },
     "execution_count": 13,
     "metadata": {},
     "output_type": "execute_result"
    }
   ],
   "source": [
    "df.Installed_Capacity_MW.median()"
   ]
  },
  {
   "cell_type": "code",
   "execution_count": 14,
   "id": "1fc4cfe3",
   "metadata": {},
   "outputs": [
    {
     "data": {
      "text/plain": [
       "288.2128722799017"
      ]
     },
     "execution_count": 14,
     "metadata": {},
     "output_type": "execute_result"
    }
   ],
   "source": [
    "df.Installed_Capacity_MW.std()"
   ]
  },
  {
   "cell_type": "markdown",
   "id": "67e99fb0",
   "metadata": {},
   "source": [
    "#### Energy_Production_MWh"
   ]
  },
  {
   "cell_type": "code",
   "execution_count": 15,
   "id": "827f1436",
   "metadata": {},
   "outputs": [
    {
     "data": {
      "text/plain": [
       "252350.9556206152"
      ]
     },
     "execution_count": 15,
     "metadata": {},
     "output_type": "execute_result"
    }
   ],
   "source": [
    "df.Energy_Production_MWh.mean()"
   ]
  },
  {
   "cell_type": "code",
   "execution_count": 16,
   "id": "c180a9fd",
   "metadata": {},
   "outputs": [
    {
     "data": {
      "text/plain": [
       "253216.87125"
      ]
     },
     "execution_count": 16,
     "metadata": {},
     "output_type": "execute_result"
    }
   ],
   "source": [
    "df.Energy_Production_MWh.median()"
   ]
  },
  {
   "cell_type": "code",
   "execution_count": 17,
   "id": "149e3985",
   "metadata": {},
   "outputs": [
    {
     "data": {
      "text/plain": [
       "144062.91542498217"
      ]
     },
     "execution_count": 17,
     "metadata": {},
     "output_type": "execute_result"
    }
   ],
   "source": [
    "df.Energy_Production_MWh.std()"
   ]
  },
  {
   "cell_type": "markdown",
   "id": "5d667e7d",
   "metadata": {},
   "source": [
    "#### Air_Pollution_Reduction_Index"
   ]
  },
  {
   "cell_type": "code",
   "execution_count": 18,
   "id": "541990b3",
   "metadata": {},
   "outputs": [
    {
     "data": {
      "text/plain": [
       "50.724178632687526"
      ]
     },
     "execution_count": 18,
     "metadata": {},
     "output_type": "execute_result"
    }
   ],
   "source": [
    "df.Air_Pollution_Reduction_Index.mean()"
   ]
  },
  {
   "cell_type": "code",
   "execution_count": 19,
   "id": "ae459de8",
   "metadata": {},
   "outputs": [
    {
     "data": {
      "text/plain": [
       "50.250206925"
      ]
     },
     "execution_count": 19,
     "metadata": {},
     "output_type": "execute_result"
    }
   ],
   "source": [
    "df.Air_Pollution_Reduction_Index.median()"
   ]
  },
  {
   "cell_type": "code",
   "execution_count": 20,
   "id": "83d61889",
   "metadata": {},
   "outputs": [
    {
     "data": {
      "text/plain": [
       "28.556577814014993"
      ]
     },
     "execution_count": 20,
     "metadata": {},
     "output_type": "execute_result"
    }
   ],
   "source": [
    "df.Air_Pollution_Reduction_Index.std()"
   ]
  },
  {
   "cell_type": "code",
   "execution_count": 21,
   "id": "be9bf77a",
   "metadata": {},
   "outputs": [
    {
     "data": {
      "text/plain": [
       "1.009711988"
      ]
     },
     "execution_count": 21,
     "metadata": {},
     "output_type": "execute_result"
    }
   ],
   "source": [
    "df.Air_Pollution_Reduction_Index.min()"
   ]
  },
  {
   "cell_type": "code",
   "execution_count": 22,
   "id": "42461e9d",
   "metadata": {},
   "outputs": [
    {
     "data": {
      "text/plain": [
       "99.98049427"
      ]
     },
     "execution_count": 22,
     "metadata": {},
     "output_type": "execute_result"
    }
   ],
   "source": [
    "df.Air_Pollution_Reduction_Index.max()"
   ]
  },
  {
   "cell_type": "markdown",
   "id": "1fabc6df",
   "metadata": {},
   "source": [
    "#### Energy_Consumption_MWh "
   ]
  },
  {
   "cell_type": "code",
   "execution_count": 23,
   "id": "004d2d0e",
   "metadata": {},
   "outputs": [
    {
     "data": {
      "text/plain": [
       "449922.6678"
      ]
     },
     "execution_count": 23,
     "metadata": {},
     "output_type": "execute_result"
    }
   ],
   "source": [
    "df.Energy_Consumption_MWh.max()"
   ]
  },
  {
   "cell_type": "code",
   "execution_count": 24,
   "id": "40ebb193",
   "metadata": {},
   "outputs": [
    {
     "data": {
      "text/plain": [
       "584.0480055"
      ]
     },
     "execution_count": 24,
     "metadata": {},
     "output_type": "execute_result"
    }
   ],
   "source": [
    "df.Energy_Consumption_MWh.min()"
   ]
  },
  {
   "cell_type": "code",
   "execution_count": 25,
   "id": "36614da2",
   "metadata": {},
   "outputs": [
    {
     "data": {
      "text/plain": [
       "225981.8549656442"
      ]
     },
     "execution_count": 25,
     "metadata": {},
     "output_type": "execute_result"
    }
   ],
   "source": [
    "df.Energy_Consumption_MWh.mean()"
   ]
  },
  {
   "cell_type": "code",
   "execution_count": 26,
   "id": "797b84af",
   "metadata": {},
   "outputs": [
    {
     "data": {
      "text/plain": [
       "225226.37435"
      ]
     },
     "execution_count": 26,
     "metadata": {},
     "output_type": "execute_result"
    }
   ],
   "source": [
    "df.Energy_Consumption_MWh.median()"
   ]
  },
  {
   "cell_type": "code",
   "execution_count": 27,
   "id": "581b5f08",
   "metadata": {},
   "outputs": [
    {
     "data": {
      "text/plain": [
       "129223.67799749615"
      ]
     },
     "execution_count": 27,
     "metadata": {},
     "output_type": "execute_result"
    }
   ],
   "source": [
    "df.Energy_Consumption_MWh.std()"
   ]
  },
  {
   "cell_type": "markdown",
   "id": "dec5c605",
   "metadata": {},
   "source": [
    "#### Energy_Storage_Capacity_MWh"
   ]
  },
  {
   "cell_type": "code",
   "execution_count": 28,
   "id": "0af46600",
   "metadata": {},
   "outputs": [
    {
     "data": {
      "text/plain": [
       "9999.145037"
      ]
     },
     "execution_count": 28,
     "metadata": {},
     "output_type": "execute_result"
    }
   ],
   "source": [
    "df.Energy_Storage_Capacity_MWh.max()"
   ]
  },
  {
   "cell_type": "code",
   "execution_count": 29,
   "id": "8b9151f5",
   "metadata": {},
   "outputs": [
    {
     "data": {
      "text/plain": [
       "2.200207638"
      ]
     },
     "execution_count": 29,
     "metadata": {},
     "output_type": "execute_result"
    }
   ],
   "source": [
    "df.Energy_Storage_Capacity_MWh.min()"
   ]
  },
  {
   "cell_type": "code",
   "execution_count": 30,
   "id": "a4fdf480",
   "metadata": {},
   "outputs": [
    {
     "data": {
      "text/plain": [
       "5030.196471716361"
      ]
     },
     "execution_count": 30,
     "metadata": {},
     "output_type": "execute_result"
    }
   ],
   "source": [
    "df.Energy_Storage_Capacity_MWh.mean()"
   ]
  },
  {
   "cell_type": "code",
   "execution_count": 31,
   "id": "7fd09546",
   "metadata": {},
   "outputs": [
    {
     "data": {
      "text/plain": [
       "5054.036248"
      ]
     },
     "execution_count": 31,
     "metadata": {},
     "output_type": "execute_result"
    }
   ],
   "source": [
    "df.Energy_Storage_Capacity_MWh.median()"
   ]
  },
  {
   "cell_type": "code",
   "execution_count": 32,
   "id": "d65223fd",
   "metadata": {},
   "outputs": [
    {
     "data": {
      "text/plain": [
       "2894.096326234336"
      ]
     },
     "execution_count": 32,
     "metadata": {},
     "output_type": "execute_result"
    }
   ],
   "source": [
    "df.Energy_Storage_Capacity_MWh.std()"
   ]
  },
  {
   "cell_type": "markdown",
   "id": "5298ff99",
   "metadata": {},
   "source": [
    "#### Storage_Efficiency_Percentage"
   ]
  },
  {
   "cell_type": "code",
   "execution_count": 33,
   "id": "923c2fc7",
   "metadata": {},
   "outputs": [
    {
     "data": {
      "text/plain": [
       "99.99495491"
      ]
     },
     "execution_count": 33,
     "metadata": {},
     "output_type": "execute_result"
    }
   ],
   "source": [
    "df.Storage_Efficiency_Percentage.max()"
   ]
  },
  {
   "cell_type": "code",
   "execution_count": 34,
   "id": "7be608d0",
   "metadata": {},
   "outputs": [
    {
     "data": {
      "text/plain": [
       "50.0034939"
      ]
     },
     "execution_count": 34,
     "metadata": {},
     "output_type": "execute_result"
    }
   ],
   "source": [
    "df.Storage_Efficiency_Percentage.min()"
   ]
  },
  {
   "cell_type": "code",
   "execution_count": 35,
   "id": "cfb2c353",
   "metadata": {},
   "outputs": [
    {
     "data": {
      "text/plain": [
       "75.279701875"
      ]
     },
     "execution_count": 35,
     "metadata": {},
     "output_type": "execute_result"
    }
   ],
   "source": [
    "df.Storage_Efficiency_Percentage.median()"
   ]
  },
  {
   "cell_type": "code",
   "execution_count": 36,
   "id": "0477c07a",
   "metadata": {},
   "outputs": [
    {
     "data": {
      "text/plain": [
       "75.21933384305667"
      ]
     },
     "execution_count": 36,
     "metadata": {},
     "output_type": "execute_result"
    }
   ],
   "source": [
    "df.Storage_Efficiency_Percentage.mean()"
   ]
  },
  {
   "cell_type": "code",
   "execution_count": 37,
   "id": "b85fe156",
   "metadata": {},
   "outputs": [
    {
     "data": {
      "text/plain": [
       "14.485289400671434"
      ]
     },
     "execution_count": 37,
     "metadata": {},
     "output_type": "execute_result"
    }
   ],
   "source": [
    "df.Storage_Efficiency_Percentage.std()"
   ]
  },
  {
   "cell_type": "markdown",
   "id": "6fe66e1d",
   "metadata": {},
   "source": [
    "#### Initial_Investment_USD"
   ]
  },
  {
   "cell_type": "code",
   "execution_count": 38,
   "id": "5a5be3c8",
   "metadata": {},
   "outputs": [
    {
     "data": {
      "text/plain": [
       "1008107.103"
      ]
     },
     "execution_count": 38,
     "metadata": {},
     "output_type": "execute_result"
    }
   ],
   "source": [
    "df.Initial_Investment_USD.min()"
   ]
  },
  {
   "cell_type": "code",
   "execution_count": 39,
   "id": "8e421ecf",
   "metadata": {},
   "outputs": [
    {
     "data": {
      "text/plain": [
       "499940711.6"
      ]
     },
     "execution_count": 39,
     "metadata": {},
     "output_type": "execute_result"
    }
   ],
   "source": [
    "df.Initial_Investment_USD.max()"
   ]
  },
  {
   "cell_type": "code",
   "execution_count": 40,
   "id": "71915d8f",
   "metadata": {},
   "outputs": [
    {
     "data": {
      "text/plain": [
       "251484914.80783105"
      ]
     },
     "execution_count": 40,
     "metadata": {},
     "output_type": "execute_result"
    }
   ],
   "source": [
    "df.Initial_Investment_USD.mean()"
   ]
  },
  {
   "cell_type": "code",
   "execution_count": 41,
   "id": "667fd084",
   "metadata": {},
   "outputs": [
    {
     "data": {
      "text/plain": [
       "253990954.45"
      ]
     },
     "execution_count": 41,
     "metadata": {},
     "output_type": "execute_result"
    }
   ],
   "source": [
    "df.Initial_Investment_USD.median()"
   ]
  },
  {
   "cell_type": "code",
   "execution_count": 42,
   "id": "8f675821",
   "metadata": {},
   "outputs": [
    {
     "data": {
      "text/plain": [
       "143284272.04939106"
      ]
     },
     "execution_count": 42,
     "metadata": {},
     "output_type": "execute_result"
    }
   ],
   "source": [
    "df.Initial_Investment_USD.std()"
   ]
  },
  {
   "cell_type": "markdown",
   "id": "2f99b662",
   "metadata": {},
   "source": [
    "#### Financial_Incentives_USD"
   ]
  },
  {
   "cell_type": "code",
   "execution_count": 43,
   "id": "d8858909",
   "metadata": {},
   "outputs": [
    {
     "data": {
      "text/plain": [
       "10029766.255606068"
      ]
     },
     "execution_count": 43,
     "metadata": {},
     "output_type": "execute_result"
    }
   ],
   "source": [
    "df.Financial_Incentives_USD.mean()"
   ]
  },
  {
   "cell_type": "code",
   "execution_count": 44,
   "id": "78d6419c",
   "metadata": {},
   "outputs": [
    {
     "data": {
      "text/plain": [
       "10024143.535"
      ]
     },
     "execution_count": 44,
     "metadata": {},
     "output_type": "execute_result"
    }
   ],
   "source": [
    "df.Financial_Incentives_USD.median()"
   ]
  },
  {
   "cell_type": "code",
   "execution_count": 45,
   "id": "80cb2c0c",
   "metadata": {},
   "outputs": [
    {
     "data": {
      "text/plain": [
       "5787302.57988043"
      ]
     },
     "execution_count": 45,
     "metadata": {},
     "output_type": "execute_result"
    }
   ],
   "source": [
    "df.Financial_Incentives_USD.std()"
   ]
  },
  {
   "cell_type": "code",
   "execution_count": 46,
   "id": "f89e5912",
   "metadata": {},
   "outputs": [
    {
     "data": {
      "text/plain": [
       "19998553.03"
      ]
     },
     "execution_count": 46,
     "metadata": {},
     "output_type": "execute_result"
    }
   ],
   "source": [
    "df.Financial_Incentives_USD.max()"
   ]
  },
  {
   "cell_type": "code",
   "execution_count": 47,
   "id": "e8410d7c",
   "metadata": {},
   "outputs": [
    {
     "data": {
      "text/plain": [
       "51558.41567"
      ]
     },
     "execution_count": 47,
     "metadata": {},
     "output_type": "execute_result"
    }
   ],
   "source": [
    "df.Financial_Incentives_USD.min()"
   ]
  },
  {
   "cell_type": "markdown",
   "id": "2f43b59c",
   "metadata": {},
   "source": [
    "#### GHG_Emission_Reduction_tCO2e"
   ]
  },
  {
   "cell_type": "code",
   "execution_count": 48,
   "id": "c34fcca4",
   "metadata": {},
   "outputs": [
    {
     "data": {
      "text/plain": [
       "25234.72215797842"
      ]
     },
     "execution_count": 48,
     "metadata": {},
     "output_type": "execute_result"
    }
   ],
   "source": [
    "df.GHG_Emission_Reduction_tCO2e.mean()"
   ]
  },
  {
   "cell_type": "code",
   "execution_count": 49,
   "id": "0ffd98a8",
   "metadata": {},
   "outputs": [
    {
     "data": {
      "text/plain": [
       "25424.477"
      ]
     },
     "execution_count": 49,
     "metadata": {},
     "output_type": "execute_result"
    }
   ],
   "source": [
    "df.GHG_Emission_Reduction_tCO2e.median()"
   ]
  },
  {
   "cell_type": "code",
   "execution_count": 50,
   "id": "adda965c",
   "metadata": {},
   "outputs": [
    {
     "data": {
      "text/plain": [
       "14378.915277085807"
      ]
     },
     "execution_count": 50,
     "metadata": {},
     "output_type": "execute_result"
    }
   ],
   "source": [
    "df.GHG_Emission_Reduction_tCO2e.std()"
   ]
  },
  {
   "cell_type": "code",
   "execution_count": 51,
   "id": "40f74063",
   "metadata": {},
   "outputs": [
    {
     "data": {
      "text/plain": [
       "100.97446"
      ]
     },
     "execution_count": 51,
     "metadata": {},
     "output_type": "execute_result"
    }
   ],
   "source": [
    "df.GHG_Emission_Reduction_tCO2e.min()"
   ]
  },
  {
   "cell_type": "code",
   "execution_count": 52,
   "id": "69498225",
   "metadata": {},
   "outputs": [
    {
     "data": {
      "text/plain": [
       "49997.57853"
      ]
     },
     "execution_count": 52,
     "metadata": {},
     "output_type": "execute_result"
    }
   ],
   "source": [
    "df.GHG_Emission_Reduction_tCO2e.max()"
   ]
  },
  {
   "cell_type": "markdown",
   "id": "79d2f5ed",
   "metadata": {},
   "source": [
    "## Analiza zależności "
   ]
  },
  {
   "cell_type": "markdown",
   "id": "dc84b2e8",
   "metadata": {},
   "source": [
    "#### Miejsca pracy, a typ energii"
   ]
  },
  {
   "cell_type": "code",
   "execution_count": 53,
   "id": "4ed228e0",
   "metadata": {},
   "outputs": [
    {
     "data": {
      "text/plain": [
       "Type_of_Renewable_Energy\n",
       "1    2490.255417\n",
       "2    2511.432334\n",
       "3    2510.081595\n",
       "4    2488.813302\n",
       "5    2512.946977\n",
       "6    2520.220339\n",
       "7    2484.237458\n",
       "Name: Jobs_Created, dtype: float64"
      ]
     },
     "execution_count": 53,
     "metadata": {},
     "output_type": "execute_result"
    }
   ],
   "source": [
    "df[['Jobs_Created','Type_of_Renewable_Energy']].groupby('Type_of_Renewable_Energy').Jobs_Created.agg(\"mean\")"
   ]
  },
  {
   "cell_type": "code",
   "execution_count": 54,
   "id": "f0fef993",
   "metadata": {},
   "outputs": [
    {
     "data": {
      "text/plain": [
       "Type_of_Renewable_Energy\n",
       "1    2486.0\n",
       "2    2496.0\n",
       "3    2513.0\n",
       "4    2502.0\n",
       "5    2511.0\n",
       "6    2502.5\n",
       "7    2479.0\n",
       "Name: Jobs_Created, dtype: float64"
      ]
     },
     "execution_count": 54,
     "metadata": {},
     "output_type": "execute_result"
    }
   ],
   "source": [
    "df[['Jobs_Created','Type_of_Renewable_Energy']].groupby('Type_of_Renewable_Energy').Jobs_Created.agg(\"median\")"
   ]
  },
  {
   "cell_type": "markdown",
   "id": "6e8afec6",
   "metadata": {},
   "source": [
    "##### Wniosek \n",
    "Łatwo zauważyć, że nie ma określonego typu energii odnawialnej, który miałby większy wpływ na zwiększenie stanowisk pracy niż reszta. Jednak można oczywiście wyróżnić typ 3 tzn. energię wodną jako ten który średnio rzecz biorąc był przyczyną tworzenia największej liczby miejsc pracy. "
   ]
  },
  {
   "cell_type": "markdown",
   "id": "d7a9a0d2",
   "metadata": {},
   "source": [
    "#### Miejsca pracy, a poziom zintegrowania wraz z źródłem dofinansowania"
   ]
  },
  {
   "cell_type": "code",
   "execution_count": 55,
   "id": "2796aace",
   "metadata": {},
   "outputs": [
    {
     "data": {
      "text/plain": [
       "Grid_Integration_Level  Funding_Sources\n",
       "1                       1                  2432.798762\n",
       "                        2                  2568.602859\n",
       "                        3                  2491.225420\n",
       "2                       1                  2479.705979\n",
       "                        2                  2568.691990\n",
       "                        3                  2464.082859\n",
       "3                       1                  2462.878788\n",
       "                        2                  2531.854133\n",
       "                        3                  2540.083462\n",
       "4                       1                  2493.774038\n",
       "                        2                  2455.912736\n",
       "                        3                  2543.652449\n",
       "Name: Jobs_Created, dtype: float64"
      ]
     },
     "execution_count": 55,
     "metadata": {},
     "output_type": "execute_result"
    }
   ],
   "source": [
    "df[['Jobs_Created','Grid_Integration_Level','Funding_Sources']].groupby(['Grid_Integration_Level','Funding_Sources']).Jobs_Created.agg(\"mean\")"
   ]
  },
  {
   "cell_type": "markdown",
   "id": "b595d243",
   "metadata": {},
   "source": [
    "##### Wniosek \n",
    "Również i w tym przypadku nie ma dominującego zestawu cech, który miałby większy wpływ na stanowsika pracy. "
   ]
  },
  {
   "cell_type": "markdown",
   "id": "e36c6285",
   "metadata": {},
   "source": [
    "#### Typ energii odnawialnej, a koszty inwestycji "
   ]
  },
  {
   "cell_type": "code",
   "execution_count": 56,
   "id": "bebef388",
   "metadata": {},
   "outputs": [
    {
     "data": {
      "text/plain": [
       "Type_of_Renewable_Energy\n",
       "1    2.619421e+08\n",
       "2    2.596190e+08\n",
       "3    2.535476e+08\n",
       "4    2.463991e+08\n",
       "5    2.557141e+08\n",
       "6    2.505779e+08\n",
       "7    2.477504e+08\n",
       "Name: Initial_Investment_USD, dtype: float64"
      ]
     },
     "execution_count": 56,
     "metadata": {},
     "output_type": "execute_result"
    }
   ],
   "source": [
    "df[['Type_of_Renewable_Energy','Initial_Investment_USD']].groupby('Type_of_Renewable_Energy').Initial_Investment_USD.median()"
   ]
  },
  {
   "cell_type": "markdown",
   "id": "7f467765",
   "metadata": {},
   "source": [
    "##### Wniosek \n",
    "Możemy zaobserwować, że koszty inwestycji w energię słoneczną są z reguły największe, lub też wymagają największego doinwestowania, przynajmniej z reguły. "
   ]
  },
  {
   "cell_type": "markdown",
   "id": "d89bd628",
   "metadata": {},
   "source": [
    "#### Ilość inwestycji w zależności od odnawialnego źródła energii "
   ]
  },
  {
   "cell_type": "code",
   "execution_count": 66,
   "id": "c56a5733",
   "metadata": {},
   "outputs": [
    {
     "data": {
      "text/plain": [
       "Type_of_Renewable_Energy\n",
       "1    2169\n",
       "2    2202\n",
       "3    2157\n",
       "4    2105\n",
       "5    2150\n",
       "6    2124\n",
       "7    2093\n",
       "Name: Funding_Sources, dtype: int64"
      ]
     },
     "execution_count": 66,
     "metadata": {},
     "output_type": "execute_result"
    }
   ],
   "source": [
    "plotdata=df[['Type_of_Renewable_Energy','Funding_Sources']].groupby('Type_of_Renewable_Energy').Funding_Sources.count()\n",
    "plotdata"
   ]
  },
  {
   "cell_type": "markdown",
   "id": "b73271e0",
   "metadata": {},
   "source": [
    "#### Wniosek \n",
    "Możemy zaobserwować, że na tle różnych źródeł energii odnawialnej wyróżnia się typ 2, tzn. energia wiatrowa."
   ]
  },
  {
   "cell_type": "markdown",
   "id": "060ce3e4",
   "metadata": {},
   "source": [
    "#### Konsumpcja, a poziom zintegrowania"
   ]
  },
  {
   "cell_type": "code",
   "execution_count": 67,
   "id": "7771ca7b",
   "metadata": {},
   "outputs": [
    {
     "data": {
      "text/plain": [
       "Grid_Integration_Level\n",
       "1    225796.173604\n",
       "2    227411.903584\n",
       "3    225340.651442\n",
       "4    225419.669138\n",
       "Name: Energy_Consumption_MWh, dtype: float64"
      ]
     },
     "execution_count": 67,
     "metadata": {},
     "output_type": "execute_result"
    }
   ],
   "source": [
    "df[['Grid_Integration_Level','Energy_Consumption_MWh']].groupby('Grid_Integration_Level').Energy_Consumption_MWh.mean()"
   ]
  },
  {
   "cell_type": "code",
   "execution_count": 133,
   "id": "1f2c237e",
   "metadata": {},
   "outputs": [
    {
     "data": {
      "text/plain": [
       "Grid_Integration_Level\n",
       "1    225192.13090\n",
       "2    230651.04550\n",
       "3    224153.38780\n",
       "4    222378.40315\n",
       "Name: Energy_Consumption_MWh, dtype: float64"
      ]
     },
     "execution_count": 133,
     "metadata": {},
     "output_type": "execute_result"
    }
   ],
   "source": [
    "df[['Grid_Integration_Level','Energy_Consumption_MWh']].groupby('Grid_Integration_Level').Energy_Consumption_MWh.median()"
   ]
  },
  {
   "cell_type": "markdown",
   "id": "0fe371fb",
   "metadata": {},
   "source": [
    "#### Wniosek \n",
    "Tutaj nie możemy zaobserwować, czy w zależności od poziomu zintegrowania, konsumpacja enrgii w mwh się zmienia."
   ]
  },
  {
   "cell_type": "markdown",
   "id": "80f61487",
   "metadata": {},
   "source": [
    "#### Poziom zintegrowania, a zachęty finansowe"
   ]
  },
  {
   "cell_type": "code",
   "execution_count": 124,
   "id": "b89354a6",
   "metadata": {},
   "outputs": [
    {
     "data": {
      "text/plain": [
       "Grid_Integration_Level\n",
       "1    9.942654e+06\n",
       "2    1.006841e+07\n",
       "3    1.020267e+07\n",
       "4    9.854075e+06\n",
       "Name: Financial_Incentives_USD, dtype: float64"
      ]
     },
     "execution_count": 124,
     "metadata": {},
     "output_type": "execute_result"
    }
   ],
   "source": [
    "df[['Financial_Incentives_USD','Grid_Integration_Level']].groupby('Grid_Integration_Level').Financial_Incentives_USD.median()"
   ]
  },
  {
   "cell_type": "markdown",
   "id": "22f627f9",
   "metadata": {},
   "source": [
    "#### Wniosek\n",
    "Możemy zaobserwować, że odcięte i niezintegrowane sieci są też sieciami, które miały najmniejsze zachęty finansowe."
   ]
  },
  {
   "cell_type": "markdown",
   "id": "b7776924",
   "metadata": {},
   "source": [
    "#### Źródło dofinansowania, a wskaźnik redukcji zanieczyszczenia "
   ]
  },
  {
   "cell_type": "code",
   "execution_count": 125,
   "id": "59105402",
   "metadata": {},
   "outputs": [
    {
     "data": {
      "text/plain": [
       "Funding_Sources\n",
       "1    50.109072\n",
       "2    50.197518\n",
       "3    50.435042\n",
       "Name: Air_Pollution_Reduction_Index, dtype: float64"
      ]
     },
     "execution_count": 125,
     "metadata": {},
     "output_type": "execute_result"
    }
   ],
   "source": [
    "df[['Funding_Sources','Air_Pollution_Reduction_Index']].groupby('Funding_Sources').Air_Pollution_Reduction_Index.median()"
   ]
  },
  {
   "cell_type": "markdown",
   "id": "b473d485",
   "metadata": {},
   "source": [
    "#### Wniosek \n",
    "Możemy zauważyć, że źródło dofinansowania nie ma większego wpływu na redukcję zanieczyszceń. "
   ]
  },
  {
   "cell_type": "markdown",
   "id": "0926eed5",
   "metadata": {},
   "source": [
    "## Wykresy rozkładu "
   ]
  },
  {
   "cell_type": "markdown",
   "id": "c8b371f7",
   "metadata": {},
   "source": [
    "#### Ilość miejsc pracy w zależności od typu odnawialnego źródła energii"
   ]
  },
  {
   "cell_type": "code",
   "execution_count": 97,
   "id": "e8ffbd54",
   "metadata": {},
   "outputs": [
    {
     "data": {
      "text/plain": [
       "<Axes: xlabel='Type_of_Renewable_Energy', ylabel='Jobs_Created'>"
      ]
     },
     "execution_count": 97,
     "metadata": {},
     "output_type": "execute_result"
    },
    {
     "data": {
      "image/png": "[encoded data removed]",
      "text/plain": [
       "<Figure size 640x480 with 1 Axes>"
      ]
     },
     "metadata": {},
     "output_type": "display_data"
    }
   ],
   "source": [
    "df1=df[['Jobs_Created','Type_of_Renewable_Energy']]\n",
    "df1.head()\n",
    "sns.boxplot(data=df1,x='Type_of_Renewable_Energy',y='Jobs_Created')"
   ]
  },
  {
   "cell_type": "markdown",
   "id": "14e661af",
   "metadata": {},
   "source": [
    "#### "
   ]
  },
  {
   "cell_type": "code",
   "execution_count": 76,
   "id": "e7cd1129",
   "metadata": {},
   "outputs": [
    {
     "data": {
      "text/plain": [
       "<Axes: xlabel='Funding_Sources', ylabel='Initial_Investment_USD'>"
      ]
     },
     "execution_count": 76,
     "metadata": {},
     "output_type": "execute_result"
    },
    {
     "data": {
      "image/png": "[encoded data removed]",
      "text/plain": [
       "<Figure size 640x480 with 1 Axes>"
      ]
     },
     "metadata": {},
     "output_type": "display_data"
    }
   ],
   "source": [
    "df2=df[['Initial_Investment_USD','Funding_Sources']]\n",
    "df2.head()\n",
    "sns.violinplot(data=df2,x='Funding_Sources',y='Initial_Investment_USD')"
   ]
  },
  {
   "cell_type": "markdown",
   "id": "5bbd186b",
   "metadata": {},
   "source": [
    "## Wykresy zależności "
   ]
  },
  {
   "cell_type": "markdown",
   "id": "b73a2670",
   "metadata": {},
   "source": [
    "#### Zachęty, a redukcja zanieczyszczeń "
   ]
  },
  {
   "cell_type": "code",
   "execution_count": 78,
   "id": "15565636",
   "metadata": {},
   "outputs": [
    {
     "data": {
      "text/plain": [
       "<Axes: xlabel='Financial_Incentives_USD', ylabel='Air_Pollution_Reduction_Index'>"
      ]
     },
     "execution_count": 78,
     "metadata": {},
     "output_type": "execute_result"
    },
    {
     "data": {
      "image/png": "[encoded data removed]",
      "text/plain": [
       "<Figure size 640x480 with 1 Axes>"
      ]
     },
     "metadata": {},
     "output_type": "display_data"
    }
   ],
   "source": [
    "df[['Air_Pollution_Reduction_Index','Financial_Incentives_USD']].plot(y = \"Air_Pollution_Reduction_Index\",x = \"Financial_Incentives_USD\", kind = \"scatter\", alpha = 0.5,logy=True,s=0.1)"
   ]
  },
  {
   "cell_type": "markdown",
   "id": "d2544e73",
   "metadata": {},
   "source": [
    "#### Wniosek\n",
    "Z reguły redukcja zanieczyszczeń niezależnie od zachęty finansowej jest wysoka. "
   ]
  },
  {
   "cell_type": "markdown",
   "id": "f51d5407",
   "metadata": {},
   "source": [
    "#### Wielkość inwestycji w zalężności od typu źródła energii "
   ]
  },
  {
   "cell_type": "code",
   "execution_count": 63,
   "id": "6b525704",
   "metadata": {},
   "outputs": [
    {
     "data": {
      "text/plain": [
       "<Axes: xlabel='Type_of_Renewable_Energy'>"
      ]
     },
     "execution_count": 63,
     "metadata": {},
     "output_type": "execute_result"
    },
    {
     "data": {
      "image/png": "[encoded data removed]",
      "text/plain": [
       "<Figure size 640x480 with 1 Axes>"
      ]
     },
     "metadata": {},
     "output_type": "display_data"
    }
   ],
   "source": [
    "df[['Type_of_Renewable_Energy','Initial_Investment_USD']].groupby('Type_of_Renewable_Energy').Initial_Investment_USD.median().plot(kind=\"bar\",logy=True)"
   ]
  },
  {
   "cell_type": "markdown",
   "id": "66763273",
   "metadata": {},
   "source": [
    "#### Wniosek \n",
    "Jak łatwo można zaobserwować, największe poczatkowe koszty inwestycji są ponoszone z reguły dla energii słonecznej."
   ]
  },
  {
   "cell_type": "markdown",
   "id": "a8ee8c5d",
   "metadata": {},
   "source": [
    "#### Ilość inwestycji w zależności od odnawialnego źródła energii "
   ]
  },
  {
   "cell_type": "code",
   "execution_count": 65,
   "id": "8199dbe8",
   "metadata": {},
   "outputs": [
    {
     "data": {
      "text/plain": [
       "<Axes: xlabel='Type_of_Renewable_Energy'>"
      ]
     },
     "execution_count": 65,
     "metadata": {},
     "output_type": "execute_result"
    },
    {
     "data": {
      "image/png": "[encoded data removed]",
      "text/plain": [
       "<Figure size 640x480 with 1 Axes>"
      ]
     },
     "metadata": {},
     "output_type": "display_data"
    }
   ],
   "source": [
    "plotdata.plot(kind=\"bar\",logy=True)"
   ]
  },
  {
   "cell_type": "markdown",
   "id": "1b8c346d",
   "metadata": {},
   "source": [
    "#### Wniosek \n",
    "Możemy zaobserwować, że na tle różnych źródeł energii odnawialnej wyróżnia się typ 2, tzn. energia wiatrowa, właśnie ten typ energii jest najczęściej wybieranym, na podstawie rozważanego zbioru danych."
   ]
  }
 ],
 "metadata": {
  "kernelspec": {
   "display_name": "Python 3 (ipykernel)",
   "language": "python",
   "name": "python3"
  },
  "language_info": {
   "codemirror_mode": {
    "name": "ipython",
    "version": 3
   },
   "file_extension": ".py",
   "mimetype": "text/x-python",
   "name": "python",
   "nbconvert_exporter": "python",
   "pygments_lexer": "ipython3",
   "version": "3.11.5"
  }
 },
 "nbformat": 4,
 "nbformat_minor": 5
}
