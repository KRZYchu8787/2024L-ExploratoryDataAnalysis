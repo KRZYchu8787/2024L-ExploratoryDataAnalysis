{
 "cells": [
  {
   "cell_type": "code",
   "execution_count": 58,
   "id": "5e101260",
   "metadata": {
    "scrolled": true
   },
   "outputs": [
    {
     "name": "stdout",
     "output_type": "stream",
     "text": [
      "       Brand                                Product_Description  Screen_Size  \\\n",
      "0     Lenovo  Lenovo ThinkPad 14” HD Laptop PC Computer Core...         14.0   \n",
      "1       Dell  Dell Latitude 15.6\" Laptop Intel Core i5 64GB ...         15.6   \n",
      "2         HP  NEW HP 15 Laptop. 15.6\" 1080p, i5-1135G7, 8GB ...         15.6   \n",
      "3     Lenovo  2024 Lenovo Ideapad Laptop 15 FHD Touch Intel ...         15.6   \n",
      "4     Lenovo  2024 Lenovo Ideapad Laptop 15.6\" FHD Touch Int...         15.6   \n",
      "5  Microsoft  Microsoft Surface Laptop 5 13.5\" - 512GB SSD, ...         13.5   \n",
      "6     Lenovo  Lenovo V15 G4 IRU 15.6\" Full HD Laptop, i7-135...         15.6   \n",
      "7       Dell  Dell Latitude 15.6\" Laptop Intel Core i5 64GB ...         15.6   \n",
      "8  Microsoft  Microsoft Surface Laptop 2 -8th Gen - i5 - 1.7...         13.5   \n",
      "9     Lenovo  Lenovo ThinkPad T470 14' LCD i5 Laptop PC 16GB...         14.0   \n",
      "\n",
      "  RAM                Processor                     GPU  \\\n",
      "0  16   Intel Core i5 7th Gen.   Intel HD Graphics 520   \n",
      "1  64   Intel Core i5 8th Gen.  Intel UHD Graphics 620   \n",
      "2   8  Intel Core i5 11th Gen.  Intel Iris Xe Graphics   \n",
      "3  Up  Intel Core i5 11th Gen.  Intel Iris Xe Graphics   \n",
      "4  16  Intel Core i5 11th Gen.  Intel Iris Xe Graphics   \n",
      "5   8  Intel Core i5 12th Gen.  Intel Iris Xe Graphics   \n",
      "6  16  Intel Core i7 13th Gen.  Intel Iris Xe Graphics   \n",
      "7  64   Intel Core i5 7th Gen.   Intel HD Graphics 620   \n",
      "8   8   Intel Core i5 8th Gen.   Intel HD Graphics 620   \n",
      "9  16   Intel Core i5 6th Gen.       Intel HD Graphics   \n",
      "\n",
      "                       GPU_Type   Resolution                Condition   Price  \n",
      "0  Integrated/On-Board Graphics          NaN  Very Good - Refurbished  189.99  \n",
      "1  Integrated/On-Board Graphics  1920 x 1080  Very Good - Refurbished  349.99  \n",
      "2  Integrated/On-Board Graphics  1920 x 1080                      New  369.95  \n",
      "3  Integrated/On-Board Graphics  1920 x 1080                      New  459.00  \n",
      "4  Integrated/On-Board Graphics  1920 x 1080                      New  499.00  \n",
      "5  Integrated/On-Board Graphics  2256 x 1504                 Open box  349.00  \n",
      "6  Integrated/On-Board Graphics  1920 x 1080                 Open box  529.98  \n",
      "7  Integrated/On-Board Graphics  1920 x 1080  Very Good - Refurbished  319.99  \n",
      "8  Integrated/On-Board Graphics  2256 x 1504  Very Good - Refurbished  245.00  \n",
      "9  Integrated/On-Board Graphics          NaN  Excellent - Refurbished  179.99  \n"
     ]
    }
   ],
   "source": [
    "import numpy as np\n",
    "import pandas as pd\n",
    "import plotly.express as px\n",
    "\n",
    "dane = pd.read_csv('cleaned.csv')\n",
    "print(dane.head(10))"
   ]
  },
  {
   "cell_type": "code",
   "execution_count": 21,
   "id": "a00de79d",
   "metadata": {
    "scrolled": true
   },
   "outputs": [
    {
     "data": {
      "text/plain": [
       "((2952, 10),\n",
       " Brand                   object\n",
       " Product_Description     object\n",
       " Screen_Size            float64\n",
       " RAM                     object\n",
       " Processor               object\n",
       " GPU                     object\n",
       " GPU_Type                object\n",
       " Resolution              object\n",
       " Condition               object\n",
       " Price                  float64\n",
       " dtype: object)"
      ]
     },
     "execution_count": 21,
     "metadata": {},
     "output_type": "execute_result"
    }
   ],
   "source": [
    "dane.shape, dane.dtypes"
   ]
  },
  {
   "cell_type": "markdown",
   "id": "4078493f",
   "metadata": {},
   "source": [
    "# Opis zbioru danych \n",
    "Nasz dataset ma 2952 wiersze i 10 kolumn. Jest to zbiór dotyczący laptopów - ich cen, specyfikacji sprzętowej oraz opisu. Każda z kolumn opisuje zmienną w sposób następujący:\n",
    "1. **Brand** - zmienna kategoryczna opisująca markę laptopa\n",
    "2. **Product_Description** - zmienna kategoryczna; są to opisy poszczególnych modeli\n",
    "3. **Screen_Size** - zmienna ilościowa; rozmiar ekranu\n",
    "4. **RAM** - zmienna kategoryczna; pamięć RAM laptopa\n",
    "5. **Processor** - zmienna kategoryczna; model procesora\n",
    "6. **GPU** - zmienna kategoryczna; model karty graficznej\n",
    "7. **GPU_Type** - zmienna kategoryczna; typ karty graficznej\n",
    "8. **Resolution** - zmienna kategoryczna; rozdzielczość ekranu \n",
    "9. **Condition** - zmienna kategoryczna; kondycja sprzętu\n",
    "10. **Price** - zmienna ilościowa; cena laptopa"
   ]
  },
  {
   "cell_type": "markdown",
   "id": "f4638f2a",
   "metadata": {},
   "source": [
    "# Analiza zmiennych w zbiorze danych"
   ]
  },
  {
   "cell_type": "code",
   "execution_count": 19,
   "id": "c2c9aaf9",
   "metadata": {},
   "outputs": [
    {
     "data": {
      "text/html": [
       "<div>\n",
       "<style scoped>\n",
       "    .dataframe tbody tr th:only-of-type {\n",
       "        vertical-align: middle;\n",
       "    }\n",
       "\n",
       "    .dataframe tbody tr th {\n",
       "        vertical-align: top;\n",
       "    }\n",
       "\n",
       "    .dataframe thead th {\n",
       "        text-align: right;\n",
       "    }\n",
       "</style>\n",
       "<table border=\"1\" class=\"dataframe\">\n",
       "  <thead>\n",
       "    <tr style=\"text-align: right;\">\n",
       "      <th></th>\n",
       "      <th>Screen_Size</th>\n",
       "      <th>Price</th>\n",
       "    </tr>\n",
       "  </thead>\n",
       "  <tbody>\n",
       "    <tr>\n",
       "      <th>count</th>\n",
       "      <td>2952.000000</td>\n",
       "      <td>2952.000000</td>\n",
       "    </tr>\n",
       "    <tr>\n",
       "      <th>mean</th>\n",
       "      <td>14.550237</td>\n",
       "      <td>517.552805</td>\n",
       "    </tr>\n",
       "    <tr>\n",
       "      <th>std</th>\n",
       "      <td>1.175322</td>\n",
       "      <td>235.592872</td>\n",
       "    </tr>\n",
       "    <tr>\n",
       "      <th>min</th>\n",
       "      <td>10.000000</td>\n",
       "      <td>0.000000</td>\n",
       "    </tr>\n",
       "    <tr>\n",
       "      <th>25%</th>\n",
       "      <td>14.000000</td>\n",
       "      <td>325.990000</td>\n",
       "    </tr>\n",
       "    <tr>\n",
       "      <th>50%</th>\n",
       "      <td>14.000000</td>\n",
       "      <td>489.990000</td>\n",
       "    </tr>\n",
       "    <tr>\n",
       "      <th>75%</th>\n",
       "      <td>15.600000</td>\n",
       "      <td>699.000000</td>\n",
       "    </tr>\n",
       "    <tr>\n",
       "      <th>max</th>\n",
       "      <td>18.000000</td>\n",
       "      <td>999.990000</td>\n",
       "    </tr>\n",
       "  </tbody>\n",
       "</table>\n",
       "</div>"
      ],
      "text/plain": [
       "       Screen_Size        Price\n",
       "count  2952.000000  2952.000000\n",
       "mean     14.550237   517.552805\n",
       "std       1.175322   235.592872\n",
       "min      10.000000     0.000000\n",
       "25%      14.000000   325.990000\n",
       "50%      14.000000   489.990000\n",
       "75%      15.600000   699.000000\n",
       "max      18.000000   999.990000"
      ]
     },
     "execution_count": 19,
     "metadata": {},
     "output_type": "execute_result"
    }
   ],
   "source": [
    "dane.describe()"
   ]
  },
  {
   "cell_type": "markdown",
   "id": "d191f191",
   "metadata": {},
   "source": [
    "Z powyższych statystyk możemy już wyciągnąć parę ciekawych wniosków. Po pierwsze, jest stosunkowo niewielki rozstrzał rozmiaru ekranu, bo nieco ponad 1 cal w jedną i drugą stronę. Zatem możemy powiedzieć, że jest już na rynku pewien \"standardowy\" rozmiar ekranu, a znacznie większe ekrany w laptopach są rzadkością. Interesujące może być również to, że istnieje laptop, którego cena wynosi... okrągłe zero. Zastanawia również fakt, że tak często pojawiają się ceny z 9 na końcu, co jest popularnym, acz przestarzałym w mojej opinii chwytem marketingowym. "
   ]
  },
  {
   "cell_type": "markdown",
   "id": "04613cfb",
   "metadata": {},
   "source": [
    "## Teraz zbadamy rozkład ilości poszczególnych marek w zbiorze"
   ]
  },
  {
   "cell_type": "code",
   "execution_count": 68,
   "id": "34d0b1f8",
   "metadata": {},
   "outputs": [
    {
     "data": {
      "text/html": [
       "<div>\n",
       "<style scoped>\n",
       "    .dataframe tbody tr th:only-of-type {\n",
       "        vertical-align: middle;\n",
       "    }\n",
       "\n",
       "    .dataframe tbody tr th {\n",
       "        vertical-align: top;\n",
       "    }\n",
       "\n",
       "    .dataframe thead th {\n",
       "        text-align: right;\n",
       "    }\n",
       "</style>\n",
       "<table border=\"1\" class=\"dataframe\">\n",
       "  <thead>\n",
       "    <tr style=\"text-align: right;\">\n",
       "      <th></th>\n",
       "      <th>Product_Description</th>\n",
       "    </tr>\n",
       "    <tr>\n",
       "      <th>Brand</th>\n",
       "      <th></th>\n",
       "    </tr>\n",
       "  </thead>\n",
       "  <tbody>\n",
       "    <tr>\n",
       "      <th>AVITA</th>\n",
       "      <td>1</td>\n",
       "    </tr>\n",
       "    <tr>\n",
       "      <th>Acer</th>\n",
       "      <td>100</td>\n",
       "    </tr>\n",
       "    <tr>\n",
       "      <th>Apple</th>\n",
       "      <td>5</td>\n",
       "    </tr>\n",
       "    <tr>\n",
       "      <th>Asus</th>\n",
       "      <td>134</td>\n",
       "    </tr>\n",
       "    <tr>\n",
       "      <th>ByteSpeed</th>\n",
       "      <td>1</td>\n",
       "    </tr>\n",
       "    <tr>\n",
       "      <th>Chuwi</th>\n",
       "      <td>2</td>\n",
       "    </tr>\n",
       "    <tr>\n",
       "      <th>Dell</th>\n",
       "      <td>1109</td>\n",
       "    </tr>\n",
       "    <tr>\n",
       "      <th>Dell Inc.</th>\n",
       "      <td>2</td>\n",
       "    </tr>\n",
       "    <tr>\n",
       "      <th>Eurocom</th>\n",
       "      <td>1</td>\n",
       "    </tr>\n",
       "    <tr>\n",
       "      <th>Gateway</th>\n",
       "      <td>13</td>\n",
       "    </tr>\n",
       "  </tbody>\n",
       "</table>\n",
       "</div>"
      ],
      "text/plain": [
       "           Product_Description\n",
       "Brand                         \n",
       "AVITA                        1\n",
       "Acer                       100\n",
       "Apple                        5\n",
       "Asus                       134\n",
       "ByteSpeed                    1\n",
       "Chuwi                        2\n",
       "Dell                      1109\n",
       "Dell Inc.                    2\n",
       "Eurocom                      1\n",
       "Gateway                     13"
      ]
     },
     "execution_count": 68,
     "metadata": {},
     "output_type": "execute_result"
    }
   ],
   "source": [
    "dane.Brand.unique().shape\n",
    "brands = dane.groupby(\"Brand\").Product_Description.agg(\"count\")\n",
    "brands = pd.DataFrame(brands)\n",
    "brands.Product_Description.sum() == 2952\n",
    "brands.head(10)\n"
   ]
  },
  {
   "cell_type": "markdown",
   "id": "99b5c441",
   "metadata": {},
   "source": [
    "Zatem widzimy, że algorytm dobrze policzył i suma wszystkich wartości w wierszach wynosi 2952, czyli tyle ile jest w wierszy w datasecie. Zobaczmy rozkład dla zmiennej Brand."
   ]
  },
  {
   "cell_type": "code",
   "execution_count": 67,
   "id": "031bee40",
   "metadata": {},
   "outputs": [
    {
     "data": {
      "application/vnd.plotly.v1+json": {
       "config": {
        "plotlyServerURL": "https://plot.ly"
       },
       "data": [
        {
         "alignmentgroup": "True",
         "hovertemplate": "Count=%{x}<br>Brand=%{y}<extra></extra>",
         "legendgroup": "",
         "marker": {
          "color": "#636efa",
          "pattern": {
           "shape": ""
          }
         },
         "name": "",
         "offsetgroup": "",
         "orientation": "h",
         "showlegend": false,
         "textposition": "auto",
         "type": "bar",
         "x": [
          1,
          100,
          5,
          134,
          1,
          2,
          1109,
          2,
          1,
          13,
          1,
          3,
          1,
          578,
          1,
          2,
          38,
          627,
          62,
          197,
          5,
          4,
          1,
          61,
          3
         ],
         "xaxis": "x",
         "y": [
          "AVITA",
          "Acer",
          "Apple",
          "Asus",
          "ByteSpeed",
          "Chuwi",
          "Dell",
          "Dell Inc.",
          "Eurocom",
          "Gateway",
          "Getac",
          "Gigabyte",
          "Google",
          "HP",
          "Huawei",
          "Intel",
          "LG",
          "Lenovo",
          "MSI",
          "Microsoft",
          "Panasonic",
          "Razer",
          "Ruggon",
          "Samsung",
          "Sony"
         ],
         "yaxis": "y"
        }
       ],
       "layout": {
        "barmode": "relative",
        "legend": {
         "tracegroupgap": 0
        },
        "template": {
         "data": {
          "bar": [
           {
            "error_x": {
             "color": "#2a3f5f"
            },
            "error_y": {
             "color": "#2a3f5f"
            },
            "marker": {
             "line": {
              "color": "#E5ECF6",
              "width": 0.5
             },
             "pattern": {
              "fillmode": "overlay",
              "size": 10,
              "solidity": 0.2
             }
            },
            "type": "bar"
           }
          ],
          "barpolar": [
           {
            "marker": {
             "line": {
              "color": "#E5ECF6",
              "width": 0.5
             },
             "pattern": {
              "fillmode": "overlay",
              "size": 10,
              "solidity": 0.2
             }
            },
            "type": "barpolar"
           }
          ],
          "carpet": [
           {
            "aaxis": {
             "endlinecolor": "#2a3f5f",
             "gridcolor": "white",
             "linecolor": "white",
             "minorgridcolor": "white",
             "startlinecolor": "#2a3f5f"
            },
            "baxis": {
             "endlinecolor": "#2a3f5f",
             "gridcolor": "white",
             "linecolor": "white",
             "minorgridcolor": "white",
             "startlinecolor": "#2a3f5f"
            },
            "type": "carpet"
           }
          ],
          "choropleth": [
           {
            "colorbar": {
             "outlinewidth": 0,
             "ticks": ""
            },
            "type": "choropleth"
           }
          ],
          "contour": [
           {
            "colorbar": {
             "outlinewidth": 0,
             "ticks": ""
            },
            "colorscale": [
             [
              0,
              "#0d0887"
             ],
             [
              0.1111111111111111,
              "#46039f"
             ],
             [
              0.2222222222222222,
              "#7201a8"
             ],
             [
              0.3333333333333333,
              "#9c179e"
             ],
             [
              0.4444444444444444,
              "#bd3786"
             ],
             [
              0.5555555555555556,
              "#d8576b"
             ],
             [
              0.6666666666666666,
              "#ed7953"
             ],
             [
              0.7777777777777778,
              "#fb9f3a"
             ],
             [
              0.8888888888888888,
              "#fdca26"
             ],
             [
              1,
              "#f0f921"
             ]
            ],
            "type": "contour"
           }
          ],
          "contourcarpet": [
           {
            "colorbar": {
             "outlinewidth": 0,
             "ticks": ""
            },
            "type": "contourcarpet"
           }
          ],
          "heatmap": [
           {
            "colorbar": {
             "outlinewidth": 0,
             "ticks": ""
            },
            "colorscale": [
             [
              0,
              "#0d0887"
             ],
             [
              0.1111111111111111,
              "#46039f"
             ],
             [
              0.2222222222222222,
              "#7201a8"
             ],
             [
              0.3333333333333333,
              "#9c179e"
             ],
             [
              0.4444444444444444,
              "#bd3786"
             ],
             [
              0.5555555555555556,
              "#d8576b"
             ],
             [
              0.6666666666666666,
              "#ed7953"
             ],
             [
              0.7777777777777778,
              "#fb9f3a"
             ],
             [
              0.8888888888888888,
              "#fdca26"
             ],
             [
              1,
              "#f0f921"
             ]
            ],
            "type": "heatmap"
           }
          ],
          "heatmapgl": [
           {
            "colorbar": {
             "outlinewidth": 0,
             "ticks": ""
            },
            "colorscale": [
             [
              0,
              "#0d0887"
             ],
             [
              0.1111111111111111,
              "#46039f"
             ],
             [
              0.2222222222222222,
              "#7201a8"
             ],
             [
              0.3333333333333333,
              "#9c179e"
             ],
             [
              0.4444444444444444,
              "#bd3786"
             ],
             [
              0.5555555555555556,
              "#d8576b"
             ],
             [
              0.6666666666666666,
              "#ed7953"
             ],
             [
              0.7777777777777778,
              "#fb9f3a"
             ],
             [
              0.8888888888888888,
              "#fdca26"
             ],
             [
              1,
              "#f0f921"
             ]
            ],
            "type": "heatmapgl"
           }
          ],
          "histogram": [
           {
            "marker": {
             "pattern": {
              "fillmode": "overlay",
              "size": 10,
              "solidity": 0.2
             }
            },
            "type": "histogram"
           }
          ],
          "histogram2d": [
           {
            "colorbar": {
             "outlinewidth": 0,
             "ticks": ""
            },
            "colorscale": [
             [
              0,
              "#0d0887"
             ],
             [
              0.1111111111111111,
              "#46039f"
             ],
             [
              0.2222222222222222,
              "#7201a8"
             ],
             [
              0.3333333333333333,
              "#9c179e"
             ],
             [
              0.4444444444444444,
              "#bd3786"
             ],
             [
              0.5555555555555556,
              "#d8576b"
             ],
             [
              0.6666666666666666,
              "#ed7953"
             ],
             [
              0.7777777777777778,
              "#fb9f3a"
             ],
             [
              0.8888888888888888,
              "#fdca26"
             ],
             [
              1,
              "#f0f921"
             ]
            ],
            "type": "histogram2d"
           }
          ],
          "histogram2dcontour": [
           {
            "colorbar": {
             "outlinewidth": 0,
             "ticks": ""
            },
            "colorscale": [
             [
              0,
              "#0d0887"
             ],
             [
              0.1111111111111111,
              "#46039f"
             ],
             [
              0.2222222222222222,
              "#7201a8"
             ],
             [
              0.3333333333333333,
              "#9c179e"
             ],
             [
              0.4444444444444444,
              "#bd3786"
             ],
             [
              0.5555555555555556,
              "#d8576b"
             ],
             [
              0.6666666666666666,
              "#ed7953"
             ],
             [
              0.7777777777777778,
              "#fb9f3a"
             ],
             [
              0.8888888888888888,
              "#fdca26"
             ],
             [
              1,
              "#f0f921"
             ]
            ],
            "type": "histogram2dcontour"
           }
          ],
          "mesh3d": [
           {
            "colorbar": {
             "outlinewidth": 0,
             "ticks": ""
            },
            "type": "mesh3d"
           }
          ],
          "parcoords": [
           {
            "line": {
             "colorbar": {
              "outlinewidth": 0,
              "ticks": ""
             }
            },
            "type": "parcoords"
           }
          ],
          "pie": [
           {
            "automargin": true,
            "type": "pie"
           }
          ],
          "scatter": [
           {
            "marker": {
             "colorbar": {
              "outlinewidth": 0,
              "ticks": ""
             }
            },
            "type": "scatter"
           }
          ],
          "scatter3d": [
           {
            "line": {
             "colorbar": {
              "outlinewidth": 0,
              "ticks": ""
             }
            },
            "marker": {
             "colorbar": {
              "outlinewidth": 0,
              "ticks": ""
             }
            },
            "type": "scatter3d"
           }
          ],
          "scattercarpet": [
           {
            "marker": {
             "colorbar": {
              "outlinewidth": 0,
              "ticks": ""
             }
            },
            "type": "scattercarpet"
           }
          ],
          "scattergeo": [
           {
            "marker": {
             "colorbar": {
              "outlinewidth": 0,
              "ticks": ""
             }
            },
            "type": "scattergeo"
           }
          ],
          "scattergl": [
           {
            "marker": {
             "colorbar": {
              "outlinewidth": 0,
              "ticks": ""
             }
            },
            "type": "scattergl"
           }
          ],
          "scattermapbox": [
           {
            "marker": {
             "colorbar": {
              "outlinewidth": 0,
              "ticks": ""
             }
            },
            "type": "scattermapbox"
           }
          ],
          "scatterpolar": [
           {
            "marker": {
             "colorbar": {
              "outlinewidth": 0,
              "ticks": ""
             }
            },
            "type": "scatterpolar"
           }
          ],
          "scatterpolargl": [
           {
            "marker": {
             "colorbar": {
              "outlinewidth": 0,
              "ticks": ""
             }
            },
            "type": "scatterpolargl"
           }
          ],
          "scatterternary": [
           {
            "marker": {
             "colorbar": {
              "outlinewidth": 0,
              "ticks": ""
             }
            },
            "type": "scatterternary"
           }
          ],
          "surface": [
           {
            "colorbar": {
             "outlinewidth": 0,
             "ticks": ""
            },
            "colorscale": [
             [
              0,
              "#0d0887"
             ],
             [
              0.1111111111111111,
              "#46039f"
             ],
             [
              0.2222222222222222,
              "#7201a8"
             ],
             [
              0.3333333333333333,
              "#9c179e"
             ],
             [
              0.4444444444444444,
              "#bd3786"
             ],
             [
              0.5555555555555556,
              "#d8576b"
             ],
             [
              0.6666666666666666,
              "#ed7953"
             ],
             [
              0.7777777777777778,
              "#fb9f3a"
             ],
             [
              0.8888888888888888,
              "#fdca26"
             ],
             [
              1,
              "#f0f921"
             ]
            ],
            "type": "surface"
           }
          ],
          "table": [
           {
            "cells": {
             "fill": {
              "color": "#EBF0F8"
             },
             "line": {
              "color": "white"
             }
            },
            "header": {
             "fill": {
              "color": "#C8D4E3"
             },
             "line": {
              "color": "white"
             }
            },
            "type": "table"
           }
          ]
         },
         "layout": {
          "annotationdefaults": {
           "arrowcolor": "#2a3f5f",
           "arrowhead": 0,
           "arrowwidth": 1
          },
          "autotypenumbers": "strict",
          "coloraxis": {
           "colorbar": {
            "outlinewidth": 0,
            "ticks": ""
           }
          },
          "colorscale": {
           "diverging": [
            [
             0,
             "#8e0152"
            ],
            [
             0.1,
             "#c51b7d"
            ],
            [
             0.2,
             "#de77ae"
            ],
            [
             0.3,
             "#f1b6da"
            ],
            [
             0.4,
             "#fde0ef"
            ],
            [
             0.5,
             "#f7f7f7"
            ],
            [
             0.6,
             "#e6f5d0"
            ],
            [
             0.7,
             "#b8e186"
            ],
            [
             0.8,
             "#7fbc41"
            ],
            [
             0.9,
             "#4d9221"
            ],
            [
             1,
             "#276419"
            ]
           ],
           "sequential": [
            [
             0,
             "#0d0887"
            ],
            [
             0.1111111111111111,
             "#46039f"
            ],
            [
             0.2222222222222222,
             "#7201a8"
            ],
            [
             0.3333333333333333,
             "#9c179e"
            ],
            [
             0.4444444444444444,
             "#bd3786"
            ],
            [
             0.5555555555555556,
             "#d8576b"
            ],
            [
             0.6666666666666666,
             "#ed7953"
            ],
            [
             0.7777777777777778,
             "#fb9f3a"
            ],
            [
             0.8888888888888888,
             "#fdca26"
            ],
            [
             1,
             "#f0f921"
            ]
           ],
           "sequentialminus": [
            [
             0,
             "#0d0887"
            ],
            [
             0.1111111111111111,
             "#46039f"
            ],
            [
             0.2222222222222222,
             "#7201a8"
            ],
            [
             0.3333333333333333,
             "#9c179e"
            ],
            [
             0.4444444444444444,
             "#bd3786"
            ],
            [
             0.5555555555555556,
             "#d8576b"
            ],
            [
             0.6666666666666666,
             "#ed7953"
            ],
            [
             0.7777777777777778,
             "#fb9f3a"
            ],
            [
             0.8888888888888888,
             "#fdca26"
            ],
            [
             1,
             "#f0f921"
            ]
           ]
          },
          "colorway": [
           "#636efa",
           "#EF553B",
           "#00cc96",
           "#ab63fa",
           "#FFA15A",
           "#19d3f3",
           "#FF6692",
           "#B6E880",
           "#FF97FF",
           "#FECB52"
          ],
          "font": {
           "color": "#2a3f5f"
          },
          "geo": {
           "bgcolor": "white",
           "lakecolor": "white",
           "landcolor": "#E5ECF6",
           "showlakes": true,
           "showland": true,
           "subunitcolor": "white"
          },
          "hoverlabel": {
           "align": "left"
          },
          "hovermode": "closest",
          "mapbox": {
           "style": "light"
          },
          "paper_bgcolor": "white",
          "plot_bgcolor": "#E5ECF6",
          "polar": {
           "angularaxis": {
            "gridcolor": "white",
            "linecolor": "white",
            "ticks": ""
           },
           "bgcolor": "#E5ECF6",
           "radialaxis": {
            "gridcolor": "white",
            "linecolor": "white",
            "ticks": ""
           }
          },
          "scene": {
           "xaxis": {
            "backgroundcolor": "#E5ECF6",
            "gridcolor": "white",
            "gridwidth": 2,
            "linecolor": "white",
            "showbackground": true,
            "ticks": "",
            "zerolinecolor": "white"
           },
           "yaxis": {
            "backgroundcolor": "#E5ECF6",
            "gridcolor": "white",
            "gridwidth": 2,
            "linecolor": "white",
            "showbackground": true,
            "ticks": "",
            "zerolinecolor": "white"
           },
           "zaxis": {
            "backgroundcolor": "#E5ECF6",
            "gridcolor": "white",
            "gridwidth": 2,
            "linecolor": "white",
            "showbackground": true,
            "ticks": "",
            "zerolinecolor": "white"
           }
          },
          "shapedefaults": {
           "line": {
            "color": "#2a3f5f"
           }
          },
          "ternary": {
           "aaxis": {
            "gridcolor": "white",
            "linecolor": "white",
            "ticks": ""
           },
           "baxis": {
            "gridcolor": "white",
            "linecolor": "white",
            "ticks": ""
           },
           "bgcolor": "#E5ECF6",
           "caxis": {
            "gridcolor": "white",
            "linecolor": "white",
            "ticks": ""
           }
          },
          "title": {
           "x": 0.05
          },
          "xaxis": {
           "automargin": true,
           "gridcolor": "white",
           "linecolor": "white",
           "ticks": "",
           "title": {
            "standoff": 15
           },
           "zerolinecolor": "white",
           "zerolinewidth": 2
          },
          "yaxis": {
           "automargin": true,
           "gridcolor": "white",
           "linecolor": "white",
           "ticks": "",
           "title": {
            "standoff": 15
           },
           "zerolinecolor": "white",
           "zerolinewidth": 2
          }
         }
        },
        "title": {
         "text": "Distribution of brands"
        },
        "xaxis": {
         "anchor": "y",
         "domain": [
          0,
          1
         ],
         "title": {
          "text": "Count"
         }
        },
        "yaxis": {
         "anchor": "x",
         "domain": [
          0,
          1
         ],
         "title": {
          "text": "Brand"
         }
        }
       }
      },
      "text/html": [
       "<div>                            <div id=\"ef401b9e-5423-4843-a32b-78fa48cc6d12\" class=\"plotly-graph-div\" style=\"height:525px; width:100%;\"></div>            <script type=\"text/javascript\">                require([\"plotly\"], function(Plotly) {                    window.PLOTLYENV=window.PLOTLYENV || {};                                    if (document.getElementById(\"ef401b9e-5423-4843-a32b-78fa48cc6d12\")) {                    Plotly.newPlot(                        \"ef401b9e-5423-4843-a32b-78fa48cc6d12\",                        [{\"alignmentgroup\":\"True\",\"hovertemplate\":\"Count=%{x}<br>Brand=%{y}<extra></extra>\",\"legendgroup\":\"\",\"marker\":{\"color\":\"#636efa\",\"pattern\":{\"shape\":\"\"}},\"name\":\"\",\"offsetgroup\":\"\",\"orientation\":\"h\",\"showlegend\":false,\"textposition\":\"auto\",\"x\":[1,100,5,134,1,2,1109,2,1,13,1,3,1,578,1,2,38,627,62,197,5,4,1,61,3],\"xaxis\":\"x\",\"y\":[\"AVITA\",\"Acer\",\"Apple\",\"Asus\",\"ByteSpeed\",\"Chuwi\",\"Dell\",\"Dell Inc.\",\"Eurocom\",\"Gateway\",\"Getac\",\"Gigabyte\",\"Google\",\"HP\",\"Huawei\",\"Intel\",\"LG\",\"Lenovo\",\"MSI\",\"Microsoft\",\"Panasonic\",\"Razer\",\"Ruggon\",\"Samsung\",\"Sony\"],\"yaxis\":\"y\",\"type\":\"bar\"}],                        {\"template\":{\"data\":{\"bar\":[{\"error_x\":{\"color\":\"#2a3f5f\"},\"error_y\":{\"color\":\"#2a3f5f\"},\"marker\":{\"line\":{\"color\":\"#E5ECF6\",\"width\":0.5},\"pattern\":{\"fillmode\":\"overlay\",\"size\":10,\"solidity\":0.2}},\"type\":\"bar\"}],\"barpolar\":[{\"marker\":{\"line\":{\"color\":\"#E5ECF6\",\"width\":0.5},\"pattern\":{\"fillmode\":\"overlay\",\"size\":10,\"solidity\":0.2}},\"type\":\"barpolar\"}],\"carpet\":[{\"aaxis\":{\"endlinecolor\":\"#2a3f5f\",\"gridcolor\":\"white\",\"linecolor\":\"white\",\"minorgridcolor\":\"white\",\"startlinecolor\":\"#2a3f5f\"},\"baxis\":{\"endlinecolor\":\"#2a3f5f\",\"gridcolor\":\"white\",\"linecolor\":\"white\",\"minorgridcolor\":\"white\",\"startlinecolor\":\"#2a3f5f\"},\"type\":\"carpet\"}],\"choropleth\":[{\"colorbar\":{\"outlinewidth\":0,\"ticks\":\"\"},\"type\":\"choropleth\"}],\"contour\":[{\"colorbar\":{\"outlinewidth\":0,\"ticks\":\"\"},\"colorscale\":[[0.0,\"#0d0887\"],[0.1111111111111111,\"#46039f\"],[0.2222222222222222,\"#7201a8\"],[0.3333333333333333,\"#9c179e\"],[0.4444444444444444,\"#bd3786\"],[0.5555555555555556,\"#d8576b\"],[0.6666666666666666,\"#ed7953\"],[0.7777777777777778,\"#fb9f3a\"],[0.8888888888888888,\"#fdca26\"],[1.0,\"#f0f921\"]],\"type\":\"contour\"}],\"contourcarpet\":[{\"colorbar\":{\"outlinewidth\":0,\"ticks\":\"\"},\"type\":\"contourcarpet\"}],\"heatmap\":[{\"colorbar\":{\"outlinewidth\":0,\"ticks\":\"\"},\"colorscale\":[[0.0,\"#0d0887\"],[0.1111111111111111,\"#46039f\"],[0.2222222222222222,\"#7201a8\"],[0.3333333333333333,\"#9c179e\"],[0.4444444444444444,\"#bd3786\"],[0.5555555555555556,\"#d8576b\"],[0.6666666666666666,\"#ed7953\"],[0.7777777777777778,\"#fb9f3a\"],[0.8888888888888888,\"#fdca26\"],[1.0,\"#f0f921\"]],\"type\":\"heatmap\"}],\"heatmapgl\":[{\"colorbar\":{\"outlinewidth\":0,\"ticks\":\"\"},\"colorscale\":[[0.0,\"#0d0887\"],[0.1111111111111111,\"#46039f\"],[0.2222222222222222,\"#7201a8\"],[0.3333333333333333,\"#9c179e\"],[0.4444444444444444,\"#bd3786\"],[0.5555555555555556,\"#d8576b\"],[0.6666666666666666,\"#ed7953\"],[0.7777777777777778,\"#fb9f3a\"],[0.8888888888888888,\"#fdca26\"],[1.0,\"#f0f921\"]],\"type\":\"heatmapgl\"}],\"histogram\":[{\"marker\":{\"pattern\":{\"fillmode\":\"overlay\",\"size\":10,\"solidity\":0.2}},\"type\":\"histogram\"}],\"histogram2d\":[{\"colorbar\":{\"outlinewidth\":0,\"ticks\":\"\"},\"colorscale\":[[0.0,\"#0d0887\"],[0.1111111111111111,\"#46039f\"],[0.2222222222222222,\"#7201a8\"],[0.3333333333333333,\"#9c179e\"],[0.4444444444444444,\"#bd3786\"],[0.5555555555555556,\"#d8576b\"],[0.6666666666666666,\"#ed7953\"],[0.7777777777777778,\"#fb9f3a\"],[0.8888888888888888,\"#fdca26\"],[1.0,\"#f0f921\"]],\"type\":\"histogram2d\"}],\"histogram2dcontour\":[{\"colorbar\":{\"outlinewidth\":0,\"ticks\":\"\"},\"colorscale\":[[0.0,\"#0d0887\"],[0.1111111111111111,\"#46039f\"],[0.2222222222222222,\"#7201a8\"],[0.3333333333333333,\"#9c179e\"],[0.4444444444444444,\"#bd3786\"],[0.5555555555555556,\"#d8576b\"],[0.6666666666666666,\"#ed7953\"],[0.7777777777777778,\"#fb9f3a\"],[0.8888888888888888,\"#fdca26\"],[1.0,\"#f0f921\"]],\"type\":\"histogram2dcontour\"}],\"mesh3d\":[{\"colorbar\":{\"outlinewidth\":0,\"ticks\":\"\"},\"type\":\"mesh3d\"}],\"parcoords\":[{\"line\":{\"colorbar\":{\"outlinewidth\":0,\"ticks\":\"\"}},\"type\":\"parcoords\"}],\"pie\":[{\"automargin\":true,\"type\":\"pie\"}],\"scatter\":[{\"marker\":{\"colorbar\":{\"outlinewidth\":0,\"ticks\":\"\"}},\"type\":\"scatter\"}],\"scatter3d\":[{\"line\":{\"colorbar\":{\"outlinewidth\":0,\"ticks\":\"\"}},\"marker\":{\"colorbar\":{\"outlinewidth\":0,\"ticks\":\"\"}},\"type\":\"scatter3d\"}],\"scattercarpet\":[{\"marker\":{\"colorbar\":{\"outlinewidth\":0,\"ticks\":\"\"}},\"type\":\"scattercarpet\"}],\"scattergeo\":[{\"marker\":{\"colorbar\":{\"outlinewidth\":0,\"ticks\":\"\"}},\"type\":\"scattergeo\"}],\"scattergl\":[{\"marker\":{\"colorbar\":{\"outlinewidth\":0,\"ticks\":\"\"}},\"type\":\"scattergl\"}],\"scattermapbox\":[{\"marker\":{\"colorbar\":{\"outlinewidth\":0,\"ticks\":\"\"}},\"type\":\"scattermapbox\"}],\"scatterpolar\":[{\"marker\":{\"colorbar\":{\"outlinewidth\":0,\"ticks\":\"\"}},\"type\":\"scatterpolar\"}],\"scatterpolargl\":[{\"marker\":{\"colorbar\":{\"outlinewidth\":0,\"ticks\":\"\"}},\"type\":\"scatterpolargl\"}],\"scatterternary\":[{\"marker\":{\"colorbar\":{\"outlinewidth\":0,\"ticks\":\"\"}},\"type\":\"scatterternary\"}],\"surface\":[{\"colorbar\":{\"outlinewidth\":0,\"ticks\":\"\"},\"colorscale\":[[0.0,\"#0d0887\"],[0.1111111111111111,\"#46039f\"],[0.2222222222222222,\"#7201a8\"],[0.3333333333333333,\"#9c179e\"],[0.4444444444444444,\"#bd3786\"],[0.5555555555555556,\"#d8576b\"],[0.6666666666666666,\"#ed7953\"],[0.7777777777777778,\"#fb9f3a\"],[0.8888888888888888,\"#fdca26\"],[1.0,\"#f0f921\"]],\"type\":\"surface\"}],\"table\":[{\"cells\":{\"fill\":{\"color\":\"#EBF0F8\"},\"line\":{\"color\":\"white\"}},\"header\":{\"fill\":{\"color\":\"#C8D4E3\"},\"line\":{\"color\":\"white\"}},\"type\":\"table\"}]},\"layout\":{\"annotationdefaults\":{\"arrowcolor\":\"#2a3f5f\",\"arrowhead\":0,\"arrowwidth\":1},\"autotypenumbers\":\"strict\",\"coloraxis\":{\"colorbar\":{\"outlinewidth\":0,\"ticks\":\"\"}},\"colorscale\":{\"diverging\":[[0,\"#8e0152\"],[0.1,\"#c51b7d\"],[0.2,\"#de77ae\"],[0.3,\"#f1b6da\"],[0.4,\"#fde0ef\"],[0.5,\"#f7f7f7\"],[0.6,\"#e6f5d0\"],[0.7,\"#b8e186\"],[0.8,\"#7fbc41\"],[0.9,\"#4d9221\"],[1,\"#276419\"]],\"sequential\":[[0.0,\"#0d0887\"],[0.1111111111111111,\"#46039f\"],[0.2222222222222222,\"#7201a8\"],[0.3333333333333333,\"#9c179e\"],[0.4444444444444444,\"#bd3786\"],[0.5555555555555556,\"#d8576b\"],[0.6666666666666666,\"#ed7953\"],[0.7777777777777778,\"#fb9f3a\"],[0.8888888888888888,\"#fdca26\"],[1.0,\"#f0f921\"]],\"sequentialminus\":[[0.0,\"#0d0887\"],[0.1111111111111111,\"#46039f\"],[0.2222222222222222,\"#7201a8\"],[0.3333333333333333,\"#9c179e\"],[0.4444444444444444,\"#bd3786\"],[0.5555555555555556,\"#d8576b\"],[0.6666666666666666,\"#ed7953\"],[0.7777777777777778,\"#fb9f3a\"],[0.8888888888888888,\"#fdca26\"],[1.0,\"#f0f921\"]]},\"colorway\":[\"#636efa\",\"#EF553B\",\"#00cc96\",\"#ab63fa\",\"#FFA15A\",\"#19d3f3\",\"#FF6692\",\"#B6E880\",\"#FF97FF\",\"#FECB52\"],\"font\":{\"color\":\"#2a3f5f\"},\"geo\":{\"bgcolor\":\"white\",\"lakecolor\":\"white\",\"landcolor\":\"#E5ECF6\",\"showlakes\":true,\"showland\":true,\"subunitcolor\":\"white\"},\"hoverlabel\":{\"align\":\"left\"},\"hovermode\":\"closest\",\"mapbox\":{\"style\":\"light\"},\"paper_bgcolor\":\"white\",\"plot_bgcolor\":\"#E5ECF6\",\"polar\":{\"angularaxis\":{\"gridcolor\":\"white\",\"linecolor\":\"white\",\"ticks\":\"\"},\"bgcolor\":\"#E5ECF6\",\"radialaxis\":{\"gridcolor\":\"white\",\"linecolor\":\"white\",\"ticks\":\"\"}},\"scene\":{\"xaxis\":{\"backgroundcolor\":\"#E5ECF6\",\"gridcolor\":\"white\",\"gridwidth\":2,\"linecolor\":\"white\",\"showbackground\":true,\"ticks\":\"\",\"zerolinecolor\":\"white\"},\"yaxis\":{\"backgroundcolor\":\"#E5ECF6\",\"gridcolor\":\"white\",\"gridwidth\":2,\"linecolor\":\"white\",\"showbackground\":true,\"ticks\":\"\",\"zerolinecolor\":\"white\"},\"zaxis\":{\"backgroundcolor\":\"#E5ECF6\",\"gridcolor\":\"white\",\"gridwidth\":2,\"linecolor\":\"white\",\"showbackground\":true,\"ticks\":\"\",\"zerolinecolor\":\"white\"}},\"shapedefaults\":{\"line\":{\"color\":\"#2a3f5f\"}},\"ternary\":{\"aaxis\":{\"gridcolor\":\"white\",\"linecolor\":\"white\",\"ticks\":\"\"},\"baxis\":{\"gridcolor\":\"white\",\"linecolor\":\"white\",\"ticks\":\"\"},\"bgcolor\":\"#E5ECF6\",\"caxis\":{\"gridcolor\":\"white\",\"linecolor\":\"white\",\"ticks\":\"\"}},\"title\":{\"x\":0.05},\"xaxis\":{\"automargin\":true,\"gridcolor\":\"white\",\"linecolor\":\"white\",\"ticks\":\"\",\"title\":{\"standoff\":15},\"zerolinecolor\":\"white\",\"zerolinewidth\":2},\"yaxis\":{\"automargin\":true,\"gridcolor\":\"white\",\"linecolor\":\"white\",\"ticks\":\"\",\"title\":{\"standoff\":15},\"zerolinecolor\":\"white\",\"zerolinewidth\":2}}},\"xaxis\":{\"anchor\":\"y\",\"domain\":[0.0,1.0],\"title\":{\"text\":\"Count\"}},\"yaxis\":{\"anchor\":\"x\",\"domain\":[0.0,1.0],\"title\":{\"text\":\"Brand\"}},\"legend\":{\"tracegroupgap\":0},\"title\":{\"text\":\"Distribution of brands\"},\"barmode\":\"relative\"},                        {\"responsive\": true}                    ).then(function(){\n",
       "                            \n",
       "var gd = document.getElementById('ef401b9e-5423-4843-a32b-78fa48cc6d12');\n",
       "var x = new MutationObserver(function (mutations, observer) {{\n",
       "        var display = window.getComputedStyle(gd).display;\n",
       "        if (!display || display === 'none') {{\n",
       "            console.log([gd, 'removed!']);\n",
       "            Plotly.purge(gd);\n",
       "            observer.disconnect();\n",
       "        }}\n",
       "}});\n",
       "\n",
       "// Listen for the removal of the full notebook cells\n",
       "var notebookContainer = gd.closest('#notebook-container');\n",
       "if (notebookContainer) {{\n",
       "    x.observe(notebookContainer, {childList: true});\n",
       "}}\n",
       "\n",
       "// Listen for the clearing of the current output cell\n",
       "var outputEl = gd.closest('.output');\n",
       "if (outputEl) {{\n",
       "    x.observe(outputEl, {childList: true});\n",
       "}}\n",
       "\n",
       "                        })                };                });            </script>        </div>"
      ]
     },
     "metadata": {},
     "output_type": "display_data"
    }
   ],
   "source": [
    "fig = px.bar(brands,\n",
    "            x = \"Product_Description\",\n",
    "            title = \"Distribution of brands\",\n",
    "            labels = {\n",
    "                \"Product_Description\": \"Count\"\n",
    "            })\n",
    "fig.show()"
   ]
  },
  {
   "cell_type": "markdown",
   "id": "e53ec3bf",
   "metadata": {},
   "source": [
    "Widzimy z powyższego wykresu, że laptopy marki Dell dominują ramkę danych. Zaraz za nimi są urządzenia firmy Lenovo i HP. Na szarym końcu są takie marki jak: Apple, Getac, Google, Sony, Ruggon, Panasonic, Huawei, Intel, Gigabyte, Gateway."
   ]
  },
  {
   "cell_type": "markdown",
   "id": "cea7730e",
   "metadata": {},
   "source": [
    "# Analiza zmiennych w zależności od przynależności do grupy"
   ]
  },
  {
   "cell_type": "code",
   "execution_count": 85,
   "id": "77ceebc7",
   "metadata": {},
   "outputs": [
    {
     "data": {
      "text/plain": [
       "Processor                GPU                          \n",
       "Intel Core i7 11th Gen.  NVIDIA GeForce RTX 2060 Max-Q    999.99\n",
       "Intel Core i7 6th Gen.   nvidia geforce gtx 970m          999.99\n",
       "Intel Core i7 11th Gen.  Nvidia GTX 1650 TI 4GB           999.99\n",
       "Intel Core i9 12th Gen.  NVIDIA GeForce RTX 3070          999.99\n",
       "Intel Core i7 13th Gen.  NVIDIA GeForce RTX A1000         999.95\n",
       "Intel Core i7 12th Gen.  NVIDIA GeForce                   999.88\n",
       "Intel Core i7 10th Gen.  NVIDIA Quadro RTX 5000           999.00\n",
       "                         NVIDIA Quadro T2000              999.00\n",
       "Intel Core i7 11th Gen.  NVIDIA® T1200 4GB                989.99\n",
       "                         NVIDIA RTX A4000                 980.00\n",
       "Intel Core i7 12th Gen.  NVIDIA GeForce MX450             975.00\n",
       "Intel Core i7 13th Gen.  nVidia GeForce RTX 4060          974.95\n",
       "Intel Core i9 11th Gen.  NVIDIA GeForce RTX 3050 Ti       960.36\n",
       "Intel Core i7 13th Gen.  Integrated Graphics              955.00\n",
       "Intel Core i7 10th Gen.  Intel Iris Plus                  950.00\n",
       "Name: Price, dtype: float64"
      ]
     },
     "execution_count": 85,
     "metadata": {},
     "output_type": "execute_result"
    }
   ],
   "source": [
    "dane.groupby([\"Processor\", \"GPU\"]).Price.agg(\"mean\").sort_values(ascending = False).head(15)"
   ]
  },
  {
   "cell_type": "markdown",
   "id": "c145bb53",
   "metadata": {},
   "source": [
    "Zauważmy, że najdroższe laptopy mają najlepsze i najnowsze procesory Intel Core i7 lub i9 najnowszej generacji (6 w zwyż). Ponadto dobry procesor musi iść w parze z bardzo dobrą kartą graficzną, choć nie musi to być reguła, ponieważ nvidia geforce gtx 970m nie jest uważana za dobrą kartę graficzną. Zasadniczo jednak dobry procesor idzie w parze z dobrą kartą graficzną."
   ]
  },
  {
   "cell_type": "markdown",
   "id": "1ea6c4e2",
   "metadata": {},
   "source": [
    "## Teza: większość laptopów ma zintegrowaną kartę graficzną\n",
    "Sprawdzimy prawdziwość tej tezy"
   ]
  },
  {
   "cell_type": "code",
   "execution_count": 80,
   "id": "d9dd2064",
   "metadata": {
    "scrolled": true
   },
   "outputs": [
    {
     "data": {
      "text/plain": [
       "array(['Integrated/On-Board Graphics', 'Dedicated Graphics', nan,\n",
       "       'Intel UHD Graphics', 'Intergrated Intel UHD Graphics',\n",
       "       'Intel Iris Xe Graphics', 'Iris Xe Graphics',\n",
       "       'Intel® UHD Graphics', 'Integrated'], dtype=object)"
      ]
     },
     "execution_count": 80,
     "metadata": {},
     "output_type": "execute_result"
    }
   ],
   "source": [
    "dane.GPU_Type.unique()"
   ]
  },
  {
   "cell_type": "markdown",
   "id": "ab851192",
   "metadata": {},
   "source": [
    "Widzimy, że w kolumnie z typem karty graficznej występują 3 rodzaje zintegrowanej karty, więc na końcu zsumujemy je"
   ]
  },
  {
   "cell_type": "code",
   "execution_count": 83,
   "id": "457c34c6",
   "metadata": {},
   "outputs": [
    {
     "data": {
      "text/plain": [
       "GPU_Type\n",
       "Dedicated Graphics                 445\n",
       "Integrated                           2\n",
       "Integrated/On-Board Graphics      2265\n",
       "Intel Iris Xe Graphics               1\n",
       "Intel UHD Graphics                   1\n",
       "Intel® UHD Graphics                  1\n",
       "Intergrated Intel UHD Graphics       1\n",
       "Iris Xe Graphics                     2\n",
       "Name: Price, dtype: int64"
      ]
     },
     "execution_count": 83,
     "metadata": {},
     "output_type": "execute_result"
    }
   ],
   "source": [
    "dane.groupby(\"GPU_Type\").Price.agg(\"count\").head(10)"
   ]
  },
  {
   "cell_type": "markdown",
   "id": "674874b4",
   "metadata": {},
   "source": [
    "Stąd, po prostym rachunku dodawnia liczb całkowitych w pamięci, dostajemy, że:\n",
    "1. **Zintegrowane karty**: 2268\n",
    "2. **Dedykowane**: 684\n",
    "3. **Łącznie**: 2952 (czyli tyle ile wierszy, więc się zgadza)\n",
    "werdykt: teza prawdziwa"
   ]
  },
  {
   "cell_type": "code",
   "execution_count": 90,
   "id": "f0765248",
   "metadata": {},
   "outputs": [
    {
     "data": {
      "text/plain": [
       "RAM\n",
       "16GB,    899.990000\n",
       "256      769.890000\n",
       "512      650.000000\n",
       "64gb     649.990000\n",
       "upto     649.000000\n",
       "8GB,     632.623333\n",
       "8GB      594.481429\n",
       "16       574.896851\n",
       "32       569.662967\n",
       "up       565.666667\n",
       "Name: Price, dtype: float64"
      ]
     },
     "execution_count": 90,
     "metadata": {},
     "output_type": "execute_result"
    }
   ],
   "source": [
    "dane.groupby(\"RAM\").Price.agg(\"mean\").sort_values(ascending = False).head(10)"
   ]
  },
  {
   "cell_type": "markdown",
   "id": "c090e6e3",
   "metadata": {},
   "source": [
    "Powszechnie uważa się, że wraz z większą ilością RAM-u rośnie cena laptopa. Czy tak jest w rzeczywistości? \n",
    "Z powyższej analizy niewiele wynika, bo mamy dwie wartości dla 16gb ramu, co może fałszować ostateczny werdykt. Usunę GB na końcu liczby.\n"
   ]
  },
  {
   "cell_type": "code",
   "execution_count": 92,
   "id": "f33d4feb",
   "metadata": {},
   "outputs": [
    {
     "data": {
      "text/plain": [
       "RAM\n",
       "256     769.890000\n",
       "512     650.000000\n",
       "upto    649.000000\n",
       "16      573.841726\n",
       "32      569.043723\n",
       "up      565.666667\n",
       "24      544.495000\n",
       "64      526.463542\n",
       "20      478.325000\n",
       "40      464.995000\n",
       "Name: Price, dtype: float64"
      ]
     },
     "execution_count": 92,
     "metadata": {},
     "output_type": "execute_result"
    }
   ],
   "source": [
    "dane[\"RAM\"] = dane[\"RAM\"].str.replace('GB,', '').str.replace('gb', '').str.replace('GB', '')\n",
    "dane.groupby(\"RAM\").Price.agg(\"mean\").sort_values(ascending = False).head(10)"
   ]
  },
  {
   "cell_type": "markdown",
   "id": "f20e2410",
   "metadata": {},
   "source": [
    "Zatem po zmianach, jakie wprowadziliśmy otrzymujemy, że owszem, pamięć RAM idzie w parze ze średnią ceną, natomiast tylko dla wyższych wartości RAM. Między np. 16, a 32 nie ma dużej różnicy."
   ]
  },
  {
   "cell_type": "markdown",
   "id": "175e729d",
   "metadata": {},
   "source": [
    "# Wykresy analizujące rozkład zmiennych w zbiorze "
   ]
  },
  {
   "cell_type": "code",
   "execution_count": 98,
   "id": "1cf6df5f",
   "metadata": {},
   "outputs": [
    {
     "data": {
      "application/vnd.plotly.v1+json": {
       "config": {
        "plotlyServerURL": "https://plot.ly"
       },
       "data": [
        {
         "alignmentgroup": "True",
         "bingroup": "x",
         "hovertemplate": "Price=%{x}<br>count=%{y}<extra></extra>",
         "legendgroup": "",
         "marker": {
          "color": "#636efa",
          "pattern": {
           "shape": ""
          }
         },
         "name": "",
         "offsetgroup": "",
         "orientation": "v",
         "showlegend": false,
         "type": "histogram",
         "x": [
          189.99,
          349.99,
          369.95,
          459,
          499,
          349,
          529.98,
          319.99,
          245,
          179.99,
          314.96,
          550,
          459,
          732,
          429,
          219.99,
          247.45,
          699,
          322,
          299.99,
          319.99,
          229.99,
          214.5,
          365,
          509.99,
          279.99,
          119.99,
          494.99,
          399.99,
          237.99,
          446,
          299,
          425,
          269,
          239.99,
          249.99,
          404.99,
          799.99,
          899.99,
          399,
          339,
          499,
          499.99,
          799.99,
          239.99,
          579,
          459.95,
          269.95,
          525,
          291.46,
          515,
          390,
          629,
          234.59,
          152.99,
          129.99,
          160.99,
          409.94,
          159.99,
          349.99,
          799.99,
          494.1,
          199.99,
          555.99,
          319.99,
          499,
          419,
          139.99,
          697.99,
          289,
          750,
          194,
          519.99,
          310.25,
          669,
          189.99,
          699.99,
          868.88,
          559,
          419.99,
          528.95,
          309.95,
          489.99,
          600,
          603.99,
          475,
          352.85,
          649,
          249.99,
          589,
          329.99,
          499,
          449.99,
          231.99,
          404.96,
          344.99,
          329.99,
          599.99,
          179.99,
          399.99,
          409.99,
          105.5,
          499,
          159.99,
          394.99,
          675,
          789.99,
          399,
          399.99,
          399.99,
          389.99,
          969.99,
          398.75,
          369.99,
          249.99,
          489.99,
          249.99,
          518,
          669,
          439.99,
          499,
          650,
          314.5,
          959.99,
          679.99,
          199.99,
          359.75,
          585,
          299,
          319.99,
          315.99,
          699.99,
          379.99,
          299.95,
          399.99,
          499.99,
          179.95,
          265,
          288.99,
          293.99,
          479.99,
          369.55,
          299.99,
          345.95,
          538.75,
          699.99,
          999.99,
          534.86,
          329.99,
          314.99,
          239.99,
          355,
          940,
          219.88,
          449.99,
          299.99,
          128.99,
          399.99,
          619.99,
          879,
          601.79,
          259.99,
          750,
          479.99,
          195,
          209.99,
          549.99,
          50,
          289,
          929.99,
          650,
          219,
          239,
          259.99,
          570,
          169.99,
          324.99,
          278.98,
          224.95,
          274.99,
          699,
          256.45,
          239.99,
          550,
          599,
          668.95,
          199,
          399,
          309.99,
          250,
          381.99,
          159.95,
          810,
          859.99,
          237.5,
          274.99,
          474.95,
          319.99,
          377.99,
          179.99,
          349.95,
          159.99,
          349,
          274.99,
          399.99,
          399.99,
          339.99,
          369,
          699.99,
          279.99,
          199.99,
          339.99,
          309.99,
          499,
          358,
          398.75,
          296.96,
          334.99,
          359.96,
          499.99,
          999.99,
          319,
          422.96,
          384,
          387.99,
          698.98,
          399.6,
          186.5,
          279.95,
          215.3,
          428.99,
          496.99,
          389.99,
          509.99,
          249.99,
          459.99,
          199,
          449.99,
          349.99,
          629.99,
          769.99,
          689.99,
          215.95,
          329,
          450,
          429.99,
          759.49,
          329.99,
          350,
          869.95,
          818.88,
          412,
          989.99,
          427.99,
          449.99,
          249.99,
          159.11,
          219.99,
          369.99,
          495.95,
          779.99,
          409.99,
          199.99,
          749.99,
          219.99,
          474.95,
          424.99,
          499,
          349.49,
          349,
          244.99,
          499.99,
          398,
          449.95,
          299.95,
          200,
          881.27,
          342.99,
          499.99,
          265.99,
          229.99,
          581.99,
          249.99,
          229.45,
          249.99,
          315,
          199.99,
          189.71,
          395.99,
          635,
          495.45,
          233.95,
          399.94,
          215.95,
          549.99,
          650,
          269.99,
          289.99,
          399.99,
          430.99,
          469.06,
          599.98,
          989.99,
          489.99,
          317.77,
          379.99,
          699.99,
          694.99,
          739.99,
          359.99,
          747.12,
          635.4,
          299.99,
          429.99,
          832.99,
          649.99,
          325,
          269.95,
          599.99,
          368.95,
          830,
          544.99,
          289.99,
          544,
          569.99,
          489.99,
          101,
          239.99,
          294.99,
          668.65,
          369.99,
          169,
          531.15,
          399.99,
          269.99,
          829,
          369.99,
          849,
          300,
          379.99,
          525,
          299.99,
          799.89,
          270,
          320,
          879,
          242.95,
          874.99,
          189.99,
          233.95,
          199,
          349.99,
          549,
          219.99,
          574.99,
          674.99,
          300,
          649.99,
          645.32,
          199.99,
          648,
          550,
          379.95,
          99.99,
          229,
          268,
          640,
          899.99,
          279.99,
          150,
          99.99,
          389.95,
          229,
          449.99,
          292.46,
          799,
          344.99,
          279.99,
          649,
          339,
          849.99,
          499.99,
          259.99,
          449.99,
          830,
          269.95,
          209.99,
          645,
          269.99,
          485,
          419.99,
          279.99,
          319,
          305,
          169.99,
          384.46,
          179,
          170.99,
          259.99,
          819.99,
          247.45,
          577.07,
          170.95,
          899.95,
          849.99,
          449.88,
          379,
          215.95,
          151.99,
          328.99,
          339,
          699.95,
          344.99,
          850,
          170.99,
          510,
          299,
          499.99,
          225,
          799.99,
          329.99,
          449.99,
          459.99,
          150.95,
          199,
          699.99,
          669.99,
          169.95,
          544.94,
          699.99,
          449.99,
          539.99,
          282.49,
          579.99,
          629.99,
          449,
          499.95,
          279.99,
          519.99,
          379.66,
          290,
          649.77,
          499.99,
          299,
          599.95,
          441.99,
          244.99,
          789.99,
          229.99,
          275.39,
          649.99,
          359.1,
          399.99,
          949.99,
          389.99,
          239.99,
          645,
          399,
          669.99,
          549,
          365.75,
          199.98,
          279.99,
          699.99,
          59.99,
          353.99,
          604.99,
          724.99,
          598,
          359.99,
          469.99,
          699,
          469.99,
          200,
          189.71,
          749,
          799,
          829.99,
          349,
          499.99,
          149.99,
          999.99,
          305.96,
          319.99,
          619.99,
          374.99,
          370,
          375,
          497.99,
          474.95,
          400,
          299.99,
          549.99,
          389.99,
          658.99,
          169.99,
          652.99,
          869.99,
          389.99,
          168.99,
          638.99,
          499.99,
          899.99,
          422.1,
          509.99,
          456,
          386.1,
          899,
          189.99,
          974.99,
          849.99,
          329,
          749.95,
          429.99,
          559.99,
          975,
          599.89,
          899,
          694.95,
          219.99,
          799.99,
          549.99,
          979.77,
          456.49,
          49.99,
          387,
          215.26,
          659.45,
          850,
          376.29,
          341.1,
          199,
          239.99,
          329.99,
          295.79,
          377.97,
          239.99,
          191.99,
          181.99,
          399.99,
          544.95,
          699.88,
          359.99,
          251.95,
          509.99,
          233.95,
          789.99,
          319,
          349,
          750.49,
          289.99,
          99.99,
          469.99,
          499.99,
          679.99,
          799.99,
          399.99,
          364,
          299.99,
          599.99,
          649.99,
          327,
          974.95,
          188.95,
          749.99,
          319.99,
          229.99,
          319.99,
          179.99,
          569.99,
          289,
          719.99,
          353.43,
          300.89,
          719.99,
          724.95,
          251.95,
          574.99,
          251.95,
          349.85,
          179.99,
          329.99,
          329.99,
          389,
          424.15,
          399.99,
          389,
          825,
          499.99,
          395.96,
          624.95,
          259.99,
          395.96,
          422.06,
          288,
          384.46,
          189.99,
          269.99,
          589.99,
          649.99,
          319,
          419.95,
          121.46,
          329.99,
          599,
          449.95,
          510,
          326.75,
          242.1,
          200,
          255.03,
          292.46,
          279,
          332.1,
          399,
          320,
          319.99,
          329.99,
          243.46,
          849.53,
          539,
          325.99,
          389.99,
          99.99,
          809.99,
          774.99,
          386.96,
          379.99,
          599.99,
          790,
          519.55,
          233.95,
          589.99,
          249.99,
          162.99,
          510,
          703,
          225,
          729.88,
          332.96,
          300,
          529.99,
          249,
          399.95,
          594.99,
          349,
          353.4,
          724.99,
          196.46,
          289,
          839,
          419.99,
          229.99,
          694.99,
          314.99,
          799.99,
          789.99,
          214,
          414.99,
          349.99,
          379.86,
          575,
          659.95,
          320,
          645.04,
          879.99,
          584.99,
          288.99,
          244.31,
          759.99,
          299.99,
          669.99,
          224.39,
          899,
          229,
          247.45,
          899.99,
          649,
          449,
          445,
          400,
          269.1,
          800,
          559.99,
          729,
          549,
          170.1,
          228.99,
          349.99,
          999.95,
          849,
          259.98,
          191.99,
          579,
          319,
          440.86,
          399.99,
          359.96,
          389.99,
          649.45,
          149.99,
          999,
          500,
          199.99,
          229.99,
          479.99,
          299.96,
          541.99,
          369.99,
          999.99,
          819.99,
          289,
          242.1,
          609.99,
          169.99,
          449.99,
          779.99,
          469.99,
          599.95,
          449.99,
          299.99,
          529.99,
          719.99,
          449.95,
          694.99,
          700,
          549,
          239.99,
          448,
          337.49,
          412.49,
          369.99,
          215.95,
          299.99,
          279.99,
          849.95,
          469.99,
          234.06,
          383.49,
          161.95,
          949.99,
          385,
          269.95,
          499.99,
          471.75,
          881.27,
          169,
          274.99,
          135.99,
          345,
          419.99,
          242.95,
          399.99,
          699,
          650,
          639.99,
          379.99,
          328.46,
          269.95,
          251.95,
          195.99,
          599.99,
          699,
          159.99,
          839,
          569.99,
          631.49,
          229,
          449.99,
          499.99,
          239,
          749.95,
          549.99,
          514.99,
          919.99,
          424.15,
          399.99,
          139.99,
          89,
          337.46,
          558.95,
          470,
          774.99,
          269.99,
          403.26,
          305.99,
          529,
          377.64,
          489,
          378.99,
          589.25,
          439.99,
          449,
          269.99,
          699.99,
          699,
          396.37,
          751.06,
          299.49,
          513,
          424.95,
          679,
          650,
          849.95,
          859.99,
          514.41,
          704.06,
          469.99,
          199,
          299,
          379.99,
          559.99,
          789.99,
          572.99,
          759.99,
          399.99,
          299.99,
          298.95,
          680,
          429.99,
          699.99,
          219.99,
          148.99,
          525,
          304.99,
          400,
          485,
          589.99,
          399.99,
          289.99,
          703,
          290,
          549.99,
          539.99,
          599.99,
          975,
          314.99,
          249.99,
          249,
          999.99,
          695,
          599.99,
          319.99,
          579.99,
          379,
          471.75,
          979.99,
          299,
          839.99,
          328.06,
          153.99,
          429,
          619,
          377.99,
          589.99,
          287.95,
          400,
          719.99,
          880,
          323.96,
          769.99,
          699.99,
          589,
          560,
          499.99,
          425.99,
          499.99,
          699,
          449.99,
          239.95,
          409.99,
          999.99,
          195.99,
          499.88,
          300,
          666,
          549.99,
          314.96,
          339.99,
          510,
          724.99,
          899.99,
          484.99,
          229,
          185,
          816.66,
          469.99,
          365,
          395.96,
          399.99,
          666.99,
          729.99,
          849.95,
          510,
          829.99,
          385.97,
          399.99,
          949.95,
          781.79,
          199.99,
          449,
          649.99,
          459.99,
          998,
          899.99,
          180.49,
          251.95,
          242.95,
          199.99,
          283.45,
          169.99,
          279,
          839.99,
          249.99,
          799.95,
          374.99,
          269.95,
          349.99,
          599.99,
          535,
          700,
          247.45,
          457.99,
          489,
          549,
          472.22,
          469,
          959.64,
          549,
          323.96,
          269.95,
          999.99,
          445.99,
          499.99,
          270,
          268.99,
          289,
          800,
          569,
          242.95,
          99.99,
          300,
          429.95,
          319.99,
          299,
          516.06,
          292.46,
          499,
          0,
          938.59,
          599.99,
          499,
          373.99,
          785.99,
          289.99,
          889.99,
          459.99,
          499.99,
          233.95,
          815.99,
          849,
          281.99,
          699.99,
          950,
          349.99,
          589,
          842.98,
          219.99,
          190,
          224.95,
          499,
          849.99,
          499,
          400,
          288.97,
          879.99,
          799.99,
          215,
          289.98,
          379.99,
          321.19,
          400,
          499.99,
          328.06,
          340,
          799.99,
          749.95,
          405,
          389,
          483.99,
          525,
          869.99,
          749,
          299.99,
          199.99,
          260.95,
          539.99,
          229,
          841.99,
          379.99,
          551.8,
          539.96,
          399,
          399,
          449,
          265,
          249.99,
          339,
          399,
          558.88,
          639,
          949.95,
          560,
          399.99,
          449.99,
          699,
          650,
          298,
          649.99,
          299.99,
          215.26,
          873.26,
          549.99,
          649.99,
          549.99,
          599,
          400,
          574.99,
          519.75,
          459.99,
          234.06,
          289.49,
          350.96,
          849.99,
          229.99,
          799.99,
          481.46,
          939,
          999.99,
          505.75,
          990,
          845.06,
          589.45,
          850,
          899.99,
          385,
          704.06,
          509.99,
          334.15,
          799,
          419.99,
          379.95,
          478.49,
          429.69,
          195.99,
          589,
          539.96,
          291.2,
          519.99,
          205,
          607.45,
          368.96,
          449,
          899.88,
          399,
          815.99,
          427.99,
          674.98,
          629.99,
          921.99,
          199,
          85,
          379.99,
          225,
          599,
          469,
          206.95,
          299.99,
          779.49,
          800,
          527.99,
          325,
          499,
          699,
          999.95,
          379.99,
          619.99,
          215.26,
          299,
          662.99,
          44.45,
          454.33,
          329,
          271.66,
          214,
          800,
          864.49,
          959.99,
          789.99,
          429.99,
          459.33,
          249.22,
          767.99,
          495,
          269.95,
          197.95,
          224.95,
          184.45,
          899.99,
          649.99,
          285,
          349.99,
          377.4,
          624.95,
          290.46,
          562.49,
          269.95,
          224.95,
          644.95,
          329.99,
          279,
          319.99,
          275.99,
          400,
          341.1,
          319,
          854.99,
          929,
          679,
          292.46,
          374.99,
          480,
          499,
          549.5,
          229.99,
          850,
          329.99,
          224.95,
          749.99,
          909.99,
          354.99,
          919.99,
          268.99,
          391.46,
          499.99,
          383.99,
          199.99,
          369.99,
          729.99,
          509.99,
          490,
          649.99,
          332.1,
          599.99,
          739.99,
          999,
          774.95,
          274.98,
          215.95,
          309.26,
          225,
          269.1,
          179,
          320,
          479,
          869.99,
          548.88,
          674.99,
          499,
          378.99,
          949.99,
          969,
          259.99,
          859,
          299.99,
          500,
          611.99,
          346.86,
          799.99,
          939,
          489,
          199.99,
          225,
          279.99,
          829.99,
          509.15,
          764.99,
          365.66,
          529.99,
          399,
          451.99,
          529.99,
          429.99,
          769.99,
          529.77,
          379.99,
          349.99,
          749,
          950,
          377.97,
          332.1,
          339.99,
          499.98,
          449.99,
          418.47,
          489.99,
          399.99,
          559.99,
          234.06,
          699,
          449,
          256.45,
          581.56,
          283.05,
          869.99,
          480.69,
          341.1,
          328.06,
          300,
          290,
          179.99,
          468.71,
          499,
          229,
          584,
          539.99,
          175,
          949,
          393.86,
          379.99,
          549.99,
          850,
          211.99,
          275,
          260.95,
          649.49,
          599.99,
          349.45,
          533.32,
          799.99,
          369.99,
          332.75,
          624.95,
          373.99,
          187.99,
          369.99,
          599,
          299.99,
          499.99,
          800,
          329.75,
          829.99,
          719.99,
          99.99,
          272.24,
          729.99,
          849,
          881.99,
          981,
          779.99,
          285,
          399.99,
          475,
          450,
          750,
          813.7,
          429.99,
          349.99,
          276.66,
          639,
          550,
          469.99,
          99.99,
          359.99,
          614.99,
          279.99,
          299,
          424.99,
          229.99,
          474.99,
          669.37,
          835.66,
          242.1,
          99.99,
          349.99,
          475,
          388.26,
          780,
          429.99,
          195.99,
          329.89,
          649.99,
          900,
          560,
          439,
          210,
          770,
          550,
          649.45,
          349.99,
          699,
          278.95,
          389,
          349.99,
          314.96,
          336.99,
          305.96,
          819.99,
          542.99,
          359.99,
          269.95,
          399.55,
          855.3,
          389,
          251.95,
          500,
          575,
          799.99,
          205.86,
          314.96,
          393.86,
          629.99,
          780,
          800,
          825,
          499.99,
          350.96,
          469.06,
          589.88,
          549,
          449.96,
          644.95,
          325,
          314.96,
          220.45,
          949.99,
          184.45,
          649,
          329.99,
          175.99,
          529.99,
          549.99,
          250.99,
          899,
          604.99,
          299.99,
          569.95,
          449.99,
          198,
          295,
          400,
          799.88,
          379.99,
          375.06,
          199.99,
          305.96,
          179.99,
          449.99,
          400,
          559.99,
          799.2,
          539.99,
          330,
          614.99,
          386.96,
          422.06,
          95,
          429.95,
          559.99,
          0,
          749.99,
          671.99,
          479.99,
          499.99,
          317.95,
          242.1,
          759.99,
          549,
          489.99,
          242.1,
          319.99,
          549,
          459,
          254.99,
          515,
          499.99,
          801.71,
          362.74,
          450,
          340,
          349.99,
          320,
          495,
          549.99,
          649.99,
          199,
          397.71,
          414.75,
          242.1,
          807.46,
          719.95,
          499.99,
          306.55,
          754.8,
          374.99,
          459.99,
          332.99,
          800,
          215.95,
          416.99,
          337.46,
          329.99,
          379,
          599.99,
          749.99,
          519,
          348.95,
          779.99,
          249.99,
          649.99,
          429,
          449.99,
          699.99,
          479.99,
          428.98,
          989.99,
          269.99,
          270,
          599,
          649.99,
          199.99,
          250,
          509,
          419.99,
          149.49,
          329.99,
          215.95,
          724.99,
          509.99,
          750,
          699.99,
          385,
          355.97,
          649.99,
          29.99,
          599.99,
          289.99,
          699.99,
          989.99,
          519.95,
          699.99,
          599.88,
          733.99,
          408,
          599,
          769,
          329.99,
          239.99,
          379.99,
          195,
          569.99,
          499.99,
          699.89,
          349.99,
          639.45,
          377.15,
          280,
          359.99,
          623.99,
          749.99,
          647.75,
          963.06,
          794.99,
          349.99,
          589,
          449.75,
          999.88,
          328,
          670,
          618,
          479.99,
          400,
          270,
          629.49,
          310,
          900,
          337.49,
          292.46,
          211.45,
          669,
          215.95,
          699.99,
          424.99,
          649.99,
          359.96,
          700,
          496.99,
          649.99,
          224.95,
          374.99,
          224.95,
          320,
          460.99,
          429.99,
          349.99,
          687.94,
          271.66,
          549,
          329.99,
          395,
          283.49,
          195,
          789,
          720,
          417.75,
          375,
          325.97,
          379.22,
          374.99,
          699,
          581.56,
          816.99,
          999,
          265,
          429.99,
          383.99,
          749,
          579,
          240,
          285,
          469.99,
          899,
          540,
          649.95,
          215,
          387.59,
          553.66,
          189,
          589,
          600,
          599.95,
          779.99,
          829,
          558.83,
          679.99,
          227.71,
          250,
          599.99,
          374.99,
          739,
          299,
          599.99,
          764.01,
          290,
          250,
          99.99,
          239.99,
          239,
          649.99,
          780,
          519.99,
          689.99,
          559.97,
          549.7,
          329.99,
          686.99,
          975,
          575.99,
          995,
          999,
          719.99,
          745.06,
          239.99,
          179.99,
          700,
          599.99,
          360,
          752.99,
          490,
          324.75,
          899.99,
          999,
          185,
          260,
          669.99,
          699.98,
          373.46,
          685,
          185,
          599,
          658.99,
          245,
          619.99,
          360.99,
          375,
          329.99,
          637.49,
          739,
          449.49,
          429.99,
          539.99,
          832.71,
          449.96,
          949,
          475,
          245.99,
          634.99,
          416.75,
          272.99,
          859,
          329.99,
          379,
          479,
          230,
          679,
          657.06,
          412.66,
          350,
          899.99,
          509,
          700,
          200,
          819.98,
          950,
          799.99,
          598.99,
          599.99,
          799,
          999.99,
          229.99,
          892.06,
          579.99,
          399.99,
          29.99,
          349,
          285,
          215,
          876.99,
          422.99,
          289.99,
          536.99,
          549.7,
          400,
          269.95,
          549,
          704.06,
          850,
          419,
          427,
          330,
          195,
          270,
          260,
          310,
          359.99,
          779,
          543.99,
          750,
          849.99,
          530,
          569.95,
          679.9,
          389,
          316.99,
          900,
          751.06,
          420,
          259.99,
          350,
          499.99,
          224.95,
          344.99,
          384,
          867,
          599,
          249.99,
          719.1,
          639.99,
          468,
          749.95,
          419,
          265,
          314.96,
          750,
          549,
          314.99,
          500,
          729.99,
          419.99,
          679,
          469.06,
          799.99,
          612.99,
          699,
          744.99,
          239.99,
          379.99,
          419.99,
          695.99,
          650,
          405.99,
          420,
          279,
          650,
          519,
          800,
          346.86,
          849,
          499.99,
          245,
          999.99,
          324.99,
          499.99,
          344.99,
          230,
          379.99,
          439.99,
          179,
          789.88,
          950,
          424.87,
          449.99,
          290,
          919,
          299,
          499.99,
          250,
          705.2,
          449,
          0,
          381.99,
          229,
          349.99,
          450.26,
          645,
          400,
          799.99,
          569,
          279.99,
          179.99,
          240,
          724.1,
          165,
          499.49,
          399,
          499.49,
          449,
          295,
          850,
          999,
          299.95,
          933.49,
          375,
          329,
          429,
          195,
          789.65,
          425,
          620.99,
          540,
          779.49,
          248.99,
          599.99,
          379,
          559,
          799.77,
          690,
          899.99,
          229.99,
          190,
          599,
          649.99,
          433.99,
          500,
          350,
          680,
          899.99,
          665,
          899,
          509.99,
          249,
          554.99,
          420,
          479,
          375.99,
          469.99,
          629,
          460,
          959.95,
          375.55,
          499.99,
          892.06,
          480,
          559.99,
          299.86,
          688.77,
          255,
          999,
          600.9,
          889.99,
          775.99,
          639.99,
          437.49,
          825,
          699.99,
          549,
          503.87,
          379.99,
          649,
          99.99,
          849.95,
          812.99,
          950,
          475,
          660.45,
          834.48,
          549.99,
          999.99,
          719.46,
          769.99,
          999.99,
          600,
          995,
          949.95,
          499,
          439.99,
          299.99,
          949.95,
          849.99,
          309.99,
          379.95,
          939.99,
          585.98,
          899,
          469,
          650,
          799.99,
          889.99,
          268,
          395,
          599,
          700,
          679.99,
          215,
          399,
          195,
          235,
          869.99,
          999.88,
          460.99,
          252.86,
          649.99,
          899.95,
          749.98,
          850,
          274.99,
          404.96,
          650,
          550,
          529,
          460,
          265,
          998.48,
          879.95,
          699.99,
          434.29,
          400.99,
          794.95,
          300,
          243.46,
          647.98,
          280,
          767.99,
          649.99,
          477,
          249.99,
          949.99,
          169,
          475,
          95.46,
          519,
          829,
          322.99,
          425,
          544.26,
          562.49,
          658.66,
          610.06,
          807.46,
          451.99,
          420,
          620,
          449.99,
          868.99,
          299.99,
          549,
          708.99,
          500,
          320,
          751.06,
          750,
          599,
          349.99,
          349.99,
          490,
          679.99,
          899.99,
          399,
          300,
          255,
          823.24,
          345,
          799.99,
          319.99,
          833.99,
          549,
          827,
          900,
          914.26,
          400,
          449.99,
          445,
          909.82,
          265,
          898.99,
          357.84,
          489,
          500,
          350,
          932.78,
          525,
          649,
          599,
          350,
          299,
          279,
          449,
          675,
          699,
          449,
          750,
          650,
          499.99,
          388.26,
          350,
          210,
          699.99,
          589,
          473.54,
          949.99,
          265,
          461.79,
          605,
          495,
          293.82,
          599.99,
          439.99,
          659.99,
          898,
          250,
          500,
          679,
          599.99,
          900,
          399,
          400,
          499.99,
          498.99,
          242.1,
          225,
          999,
          311.1,
          989.99,
          599,
          969,
          950,
          604.99,
          404.96,
          628.86,
          679.99,
          750,
          999.99,
          989.99,
          950,
          510,
          657.06,
          699.99,
          761,
          849,
          899.99,
          599.99,
          509.99,
          260,
          292.49,
          191.99,
          649,
          610.84,
          399,
          450,
          750,
          885,
          929.66,
          691.99,
          271.66,
          245,
          449,
          450,
          349.99,
          300,
          299,
          549,
          875,
          900,
          849,
          599,
          699.99,
          649.99,
          270,
          265,
          200,
          600,
          849.95,
          950,
          399,
          439,
          649,
          235,
          210,
          549.47,
          728.5,
          295,
          875.99,
          529.99,
          400,
          699.99,
          457.35,
          350,
          749.99,
          799.99,
          999.99,
          410.04,
          999.99,
          588,
          299,
          566.87,
          691.99,
          635.49,
          235,
          524.99,
          229,
          479.99,
          600,
          551.99,
          499.99,
          669.99,
          819,
          620,
          415.75,
          479,
          499.99,
          649,
          99.99,
          299,
          365.66,
          577.99,
          355.99,
          339.99,
          639.99,
          900,
          874.95,
          999.99,
          942.26,
          699.99,
          549.99,
          599,
          649.4,
          379.99,
          459.99,
          335,
          494.99,
          364.99,
          250,
          870,
          650,
          497.26,
          720,
          899.99,
          841.48,
          99,
          399.99,
          650,
          190,
          553.66,
          259.95,
          116.11,
          389.99,
          399,
          459.99,
          473.99,
          345,
          449.99,
          295,
          479.35,
          921.99,
          404.99,
          424.99,
          85.15,
          359.99,
          799.99,
          799,
          599,
          740.05,
          680,
          463.97,
          489,
          779.99,
          419.9,
          299.99,
          575,
          325.99,
          897.01,
          230,
          495,
          609.65,
          309.26,
          270,
          611.77,
          529.99,
          650,
          937.99,
          374.99,
          459.95,
          190,
          745.98,
          760,
          549.99,
          879.99,
          650,
          418.75,
          99.99,
          899,
          395,
          221.8,
          849.95,
          195,
          309.99,
          349.99,
          495.99,
          807.99,
          549,
          245,
          294.99,
          319.99,
          299.99,
          269.99,
          532.99,
          604.99,
          619.99,
          255,
          611.99,
          281.99,
          579.99,
          412.49,
          311.39,
          995,
          805.22,
          389,
          412.49,
          900,
          879.99,
          899.99,
          666.46,
          489.47,
          859,
          875.55,
          415,
          649.95,
          579,
          499,
          299,
          499,
          950,
          599.99,
          999.95,
          575.96,
          649,
          275,
          330.16,
          350,
          488,
          625,
          599,
          950,
          525,
          873.26,
          328,
          508.68,
          400,
          589,
          668.88,
          594.99,
          899.99,
          926,
          289.22,
          649,
          549.99,
          369.99,
          899.99,
          441.99,
          349.99,
          350,
          310,
          699.99,
          799.99,
          329.99,
          963.42,
          399,
          319,
          699.99,
          599,
          699.99,
          799.99,
          949.99,
          589.99,
          49.99,
          999.95,
          249.49,
          459.99,
          849.99,
          790.9,
          669.75,
          349.75,
          299.99,
          400,
          239.99,
          999.99,
          579.99,
          853.99,
          486.99,
          824,
          972.47,
          0.99,
          728.83,
          675,
          323.31,
          157.4,
          445,
          999.99,
          699.99,
          399.99,
          955,
          907.7,
          800,
          569.99,
          359.99,
          999,
          647.66,
          899,
          955.71,
          974.99,
          799.99,
          754.99,
          942.55,
          450,
          483.96,
          939.06,
          360.98,
          534.86,
          849.99,
          800,
          469.99,
          250,
          611.99,
          779.46,
          799,
          108.98,
          675,
          529.99,
          316.99,
          799.99,
          799,
          299.99,
          299.88,
          931.88,
          359,
          879.99,
          175,
          0,
          429,
          760.46,
          422.06,
          548.88,
          450,
          395,
          999,
          299,
          540,
          459,
          939.06,
          809,
          330,
          979,
          329.6,
          999.99,
          498.71,
          475,
          29.99,
          450,
          589,
          443.98,
          229.99,
          769,
          479.99,
          999.99,
          965.77,
          545.99,
          699.49,
          241.55,
          149.99,
          643.49,
          479.99,
          729.99,
          240,
          574.99,
          840.99,
          975,
          599.99,
          483.99,
          404.96,
          649.8,
          640,
          989.78,
          484.99,
          458.96,
          658.49,
          450,
          524.99,
          899.99,
          699.99,
          429.88,
          497.47,
          609.79,
          355,
          279.99,
          899.99,
          599.99,
          849.95,
          265,
          879.99,
          184.63,
          235,
          399.99,
          225,
          989,
          659.98,
          430,
          339.99,
          873.26,
          449.99,
          954.99,
          950,
          488,
          565,
          879,
          700,
          466.99,
          579,
          799.99,
          509.99,
          479.99,
          724.03,
          389,
          569,
          411.1,
          450,
          899.99,
          782.1,
          449.99,
          529.99,
          833.7,
          653.99,
          749,
          950,
          700,
          579,
          729.99,
          899.49,
          499,
          739,
          599.99,
          329,
          790,
          999.89,
          339,
          195,
          402.77,
          525.99,
          879,
          225,
          509,
          699,
          829.46,
          449,
          285,
          499.49,
          315,
          770,
          959.99,
          749,
          839.95,
          400,
          475,
          549.99,
          639,
          599,
          599.99,
          400,
          255,
          749.99,
          559.99,
          270,
          265,
          799.99,
          864,
          750,
          749.99,
          679.35,
          379.99,
          777.22,
          729.99,
          749.99,
          679.99,
          900,
          639,
          588.99,
          636.99,
          489.95,
          299,
          450,
          210,
          530,
          963.6,
          700,
          880,
          499.99,
          599.99,
          409.99,
          764,
          689.95,
          332.99,
          273.1,
          225,
          749.99,
          850,
          999.99,
          479,
          629.99,
          712.49,
          629,
          846.71,
          666.66,
          796.05,
          669,
          499.99,
          427.82,
          635.98,
          245,
          340,
          674.1,
          678.88,
          194.71,
          99.99,
          699,
          299.99,
          949,
          225,
          146.66,
          459.49,
          816.33,
          260,
          230,
          649.99,
          849,
          624.99,
          949.99,
          220,
          980,
          779.99,
          599.99,
          215,
          467.04,
          315,
          245,
          659,
          639.99,
          575.99,
          799.99,
          384.47,
          700,
          741.66,
          445,
          920.98,
          295,
          529.99,
          255,
          999.99,
          402.77,
          520,
          599.47,
          487.86,
          285,
          744.99,
          399,
          749.99,
          999.99,
          195,
          349.47,
          799.95,
          550,
          325,
          424.99,
          148.92,
          220,
          759.46,
          225,
          657.11,
          899.99,
          849.95,
          450,
          190,
          999.99,
          295,
          674.99,
          899.99,
          599.99,
          669,
          469,
          725,
          514.99,
          305,
          558.86,
          175,
          700,
          506.66,
          736.53,
          799,
          144.95,
          339,
          499,
          768.99,
          457.99,
          999.95,
          344.99,
          899.99,
          900,
          449.99,
          999,
          399,
          827.15,
          359,
          844.99,
          699.99,
          349.99,
          100,
          215,
          549.95,
          795,
          359.99,
          449,
          445,
          689.99,
          461.97,
          519.99,
          999.99,
          999.99,
          549.99,
          950,
          789,
          165,
          879,
          823.99,
          962.06,
          280,
          849,
          699.99,
          843.61,
          679,
          930.07,
          550,
          699.99,
          604.99,
          785.98,
          499.99,
          900,
          825.25,
          958.06,
          204,
          521.49,
          820.39,
          506.99,
          999,
          476,
          220,
          799,
          649,
          52.53,
          199,
          724,
          499.99,
          679,
          695.77,
          959,
          699.99,
          988.88,
          328.99,
          527.86,
          800,
          490,
          800,
          649.79,
          353.99,
          679.99,
          649.99,
          310,
          499,
          785.95,
          365,
          899.99,
          758,
          541.99,
          305.99,
          425,
          413,
          175,
          330,
          355,
          397,
          439.99,
          724.05,
          699.99,
          200,
          199,
          899.99,
          284.98,
          724.09,
          455,
          769.98,
          849.99,
          699,
          981.74,
          265,
          800,
          175,
          525.46,
          849.89,
          220,
          949.8,
          499.99,
          850,
          449,
          500,
          325,
          769.89,
          821,
          335,
          917.99,
          150,
          245,
          999.99,
          549.99,
          225,
          549.99,
          549.49,
          700,
          440,
          335,
          900,
          249.99,
          563.99,
          425,
          699,
          290,
          759.99,
          625,
          649,
          445,
          644.49,
          460.99,
          116.99,
          759.18,
          835.66,
          310,
          799,
          849.99,
          978.57,
          900,
          418.51,
          418.88,
          0,
          611.99,
          899.99,
          355,
          325,
          899,
          474.99,
          568.07,
          433.75,
          540,
          613,
          297.49,
          799,
          393,
          912.99,
          779.99,
          465,
          350,
          147.99,
          699.99,
          451.99,
          601.99,
          275,
          724.11,
          449,
          859.99,
          880,
          991.83,
          527.22,
          689.99,
          124.5,
          329,
          899.99,
          539,
          469,
          539,
          475,
          489.99,
          170,
          985.79,
          980.49,
          503.34,
          89,
          270,
          433.75,
          568.07,
          900,
          525,
          175,
          767.99,
          949.99,
          378.99,
          599.99,
          899.91,
          569.99,
          921.99,
          605.27,
          295,
          500,
          259.99,
          405,
          965.8,
          471.02,
          799.99,
          785.98,
          769.98,
          643.99,
          875,
          995,
          981.59,
          500,
          464.99,
          596.1,
          433.75,
          197.99,
          979.99,
          749.99,
          999,
          648.79,
          749.99,
          960.36,
          671.99,
          599.99,
          527.89,
          889.99,
          465,
          500,
          799,
          398,
          494.99,
          648.79,
          907.99,
          759.18,
          649,
          729.99,
          657.06,
          799,
          595,
          388,
          759,
          531.49,
          611.99,
          385,
          979,
          807.99,
          642.42,
          805.98,
          939.06,
          465,
          290,
          599.99,
          629.99,
          688.98,
          582.77,
          590.28,
          456.84,
          899,
          900.79,
          749.99,
          650,
          999,
          29.6,
          929.99,
          495,
          599.99,
          585.28,
          129.39,
          803.98,
          999.99,
          749.99,
          328,
          619.99,
          820,
          929.99,
          299,
          749.97,
          999.99,
          349.99,
          749,
          899,
          653.95,
          805.98,
          725,
          659.98,
          529.99,
          863.86,
          648.88,
          592.62,
          456.84,
          385.08,
          399.99,
          265,
          791.61,
          549.99,
          434.49,
          903.99,
          549.99,
          582.77,
          315,
          603.28,
          39.49,
          874.48,
          879.99,
          375,
          639.96,
          185,
          685,
          656.59,
          671.99,
          917.02,
          794.78,
          724.02,
          800,
          671.99,
          999.99,
          863.98,
          529.99,
          849.15,
          902.68,
          398.98,
          275,
          659.98,
          650,
          568.07,
          885.78,
          98.98,
          599.99,
          899.99,
          889.99,
          569.99,
          539.99,
          949,
          994.99,
          105.37,
          899.99,
          834.99,
          569.99,
          549.99,
          161.98,
          789.35,
          275,
          974.97,
          329.95,
          499,
          679.99,
          499,
          175,
          497.88,
          930.13,
          610.06,
          899.99,
          902,
          999,
          65.71,
          999,
          899.31,
          590.28,
          599.95,
          385.08,
          422,
          377,
          642.99,
          899.99,
          981.59,
          729.99,
          451.99,
          719,
          99.98,
          794.98,
          820,
          949,
          945.67,
          614.97,
          699,
          449.99,
          549,
          335.99,
          575,
          789.49,
          88.24,
          205,
          364.99,
          64.71,
          688.13,
          14.85,
          159.56,
          993,
          999.96,
          649.99,
          789.99,
          895.55,
          635.65,
          405.99,
          17.5
         ],
         "xaxis": "x",
         "yaxis": "y"
        }
       ],
       "layout": {
        "barmode": "relative",
        "legend": {
         "tracegroupgap": 0
        },
        "template": {
         "data": {
          "bar": [
           {
            "error_x": {
             "color": "#2a3f5f"
            },
            "error_y": {
             "color": "#2a3f5f"
            },
            "marker": {
             "line": {
              "color": "#E5ECF6",
              "width": 0.5
             },
             "pattern": {
              "fillmode": "overlay",
              "size": 10,
              "solidity": 0.2
             }
            },
            "type": "bar"
           }
          ],
          "barpolar": [
           {
            "marker": {
             "line": {
              "color": "#E5ECF6",
              "width": 0.5
             },
             "pattern": {
              "fillmode": "overlay",
              "size": 10,
              "solidity": 0.2
             }
            },
            "type": "barpolar"
           }
          ],
          "carpet": [
           {
            "aaxis": {
             "endlinecolor": "#2a3f5f",
             "gridcolor": "white",
             "linecolor": "white",
             "minorgridcolor": "white",
             "startlinecolor": "#2a3f5f"
            },
            "baxis": {
             "endlinecolor": "#2a3f5f",
             "gridcolor": "white",
             "linecolor": "white",
             "minorgridcolor": "white",
             "startlinecolor": "#2a3f5f"
            },
            "type": "carpet"
           }
          ],
          "choropleth": [
           {
            "colorbar": {
             "outlinewidth": 0,
             "ticks": ""
            },
            "type": "choropleth"
           }
          ],
          "contour": [
           {
            "colorbar": {
             "outlinewidth": 0,
             "ticks": ""
            },
            "colorscale": [
             [
              0,
              "#0d0887"
             ],
             [
              0.1111111111111111,
              "#46039f"
             ],
             [
              0.2222222222222222,
              "#7201a8"
             ],
             [
              0.3333333333333333,
              "#9c179e"
             ],
             [
              0.4444444444444444,
              "#bd3786"
             ],
             [
              0.5555555555555556,
              "#d8576b"
             ],
             [
              0.6666666666666666,
              "#ed7953"
             ],
             [
              0.7777777777777778,
              "#fb9f3a"
             ],
             [
              0.8888888888888888,
              "#fdca26"
             ],
             [
              1,
              "#f0f921"
             ]
            ],
            "type": "contour"
           }
          ],
          "contourcarpet": [
           {
            "colorbar": {
             "outlinewidth": 0,
             "ticks": ""
            },
            "type": "contourcarpet"
           }
          ],
          "heatmap": [
           {
            "colorbar": {
             "outlinewidth": 0,
             "ticks": ""
            },
            "colorscale": [
             [
              0,
              "#0d0887"
             ],
             [
              0.1111111111111111,
              "#46039f"
             ],
             [
              0.2222222222222222,
              "#7201a8"
             ],
             [
              0.3333333333333333,
              "#9c179e"
             ],
             [
              0.4444444444444444,
              "#bd3786"
             ],
             [
              0.5555555555555556,
              "#d8576b"
             ],
             [
              0.6666666666666666,
              "#ed7953"
             ],
             [
              0.7777777777777778,
              "#fb9f3a"
             ],
             [
              0.8888888888888888,
              "#fdca26"
             ],
             [
              1,
              "#f0f921"
             ]
            ],
            "type": "heatmap"
           }
          ],
          "heatmapgl": [
           {
            "colorbar": {
             "outlinewidth": 0,
             "ticks": ""
            },
            "colorscale": [
             [
              0,
              "#0d0887"
             ],
             [
              0.1111111111111111,
              "#46039f"
             ],
             [
              0.2222222222222222,
              "#7201a8"
             ],
             [
              0.3333333333333333,
              "#9c179e"
             ],
             [
              0.4444444444444444,
              "#bd3786"
             ],
             [
              0.5555555555555556,
              "#d8576b"
             ],
             [
              0.6666666666666666,
              "#ed7953"
             ],
             [
              0.7777777777777778,
              "#fb9f3a"
             ],
             [
              0.8888888888888888,
              "#fdca26"
             ],
             [
              1,
              "#f0f921"
             ]
            ],
            "type": "heatmapgl"
           }
          ],
          "histogram": [
           {
            "marker": {
             "pattern": {
              "fillmode": "overlay",
              "size": 10,
              "solidity": 0.2
             }
            },
            "type": "histogram"
           }
          ],
          "histogram2d": [
           {
            "colorbar": {
             "outlinewidth": 0,
             "ticks": ""
            },
            "colorscale": [
             [
              0,
              "#0d0887"
             ],
             [
              0.1111111111111111,
              "#46039f"
             ],
             [
              0.2222222222222222,
              "#7201a8"
             ],
             [
              0.3333333333333333,
              "#9c179e"
             ],
             [
              0.4444444444444444,
              "#bd3786"
             ],
             [
              0.5555555555555556,
              "#d8576b"
             ],
             [
              0.6666666666666666,
              "#ed7953"
             ],
             [
              0.7777777777777778,
              "#fb9f3a"
             ],
             [
              0.8888888888888888,
              "#fdca26"
             ],
             [
              1,
              "#f0f921"
             ]
            ],
            "type": "histogram2d"
           }
          ],
          "histogram2dcontour": [
           {
            "colorbar": {
             "outlinewidth": 0,
             "ticks": ""
            },
            "colorscale": [
             [
              0,
              "#0d0887"
             ],
             [
              0.1111111111111111,
              "#46039f"
             ],
             [
              0.2222222222222222,
              "#7201a8"
             ],
             [
              0.3333333333333333,
              "#9c179e"
             ],
             [
              0.4444444444444444,
              "#bd3786"
             ],
             [
              0.5555555555555556,
              "#d8576b"
             ],
             [
              0.6666666666666666,
              "#ed7953"
             ],
             [
              0.7777777777777778,
              "#fb9f3a"
             ],
             [
              0.8888888888888888,
              "#fdca26"
             ],
             [
              1,
              "#f0f921"
             ]
            ],
            "type": "histogram2dcontour"
           }
          ],
          "mesh3d": [
           {
            "colorbar": {
             "outlinewidth": 0,
             "ticks": ""
            },
            "type": "mesh3d"
           }
          ],
          "parcoords": [
           {
            "line": {
             "colorbar": {
              "outlinewidth": 0,
              "ticks": ""
             }
            },
            "type": "parcoords"
           }
          ],
          "pie": [
           {
            "automargin": true,
            "type": "pie"
           }
          ],
          "scatter": [
           {
            "marker": {
             "colorbar": {
              "outlinewidth": 0,
              "ticks": ""
             }
            },
            "type": "scatter"
           }
          ],
          "scatter3d": [
           {
            "line": {
             "colorbar": {
              "outlinewidth": 0,
              "ticks": ""
             }
            },
            "marker": {
             "colorbar": {
              "outlinewidth": 0,
              "ticks": ""
             }
            },
            "type": "scatter3d"
           }
          ],
          "scattercarpet": [
           {
            "marker": {
             "colorbar": {
              "outlinewidth": 0,
              "ticks": ""
             }
            },
            "type": "scattercarpet"
           }
          ],
          "scattergeo": [
           {
            "marker": {
             "colorbar": {
              "outlinewidth": 0,
              "ticks": ""
             }
            },
            "type": "scattergeo"
           }
          ],
          "scattergl": [
           {
            "marker": {
             "colorbar": {
              "outlinewidth": 0,
              "ticks": ""
             }
            },
            "type": "scattergl"
           }
          ],
          "scattermapbox": [
           {
            "marker": {
             "colorbar": {
              "outlinewidth": 0,
              "ticks": ""
             }
            },
            "type": "scattermapbox"
           }
          ],
          "scatterpolar": [
           {
            "marker": {
             "colorbar": {
              "outlinewidth": 0,
              "ticks": ""
             }
            },
            "type": "scatterpolar"
           }
          ],
          "scatterpolargl": [
           {
            "marker": {
             "colorbar": {
              "outlinewidth": 0,
              "ticks": ""
             }
            },
            "type": "scatterpolargl"
           }
          ],
          "scatterternary": [
           {
            "marker": {
             "colorbar": {
              "outlinewidth": 0,
              "ticks": ""
             }
            },
            "type": "scatterternary"
           }
          ],
          "surface": [
           {
            "colorbar": {
             "outlinewidth": 0,
             "ticks": ""
            },
            "colorscale": [
             [
              0,
              "#0d0887"
             ],
             [
              0.1111111111111111,
              "#46039f"
             ],
             [
              0.2222222222222222,
              "#7201a8"
             ],
             [
              0.3333333333333333,
              "#9c179e"
             ],
             [
              0.4444444444444444,
              "#bd3786"
             ],
             [
              0.5555555555555556,
              "#d8576b"
             ],
             [
              0.6666666666666666,
              "#ed7953"
             ],
             [
              0.7777777777777778,
              "#fb9f3a"
             ],
             [
              0.8888888888888888,
              "#fdca26"
             ],
             [
              1,
              "#f0f921"
             ]
            ],
            "type": "surface"
           }
          ],
          "table": [
           {
            "cells": {
             "fill": {
              "color": "#EBF0F8"
             },
             "line": {
              "color": "white"
             }
            },
            "header": {
             "fill": {
              "color": "#C8D4E3"
             },
             "line": {
              "color": "white"
             }
            },
            "type": "table"
           }
          ]
         },
         "layout": {
          "annotationdefaults": {
           "arrowcolor": "#2a3f5f",
           "arrowhead": 0,
           "arrowwidth": 1
          },
          "autotypenumbers": "strict",
          "coloraxis": {
           "colorbar": {
            "outlinewidth": 0,
            "ticks": ""
           }
          },
          "colorscale": {
           "diverging": [
            [
             0,
             "#8e0152"
            ],
            [
             0.1,
             "#c51b7d"
            ],
            [
             0.2,
             "#de77ae"
            ],
            [
             0.3,
             "#f1b6da"
            ],
            [
             0.4,
             "#fde0ef"
            ],
            [
             0.5,
             "#f7f7f7"
            ],
            [
             0.6,
             "#e6f5d0"
            ],
            [
             0.7,
             "#b8e186"
            ],
            [
             0.8,
             "#7fbc41"
            ],
            [
             0.9,
             "#4d9221"
            ],
            [
             1,
             "#276419"
            ]
           ],
           "sequential": [
            [
             0,
             "#0d0887"
            ],
            [
             0.1111111111111111,
             "#46039f"
            ],
            [
             0.2222222222222222,
             "#7201a8"
            ],
            [
             0.3333333333333333,
             "#9c179e"
            ],
            [
             0.4444444444444444,
             "#bd3786"
            ],
            [
             0.5555555555555556,
             "#d8576b"
            ],
            [
             0.6666666666666666,
             "#ed7953"
            ],
            [
             0.7777777777777778,
             "#fb9f3a"
            ],
            [
             0.8888888888888888,
             "#fdca26"
            ],
            [
             1,
             "#f0f921"
            ]
           ],
           "sequentialminus": [
            [
             0,
             "#0d0887"
            ],
            [
             0.1111111111111111,
             "#46039f"
            ],
            [
             0.2222222222222222,
             "#7201a8"
            ],
            [
             0.3333333333333333,
             "#9c179e"
            ],
            [
             0.4444444444444444,
             "#bd3786"
            ],
            [
             0.5555555555555556,
             "#d8576b"
            ],
            [
             0.6666666666666666,
             "#ed7953"
            ],
            [
             0.7777777777777778,
             "#fb9f3a"
            ],
            [
             0.8888888888888888,
             "#fdca26"
            ],
            [
             1,
             "#f0f921"
            ]
           ]
          },
          "colorway": [
           "#636efa",
           "#EF553B",
           "#00cc96",
           "#ab63fa",
           "#FFA15A",
           "#19d3f3",
           "#FF6692",
           "#B6E880",
           "#FF97FF",
           "#FECB52"
          ],
          "font": {
           "color": "#2a3f5f"
          },
          "geo": {
           "bgcolor": "white",
           "lakecolor": "white",
           "landcolor": "#E5ECF6",
           "showlakes": true,
           "showland": true,
           "subunitcolor": "white"
          },
          "hoverlabel": {
           "align": "left"
          },
          "hovermode": "closest",
          "mapbox": {
           "style": "light"
          },
          "paper_bgcolor": "white",
          "plot_bgcolor": "#E5ECF6",
          "polar": {
           "angularaxis": {
            "gridcolor": "white",
            "linecolor": "white",
            "ticks": ""
           },
           "bgcolor": "#E5ECF6",
           "radialaxis": {
            "gridcolor": "white",
            "linecolor": "white",
            "ticks": ""
           }
          },
          "scene": {
           "xaxis": {
            "backgroundcolor": "#E5ECF6",
            "gridcolor": "white",
            "gridwidth": 2,
            "linecolor": "white",
            "showbackground": true,
            "ticks": "",
            "zerolinecolor": "white"
           },
           "yaxis": {
            "backgroundcolor": "#E5ECF6",
            "gridcolor": "white",
            "gridwidth": 2,
            "linecolor": "white",
            "showbackground": true,
            "ticks": "",
            "zerolinecolor": "white"
           },
           "zaxis": {
            "backgroundcolor": "#E5ECF6",
            "gridcolor": "white",
            "gridwidth": 2,
            "linecolor": "white",
            "showbackground": true,
            "ticks": "",
            "zerolinecolor": "white"
           }
          },
          "shapedefaults": {
           "line": {
            "color": "#2a3f5f"
           }
          },
          "ternary": {
           "aaxis": {
            "gridcolor": "white",
            "linecolor": "white",
            "ticks": ""
           },
           "baxis": {
            "gridcolor": "white",
            "linecolor": "white",
            "ticks": ""
           },
           "bgcolor": "#E5ECF6",
           "caxis": {
            "gridcolor": "white",
            "linecolor": "white",
            "ticks": ""
           }
          },
          "title": {
           "x": 0.05
          },
          "xaxis": {
           "automargin": true,
           "gridcolor": "white",
           "linecolor": "white",
           "ticks": "",
           "title": {
            "standoff": 15
           },
           "zerolinecolor": "white",
           "zerolinewidth": 2
          },
          "yaxis": {
           "automargin": true,
           "gridcolor": "white",
           "linecolor": "white",
           "ticks": "",
           "title": {
            "standoff": 15
           },
           "zerolinecolor": "white",
           "zerolinewidth": 2
          }
         }
        },
        "title": {
         "text": "Distribution of Prices"
        },
        "xaxis": {
         "anchor": "y",
         "domain": [
          0,
          1
         ],
         "title": {
          "text": "Price"
         }
        },
        "yaxis": {
         "anchor": "x",
         "domain": [
          0,
          1
         ],
         "title": {
          "text": "count"
         }
        }
       }
      },
      "text/html": [
       "<div>                            <div id=\"208f63c2-1610-4f2e-9027-5a2e4ca79d76\" class=\"plotly-graph-div\" style=\"height:525px; width:100%;\"></div>            <script type=\"text/javascript\">                require([\"plotly\"], function(Plotly) {                    window.PLOTLYENV=window.PLOTLYENV || {};                                    if (document.getElementById(\"208f63c2-1610-4f2e-9027-5a2e4ca79d76\")) {                    Plotly.newPlot(                        \"208f63c2-1610-4f2e-9027-5a2e4ca79d76\",                        [{\"alignmentgroup\":\"True\",\"bingroup\":\"x\",\"hovertemplate\":\"Price=%{x}<br>count=%{y}<extra></extra>\",\"legendgroup\":\"\",\"marker\":{\"color\":\"#636efa\",\"pattern\":{\"shape\":\"\"}},\"name\":\"\",\"offsetgroup\":\"\",\"orientation\":\"v\",\"showlegend\":false,\"x\":[189.99,349.99,369.95,459.0,499.0,349.0,529.98,319.99,245.0,179.99,314.96,550.0,459.0,732.0,429.0,219.99,247.45,699.0,322.0,299.99,319.99,229.99,214.5,365.0,509.99,279.99,119.99,494.99,399.99,237.99,446.0,299.0,425.0,269.0,239.99,249.99,404.99,799.99,899.99,399.0,339.0,499.0,499.99,799.99,239.99,579.0,459.95,269.95,525.0,291.46,515.0,390.0,629.0,234.59,152.99,129.99,160.99,409.94,159.99,349.99,799.99,494.1,199.99,555.99,319.99,499.0,419.0,139.99,697.99,289.0,750.0,194.0,519.99,310.25,669.0,189.99,699.99,868.88,559.0,419.99,528.95,309.95,489.99,600.0,603.99,475.0,352.85,649.0,249.99,589.0,329.99,499.0,449.99,231.99,404.96,344.99,329.99,599.99,179.99,399.99,409.99,105.5,499.0,159.99,394.99,675.0,789.99,399.0,399.99,399.99,389.99,969.99,398.75,369.99,249.99,489.99,249.99,518.0,669.0,439.99,499.0,650.0,314.5,959.99,679.99,199.99,359.75,585.0,299.0,319.99,315.99,699.99,379.99,299.95,399.99,499.99,179.95,265.0,288.99,293.99,479.99,369.55,299.99,345.95,538.75,699.99,999.99,534.86,329.99,314.99,239.99,355.0,940.0,219.88,449.99,299.99,128.99,399.99,619.99,879.0,601.79,259.99,750.0,479.99,195.0,209.99,549.99,50.0,289.0,929.99,650.0,219.0,239.0,259.99,570.0,169.99,324.99,278.98,224.95,274.99,699.0,256.45,239.99,550.0,599.0,668.95,199.0,399.0,309.99,250.0,381.99,159.95,810.0,859.99,237.5,274.99,474.95,319.99,377.99,179.99,349.95,159.99,349.0,274.99,399.99,399.99,339.99,369.0,699.99,279.99,199.99,339.99,309.99,499.0,358.0,398.75,296.96,334.99,359.96,499.99,999.99,319.0,422.96,384.0,387.99,698.98,399.6,186.5,279.95,215.3,428.99,496.99,389.99,509.99,249.99,459.99,199.0,449.99,349.99,629.99,769.99,689.99,215.95,329.0,450.0,429.99,759.49,329.99,350.0,869.95,818.88,412.0,989.99,427.99,449.99,249.99,159.11,219.99,369.99,495.95,779.99,409.99,199.99,749.99,219.99,474.95,424.99,499.0,349.49,349.0,244.99,499.99,398.0,449.95,299.95,200.0,881.27,342.99,499.99,265.99,229.99,581.99,249.99,229.45,249.99,315.0,199.99,189.71,395.99,635.0,495.45,233.95,399.94,215.95,549.99,650.0,269.99,289.99,399.99,430.99,469.06,599.98,989.99,489.99,317.77,379.99,699.99,694.99,739.99,359.99,747.12,635.4,299.99,429.99,832.99,649.99,325.0,269.95,599.99,368.95,830.0,544.99,289.99,544.0,569.99,489.99,101.0,239.99,294.99,668.65,369.99,169.0,531.15,399.99,269.99,829.0,369.99,849.0,300.0,379.99,525.0,299.99,799.89,270.0,320.0,879.0,242.95,874.99,189.99,233.95,199.0,349.99,549.0,219.99,574.99,674.99,300.0,649.99,645.32,199.99,648.0,550.0,379.95,99.99,229.0,268.0,640.0,899.99,279.99,150.0,99.99,389.95,229.0,449.99,292.46,799.0,344.99,279.99,649.0,339.0,849.99,499.99,259.99,449.99,830.0,269.95,209.99,645.0,269.99,485.0,419.99,279.99,319.0,305.0,169.99,384.46,179.0,170.99,259.99,819.99,247.45,577.07,170.95,899.95,849.99,449.88,379.0,215.95,151.99,328.99,339.0,699.95,344.99,850.0,170.99,510.0,299.0,499.99,225.0,799.99,329.99,449.99,459.99,150.95,199.0,699.99,669.99,169.95,544.94,699.99,449.99,539.99,282.49,579.99,629.99,449.0,499.95,279.99,519.99,379.66,290.0,649.77,499.99,299.0,599.95,441.99,244.99,789.99,229.99,275.39,649.99,359.1,399.99,949.99,389.99,239.99,645.0,399.0,669.99,549.0,365.75,199.98,279.99,699.99,59.99,353.99,604.99,724.99,598.0,359.99,469.99,699.0,469.99,200.0,189.71,749.0,799.0,829.99,349.0,499.99,149.99,999.99,305.96,319.99,619.99,374.99,370.0,375.0,497.99,474.95,400.0,299.99,549.99,389.99,658.99,169.99,652.99,869.99,389.99,168.99,638.99,499.99,899.99,422.1,509.99,456.0,386.1,899.0,189.99,974.99,849.99,329.0,749.95,429.99,559.99,975.0,599.89,899.0,694.95,219.99,799.99,549.99,979.77,456.49,49.99,387.0,215.26,659.45,850.0,376.29,341.1,199.0,239.99,329.99,295.79,377.97,239.99,191.99,181.99,399.99,544.95,699.88,359.99,251.95,509.99,233.95,789.99,319.0,349.0,750.49,289.99,99.99,469.99,499.99,679.99,799.99,399.99,364.0,299.99,599.99,649.99,327.0,974.95,188.95,749.99,319.99,229.99,319.99,179.99,569.99,289.0,719.99,353.43,300.89,719.99,724.95,251.95,574.99,251.95,349.85,179.99,329.99,329.99,389.0,424.15,399.99,389.0,825.0,499.99,395.96,624.95,259.99,395.96,422.06,288.0,384.46,189.99,269.99,589.99,649.99,319.0,419.95,121.46,329.99,599.0,449.95,510.0,326.75,242.1,200.0,255.03,292.46,279.0,332.1,399.0,320.0,319.99,329.99,243.46,849.53,539.0,325.99,389.99,99.99,809.99,774.99,386.96,379.99,599.99,790.0,519.55,233.95,589.99,249.99,162.99,510.0,703.0,225.0,729.88,332.96,300.0,529.99,249.0,399.95,594.99,349.0,353.4,724.99,196.46,289.0,839.0,419.99,229.99,694.99,314.99,799.99,789.99,214.0,414.99,349.99,379.86,575.0,659.95,320.0,645.04,879.99,584.99,288.99,244.31,759.99,299.99,669.99,224.39,899.0,229.0,247.45,899.99,649.0,449.0,445.0,400.0,269.1,800.0,559.99,729.0,549.0,170.1,228.99,349.99,999.95,849.0,259.98,191.99,579.0,319.0,440.86,399.99,359.96,389.99,649.45,149.99,999.0,500.0,199.99,229.99,479.99,299.96,541.99,369.99,999.99,819.99,289.0,242.1,609.99,169.99,449.99,779.99,469.99,599.95,449.99,299.99,529.99,719.99,449.95,694.99,700.0,549.0,239.99,448.0,337.49,412.49,369.99,215.95,299.99,279.99,849.95,469.99,234.06,383.49,161.95,949.99,385.0,269.95,499.99,471.75,881.27,169.0,274.99,135.99,345.0,419.99,242.95,399.99,699.0,650.0,639.99,379.99,328.46,269.95,251.95,195.99,599.99,699.0,159.99,839.0,569.99,631.49,229.0,449.99,499.99,239.0,749.95,549.99,514.99,919.99,424.15,399.99,139.99,89.0,337.46,558.95,470.0,774.99,269.99,403.26,305.99,529.0,377.64,489.0,378.99,589.25,439.99,449.0,269.99,699.99,699.0,396.37,751.06,299.49,513.0,424.95,679.0,650.0,849.95,859.99,514.41,704.06,469.99,199.0,299.0,379.99,559.99,789.99,572.99,759.99,399.99,299.99,298.95,680.0,429.99,699.99,219.99,148.99,525.0,304.99,400.0,485.0,589.99,399.99,289.99,703.0,290.0,549.99,539.99,599.99,975.0,314.99,249.99,249.0,999.99,695.0,599.99,319.99,579.99,379.0,471.75,979.99,299.0,839.99,328.06,153.99,429.0,619.0,377.99,589.99,287.95,400.0,719.99,880.0,323.96,769.99,699.99,589.0,560.0,499.99,425.99,499.99,699.0,449.99,239.95,409.99,999.99,195.99,499.88,300.0,666.0,549.99,314.96,339.99,510.0,724.99,899.99,484.99,229.0,185.0,816.66,469.99,365.0,395.96,399.99,666.99,729.99,849.95,510.0,829.99,385.97,399.99,949.95,781.79,199.99,449.0,649.99,459.99,998.0,899.99,180.49,251.95,242.95,199.99,283.45,169.99,279.0,839.99,249.99,799.95,374.99,269.95,349.99,599.99,535.0,700.0,247.45,457.99,489.0,549.0,472.22,469.0,959.64,549.0,323.96,269.95,999.99,445.99,499.99,270.0,268.99,289.0,800.0,569.0,242.95,99.99,300.0,429.95,319.99,299.0,516.06,292.46,499.0,0.0,938.59,599.99,499.0,373.99,785.99,289.99,889.99,459.99,499.99,233.95,815.99,849.0,281.99,699.99,950.0,349.99,589.0,842.98,219.99,190.0,224.95,499.0,849.99,499.0,400.0,288.97,879.99,799.99,215.0,289.98,379.99,321.19,400.0,499.99,328.06,340.0,799.99,749.95,405.0,389.0,483.99,525.0,869.99,749.0,299.99,199.99,260.95,539.99,229.0,841.99,379.99,551.8,539.96,399.0,399.0,449.0,265.0,249.99,339.0,399.0,558.88,639.0,949.95,560.0,399.99,449.99,699.0,650.0,298.0,649.99,299.99,215.26,873.26,549.99,649.99,549.99,599.0,400.0,574.99,519.75,459.99,234.06,289.49,350.96,849.99,229.99,799.99,481.46,939.0,999.99,505.75,990.0,845.06,589.45,850.0,899.99,385.0,704.06,509.99,334.15,799.0,419.99,379.95,478.49,429.69,195.99,589.0,539.96,291.2,519.99,205.0,607.45,368.96,449.0,899.88,399.0,815.99,427.99,674.98,629.99,921.99,199.0,85.0,379.99,225.0,599.0,469.0,206.95,299.99,779.49,800.0,527.99,325.0,499.0,699.0,999.95,379.99,619.99,215.26,299.0,662.99,44.45,454.33,329.0,271.66,214.0,800.0,864.49,959.99,789.99,429.99,459.33,249.22,767.99,495.0,269.95,197.95,224.95,184.45,899.99,649.99,285.0,349.99,377.4,624.95,290.46,562.49,269.95,224.95,644.95,329.99,279.0,319.99,275.99,400.0,341.1,319.0,854.99,929.0,679.0,292.46,374.99,480.0,499.0,549.5,229.99,850.0,329.99,224.95,749.99,909.99,354.99,919.99,268.99,391.46,499.99,383.99,199.99,369.99,729.99,509.99,490.0,649.99,332.1,599.99,739.99,999.0,774.95,274.98,215.95,309.26,225.0,269.1,179.0,320.0,479.0,869.99,548.88,674.99,499.0,378.99,949.99,969.0,259.99,859.0,299.99,500.0,611.99,346.86,799.99,939.0,489.0,199.99,225.0,279.99,829.99,509.15,764.99,365.66,529.99,399.0,451.99,529.99,429.99,769.99,529.77,379.99,349.99,749.0,950.0,377.97,332.1,339.99,499.98,449.99,418.47,489.99,399.99,559.99,234.06,699.0,449.0,256.45,581.56,283.05,869.99,480.69,341.1,328.06,300.0,290.0,179.99,468.71,499.0,229.0,584.0,539.99,175.0,949.0,393.86,379.99,549.99,850.0,211.99,275.0,260.95,649.49,599.99,349.45,533.32,799.99,369.99,332.75,624.95,373.99,187.99,369.99,599.0,299.99,499.99,800.0,329.75,829.99,719.99,99.99,272.24,729.99,849.0,881.99,981.0,779.99,285.0,399.99,475.0,450.0,750.0,813.7,429.99,349.99,276.66,639.0,550.0,469.99,99.99,359.99,614.99,279.99,299.0,424.99,229.99,474.99,669.37,835.66,242.1,99.99,349.99,475.0,388.26,780.0,429.99,195.99,329.89,649.99,900.0,560.0,439.0,210.0,770.0,550.0,649.45,349.99,699.0,278.95,389.0,349.99,314.96,336.99,305.96,819.99,542.99,359.99,269.95,399.55,855.3,389.0,251.95,500.0,575.0,799.99,205.86,314.96,393.86,629.99,780.0,800.0,825.0,499.99,350.96,469.06,589.88,549.0,449.96,644.95,325.0,314.96,220.45,949.99,184.45,649.0,329.99,175.99,529.99,549.99,250.99,899.0,604.99,299.99,569.95,449.99,198.0,295.0,400.0,799.88,379.99,375.06,199.99,305.96,179.99,449.99,400.0,559.99,799.2,539.99,330.0,614.99,386.96,422.06,95.0,429.95,559.99,0.0,749.99,671.99,479.99,499.99,317.95,242.1,759.99,549.0,489.99,242.1,319.99,549.0,459.0,254.99,515.0,499.99,801.71,362.74,450.0,340.0,349.99,320.0,495.0,549.99,649.99,199.0,397.71,414.75,242.1,807.46,719.95,499.99,306.55,754.8,374.99,459.99,332.99,800.0,215.95,416.99,337.46,329.99,379.0,599.99,749.99,519.0,348.95,779.99,249.99,649.99,429.0,449.99,699.99,479.99,428.98,989.99,269.99,270.0,599.0,649.99,199.99,250.0,509.0,419.99,149.49,329.99,215.95,724.99,509.99,750.0,699.99,385.0,355.97,649.99,29.99,599.99,289.99,699.99,989.99,519.95,699.99,599.88,733.99,408.0,599.0,769.0,329.99,239.99,379.99,195.0,569.99,499.99,699.89,349.99,639.45,377.15,280.0,359.99,623.99,749.99,647.75,963.06,794.99,349.99,589.0,449.75,999.88,328.0,670.0,618.0,479.99,400.0,270.0,629.49,310.0,900.0,337.49,292.46,211.45,669.0,215.95,699.99,424.99,649.99,359.96,700.0,496.99,649.99,224.95,374.99,224.95,320.0,460.99,429.99,349.99,687.94,271.66,549.0,329.99,395.0,283.49,195.0,789.0,720.0,417.75,375.0,325.97,379.22,374.99,699.0,581.56,816.99,999.0,265.0,429.99,383.99,749.0,579.0,240.0,285.0,469.99,899.0,540.0,649.95,215.0,387.59,553.66,189.0,589.0,600.0,599.95,779.99,829.0,558.83,679.99,227.71,250.0,599.99,374.99,739.0,299.0,599.99,764.01,290.0,250.0,99.99,239.99,239.0,649.99,780.0,519.99,689.99,559.97,549.7,329.99,686.99,975.0,575.99,995.0,999.0,719.99,745.06,239.99,179.99,700.0,599.99,360.0,752.99,490.0,324.75,899.99,999.0,185.0,260.0,669.99,699.98,373.46,685.0,185.0,599.0,658.99,245.0,619.99,360.99,375.0,329.99,637.49,739.0,449.49,429.99,539.99,832.71,449.96,949.0,475.0,245.99,634.99,416.75,272.99,859.0,329.99,379.0,479.0,230.0,679.0,657.06,412.66,350.0,899.99,509.0,700.0,200.0,819.98,950.0,799.99,598.99,599.99,799.0,999.99,229.99,892.06,579.99,399.99,29.99,349.0,285.0,215.0,876.99,422.99,289.99,536.99,549.7,400.0,269.95,549.0,704.06,850.0,419.0,427.0,330.0,195.0,270.0,260.0,310.0,359.99,779.0,543.99,750.0,849.99,530.0,569.95,679.9,389.0,316.99,900.0,751.06,420.0,259.99,350.0,499.99,224.95,344.99,384.0,867.0,599.0,249.99,719.1,639.99,468.0,749.95,419.0,265.0,314.96,750.0,549.0,314.99,500.0,729.99,419.99,679.0,469.06,799.99,612.99,699.0,744.99,239.99,379.99,419.99,695.99,650.0,405.99,420.0,279.0,650.0,519.0,800.0,346.86,849.0,499.99,245.0,999.99,324.99,499.99,344.99,230.0,379.99,439.99,179.0,789.88,950.0,424.87,449.99,290.0,919.0,299.0,499.99,250.0,705.2,449.0,0.0,381.99,229.0,349.99,450.26,645.0,400.0,799.99,569.0,279.99,179.99,240.0,724.1,165.0,499.49,399.0,499.49,449.0,295.0,850.0,999.0,299.95,933.49,375.0,329.0,429.0,195.0,789.65,425.0,620.99,540.0,779.49,248.99,599.99,379.0,559.0,799.77,690.0,899.99,229.99,190.0,599.0,649.99,433.99,500.0,350.0,680.0,899.99,665.0,899.0,509.99,249.0,554.99,420.0,479.0,375.99,469.99,629.0,460.0,959.95,375.55,499.99,892.06,480.0,559.99,299.86,688.77,255.0,999.0,600.9,889.99,775.99,639.99,437.49,825.0,699.99,549.0,503.87,379.99,649.0,99.99,849.95,812.99,950.0,475.0,660.45,834.48,549.99,999.99,719.46,769.99,999.99,600.0,995.0,949.95,499.0,439.99,299.99,949.95,849.99,309.99,379.95,939.99,585.98,899.0,469.0,650.0,799.99,889.99,268.0,395.0,599.0,700.0,679.99,215.0,399.0,195.0,235.0,869.99,999.88,460.99,252.86,649.99,899.95,749.98,850.0,274.99,404.96,650.0,550.0,529.0,460.0,265.0,998.48,879.95,699.99,434.29,400.99,794.95,300.0,243.46,647.98,280.0,767.99,649.99,477.0,249.99,949.99,169.0,475.0,95.46,519.0,829.0,322.99,425.0,544.26,562.49,658.66,610.06,807.46,451.99,420.0,620.0,449.99,868.99,299.99,549.0,708.99,500.0,320.0,751.06,750.0,599.0,349.99,349.99,490.0,679.99,899.99,399.0,300.0,255.0,823.24,345.0,799.99,319.99,833.99,549.0,827.0,900.0,914.26,400.0,449.99,445.0,909.82,265.0,898.99,357.84,489.0,500.0,350.0,932.78,525.0,649.0,599.0,350.0,299.0,279.0,449.0,675.0,699.0,449.0,750.0,650.0,499.99,388.26,350.0,210.0,699.99,589.0,473.54,949.99,265.0,461.79,605.0,495.0,293.82,599.99,439.99,659.99,898.0,250.0,500.0,679.0,599.99,900.0,399.0,400.0,499.99,498.99,242.1,225.0,999.0,311.1,989.99,599.0,969.0,950.0,604.99,404.96,628.86,679.99,750.0,999.99,989.99,950.0,510.0,657.06,699.99,761.0,849.0,899.99,599.99,509.99,260.0,292.49,191.99,649.0,610.84,399.0,450.0,750.0,885.0,929.66,691.99,271.66,245.0,449.0,450.0,349.99,300.0,299.0,549.0,875.0,900.0,849.0,599.0,699.99,649.99,270.0,265.0,200.0,600.0,849.95,950.0,399.0,439.0,649.0,235.0,210.0,549.47,728.5,295.0,875.99,529.99,400.0,699.99,457.35,350.0,749.99,799.99,999.99,410.04,999.99,588.0,299.0,566.87,691.99,635.49,235.0,524.99,229.0,479.99,600.0,551.99,499.99,669.99,819.0,620.0,415.75,479.0,499.99,649.0,99.99,299.0,365.66,577.99,355.99,339.99,639.99,900.0,874.95,999.99,942.26,699.99,549.99,599.0,649.4,379.99,459.99,335.0,494.99,364.99,250.0,870.0,650.0,497.26,720.0,899.99,841.48,99.0,399.99,650.0,190.0,553.66,259.95,116.11,389.99,399.0,459.99,473.99,345.0,449.99,295.0,479.35,921.99,404.99,424.99,85.15,359.99,799.99,799.0,599.0,740.05,680.0,463.97,489.0,779.99,419.9,299.99,575.0,325.99,897.01,230.0,495.0,609.65,309.26,270.0,611.77,529.99,650.0,937.99,374.99,459.95,190.0,745.98,760.0,549.99,879.99,650.0,418.75,99.99,899.0,395.0,221.8,849.95,195.0,309.99,349.99,495.99,807.99,549.0,245.0,294.99,319.99,299.99,269.99,532.99,604.99,619.99,255.0,611.99,281.99,579.99,412.49,311.39,995.0,805.22,389.0,412.49,900.0,879.99,899.99,666.46,489.47,859.0,875.55,415.0,649.95,579.0,499.0,299.0,499.0,950.0,599.99,999.95,575.96,649.0,275.0,330.16,350.0,488.0,625.0,599.0,950.0,525.0,873.26,328.0,508.68,400.0,589.0,668.88,594.99,899.99,926.0,289.22,649.0,549.99,369.99,899.99,441.99,349.99,350.0,310.0,699.99,799.99,329.99,963.42,399.0,319.0,699.99,599.0,699.99,799.99,949.99,589.99,49.99,999.95,249.49,459.99,849.99,790.9,669.75,349.75,299.99,400.0,239.99,999.99,579.99,853.99,486.99,824.0,972.47,0.99,728.83,675.0,323.31,157.4,445.0,999.99,699.99,399.99,955.0,907.7,800.0,569.99,359.99,999.0,647.66,899.0,955.71,974.99,799.99,754.99,942.55,450.0,483.96,939.06,360.98,534.86,849.99,800.0,469.99,250.0,611.99,779.46,799.0,108.98,675.0,529.99,316.99,799.99,799.0,299.99,299.88,931.88,359.0,879.99,175.0,0.0,429.0,760.46,422.06,548.88,450.0,395.0,999.0,299.0,540.0,459.0,939.06,809.0,330.0,979.0,329.6,999.99,498.71,475.0,29.99,450.0,589.0,443.98,229.99,769.0,479.99,999.99,965.77,545.99,699.49,241.55,149.99,643.49,479.99,729.99,240.0,574.99,840.99,975.0,599.99,483.99,404.96,649.8,640.0,989.78,484.99,458.96,658.49,450.0,524.99,899.99,699.99,429.88,497.47,609.79,355.0,279.99,899.99,599.99,849.95,265.0,879.99,184.63,235.0,399.99,225.0,989.0,659.98,430.0,339.99,873.26,449.99,954.99,950.0,488.0,565.0,879.0,700.0,466.99,579.0,799.99,509.99,479.99,724.03,389.0,569.0,411.1,450.0,899.99,782.1,449.99,529.99,833.7,653.99,749.0,950.0,700.0,579.0,729.99,899.49,499.0,739.0,599.99,329.0,790.0,999.89,339.0,195.0,402.77,525.99,879.0,225.0,509.0,699.0,829.46,449.0,285.0,499.49,315.0,770.0,959.99,749.0,839.95,400.0,475.0,549.99,639.0,599.0,599.99,400.0,255.0,749.99,559.99,270.0,265.0,799.99,864.0,750.0,749.99,679.35,379.99,777.22,729.99,749.99,679.99,900.0,639.0,588.99,636.99,489.95,299.0,450.0,210.0,530.0,963.6,700.0,880.0,499.99,599.99,409.99,764.0,689.95,332.99,273.1,225.0,749.99,850.0,999.99,479.0,629.99,712.49,629.0,846.71,666.66,796.05,669.0,499.99,427.82,635.98,245.0,340.0,674.1,678.88,194.71,99.99,699.0,299.99,949.0,225.0,146.66,459.49,816.33,260.0,230.0,649.99,849.0,624.99,949.99,220.0,980.0,779.99,599.99,215.0,467.04,315.0,245.0,659.0,639.99,575.99,799.99,384.47,700.0,741.66,445.0,920.98,295.0,529.99,255.0,999.99,402.77,520.0,599.47,487.86,285.0,744.99,399.0,749.99,999.99,195.0,349.47,799.95,550.0,325.0,424.99,148.92,220.0,759.46,225.0,657.11,899.99,849.95,450.0,190.0,999.99,295.0,674.99,899.99,599.99,669.0,469.0,725.0,514.99,305.0,558.86,175.0,700.0,506.66,736.53,799.0,144.95,339.0,499.0,768.99,457.99,999.95,344.99,899.99,900.0,449.99,999.0,399.0,827.15,359.0,844.99,699.99,349.99,100.0,215.0,549.95,795.0,359.99,449.0,445.0,689.99,461.97,519.99,999.99,999.99,549.99,950.0,789.0,165.0,879.0,823.99,962.06,280.0,849.0,699.99,843.61,679.0,930.07,550.0,699.99,604.99,785.98,499.99,900.0,825.25,958.06,204.0,521.49,820.39,506.99,999.0,476.0,220.0,799.0,649.0,52.53,199.0,724.0,499.99,679.0,695.77,959.0,699.99,988.88,328.99,527.86,800.0,490.0,800.0,649.79,353.99,679.99,649.99,310.0,499.0,785.95,365.0,899.99,758.0,541.99,305.99,425.0,413.0,175.0,330.0,355.0,397.0,439.99,724.05,699.99,200.0,199.0,899.99,284.98,724.09,455.0,769.98,849.99,699.0,981.74,265.0,800.0,175.0,525.46,849.89,220.0,949.8,499.99,850.0,449.0,500.0,325.0,769.89,821.0,335.0,917.99,150.0,245.0,999.99,549.99,225.0,549.99,549.49,700.0,440.0,335.0,900.0,249.99,563.99,425.0,699.0,290.0,759.99,625.0,649.0,445.0,644.49,460.99,116.99,759.18,835.66,310.0,799.0,849.99,978.57,900.0,418.51,418.88,0.0,611.99,899.99,355.0,325.0,899.0,474.99,568.07,433.75,540.0,613.0,297.49,799.0,393.0,912.99,779.99,465.0,350.0,147.99,699.99,451.99,601.99,275.0,724.11,449.0,859.99,880.0,991.83,527.22,689.99,124.5,329.0,899.99,539.0,469.0,539.0,475.0,489.99,170.0,985.79,980.49,503.34,89.0,270.0,433.75,568.07,900.0,525.0,175.0,767.99,949.99,378.99,599.99,899.91,569.99,921.99,605.27,295.0,500.0,259.99,405.0,965.8,471.02,799.99,785.98,769.98,643.99,875.0,995.0,981.59,500.0,464.99,596.1,433.75,197.99,979.99,749.99,999.0,648.79,749.99,960.36,671.99,599.99,527.89,889.99,465.0,500.0,799.0,398.0,494.99,648.79,907.99,759.18,649.0,729.99,657.06,799.0,595.0,388.0,759.0,531.49,611.99,385.0,979.0,807.99,642.42,805.98,939.06,465.0,290.0,599.99,629.99,688.98,582.77,590.28,456.84,899.0,900.79,749.99,650.0,999.0,29.6,929.99,495.0,599.99,585.28,129.39,803.98,999.99,749.99,328.0,619.99,820.0,929.99,299.0,749.97,999.99,349.99,749.0,899.0,653.95,805.98,725.0,659.98,529.99,863.86,648.88,592.62,456.84,385.08,399.99,265.0,791.61,549.99,434.49,903.99,549.99,582.77,315.0,603.28,39.49,874.48,879.99,375.0,639.96,185.0,685.0,656.59,671.99,917.02,794.78,724.02,800.0,671.99,999.99,863.98,529.99,849.15,902.68,398.98,275.0,659.98,650.0,568.07,885.78,98.98,599.99,899.99,889.99,569.99,539.99,949.0,994.99,105.37,899.99,834.99,569.99,549.99,161.98,789.35,275.0,974.97,329.95,499.0,679.99,499.0,175.0,497.88,930.13,610.06,899.99,902.0,999.0,65.71,999.0,899.31,590.28,599.95,385.08,422.0,377.0,642.99,899.99,981.59,729.99,451.99,719.0,99.98,794.98,820.0,949.0,945.67,614.97,699.0,449.99,549.0,335.99,575.0,789.49,88.24,205.0,364.99,64.71,688.13,14.85,159.56,993.0,999.96,649.99,789.99,895.55,635.65,405.99,17.5],\"xaxis\":\"x\",\"yaxis\":\"y\",\"type\":\"histogram\"}],                        {\"template\":{\"data\":{\"bar\":[{\"error_x\":{\"color\":\"#2a3f5f\"},\"error_y\":{\"color\":\"#2a3f5f\"},\"marker\":{\"line\":{\"color\":\"#E5ECF6\",\"width\":0.5},\"pattern\":{\"fillmode\":\"overlay\",\"size\":10,\"solidity\":0.2}},\"type\":\"bar\"}],\"barpolar\":[{\"marker\":{\"line\":{\"color\":\"#E5ECF6\",\"width\":0.5},\"pattern\":{\"fillmode\":\"overlay\",\"size\":10,\"solidity\":0.2}},\"type\":\"barpolar\"}],\"carpet\":[{\"aaxis\":{\"endlinecolor\":\"#2a3f5f\",\"gridcolor\":\"white\",\"linecolor\":\"white\",\"minorgridcolor\":\"white\",\"startlinecolor\":\"#2a3f5f\"},\"baxis\":{\"endlinecolor\":\"#2a3f5f\",\"gridcolor\":\"white\",\"linecolor\":\"white\",\"minorgridcolor\":\"white\",\"startlinecolor\":\"#2a3f5f\"},\"type\":\"carpet\"}],\"choropleth\":[{\"colorbar\":{\"outlinewidth\":0,\"ticks\":\"\"},\"type\":\"choropleth\"}],\"contour\":[{\"colorbar\":{\"outlinewidth\":0,\"ticks\":\"\"},\"colorscale\":[[0.0,\"#0d0887\"],[0.1111111111111111,\"#46039f\"],[0.2222222222222222,\"#7201a8\"],[0.3333333333333333,\"#9c179e\"],[0.4444444444444444,\"#bd3786\"],[0.5555555555555556,\"#d8576b\"],[0.6666666666666666,\"#ed7953\"],[0.7777777777777778,\"#fb9f3a\"],[0.8888888888888888,\"#fdca26\"],[1.0,\"#f0f921\"]],\"type\":\"contour\"}],\"contourcarpet\":[{\"colorbar\":{\"outlinewidth\":0,\"ticks\":\"\"},\"type\":\"contourcarpet\"}],\"heatmap\":[{\"colorbar\":{\"outlinewidth\":0,\"ticks\":\"\"},\"colorscale\":[[0.0,\"#0d0887\"],[0.1111111111111111,\"#46039f\"],[0.2222222222222222,\"#7201a8\"],[0.3333333333333333,\"#9c179e\"],[0.4444444444444444,\"#bd3786\"],[0.5555555555555556,\"#d8576b\"],[0.6666666666666666,\"#ed7953\"],[0.7777777777777778,\"#fb9f3a\"],[0.8888888888888888,\"#fdca26\"],[1.0,\"#f0f921\"]],\"type\":\"heatmap\"}],\"heatmapgl\":[{\"colorbar\":{\"outlinewidth\":0,\"ticks\":\"\"},\"colorscale\":[[0.0,\"#0d0887\"],[0.1111111111111111,\"#46039f\"],[0.2222222222222222,\"#7201a8\"],[0.3333333333333333,\"#9c179e\"],[0.4444444444444444,\"#bd3786\"],[0.5555555555555556,\"#d8576b\"],[0.6666666666666666,\"#ed7953\"],[0.7777777777777778,\"#fb9f3a\"],[0.8888888888888888,\"#fdca26\"],[1.0,\"#f0f921\"]],\"type\":\"heatmapgl\"}],\"histogram\":[{\"marker\":{\"pattern\":{\"fillmode\":\"overlay\",\"size\":10,\"solidity\":0.2}},\"type\":\"histogram\"}],\"histogram2d\":[{\"colorbar\":{\"outlinewidth\":0,\"ticks\":\"\"},\"colorscale\":[[0.0,\"#0d0887\"],[0.1111111111111111,\"#46039f\"],[0.2222222222222222,\"#7201a8\"],[0.3333333333333333,\"#9c179e\"],[0.4444444444444444,\"#bd3786\"],[0.5555555555555556,\"#d8576b\"],[0.6666666666666666,\"#ed7953\"],[0.7777777777777778,\"#fb9f3a\"],[0.8888888888888888,\"#fdca26\"],[1.0,\"#f0f921\"]],\"type\":\"histogram2d\"}],\"histogram2dcontour\":[{\"colorbar\":{\"outlinewidth\":0,\"ticks\":\"\"},\"colorscale\":[[0.0,\"#0d0887\"],[0.1111111111111111,\"#46039f\"],[0.2222222222222222,\"#7201a8\"],[0.3333333333333333,\"#9c179e\"],[0.4444444444444444,\"#bd3786\"],[0.5555555555555556,\"#d8576b\"],[0.6666666666666666,\"#ed7953\"],[0.7777777777777778,\"#fb9f3a\"],[0.8888888888888888,\"#fdca26\"],[1.0,\"#f0f921\"]],\"type\":\"histogram2dcontour\"}],\"mesh3d\":[{\"colorbar\":{\"outlinewidth\":0,\"ticks\":\"\"},\"type\":\"mesh3d\"}],\"parcoords\":[{\"line\":{\"colorbar\":{\"outlinewidth\":0,\"ticks\":\"\"}},\"type\":\"parcoords\"}],\"pie\":[{\"automargin\":true,\"type\":\"pie\"}],\"scatter\":[{\"marker\":{\"colorbar\":{\"outlinewidth\":0,\"ticks\":\"\"}},\"type\":\"scatter\"}],\"scatter3d\":[{\"line\":{\"colorbar\":{\"outlinewidth\":0,\"ticks\":\"\"}},\"marker\":{\"colorbar\":{\"outlinewidth\":0,\"ticks\":\"\"}},\"type\":\"scatter3d\"}],\"scattercarpet\":[{\"marker\":{\"colorbar\":{\"outlinewidth\":0,\"ticks\":\"\"}},\"type\":\"scattercarpet\"}],\"scattergeo\":[{\"marker\":{\"colorbar\":{\"outlinewidth\":0,\"ticks\":\"\"}},\"type\":\"scattergeo\"}],\"scattergl\":[{\"marker\":{\"colorbar\":{\"outlinewidth\":0,\"ticks\":\"\"}},\"type\":\"scattergl\"}],\"scattermapbox\":[{\"marker\":{\"colorbar\":{\"outlinewidth\":0,\"ticks\":\"\"}},\"type\":\"scattermapbox\"}],\"scatterpolar\":[{\"marker\":{\"colorbar\":{\"outlinewidth\":0,\"ticks\":\"\"}},\"type\":\"scatterpolar\"}],\"scatterpolargl\":[{\"marker\":{\"colorbar\":{\"outlinewidth\":0,\"ticks\":\"\"}},\"type\":\"scatterpolargl\"}],\"scatterternary\":[{\"marker\":{\"colorbar\":{\"outlinewidth\":0,\"ticks\":\"\"}},\"type\":\"scatterternary\"}],\"surface\":[{\"colorbar\":{\"outlinewidth\":0,\"ticks\":\"\"},\"colorscale\":[[0.0,\"#0d0887\"],[0.1111111111111111,\"#46039f\"],[0.2222222222222222,\"#7201a8\"],[0.3333333333333333,\"#9c179e\"],[0.4444444444444444,\"#bd3786\"],[0.5555555555555556,\"#d8576b\"],[0.6666666666666666,\"#ed7953\"],[0.7777777777777778,\"#fb9f3a\"],[0.8888888888888888,\"#fdca26\"],[1.0,\"#f0f921\"]],\"type\":\"surface\"}],\"table\":[{\"cells\":{\"fill\":{\"color\":\"#EBF0F8\"},\"line\":{\"color\":\"white\"}},\"header\":{\"fill\":{\"color\":\"#C8D4E3\"},\"line\":{\"color\":\"white\"}},\"type\":\"table\"}]},\"layout\":{\"annotationdefaults\":{\"arrowcolor\":\"#2a3f5f\",\"arrowhead\":0,\"arrowwidth\":1},\"autotypenumbers\":\"strict\",\"coloraxis\":{\"colorbar\":{\"outlinewidth\":0,\"ticks\":\"\"}},\"colorscale\":{\"diverging\":[[0,\"#8e0152\"],[0.1,\"#c51b7d\"],[0.2,\"#de77ae\"],[0.3,\"#f1b6da\"],[0.4,\"#fde0ef\"],[0.5,\"#f7f7f7\"],[0.6,\"#e6f5d0\"],[0.7,\"#b8e186\"],[0.8,\"#7fbc41\"],[0.9,\"#4d9221\"],[1,\"#276419\"]],\"sequential\":[[0.0,\"#0d0887\"],[0.1111111111111111,\"#46039f\"],[0.2222222222222222,\"#7201a8\"],[0.3333333333333333,\"#9c179e\"],[0.4444444444444444,\"#bd3786\"],[0.5555555555555556,\"#d8576b\"],[0.6666666666666666,\"#ed7953\"],[0.7777777777777778,\"#fb9f3a\"],[0.8888888888888888,\"#fdca26\"],[1.0,\"#f0f921\"]],\"sequentialminus\":[[0.0,\"#0d0887\"],[0.1111111111111111,\"#46039f\"],[0.2222222222222222,\"#7201a8\"],[0.3333333333333333,\"#9c179e\"],[0.4444444444444444,\"#bd3786\"],[0.5555555555555556,\"#d8576b\"],[0.6666666666666666,\"#ed7953\"],[0.7777777777777778,\"#fb9f3a\"],[0.8888888888888888,\"#fdca26\"],[1.0,\"#f0f921\"]]},\"colorway\":[\"#636efa\",\"#EF553B\",\"#00cc96\",\"#ab63fa\",\"#FFA15A\",\"#19d3f3\",\"#FF6692\",\"#B6E880\",\"#FF97FF\",\"#FECB52\"],\"font\":{\"color\":\"#2a3f5f\"},\"geo\":{\"bgcolor\":\"white\",\"lakecolor\":\"white\",\"landcolor\":\"#E5ECF6\",\"showlakes\":true,\"showland\":true,\"subunitcolor\":\"white\"},\"hoverlabel\":{\"align\":\"left\"},\"hovermode\":\"closest\",\"mapbox\":{\"style\":\"light\"},\"paper_bgcolor\":\"white\",\"plot_bgcolor\":\"#E5ECF6\",\"polar\":{\"angularaxis\":{\"gridcolor\":\"white\",\"linecolor\":\"white\",\"ticks\":\"\"},\"bgcolor\":\"#E5ECF6\",\"radialaxis\":{\"gridcolor\":\"white\",\"linecolor\":\"white\",\"ticks\":\"\"}},\"scene\":{\"xaxis\":{\"backgroundcolor\":\"#E5ECF6\",\"gridcolor\":\"white\",\"gridwidth\":2,\"linecolor\":\"white\",\"showbackground\":true,\"ticks\":\"\",\"zerolinecolor\":\"white\"},\"yaxis\":{\"backgroundcolor\":\"#E5ECF6\",\"gridcolor\":\"white\",\"gridwidth\":2,\"linecolor\":\"white\",\"showbackground\":true,\"ticks\":\"\",\"zerolinecolor\":\"white\"},\"zaxis\":{\"backgroundcolor\":\"#E5ECF6\",\"gridcolor\":\"white\",\"gridwidth\":2,\"linecolor\":\"white\",\"showbackground\":true,\"ticks\":\"\",\"zerolinecolor\":\"white\"}},\"shapedefaults\":{\"line\":{\"color\":\"#2a3f5f\"}},\"ternary\":{\"aaxis\":{\"gridcolor\":\"white\",\"linecolor\":\"white\",\"ticks\":\"\"},\"baxis\":{\"gridcolor\":\"white\",\"linecolor\":\"white\",\"ticks\":\"\"},\"bgcolor\":\"#E5ECF6\",\"caxis\":{\"gridcolor\":\"white\",\"linecolor\":\"white\",\"ticks\":\"\"}},\"title\":{\"x\":0.05},\"xaxis\":{\"automargin\":true,\"gridcolor\":\"white\",\"linecolor\":\"white\",\"ticks\":\"\",\"title\":{\"standoff\":15},\"zerolinecolor\":\"white\",\"zerolinewidth\":2},\"yaxis\":{\"automargin\":true,\"gridcolor\":\"white\",\"linecolor\":\"white\",\"ticks\":\"\",\"title\":{\"standoff\":15},\"zerolinecolor\":\"white\",\"zerolinewidth\":2}}},\"xaxis\":{\"anchor\":\"y\",\"domain\":[0.0,1.0],\"title\":{\"text\":\"Price\"}},\"yaxis\":{\"anchor\":\"x\",\"domain\":[0.0,1.0],\"title\":{\"text\":\"count\"}},\"legend\":{\"tracegroupgap\":0},\"title\":{\"text\":\"Distribution of Prices\"},\"barmode\":\"relative\"},                        {\"responsive\": true}                    ).then(function(){\n",
       "                            \n",
       "var gd = document.getElementById('208f63c2-1610-4f2e-9027-5a2e4ca79d76');\n",
       "var x = new MutationObserver(function (mutations, observer) {{\n",
       "        var display = window.getComputedStyle(gd).display;\n",
       "        if (!display || display === 'none') {{\n",
       "            console.log([gd, 'removed!']);\n",
       "            Plotly.purge(gd);\n",
       "            observer.disconnect();\n",
       "        }}\n",
       "}});\n",
       "\n",
       "// Listen for the removal of the full notebook cells\n",
       "var notebookContainer = gd.closest('#notebook-container');\n",
       "if (notebookContainer) {{\n",
       "    x.observe(notebookContainer, {childList: true});\n",
       "}}\n",
       "\n",
       "// Listen for the clearing of the current output cell\n",
       "var outputEl = gd.closest('.output');\n",
       "if (outputEl) {{\n",
       "    x.observe(outputEl, {childList: true});\n",
       "}}\n",
       "\n",
       "                        })                };                });            </script>        </div>"
      ]
     },
     "metadata": {},
     "output_type": "display_data"
    }
   ],
   "source": [
    "fig = px.histogram(dane,\n",
    "                  x = \"Price\",\n",
    "                    title = \"Distribution of Prices\",\n",
    "                  labels ={\n",
    "                      \"count\": \"Count\"\n",
    "                  },\n",
    "                  hover_name = \"Price\")\n",
    "fig.show()"
   ]
  },
  {
   "cell_type": "markdown",
   "id": "54e47d32",
   "metadata": {},
   "source": [
    "Nie widać wyraźnie jakiegoś konkretnego rozkładu. Wydawać by się mogło nawet, że zmienne pomiędzy 200 a 1000 w paru miejscach \"wybuchają\" i jest ich w pewnych kubełkach nagle więcej pod pozostałych do okoła. Możemy za to powiedzieć, że najmniej jest laptopów o cenie między 0-200 dolarów. Najwięcej między 480-499.99 (znów chwyt marketingowy). Co więcej, w ostatnim kubełku wartości również jest niemało, z uwagi na fakt, że sprzedawcy wolą zostawić cenę 999.99 niż podnosić do 1000."
   ]
  },
  {
   "cell_type": "code",
   "execution_count": 105,
   "id": "fabba9a6",
   "metadata": {},
   "outputs": [
    {
     "data": {
      "application/vnd.plotly.v1+json": {
       "config": {
        "plotlyServerURL": "https://plot.ly"
       },
       "data": [
        {
         "alignmentgroup": "True",
         "hovertemplate": "Screen_Size=%{x}<extra></extra>",
         "legendgroup": "",
         "marker": {
          "color": "#636efa"
         },
         "name": "",
         "notched": false,
         "offsetgroup": "",
         "orientation": "h",
         "showlegend": false,
         "type": "box",
         "x": [
          14,
          15.6,
          15.6,
          15.6,
          15.6,
          13.5,
          15.6,
          15.6,
          13.5,
          14,
          15.6,
          14,
          14,
          13.4,
          14,
          14,
          13.3,
          15.6,
          15.6,
          15.6,
          14,
          13.3,
          15.6,
          15.6,
          15.6,
          14,
          11.6,
          14,
          14,
          15.6,
          15.6,
          12.4,
          16,
          15.6,
          14,
          15.6,
          14,
          15.6,
          16,
          15.6,
          15.6,
          15.6,
          15.6,
          15.6,
          14.5,
          15.6,
          14,
          13.3,
          15.6,
          13.3,
          13.3,
          15.6,
          14.5,
          15.6,
          15.6,
          12.5,
          13.5,
          13.3,
          14,
          15.6,
          13.4,
          15.6,
          13.3,
          13.5,
          14,
          15,
          14,
          14,
          15,
          17.3,
          14.4,
          14,
          14,
          14,
          10.1,
          14,
          16,
          13.4,
          13,
          17,
          15.6,
          15.6,
          15.6,
          14,
          15.6,
          14,
          15.6,
          15,
          14,
          14,
          15.6,
          15.6,
          14,
          15.6,
          14,
          15.6,
          14,
          15,
          15.6,
          15.6,
          13.4,
          15.6,
          17,
          12,
          15.6,
          14,
          13.3,
          15.6,
          14,
          15.6,
          14,
          14,
          15.6,
          15.6,
          14,
          13.3,
          14,
          14,
          17,
          13.3,
          14,
          13,
          14,
          14,
          14,
          14,
          15.6,
          15.6,
          15.6,
          15.6,
          15.6,
          15.6,
          14,
          15.6,
          17.3,
          14,
          14,
          12.4,
          14,
          11.6,
          12.4,
          14,
          13.3,
          15.6,
          15.6,
          14,
          14,
          15.6,
          14,
          11.6,
          13.3,
          13.3,
          16,
          12.5,
          14,
          14,
          14,
          14,
          15.6,
          16,
          12,
          14,
          14,
          15.6,
          13.3,
          14,
          13.4,
          13,
          15.6,
          16,
          13,
          12.5,
          12.5,
          14,
          15.6,
          13.3,
          14.1,
          14,
          13.3,
          14,
          10.1,
          14,
          14,
          14,
          15.6,
          15.6,
          15.6,
          13.5,
          16,
          12.4,
          11.6,
          13.3,
          16,
          16,
          15.6,
          14,
          15.6,
          14,
          14,
          11.6,
          15.6,
          14,
          15.6,
          14,
          14.1,
          14,
          14,
          15.6,
          15,
          15.6,
          14,
          14,
          14,
          14,
          15.6,
          15.6,
          14,
          14,
          14,
          13.5,
          14,
          15.6,
          14,
          17.3,
          15.6,
          15.6,
          13.9,
          15.6,
          14,
          14,
          14,
          15.6,
          13.3,
          14,
          15.6,
          13.5,
          14,
          15.6,
          14,
          14,
          13.4,
          15.6,
          14,
          12.4,
          16,
          17.3,
          13.3,
          14,
          15.6,
          15.6,
          16,
          15.6,
          14,
          14,
          15.6,
          14,
          15.6,
          12.5,
          14,
          14,
          16,
          14,
          15.6,
          15.6,
          14,
          15.6,
          14,
          15.6,
          13.3,
          15.6,
          14,
          17.3,
          15.6,
          14,
          15.6,
          14,
          13.4,
          11.6,
          15.6,
          12.4,
          14,
          15.6,
          14,
          14,
          15.6,
          15.6,
          14,
          15.6,
          13.3,
          15.6,
          15.6,
          13,
          15.6,
          14,
          13.4,
          14,
          14,
          15.6,
          13.3,
          15.6,
          14,
          15.6,
          16,
          15.6,
          14,
          14,
          17,
          14,
          14,
          14,
          14,
          13.3,
          15.6,
          14,
          14,
          16,
          15.6,
          13.3,
          15.6,
          14,
          16,
          14,
          14,
          16,
          13.3,
          13.3,
          13.9,
          14,
          15.6,
          15.6,
          14,
          14,
          16,
          14,
          14,
          15.6,
          15.6,
          16,
          15.6,
          12.4,
          14,
          14,
          15.6,
          17.3,
          15.6,
          15.6,
          13.3,
          15.6,
          14,
          12.5,
          15.6,
          15.6,
          15.6,
          14,
          14,
          13.5,
          14,
          15.6,
          16,
          14,
          15.6,
          13.5,
          15.6,
          14,
          15.6,
          14,
          13.3,
          15.6,
          14,
          15.6,
          15.6,
          13.3,
          14,
          14,
          15.6,
          15.6,
          14,
          14,
          17,
          15.6,
          16,
          16,
          14,
          14,
          14,
          14,
          13.3,
          15.6,
          14,
          15.6,
          15.6,
          14,
          14,
          14,
          13.3,
          13.3,
          15.6,
          14,
          13.3,
          15.6,
          14,
          14,
          14,
          14,
          16,
          15.6,
          14,
          14,
          15.6,
          14,
          14,
          17.3,
          14,
          14,
          13.3,
          15.6,
          12.3,
          13.5,
          15.6,
          13.5,
          13.3,
          17.3,
          13.3,
          14,
          12.5,
          13.5,
          14.4,
          14,
          13.4,
          15.6,
          15.6,
          15.6,
          15.6,
          14,
          13.5,
          15.6,
          14,
          14,
          14,
          13.3,
          14,
          15.6,
          15.6,
          15.6,
          14,
          15,
          14,
          15,
          13.3,
          15.6,
          13.4,
          15.6,
          13.3,
          16,
          14,
          15.6,
          15.6,
          13.3,
          14,
          14.4,
          17.3,
          14,
          15.6,
          13.5,
          13,
          14,
          14,
          13.5,
          16,
          15.6,
          14,
          17,
          14,
          14,
          15.6,
          14,
          13.5,
          13.4,
          14,
          13.5,
          15.6,
          13.3,
          13.3,
          14,
          14,
          13.3,
          14,
          15.6,
          14,
          14,
          15.6,
          14,
          16,
          13.3,
          15,
          14,
          16,
          14,
          14,
          14,
          14,
          14,
          17.3,
          16,
          15.6,
          17.3,
          16,
          15.6,
          13.3,
          15.6,
          15.6,
          15.6,
          15.6,
          14,
          13.4,
          16,
          13.5,
          15.6,
          13,
          15.6,
          15,
          14,
          15.6,
          14,
          13.3,
          17.3,
          15.6,
          17.3,
          15.6,
          16,
          15.6,
          14,
          14,
          13.3,
          15.6,
          14,
          15.6,
          15.6,
          15.6,
          13.9,
          14,
          13.3,
          14,
          14,
          14,
          14,
          14,
          15.6,
          13.3,
          14,
          14,
          13.3,
          13.5,
          14,
          14,
          15.6,
          12.5,
          15.6,
          15.6,
          15.6,
          16,
          14,
          14,
          14,
          14,
          15.6,
          15.6,
          15.6,
          15.6,
          14,
          15.6,
          13.4,
          15.6,
          13.3,
          15,
          14,
          14,
          14,
          13,
          15.6,
          15.6,
          15.6,
          15.6,
          14,
          14,
          14,
          14,
          13.5,
          16,
          15.6,
          14,
          15,
          14,
          14,
          14,
          13.3,
          14,
          14,
          13.3,
          15.6,
          15.6,
          14,
          12.5,
          14,
          15.6,
          14,
          16,
          15.6,
          15.6,
          14.1,
          13.3,
          13.3,
          14,
          17.3,
          15.6,
          14,
          15.6,
          14,
          14,
          16,
          13.3,
          14,
          15.6,
          14,
          14,
          15.6,
          14,
          14,
          14,
          14,
          13.5,
          13.3,
          15,
          14,
          12.3,
          13.5,
          17,
          14,
          14,
          14,
          15.6,
          14,
          14,
          14,
          14,
          13.3,
          15.6,
          15.6,
          14,
          13.3,
          15.6,
          13.3,
          12.5,
          14,
          14,
          16.1,
          15.6,
          15.6,
          11.6,
          14,
          14,
          13,
          14,
          14,
          14,
          14,
          15.6,
          14,
          12.5,
          15.6,
          14,
          15.6,
          15.6,
          14,
          13.3,
          15.6,
          13.4,
          17,
          15.6,
          14,
          14,
          14,
          13.4,
          15.6,
          14,
          15.6,
          14.1,
          14,
          14,
          15.6,
          16,
          15.6,
          13,
          16,
          14.1,
          14,
          14,
          13.4,
          14,
          15.6,
          15.6,
          15.6,
          14,
          14,
          12.5,
          14,
          14,
          14,
          17.3,
          15.6,
          14,
          12.5,
          14,
          13.4,
          12.5,
          15.6,
          13.5,
          12.4,
          14,
          15.6,
          14,
          15.6,
          13.3,
          14,
          14,
          13,
          15.6,
          13.3,
          15.6,
          15.6,
          15.6,
          14,
          14,
          13.3,
          15.6,
          14,
          14,
          14,
          13.3,
          14,
          15.6,
          12.4,
          14,
          14,
          14,
          13.4,
          15.6,
          15.6,
          14.5,
          12,
          15.6,
          14,
          14,
          13,
          17.3,
          15.6,
          14,
          13.3,
          14,
          15.6,
          13.3,
          14,
          15.6,
          13.3,
          13,
          14.5,
          14,
          15.6,
          15.6,
          14,
          13.3,
          15.6,
          14,
          15.6,
          13,
          15.3,
          15.6,
          12.5,
          14,
          13.3,
          15.6,
          17.3,
          13.5,
          14,
          15.6,
          15.6,
          17.3,
          15.6,
          16,
          13.5,
          16.1,
          14,
          12.4,
          14,
          17.3,
          15.6,
          14,
          15.6,
          12.3,
          15.6,
          14,
          14,
          15.6,
          14,
          16,
          15.6,
          14,
          14.4,
          12.5,
          15.6,
          13.5,
          15.6,
          14,
          13.5,
          13.4,
          14,
          14,
          14,
          13.3,
          14,
          15.6,
          14,
          14,
          16,
          15.6,
          14,
          13.3,
          14,
          14,
          14,
          17,
          14,
          15.6,
          13.4,
          15.6,
          16,
          14,
          14,
          14,
          15.6,
          13.5,
          15.6,
          14,
          14,
          13.3,
          14,
          15.6,
          15.6,
          14,
          13.3,
          12.3,
          14,
          15.6,
          14,
          16,
          14,
          14,
          13.5,
          15.6,
          14,
          15.6,
          13.3,
          14,
          13.3,
          13.3,
          15,
          14,
          14,
          14,
          14,
          15.6,
          14,
          12.3,
          15.6,
          14,
          13.5,
          14,
          15.6,
          14.1,
          14,
          13.5,
          15.6,
          14,
          14,
          12.5,
          16.1,
          15.6,
          15.6,
          15.6,
          13.3,
          15.6,
          15.6,
          14,
          15.6,
          15.6,
          13.3,
          14,
          17.3,
          15.6,
          15.6,
          15.6,
          14,
          14,
          17.3,
          17.3,
          13.3,
          14,
          14,
          14,
          14,
          14,
          12.3,
          14,
          14,
          14,
          15.6,
          15.6,
          14,
          14,
          14,
          13.3,
          13.3,
          15,
          13,
          15.6,
          15.6,
          14,
          14,
          15.6,
          14,
          14,
          14,
          14,
          15.6,
          13.5,
          14,
          15.6,
          15.6,
          17.3,
          14,
          15.6,
          15.6,
          15.6,
          14,
          14,
          15.6,
          14,
          15.6,
          13.3,
          15.6,
          15.6,
          15.6,
          13,
          17.3,
          15.6,
          15.6,
          16,
          13.3,
          15.6,
          13,
          13.5,
          14,
          15.6,
          15.6,
          14,
          14.1,
          15,
          14,
          14,
          14,
          15.6,
          14,
          14,
          17.3,
          14,
          14,
          15.6,
          14,
          14,
          12.4,
          14.1,
          16,
          15.6,
          15.6,
          17.3,
          14,
          13.5,
          14,
          14,
          13.3,
          14,
          15.6,
          17.3,
          14,
          14,
          13.3,
          13.4,
          15.6,
          15.6,
          14,
          15.6,
          14,
          15.6,
          13.3,
          17.3,
          14,
          14,
          14,
          15.6,
          15.6,
          15.6,
          14,
          16,
          14,
          13.3,
          15.6,
          15,
          17.3,
          15.6,
          14,
          15.6,
          16,
          13.5,
          14,
          15.6,
          15.6,
          14,
          13.5,
          13.5,
          13,
          14,
          16,
          15.6,
          13.3,
          14,
          14,
          15.6,
          17.3,
          13.5,
          17.3,
          14,
          15.6,
          15.6,
          15.6,
          15.6,
          17.3,
          13.3,
          14,
          14,
          13.4,
          14.1,
          14,
          14,
          14,
          15.6,
          14,
          14,
          14,
          15.6,
          13,
          15.6,
          14,
          15.6,
          13.4,
          14,
          15,
          14,
          13.4,
          14,
          15.6,
          14,
          17,
          14,
          14,
          13.3,
          12.4,
          14,
          13.3,
          14,
          15.6,
          15.6,
          14,
          15,
          14,
          17.3,
          14,
          14,
          14,
          14,
          15.6,
          15.6,
          15.6,
          14,
          14,
          14,
          16,
          13.4,
          13.5,
          15.6,
          14,
          14,
          15.6,
          14,
          14,
          14,
          15.6,
          14,
          12.5,
          16,
          13.5,
          14,
          14,
          14,
          14,
          14,
          14,
          15.6,
          14,
          14,
          15.6,
          14,
          14,
          14,
          14,
          15.6,
          15.6,
          14,
          15.6,
          14,
          15.6,
          15.6,
          14,
          14,
          14,
          14,
          16,
          15.6,
          14,
          15.6,
          15.6,
          14,
          14,
          15,
          14,
          17.3,
          15,
          14,
          15.6,
          14,
          15,
          14,
          12.4,
          17.3,
          14,
          13.3,
          14,
          16,
          13.3,
          13,
          14,
          12.5,
          15.6,
          14,
          15.6,
          14,
          16,
          15.6,
          14.1,
          15.6,
          14,
          17.3,
          15.6,
          14,
          17.3,
          14,
          14,
          14,
          14,
          14.5,
          13,
          15.6,
          14,
          13.3,
          13.3,
          15.6,
          14,
          16,
          15.6,
          12.3,
          14,
          13,
          15,
          15.6,
          13.3,
          17.3,
          17.3,
          15.6,
          17.3,
          15.6,
          14,
          15.6,
          15.6,
          15,
          14,
          14,
          14,
          15.6,
          14,
          14,
          17.3,
          14,
          14,
          15.6,
          15.6,
          13.4,
          13.3,
          15.6,
          15.6,
          14,
          14,
          14,
          15.6,
          14,
          13.3,
          15.6,
          14,
          14,
          16,
          14,
          14,
          15.6,
          15.6,
          14,
          15.6,
          13.3,
          15.6,
          14,
          17.3,
          16,
          16,
          14,
          15.6,
          13.3,
          14,
          14,
          15.6,
          12.3,
          14,
          15.6,
          13.5,
          15.6,
          13,
          14,
          14,
          14,
          14,
          16,
          13,
          16,
          15.6,
          15.6,
          15.6,
          14,
          14,
          15.6,
          15.6,
          15.6,
          14,
          13.3,
          15.6,
          15.6,
          13.3,
          14,
          15.6,
          13,
          14,
          14,
          15.6,
          15.6,
          15.6,
          13.3,
          14,
          14.1,
          14,
          14,
          14,
          14,
          14,
          14,
          15.6,
          15.6,
          15.6,
          14,
          15.6,
          15.6,
          12.5,
          15.6,
          14,
          13.3,
          14,
          14,
          15.6,
          15.6,
          14,
          14,
          15.6,
          14,
          13.3,
          12,
          14.1,
          15.6,
          13.5,
          10,
          15.6,
          14,
          15.6,
          15.6,
          15.6,
          14,
          15,
          14,
          17.3,
          17.3,
          14,
          13.5,
          14,
          15.6,
          14,
          16,
          15.6,
          14,
          14,
          13.5,
          14,
          12.5,
          15.6,
          12.5,
          17.3,
          14,
          14.5,
          13.5,
          14,
          15.6,
          13.5,
          13.3,
          15.6,
          15.6,
          15.6,
          12.5,
          14,
          17.3,
          16,
          14,
          15.6,
          14,
          14,
          15.6,
          14,
          15.6,
          14,
          13.5,
          17.3,
          14,
          13.4,
          15.6,
          14,
          16,
          14,
          15.6,
          15.6,
          14,
          13,
          15,
          15.6,
          13.3,
          14.1,
          14,
          15.6,
          14,
          15,
          15.6,
          15.6,
          15.6,
          13.3,
          17,
          15.6,
          13.4,
          14,
          12.3,
          15.6,
          14,
          18,
          13.3,
          14,
          15.6,
          14,
          14,
          15.6,
          14,
          15.6,
          15.6,
          13.3,
          15.6,
          15.6,
          14,
          15,
          15,
          13.4,
          14,
          15.6,
          13.3,
          14,
          14,
          16,
          13.3,
          15.6,
          15.6,
          15.6,
          14,
          14,
          12.3,
          15.6,
          15.6,
          13,
          15.6,
          15.6,
          12.4,
          12.5,
          14,
          14,
          13.3,
          13,
          17.3,
          14,
          16.1,
          15.6,
          12.5,
          15.6,
          16,
          15.6,
          14,
          15.6,
          15.6,
          13.3,
          13.3,
          14,
          13.3,
          12.4,
          15.6,
          14,
          15.6,
          16,
          14,
          14,
          13.4,
          13.3,
          14,
          15.6,
          15.6,
          13,
          14,
          14,
          13.3,
          13.3,
          13.3,
          15.6,
          15.6,
          14,
          15,
          14,
          15.6,
          14,
          14,
          15.6,
          14,
          15.6,
          13.4,
          14,
          15.6,
          14,
          14,
          15.6,
          15.6,
          15.6,
          14,
          13.3,
          15.6,
          14,
          12.5,
          15.6,
          13,
          12.3,
          14,
          14,
          15,
          15.6,
          15,
          14,
          12.5,
          15.6,
          14,
          14,
          13.3,
          14,
          14,
          16,
          14,
          15.6,
          10.5,
          12.4,
          15.6,
          13,
          13.3,
          15.6,
          15.6,
          12.4,
          14,
          15.6,
          14,
          15.6,
          14,
          14,
          14,
          13,
          14,
          14,
          15.6,
          15.6,
          14,
          14,
          14,
          15.6,
          15.6,
          14,
          14,
          15.6,
          14,
          14,
          15.6,
          15.6,
          13,
          14,
          15.6,
          15.6,
          14,
          15.6,
          14,
          17.3,
          15.6,
          15.6,
          15.6,
          14,
          15.6,
          15.6,
          14,
          13.3,
          14,
          14,
          15.6,
          17.3,
          14,
          14,
          14,
          17.3,
          15.6,
          15,
          15.6,
          14,
          15.6,
          16,
          15.6,
          16,
          14,
          14,
          14,
          15.6,
          14,
          14,
          15.6,
          15.6,
          15.6,
          16,
          13,
          14,
          15.6,
          14,
          14,
          14,
          12.5,
          14,
          14,
          12.5,
          14,
          13.3,
          15.6,
          13.3,
          14,
          15.6,
          16,
          14,
          15.6,
          15.6,
          14,
          14,
          15.6,
          15.6,
          15.6,
          15.6,
          15,
          15.6,
          14,
          13.3,
          14,
          14,
          15.6,
          14,
          15.6,
          14,
          14,
          15.6,
          15.6,
          14,
          17,
          14,
          14,
          15.6,
          15.6,
          17,
          14,
          14,
          15.6,
          14,
          15.6,
          14,
          15.6,
          15.6,
          14,
          15,
          13.3,
          15.6,
          14,
          15.6,
          13.3,
          15.6,
          15.6,
          14,
          15.6,
          15.6,
          14,
          14,
          13,
          14,
          12.5,
          14,
          16,
          15.6,
          14,
          15.6,
          13.4,
          15.6,
          15.6,
          15.6,
          14,
          15,
          12.3,
          15.6,
          13.5,
          12.5,
          15.6,
          13.3,
          14,
          15.6,
          14,
          16,
          12.4,
          14,
          15.6,
          14,
          14,
          15.6,
          12.4,
          15.6,
          14,
          16,
          15.6,
          14,
          14,
          14,
          14,
          15.6,
          14,
          14,
          15.6,
          15.6,
          15.6,
          15.6,
          12.4,
          16,
          13.3,
          13,
          13.3,
          15.6,
          13.3,
          13.3,
          15.6,
          14,
          14,
          14,
          12.4,
          15.6,
          15.6,
          13.3,
          14,
          14,
          14,
          14,
          13,
          15.6,
          17.3,
          13,
          14,
          14,
          14,
          16,
          14,
          13.3,
          14,
          15.6,
          14,
          16,
          14,
          14,
          14,
          15.6,
          14,
          15.6,
          15.6,
          15.6,
          14,
          13.3,
          14,
          14,
          12.5,
          15.6,
          12.4,
          15.6,
          14,
          12.5,
          17.3,
          17.3,
          14,
          15.6,
          14,
          15.6,
          15.6,
          12.5,
          14,
          15.6,
          15.6,
          15.6,
          14,
          14,
          14,
          14,
          13.3,
          15.6,
          16,
          15.6,
          14,
          13.3,
          15.6,
          13.3,
          14,
          14,
          14,
          14,
          14.4,
          12.4,
          16.1,
          15.6,
          13.3,
          15,
          17.3,
          15.6,
          14,
          14,
          15.6,
          15.6,
          15,
          15.6,
          13.3,
          15.6,
          15.6,
          14,
          15.6,
          14,
          14,
          17.3,
          15.6,
          14,
          17.3,
          15.6,
          12.3,
          17.3,
          15.6,
          15.6,
          15.6,
          12.4,
          17.3,
          15.6,
          14,
          15.6,
          15,
          15.6,
          14,
          15.6,
          15.6,
          15.6,
          13.3,
          15.6,
          13.5,
          14,
          15.6,
          15.6,
          15.6,
          14,
          14.1,
          14,
          15.6,
          15.6,
          15.6,
          14,
          15.6,
          15.6,
          13.3,
          15.6,
          17,
          13.3,
          14,
          17,
          15.6,
          15.6,
          14,
          14,
          15.6,
          14,
          12,
          15.6,
          16,
          13.3,
          14,
          14,
          15.6,
          14,
          17.3,
          15.6,
          15.6,
          14,
          15.6,
          13,
          15.6,
          14,
          12.4,
          14,
          14,
          14,
          15,
          14,
          14,
          15.6,
          13.3,
          12.5,
          13,
          15.6,
          16,
          14.1,
          15.6,
          13,
          14,
          13.5,
          12.4,
          17.3,
          14,
          14,
          14,
          14,
          15.6,
          15.6,
          14,
          14,
          15.6,
          15.6,
          15.6,
          15,
          15.6,
          15.6,
          15,
          14,
          15.6,
          14,
          15.6,
          13.3,
          14,
          15.6,
          14,
          15.6,
          12.4,
          14,
          15.6,
          14,
          14,
          14,
          14,
          13.3,
          15.6,
          14,
          15.6,
          15,
          14,
          13.3,
          15.6,
          14,
          14,
          14,
          14,
          14,
          15.6,
          14,
          15.6,
          13.5,
          15.6,
          15.6,
          15.6,
          13.3,
          15.6,
          15.6,
          15.6,
          15.6,
          14,
          14,
          12.3,
          15.6,
          15.6,
          17.3,
          15.6,
          14,
          13.3,
          15.6,
          15.6,
          17.3,
          14,
          14,
          14,
          14,
          15.6,
          14,
          15,
          16,
          15,
          15.6,
          15.6,
          12.4,
          13.3,
          14,
          14,
          15.6,
          15.6,
          15.6,
          15.6,
          12.5,
          14,
          15.6,
          13.5,
          13.3,
          14.4,
          15.6,
          14,
          14,
          14,
          15.6,
          14,
          13,
          15.6,
          14,
          15.6,
          15.6,
          14,
          14,
          14,
          13.3,
          13.3,
          14,
          14,
          15.6,
          14,
          12.3,
          14,
          14,
          14,
          14,
          14,
          14,
          13,
          14,
          14,
          15.6,
          15.6,
          13.3,
          13.3,
          14,
          13.3,
          14,
          15,
          14,
          15.6,
          13.5,
          15.6,
          14,
          14,
          13.3,
          12.4,
          14,
          15.6,
          15.6,
          14,
          15.6,
          14,
          14,
          14,
          14,
          14,
          14,
          14,
          15.6,
          13.3,
          13.3,
          14,
          14,
          14,
          15.6,
          14,
          17.3,
          12.3,
          14,
          12.4,
          14,
          14,
          12.5,
          15.6,
          15.6,
          14,
          14,
          14,
          12.4,
          15.6,
          14,
          15.6,
          15.6,
          13.3,
          15.6,
          17.3,
          14,
          15.6,
          14,
          14,
          14,
          15.6,
          14,
          13.3,
          15,
          15.6,
          15,
          15.6,
          15.6,
          12.4,
          16.1,
          12.4,
          12.4,
          14,
          14,
          14,
          14,
          15.6,
          15.6,
          14,
          15.6,
          15.6,
          13.3,
          14,
          13.3,
          15.6,
          14,
          14,
          14,
          14,
          15.6,
          15.6,
          15.6,
          15.6,
          14,
          14,
          15.6,
          14,
          14,
          13.3,
          17.3,
          14,
          14,
          15.6,
          14,
          14,
          14,
          15.6,
          14,
          12.4,
          14,
          15.6,
          14,
          14,
          15.6,
          14,
          15,
          15.6,
          14,
          13.3,
          14,
          15.6,
          14,
          15.6,
          15.6,
          15.6,
          14,
          14,
          14,
          17.3,
          14,
          14,
          14,
          14.1,
          15.6,
          14,
          15.6,
          14,
          15.6,
          14,
          14,
          15.6,
          17.3,
          15.6,
          15.6,
          14,
          15.6,
          15.6,
          14.1,
          14,
          15,
          15.6,
          15.6,
          14,
          13.3,
          13,
          13.3,
          15.6,
          17.3,
          14,
          15.6,
          14,
          15.6,
          15.6,
          15.6,
          14,
          15.6,
          15.6,
          17.3,
          15.6,
          15.6,
          15.6,
          13.3,
          13.4,
          14,
          15.6,
          14,
          12.3,
          13.3,
          14,
          14,
          14,
          14,
          14,
          15.6,
          14,
          12.4,
          17,
          14,
          16,
          15.6,
          14,
          15.6,
          14,
          15.6,
          15.6,
          15.6,
          15.6,
          15.6,
          15.6,
          13.3,
          14,
          14,
          13,
          15.6,
          14,
          14,
          14,
          15,
          14,
          15.6,
          15.6,
          15.6,
          14,
          13.3,
          14,
          13.3,
          13,
          13.3,
          15.6,
          14,
          15.6,
          15.6,
          15.6,
          16.1,
          15.6,
          15.6,
          15.6,
          15.6,
          14,
          15.6,
          15.6,
          15.6,
          14,
          13.5,
          14,
          15.6,
          14,
          17,
          15.6,
          14,
          15.6,
          14,
          15.6,
          15.6,
          14,
          15.6,
          14,
          12.4,
          15.6,
          17,
          13.3,
          14,
          15.6,
          14,
          13.5,
          14,
          16,
          13.3,
          15.6,
          15.6,
          14,
          14,
          14,
          15.6,
          15.6,
          13.3,
          15.55,
          14,
          13.5,
          14,
          14,
          13.3,
          14,
          15.6,
          14,
          15.6,
          15.6,
          14,
          14,
          14,
          14,
          15.6,
          15.6,
          14,
          15.6,
          14,
          14,
          14,
          13.3,
          12.5,
          14,
          13.3,
          15.6,
          14,
          15.6,
          14,
          15.6,
          14,
          13.3,
          15.6,
          14,
          15.6,
          13.3,
          14,
          15.6,
          14,
          17.3,
          15.6,
          14,
          14,
          15.6,
          14,
          15.6,
          13.3,
          14,
          17.3,
          12.5,
          12.4,
          15.6,
          16,
          13.3,
          15.6,
          13.3,
          15.6,
          13.3,
          14,
          14,
          15.6,
          13.3,
          15.6,
          14,
          13.3,
          15.6,
          15.6,
          15.6,
          14,
          14,
          14,
          14,
          15.6,
          15.6,
          15.6,
          13.5,
          14,
          14,
          14,
          12.5,
          14,
          13.5,
          15.6,
          15.6,
          15.6,
          13.5,
          14,
          15.6,
          13.3,
          15.6,
          14,
          13.3,
          14,
          15.6,
          14,
          12.3,
          14,
          14,
          15.6,
          16,
          17.3,
          14,
          14,
          15.6,
          14,
          17.3,
          14,
          15.6,
          13,
          15.6,
          15.6,
          15.6,
          14,
          15.6,
          12.4,
          13.3,
          13.5,
          14,
          15.6,
          14,
          14,
          14,
          14,
          13.5,
          15.6,
          12,
          12.4,
          17.3,
          13.3,
          15.6,
          15.6,
          15.6,
          15.6,
          15.6,
          15.6,
          15.6,
          15.6,
          12.4,
          15.6,
          14,
          14,
          15.6,
          15.6,
          15.6,
          15.6,
          15.6,
          14,
          13,
          12,
          14,
          13.5,
          15,
          15.6,
          15.6,
          17.3,
          15.6,
          15.6,
          13.3,
          12.3,
          13.4,
          13.3,
          14,
          15,
          15.6,
          12,
          14,
          12.5,
          14,
          13,
          15.6,
          14,
          13.3,
          14,
          15.6,
          17,
          13.5,
          14,
          14,
          12,
          15.6,
          14,
          15.6,
          13.3,
          13,
          15.6,
          14,
          16,
          15.6,
          12.4,
          15.6,
          15.6,
          15.6,
          12.3,
          15.6,
          14,
          15.6,
          14,
          16,
          14,
          15.6,
          14,
          13.3,
          14,
          14,
          14,
          15.6,
          14,
          12.5,
          14,
          16,
          13.3,
          14,
          12.5,
          15.6,
          14,
          17.3,
          14,
          14,
          14,
          12,
          15.6,
          13,
          15.6,
          14,
          15.6,
          13.5,
          15.6,
          15.6,
          14,
          14,
          15.6,
          12.5,
          14,
          14,
          12.3,
          15.6,
          12.3,
          15.6,
          17,
          15.6,
          13.3,
          15.6,
          14,
          15.6,
          15.6,
          15.6,
          15.6,
          15.5,
          15.6,
          14,
          15.6,
          12.5,
          14,
          15.6,
          14,
          15.6,
          14,
          15.6,
          14,
          13.3,
          13.3,
          14,
          17.3,
          13.3,
          14,
          14,
          14,
          14,
          12.5,
          15.6,
          14,
          14,
          13.5,
          14,
          14,
          12.3,
          15.6,
          14,
          15.6,
          15.6,
          14,
          14,
          15.6,
          16,
          15.6,
          14,
          13.3,
          13.5,
          15.6,
          15.6,
          12,
          12.5,
          16.1,
          15.6,
          13.3,
          14,
          17,
          16,
          13.3,
          12.3,
          15.6,
          14,
          17.3,
          17.3,
          15.6,
          12.5,
          13.3,
          15.6,
          15.6,
          14,
          14,
          14,
          14,
          14,
          14,
          12.4,
          14,
          15,
          13.5,
          13.5,
          15.6,
          14,
          14,
          14,
          15.6,
          12.4,
          13,
          16,
          15.6,
          14,
          15.6,
          15.6,
          14,
          14,
          14,
          14,
          17.3,
          14,
          15.6,
          15.6,
          15.6,
          14,
          12.4,
          13.5,
          16,
          10.1,
          15,
          14,
          15.6,
          15.6,
          14,
          12.4,
          12.3,
          15,
          15.6,
          14,
          17,
          15.6,
          14,
          14,
          14,
          14,
          15.6,
          13.3,
          15.6,
          14,
          16,
          14,
          14,
          13.5,
          14,
          14,
          15.6,
          12.4,
          17.3,
          17.3,
          15.6,
          15,
          13.5,
          12.5,
          15.6,
          15.6,
          15.6,
          15.6,
          13.5,
          15.6,
          14,
          14,
          14,
          15.6,
          14,
          15.6,
          14,
          13.3,
          15,
          13.9,
          12.4,
          15,
          17.3,
          16,
          15.6,
          15.6,
          14,
          14,
          14,
          15.6,
          14,
          15.6,
          14,
          17.3,
          15.6,
          15.6,
          14,
          14,
          13,
          15.6,
          14,
          15.6,
          15.6,
          15.6,
          16,
          15.6,
          17.3,
          14,
          15.6,
          13,
          14,
          14,
          15.6,
          13.3,
          12.3,
          12.3,
          15.6,
          14,
          15.6,
          13.3,
          13.5,
          15.6,
          15.6,
          14,
          15,
          15.6,
          15.6,
          13.5,
          15.6,
          14,
          15,
          14,
          14,
          13.3,
          15.6,
          14,
          15.6,
          15.6,
          14,
          14,
          14,
          15.6,
          17.3,
          13.3,
          15.4,
          12.4,
          15.6,
          14,
          15.6,
          13,
          14,
          14,
          14,
          14,
          15.6,
          17,
          13.3,
          14,
          14,
          14,
          14,
          13.5,
          14,
          13.3,
          15.6,
          14,
          15.6,
          14,
          14.1,
          15.6,
          13.5,
          13.3,
          14,
          13.5,
          12.4,
          15.6,
          14,
          15.6,
          14,
          15.6,
          10.5,
          15.6,
          14,
          13.5,
          14,
          14,
          15.6,
          13.3,
          15.6,
          15.6,
          14,
          14,
          15.6,
          13.5,
          14,
          15.6,
          15.6,
          14,
          12.4,
          13.3,
          13,
          14,
          17.3,
          15.6,
          15.6,
          15.6,
          17,
          15.6,
          14,
          14,
          15.55,
          15.6,
          14,
          14,
          16,
          12.4,
          13.3,
          17,
          14,
          14,
          14,
          13.3,
          13.3,
          15.6,
          14,
          15.6,
          15.6,
          15,
          15.6,
          14,
          14,
          15.6,
          17,
          14,
          13,
          14,
          14,
          15.6,
          12.3,
          15.6,
          17.3,
          13.5,
          12.3,
          15.6,
          13.3,
          14,
          13.5,
          13.3,
          17,
          16,
          12.4,
          16,
          10.5,
          12.4,
          14,
          15.6,
          15.6,
          14,
          16,
          15.6,
          15.6,
          14,
          12.4,
          12.4,
          16,
          15.6,
          13.3,
          14,
          13.3,
          16,
          15.6,
          15.6,
          17,
          15.6,
          14,
          13.3,
          15.6,
          13,
          14,
          15.6,
          14,
          13.3,
          14,
          14,
          15.6,
          12.4,
          14,
          16,
          15.6,
          15.6,
          10.5,
          15.6,
          15.6,
          14,
          15.6,
          13.3,
          14,
          15.6,
          14,
          13,
          12.3,
          15.6,
          14,
          14,
          15.6,
          13.5,
          13.3,
          14,
          14,
          14.1,
          16,
          14,
          17,
          13.5,
          13.4,
          14,
          15.6,
          16,
          14,
          12.3,
          15.6,
          14,
          16,
          17,
          15.6,
          15.6,
          14,
          16,
          12.4,
          17.3,
          14,
          15.6,
          14,
          13.3,
          14,
          14,
          16,
          14,
          13.5,
          12.3,
          14,
          14,
          15.6,
          15.6,
          13.3,
          14,
          17,
          15.6,
          15.6,
          14,
          15.6,
          14,
          15.6,
          14,
          16,
          15.6,
          13.3,
          12.4,
          13.3,
          15.6,
          15.6,
          15.6,
          14
         ],
         "x0": " ",
         "xaxis": "x",
         "y0": " ",
         "yaxis": "y"
        }
       ],
       "layout": {
        "boxmode": "group",
        "legend": {
         "tracegroupgap": 0
        },
        "template": {
         "data": {
          "bar": [
           {
            "error_x": {
             "color": "#2a3f5f"
            },
            "error_y": {
             "color": "#2a3f5f"
            },
            "marker": {
             "line": {
              "color": "#E5ECF6",
              "width": 0.5
             },
             "pattern": {
              "fillmode": "overlay",
              "size": 10,
              "solidity": 0.2
             }
            },
            "type": "bar"
           }
          ],
          "barpolar": [
           {
            "marker": {
             "line": {
              "color": "#E5ECF6",
              "width": 0.5
             },
             "pattern": {
              "fillmode": "overlay",
              "size": 10,
              "solidity": 0.2
             }
            },
            "type": "barpolar"
           }
          ],
          "carpet": [
           {
            "aaxis": {
             "endlinecolor": "#2a3f5f",
             "gridcolor": "white",
             "linecolor": "white",
             "minorgridcolor": "white",
             "startlinecolor": "#2a3f5f"
            },
            "baxis": {
             "endlinecolor": "#2a3f5f",
             "gridcolor": "white",
             "linecolor": "white",
             "minorgridcolor": "white",
             "startlinecolor": "#2a3f5f"
            },
            "type": "carpet"
           }
          ],
          "choropleth": [
           {
            "colorbar": {
             "outlinewidth": 0,
             "ticks": ""
            },
            "type": "choropleth"
           }
          ],
          "contour": [
           {
            "colorbar": {
             "outlinewidth": 0,
             "ticks": ""
            },
            "colorscale": [
             [
              0,
              "#0d0887"
             ],
             [
              0.1111111111111111,
              "#46039f"
             ],
             [
              0.2222222222222222,
              "#7201a8"
             ],
             [
              0.3333333333333333,
              "#9c179e"
             ],
             [
              0.4444444444444444,
              "#bd3786"
             ],
             [
              0.5555555555555556,
              "#d8576b"
             ],
             [
              0.6666666666666666,
              "#ed7953"
             ],
             [
              0.7777777777777778,
              "#fb9f3a"
             ],
             [
              0.8888888888888888,
              "#fdca26"
             ],
             [
              1,
              "#f0f921"
             ]
            ],
            "type": "contour"
           }
          ],
          "contourcarpet": [
           {
            "colorbar": {
             "outlinewidth": 0,
             "ticks": ""
            },
            "type": "contourcarpet"
           }
          ],
          "heatmap": [
           {
            "colorbar": {
             "outlinewidth": 0,
             "ticks": ""
            },
            "colorscale": [
             [
              0,
              "#0d0887"
             ],
             [
              0.1111111111111111,
              "#46039f"
             ],
             [
              0.2222222222222222,
              "#7201a8"
             ],
             [
              0.3333333333333333,
              "#9c179e"
             ],
             [
              0.4444444444444444,
              "#bd3786"
             ],
             [
              0.5555555555555556,
              "#d8576b"
             ],
             [
              0.6666666666666666,
              "#ed7953"
             ],
             [
              0.7777777777777778,
              "#fb9f3a"
             ],
             [
              0.8888888888888888,
              "#fdca26"
             ],
             [
              1,
              "#f0f921"
             ]
            ],
            "type": "heatmap"
           }
          ],
          "heatmapgl": [
           {
            "colorbar": {
             "outlinewidth": 0,
             "ticks": ""
            },
            "colorscale": [
             [
              0,
              "#0d0887"
             ],
             [
              0.1111111111111111,
              "#46039f"
             ],
             [
              0.2222222222222222,
              "#7201a8"
             ],
             [
              0.3333333333333333,
              "#9c179e"
             ],
             [
              0.4444444444444444,
              "#bd3786"
             ],
             [
              0.5555555555555556,
              "#d8576b"
             ],
             [
              0.6666666666666666,
              "#ed7953"
             ],
             [
              0.7777777777777778,
              "#fb9f3a"
             ],
             [
              0.8888888888888888,
              "#fdca26"
             ],
             [
              1,
              "#f0f921"
             ]
            ],
            "type": "heatmapgl"
           }
          ],
          "histogram": [
           {
            "marker": {
             "pattern": {
              "fillmode": "overlay",
              "size": 10,
              "solidity": 0.2
             }
            },
            "type": "histogram"
           }
          ],
          "histogram2d": [
           {
            "colorbar": {
             "outlinewidth": 0,
             "ticks": ""
            },
            "colorscale": [
             [
              0,
              "#0d0887"
             ],
             [
              0.1111111111111111,
              "#46039f"
             ],
             [
              0.2222222222222222,
              "#7201a8"
             ],
             [
              0.3333333333333333,
              "#9c179e"
             ],
             [
              0.4444444444444444,
              "#bd3786"
             ],
             [
              0.5555555555555556,
              "#d8576b"
             ],
             [
              0.6666666666666666,
              "#ed7953"
             ],
             [
              0.7777777777777778,
              "#fb9f3a"
             ],
             [
              0.8888888888888888,
              "#fdca26"
             ],
             [
              1,
              "#f0f921"
             ]
            ],
            "type": "histogram2d"
           }
          ],
          "histogram2dcontour": [
           {
            "colorbar": {
             "outlinewidth": 0,
             "ticks": ""
            },
            "colorscale": [
             [
              0,
              "#0d0887"
             ],
             [
              0.1111111111111111,
              "#46039f"
             ],
             [
              0.2222222222222222,
              "#7201a8"
             ],
             [
              0.3333333333333333,
              "#9c179e"
             ],
             [
              0.4444444444444444,
              "#bd3786"
             ],
             [
              0.5555555555555556,
              "#d8576b"
             ],
             [
              0.6666666666666666,
              "#ed7953"
             ],
             [
              0.7777777777777778,
              "#fb9f3a"
             ],
             [
              0.8888888888888888,
              "#fdca26"
             ],
             [
              1,
              "#f0f921"
             ]
            ],
            "type": "histogram2dcontour"
           }
          ],
          "mesh3d": [
           {
            "colorbar": {
             "outlinewidth": 0,
             "ticks": ""
            },
            "type": "mesh3d"
           }
          ],
          "parcoords": [
           {
            "line": {
             "colorbar": {
              "outlinewidth": 0,
              "ticks": ""
             }
            },
            "type": "parcoords"
           }
          ],
          "pie": [
           {
            "automargin": true,
            "type": "pie"
           }
          ],
          "scatter": [
           {
            "marker": {
             "colorbar": {
              "outlinewidth": 0,
              "ticks": ""
             }
            },
            "type": "scatter"
           }
          ],
          "scatter3d": [
           {
            "line": {
             "colorbar": {
              "outlinewidth": 0,
              "ticks": ""
             }
            },
            "marker": {
             "colorbar": {
              "outlinewidth": 0,
              "ticks": ""
             }
            },
            "type": "scatter3d"
           }
          ],
          "scattercarpet": [
           {
            "marker": {
             "colorbar": {
              "outlinewidth": 0,
              "ticks": ""
             }
            },
            "type": "scattercarpet"
           }
          ],
          "scattergeo": [
           {
            "marker": {
             "colorbar": {
              "outlinewidth": 0,
              "ticks": ""
             }
            },
            "type": "scattergeo"
           }
          ],
          "scattergl": [
           {
            "marker": {
             "colorbar": {
              "outlinewidth": 0,
              "ticks": ""
             }
            },
            "type": "scattergl"
           }
          ],
          "scattermapbox": [
           {
            "marker": {
             "colorbar": {
              "outlinewidth": 0,
              "ticks": ""
             }
            },
            "type": "scattermapbox"
           }
          ],
          "scatterpolar": [
           {
            "marker": {
             "colorbar": {
              "outlinewidth": 0,
              "ticks": ""
             }
            },
            "type": "scatterpolar"
           }
          ],
          "scatterpolargl": [
           {
            "marker": {
             "colorbar": {
              "outlinewidth": 0,
              "ticks": ""
             }
            },
            "type": "scatterpolargl"
           }
          ],
          "scatterternary": [
           {
            "marker": {
             "colorbar": {
              "outlinewidth": 0,
              "ticks": ""
             }
            },
            "type": "scatterternary"
           }
          ],
          "surface": [
           {
            "colorbar": {
             "outlinewidth": 0,
             "ticks": ""
            },
            "colorscale": [
             [
              0,
              "#0d0887"
             ],
             [
              0.1111111111111111,
              "#46039f"
             ],
             [
              0.2222222222222222,
              "#7201a8"
             ],
             [
              0.3333333333333333,
              "#9c179e"
             ],
             [
              0.4444444444444444,
              "#bd3786"
             ],
             [
              0.5555555555555556,
              "#d8576b"
             ],
             [
              0.6666666666666666,
              "#ed7953"
             ],
             [
              0.7777777777777778,
              "#fb9f3a"
             ],
             [
              0.8888888888888888,
              "#fdca26"
             ],
             [
              1,
              "#f0f921"
             ]
            ],
            "type": "surface"
           }
          ],
          "table": [
           {
            "cells": {
             "fill": {
              "color": "#EBF0F8"
             },
             "line": {
              "color": "white"
             }
            },
            "header": {
             "fill": {
              "color": "#C8D4E3"
             },
             "line": {
              "color": "white"
             }
            },
            "type": "table"
           }
          ]
         },
         "layout": {
          "annotationdefaults": {
           "arrowcolor": "#2a3f5f",
           "arrowhead": 0,
           "arrowwidth": 1
          },
          "autotypenumbers": "strict",
          "coloraxis": {
           "colorbar": {
            "outlinewidth": 0,
            "ticks": ""
           }
          },
          "colorscale": {
           "diverging": [
            [
             0,
             "#8e0152"
            ],
            [
             0.1,
             "#c51b7d"
            ],
            [
             0.2,
             "#de77ae"
            ],
            [
             0.3,
             "#f1b6da"
            ],
            [
             0.4,
             "#fde0ef"
            ],
            [
             0.5,
             "#f7f7f7"
            ],
            [
             0.6,
             "#e6f5d0"
            ],
            [
             0.7,
             "#b8e186"
            ],
            [
             0.8,
             "#7fbc41"
            ],
            [
             0.9,
             "#4d9221"
            ],
            [
             1,
             "#276419"
            ]
           ],
           "sequential": [
            [
             0,
             "#0d0887"
            ],
            [
             0.1111111111111111,
             "#46039f"
            ],
            [
             0.2222222222222222,
             "#7201a8"
            ],
            [
             0.3333333333333333,
             "#9c179e"
            ],
            [
             0.4444444444444444,
             "#bd3786"
            ],
            [
             0.5555555555555556,
             "#d8576b"
            ],
            [
             0.6666666666666666,
             "#ed7953"
            ],
            [
             0.7777777777777778,
             "#fb9f3a"
            ],
            [
             0.8888888888888888,
             "#fdca26"
            ],
            [
             1,
             "#f0f921"
            ]
           ],
           "sequentialminus": [
            [
             0,
             "#0d0887"
            ],
            [
             0.1111111111111111,
             "#46039f"
            ],
            [
             0.2222222222222222,
             "#7201a8"
            ],
            [
             0.3333333333333333,
             "#9c179e"
            ],
            [
             0.4444444444444444,
             "#bd3786"
            ],
            [
             0.5555555555555556,
             "#d8576b"
            ],
            [
             0.6666666666666666,
             "#ed7953"
            ],
            [
             0.7777777777777778,
             "#fb9f3a"
            ],
            [
             0.8888888888888888,
             "#fdca26"
            ],
            [
             1,
             "#f0f921"
            ]
           ]
          },
          "colorway": [
           "#636efa",
           "#EF553B",
           "#00cc96",
           "#ab63fa",
           "#FFA15A",
           "#19d3f3",
           "#FF6692",
           "#B6E880",
           "#FF97FF",
           "#FECB52"
          ],
          "font": {
           "color": "#2a3f5f"
          },
          "geo": {
           "bgcolor": "white",
           "lakecolor": "white",
           "landcolor": "#E5ECF6",
           "showlakes": true,
           "showland": true,
           "subunitcolor": "white"
          },
          "hoverlabel": {
           "align": "left"
          },
          "hovermode": "closest",
          "mapbox": {
           "style": "light"
          },
          "paper_bgcolor": "white",
          "plot_bgcolor": "#E5ECF6",
          "polar": {
           "angularaxis": {
            "gridcolor": "white",
            "linecolor": "white",
            "ticks": ""
           },
           "bgcolor": "#E5ECF6",
           "radialaxis": {
            "gridcolor": "white",
            "linecolor": "white",
            "ticks": ""
           }
          },
          "scene": {
           "xaxis": {
            "backgroundcolor": "#E5ECF6",
            "gridcolor": "white",
            "gridwidth": 2,
            "linecolor": "white",
            "showbackground": true,
            "ticks": "",
            "zerolinecolor": "white"
           },
           "yaxis": {
            "backgroundcolor": "#E5ECF6",
            "gridcolor": "white",
            "gridwidth": 2,
            "linecolor": "white",
            "showbackground": true,
            "ticks": "",
            "zerolinecolor": "white"
           },
           "zaxis": {
            "backgroundcolor": "#E5ECF6",
            "gridcolor": "white",
            "gridwidth": 2,
            "linecolor": "white",
            "showbackground": true,
            "ticks": "",
            "zerolinecolor": "white"
           }
          },
          "shapedefaults": {
           "line": {
            "color": "#2a3f5f"
           }
          },
          "ternary": {
           "aaxis": {
            "gridcolor": "white",
            "linecolor": "white",
            "ticks": ""
           },
           "baxis": {
            "gridcolor": "white",
            "linecolor": "white",
            "ticks": ""
           },
           "bgcolor": "#E5ECF6",
           "caxis": {
            "gridcolor": "white",
            "linecolor": "white",
            "ticks": ""
           }
          },
          "title": {
           "x": 0.05
          },
          "xaxis": {
           "automargin": true,
           "gridcolor": "white",
           "linecolor": "white",
           "ticks": "",
           "title": {
            "standoff": 15
           },
           "zerolinecolor": "white",
           "zerolinewidth": 2
          },
          "yaxis": {
           "automargin": true,
           "gridcolor": "white",
           "linecolor": "white",
           "ticks": "",
           "title": {
            "standoff": 15
           },
           "zerolinecolor": "white",
           "zerolinewidth": 2
          }
         }
        },
        "title": {
         "text": "Boxplot of Screen Sizes"
        },
        "xaxis": {
         "anchor": "y",
         "domain": [
          0,
          1
         ],
         "title": {
          "text": "Screen_Size"
         }
        },
        "yaxis": {
         "anchor": "x",
         "domain": [
          0,
          1
         ]
        }
       }
      },
      "text/html": [
       "<div>                            <div id=\"e2ced095-af8c-4915-acb0-c6066645b22d\" class=\"plotly-graph-div\" style=\"height:525px; width:100%;\"></div>            <script type=\"text/javascript\">                require([\"plotly\"], function(Plotly) {                    window.PLOTLYENV=window.PLOTLYENV || {};                                    if (document.getElementById(\"e2ced095-af8c-4915-acb0-c6066645b22d\")) {                    Plotly.newPlot(                        \"e2ced095-af8c-4915-acb0-c6066645b22d\",                        [{\"alignmentgroup\":\"True\",\"hovertemplate\":\"Screen_Size=%{x}<extra></extra>\",\"legendgroup\":\"\",\"marker\":{\"color\":\"#636efa\"},\"name\":\"\",\"notched\":false,\"offsetgroup\":\"\",\"orientation\":\"h\",\"showlegend\":false,\"x\":[14.0,15.6,15.6,15.6,15.6,13.5,15.6,15.6,13.5,14.0,15.6,14.0,14.0,13.4,14.0,14.0,13.3,15.6,15.6,15.6,14.0,13.3,15.6,15.6,15.6,14.0,11.6,14.0,14.0,15.6,15.6,12.4,16.0,15.6,14.0,15.6,14.0,15.6,16.0,15.6,15.6,15.6,15.6,15.6,14.5,15.6,14.0,13.3,15.6,13.3,13.3,15.6,14.5,15.6,15.6,12.5,13.5,13.3,14.0,15.6,13.4,15.6,13.3,13.5,14.0,15.0,14.0,14.0,15.0,17.3,14.4,14.0,14.0,14.0,10.1,14.0,16.0,13.4,13.0,17.0,15.6,15.6,15.6,14.0,15.6,14.0,15.6,15.0,14.0,14.0,15.6,15.6,14.0,15.6,14.0,15.6,14.0,15.0,15.6,15.6,13.4,15.6,17.0,12.0,15.6,14.0,13.3,15.6,14.0,15.6,14.0,14.0,15.6,15.6,14.0,13.3,14.0,14.0,17.0,13.3,14.0,13.0,14.0,14.0,14.0,14.0,15.6,15.6,15.6,15.6,15.6,15.6,14.0,15.6,17.3,14.0,14.0,12.4,14.0,11.6,12.4,14.0,13.3,15.6,15.6,14.0,14.0,15.6,14.0,11.6,13.3,13.3,16.0,12.5,14.0,14.0,14.0,14.0,15.6,16.0,12.0,14.0,14.0,15.6,13.3,14.0,13.4,13.0,15.6,16.0,13.0,12.5,12.5,14.0,15.6,13.3,14.1,14.0,13.3,14.0,10.1,14.0,14.0,14.0,15.6,15.6,15.6,13.5,16.0,12.4,11.6,13.3,16.0,16.0,15.6,14.0,15.6,14.0,14.0,11.6,15.6,14.0,15.6,14.0,14.1,14.0,14.0,15.6,15.0,15.6,14.0,14.0,14.0,14.0,15.6,15.6,14.0,14.0,14.0,13.5,14.0,15.6,14.0,17.3,15.6,15.6,13.9,15.6,14.0,14.0,14.0,15.6,13.3,14.0,15.6,13.5,14.0,15.6,14.0,14.0,13.4,15.6,14.0,12.4,16.0,17.3,13.3,14.0,15.6,15.6,16.0,15.6,14.0,14.0,15.6,14.0,15.6,12.5,14.0,14.0,16.0,14.0,15.6,15.6,14.0,15.6,14.0,15.6,13.3,15.6,14.0,17.3,15.6,14.0,15.6,14.0,13.4,11.6,15.6,12.4,14.0,15.6,14.0,14.0,15.6,15.6,14.0,15.6,13.3,15.6,15.6,13.0,15.6,14.0,13.4,14.0,14.0,15.6,13.3,15.6,14.0,15.6,16.0,15.6,14.0,14.0,17.0,14.0,14.0,14.0,14.0,13.3,15.6,14.0,14.0,16.0,15.6,13.3,15.6,14.0,16.0,14.0,14.0,16.0,13.3,13.3,13.9,14.0,15.6,15.6,14.0,14.0,16.0,14.0,14.0,15.6,15.6,16.0,15.6,12.4,14.0,14.0,15.6,17.3,15.6,15.6,13.3,15.6,14.0,12.5,15.6,15.6,15.6,14.0,14.0,13.5,14.0,15.6,16.0,14.0,15.6,13.5,15.6,14.0,15.6,14.0,13.3,15.6,14.0,15.6,15.6,13.3,14.0,14.0,15.6,15.6,14.0,14.0,17.0,15.6,16.0,16.0,14.0,14.0,14.0,14.0,13.3,15.6,14.0,15.6,15.6,14.0,14.0,14.0,13.3,13.3,15.6,14.0,13.3,15.6,14.0,14.0,14.0,14.0,16.0,15.6,14.0,14.0,15.6,14.0,14.0,17.3,14.0,14.0,13.3,15.6,12.3,13.5,15.6,13.5,13.3,17.3,13.3,14.0,12.5,13.5,14.4,14.0,13.4,15.6,15.6,15.6,15.6,14.0,13.5,15.6,14.0,14.0,14.0,13.3,14.0,15.6,15.6,15.6,14.0,15.0,14.0,15.0,13.3,15.6,13.4,15.6,13.3,16.0,14.0,15.6,15.6,13.3,14.0,14.4,17.3,14.0,15.6,13.5,13.0,14.0,14.0,13.5,16.0,15.6,14.0,17.0,14.0,14.0,15.6,14.0,13.5,13.4,14.0,13.5,15.6,13.3,13.3,14.0,14.0,13.3,14.0,15.6,14.0,14.0,15.6,14.0,16.0,13.3,15.0,14.0,16.0,14.0,14.0,14.0,14.0,14.0,17.3,16.0,15.6,17.3,16.0,15.6,13.3,15.6,15.6,15.6,15.6,14.0,13.4,16.0,13.5,15.6,13.0,15.6,15.0,14.0,15.6,14.0,13.3,17.3,15.6,17.3,15.6,16.0,15.6,14.0,14.0,13.3,15.6,14.0,15.6,15.6,15.6,13.9,14.0,13.3,14.0,14.0,14.0,14.0,14.0,15.6,13.3,14.0,14.0,13.3,13.5,14.0,14.0,15.6,12.5,15.6,15.6,15.6,16.0,14.0,14.0,14.0,14.0,15.6,15.6,15.6,15.6,14.0,15.6,13.4,15.6,13.3,15.0,14.0,14.0,14.0,13.0,15.6,15.6,15.6,15.6,14.0,14.0,14.0,14.0,13.5,16.0,15.6,14.0,15.0,14.0,14.0,14.0,13.3,14.0,14.0,13.3,15.6,15.6,14.0,12.5,14.0,15.6,14.0,16.0,15.6,15.6,14.1,13.3,13.3,14.0,17.3,15.6,14.0,15.6,14.0,14.0,16.0,13.3,14.0,15.6,14.0,14.0,15.6,14.0,14.0,14.0,14.0,13.5,13.3,15.0,14.0,12.3,13.5,17.0,14.0,14.0,14.0,15.6,14.0,14.0,14.0,14.0,13.3,15.6,15.6,14.0,13.3,15.6,13.3,12.5,14.0,14.0,16.1,15.6,15.6,11.6,14.0,14.0,13.0,14.0,14.0,14.0,14.0,15.6,14.0,12.5,15.6,14.0,15.6,15.6,14.0,13.3,15.6,13.4,17.0,15.6,14.0,14.0,14.0,13.4,15.6,14.0,15.6,14.1,14.0,14.0,15.6,16.0,15.6,13.0,16.0,14.1,14.0,14.0,13.4,14.0,15.6,15.6,15.6,14.0,14.0,12.5,14.0,14.0,14.0,17.3,15.6,14.0,12.5,14.0,13.4,12.5,15.6,13.5,12.4,14.0,15.6,14.0,15.6,13.3,14.0,14.0,13.0,15.6,13.3,15.6,15.6,15.6,14.0,14.0,13.3,15.6,14.0,14.0,14.0,13.3,14.0,15.6,12.4,14.0,14.0,14.0,13.4,15.6,15.6,14.5,12.0,15.6,14.0,14.0,13.0,17.3,15.6,14.0,13.3,14.0,15.6,13.3,14.0,15.6,13.3,13.0,14.5,14.0,15.6,15.6,14.0,13.3,15.6,14.0,15.6,13.0,15.3,15.6,12.5,14.0,13.3,15.6,17.3,13.5,14.0,15.6,15.6,17.3,15.6,16.0,13.5,16.1,14.0,12.4,14.0,17.3,15.6,14.0,15.6,12.3,15.6,14.0,14.0,15.6,14.0,16.0,15.6,14.0,14.4,12.5,15.6,13.5,15.6,14.0,13.5,13.4,14.0,14.0,14.0,13.3,14.0,15.6,14.0,14.0,16.0,15.6,14.0,13.3,14.0,14.0,14.0,17.0,14.0,15.6,13.4,15.6,16.0,14.0,14.0,14.0,15.6,13.5,15.6,14.0,14.0,13.3,14.0,15.6,15.6,14.0,13.3,12.3,14.0,15.6,14.0,16.0,14.0,14.0,13.5,15.6,14.0,15.6,13.3,14.0,13.3,13.3,15.0,14.0,14.0,14.0,14.0,15.6,14.0,12.3,15.6,14.0,13.5,14.0,15.6,14.1,14.0,13.5,15.6,14.0,14.0,12.5,16.1,15.6,15.6,15.6,13.3,15.6,15.6,14.0,15.6,15.6,13.3,14.0,17.3,15.6,15.6,15.6,14.0,14.0,17.3,17.3,13.3,14.0,14.0,14.0,14.0,14.0,12.3,14.0,14.0,14.0,15.6,15.6,14.0,14.0,14.0,13.3,13.3,15.0,13.0,15.6,15.6,14.0,14.0,15.6,14.0,14.0,14.0,14.0,15.6,13.5,14.0,15.6,15.6,17.3,14.0,15.6,15.6,15.6,14.0,14.0,15.6,14.0,15.6,13.3,15.6,15.6,15.6,13.0,17.3,15.6,15.6,16.0,13.3,15.6,13.0,13.5,14.0,15.6,15.6,14.0,14.1,15.0,14.0,14.0,14.0,15.6,14.0,14.0,17.3,14.0,14.0,15.6,14.0,14.0,12.4,14.1,16.0,15.6,15.6,17.3,14.0,13.5,14.0,14.0,13.3,14.0,15.6,17.3,14.0,14.0,13.3,13.4,15.6,15.6,14.0,15.6,14.0,15.6,13.3,17.3,14.0,14.0,14.0,15.6,15.6,15.6,14.0,16.0,14.0,13.3,15.6,15.0,17.3,15.6,14.0,15.6,16.0,13.5,14.0,15.6,15.6,14.0,13.5,13.5,13.0,14.0,16.0,15.6,13.3,14.0,14.0,15.6,17.3,13.5,17.3,14.0,15.6,15.6,15.6,15.6,17.3,13.3,14.0,14.0,13.4,14.1,14.0,14.0,14.0,15.6,14.0,14.0,14.0,15.6,13.0,15.6,14.0,15.6,13.4,14.0,15.0,14.0,13.4,14.0,15.6,14.0,17.0,14.0,14.0,13.3,12.4,14.0,13.3,14.0,15.6,15.6,14.0,15.0,14.0,17.3,14.0,14.0,14.0,14.0,15.6,15.6,15.6,14.0,14.0,14.0,16.0,13.4,13.5,15.6,14.0,14.0,15.6,14.0,14.0,14.0,15.6,14.0,12.5,16.0,13.5,14.0,14.0,14.0,14.0,14.0,14.0,15.6,14.0,14.0,15.6,14.0,14.0,14.0,14.0,15.6,15.6,14.0,15.6,14.0,15.6,15.6,14.0,14.0,14.0,14.0,16.0,15.6,14.0,15.6,15.6,14.0,14.0,15.0,14.0,17.3,15.0,14.0,15.6,14.0,15.0,14.0,12.4,17.3,14.0,13.3,14.0,16.0,13.3,13.0,14.0,12.5,15.6,14.0,15.6,14.0,16.0,15.6,14.1,15.6,14.0,17.3,15.6,14.0,17.3,14.0,14.0,14.0,14.0,14.5,13.0,15.6,14.0,13.3,13.3,15.6,14.0,16.0,15.6,12.3,14.0,13.0,15.0,15.6,13.3,17.3,17.3,15.6,17.3,15.6,14.0,15.6,15.6,15.0,14.0,14.0,14.0,15.6,14.0,14.0,17.3,14.0,14.0,15.6,15.6,13.4,13.3,15.6,15.6,14.0,14.0,14.0,15.6,14.0,13.3,15.6,14.0,14.0,16.0,14.0,14.0,15.6,15.6,14.0,15.6,13.3,15.6,14.0,17.3,16.0,16.0,14.0,15.6,13.3,14.0,14.0,15.6,12.3,14.0,15.6,13.5,15.6,13.0,14.0,14.0,14.0,14.0,16.0,13.0,16.0,15.6,15.6,15.6,14.0,14.0,15.6,15.6,15.6,14.0,13.3,15.6,15.6,13.3,14.0,15.6,13.0,14.0,14.0,15.6,15.6,15.6,13.3,14.0,14.1,14.0,14.0,14.0,14.0,14.0,14.0,15.6,15.6,15.6,14.0,15.6,15.6,12.5,15.6,14.0,13.3,14.0,14.0,15.6,15.6,14.0,14.0,15.6,14.0,13.3,12.0,14.1,15.6,13.5,10.0,15.6,14.0,15.6,15.6,15.6,14.0,15.0,14.0,17.3,17.3,14.0,13.5,14.0,15.6,14.0,16.0,15.6,14.0,14.0,13.5,14.0,12.5,15.6,12.5,17.3,14.0,14.5,13.5,14.0,15.6,13.5,13.3,15.6,15.6,15.6,12.5,14.0,17.3,16.0,14.0,15.6,14.0,14.0,15.6,14.0,15.6,14.0,13.5,17.3,14.0,13.4,15.6,14.0,16.0,14.0,15.6,15.6,14.0,13.0,15.0,15.6,13.3,14.1,14.0,15.6,14.0,15.0,15.6,15.6,15.6,13.3,17.0,15.6,13.4,14.0,12.3,15.6,14.0,18.0,13.3,14.0,15.6,14.0,14.0,15.6,14.0,15.6,15.6,13.3,15.6,15.6,14.0,15.0,15.0,13.4,14.0,15.6,13.3,14.0,14.0,16.0,13.3,15.6,15.6,15.6,14.0,14.0,12.3,15.6,15.6,13.0,15.6,15.6,12.4,12.5,14.0,14.0,13.3,13.0,17.3,14.0,16.1,15.6,12.5,15.6,16.0,15.6,14.0,15.6,15.6,13.3,13.3,14.0,13.3,12.4,15.6,14.0,15.6,16.0,14.0,14.0,13.4,13.3,14.0,15.6,15.6,13.0,14.0,14.0,13.3,13.3,13.3,15.6,15.6,14.0,15.0,14.0,15.6,14.0,14.0,15.6,14.0,15.6,13.4,14.0,15.6,14.0,14.0,15.6,15.6,15.6,14.0,13.3,15.6,14.0,12.5,15.6,13.0,12.3,14.0,14.0,15.0,15.6,15.0,14.0,12.5,15.6,14.0,14.0,13.3,14.0,14.0,16.0,14.0,15.6,10.5,12.4,15.6,13.0,13.3,15.6,15.6,12.4,14.0,15.6,14.0,15.6,14.0,14.0,14.0,13.0,14.0,14.0,15.6,15.6,14.0,14.0,14.0,15.6,15.6,14.0,14.0,15.6,14.0,14.0,15.6,15.6,13.0,14.0,15.6,15.6,14.0,15.6,14.0,17.3,15.6,15.6,15.6,14.0,15.6,15.6,14.0,13.3,14.0,14.0,15.6,17.3,14.0,14.0,14.0,17.3,15.6,15.0,15.6,14.0,15.6,16.0,15.6,16.0,14.0,14.0,14.0,15.6,14.0,14.0,15.6,15.6,15.6,16.0,13.0,14.0,15.6,14.0,14.0,14.0,12.5,14.0,14.0,12.5,14.0,13.3,15.6,13.3,14.0,15.6,16.0,14.0,15.6,15.6,14.0,14.0,15.6,15.6,15.6,15.6,15.0,15.6,14.0,13.3,14.0,14.0,15.6,14.0,15.6,14.0,14.0,15.6,15.6,14.0,17.0,14.0,14.0,15.6,15.6,17.0,14.0,14.0,15.6,14.0,15.6,14.0,15.6,15.6,14.0,15.0,13.3,15.6,14.0,15.6,13.3,15.6,15.6,14.0,15.6,15.6,14.0,14.0,13.0,14.0,12.5,14.0,16.0,15.6,14.0,15.6,13.4,15.6,15.6,15.6,14.0,15.0,12.3,15.6,13.5,12.5,15.6,13.3,14.0,15.6,14.0,16.0,12.4,14.0,15.6,14.0,14.0,15.6,12.4,15.6,14.0,16.0,15.6,14.0,14.0,14.0,14.0,15.6,14.0,14.0,15.6,15.6,15.6,15.6,12.4,16.0,13.3,13.0,13.3,15.6,13.3,13.3,15.6,14.0,14.0,14.0,12.4,15.6,15.6,13.3,14.0,14.0,14.0,14.0,13.0,15.6,17.3,13.0,14.0,14.0,14.0,16.0,14.0,13.3,14.0,15.6,14.0,16.0,14.0,14.0,14.0,15.6,14.0,15.6,15.6,15.6,14.0,13.3,14.0,14.0,12.5,15.6,12.4,15.6,14.0,12.5,17.3,17.3,14.0,15.6,14.0,15.6,15.6,12.5,14.0,15.6,15.6,15.6,14.0,14.0,14.0,14.0,13.3,15.6,16.0,15.6,14.0,13.3,15.6,13.3,14.0,14.0,14.0,14.0,14.4,12.4,16.1,15.6,13.3,15.0,17.3,15.6,14.0,14.0,15.6,15.6,15.0,15.6,13.3,15.6,15.6,14.0,15.6,14.0,14.0,17.3,15.6,14.0,17.3,15.6,12.3,17.3,15.6,15.6,15.6,12.4,17.3,15.6,14.0,15.6,15.0,15.6,14.0,15.6,15.6,15.6,13.3,15.6,13.5,14.0,15.6,15.6,15.6,14.0,14.1,14.0,15.6,15.6,15.6,14.0,15.6,15.6,13.3,15.6,17.0,13.3,14.0,17.0,15.6,15.6,14.0,14.0,15.6,14.0,12.0,15.6,16.0,13.3,14.0,14.0,15.6,14.0,17.3,15.6,15.6,14.0,15.6,13.0,15.6,14.0,12.4,14.0,14.0,14.0,15.0,14.0,14.0,15.6,13.3,12.5,13.0,15.6,16.0,14.1,15.6,13.0,14.0,13.5,12.4,17.3,14.0,14.0,14.0,14.0,15.6,15.6,14.0,14.0,15.6,15.6,15.6,15.0,15.6,15.6,15.0,14.0,15.6,14.0,15.6,13.3,14.0,15.6,14.0,15.6,12.4,14.0,15.6,14.0,14.0,14.0,14.0,13.3,15.6,14.0,15.6,15.0,14.0,13.3,15.6,14.0,14.0,14.0,14.0,14.0,15.6,14.0,15.6,13.5,15.6,15.6,15.6,13.3,15.6,15.6,15.6,15.6,14.0,14.0,12.3,15.6,15.6,17.3,15.6,14.0,13.3,15.6,15.6,17.3,14.0,14.0,14.0,14.0,15.6,14.0,15.0,16.0,15.0,15.6,15.6,12.4,13.3,14.0,14.0,15.6,15.6,15.6,15.6,12.5,14.0,15.6,13.5,13.3,14.4,15.6,14.0,14.0,14.0,15.6,14.0,13.0,15.6,14.0,15.6,15.6,14.0,14.0,14.0,13.3,13.3,14.0,14.0,15.6,14.0,12.3,14.0,14.0,14.0,14.0,14.0,14.0,13.0,14.0,14.0,15.6,15.6,13.3,13.3,14.0,13.3,14.0,15.0,14.0,15.6,13.5,15.6,14.0,14.0,13.3,12.4,14.0,15.6,15.6,14.0,15.6,14.0,14.0,14.0,14.0,14.0,14.0,14.0,15.6,13.3,13.3,14.0,14.0,14.0,15.6,14.0,17.3,12.3,14.0,12.4,14.0,14.0,12.5,15.6,15.6,14.0,14.0,14.0,12.4,15.6,14.0,15.6,15.6,13.3,15.6,17.3,14.0,15.6,14.0,14.0,14.0,15.6,14.0,13.3,15.0,15.6,15.0,15.6,15.6,12.4,16.1,12.4,12.4,14.0,14.0,14.0,14.0,15.6,15.6,14.0,15.6,15.6,13.3,14.0,13.3,15.6,14.0,14.0,14.0,14.0,15.6,15.6,15.6,15.6,14.0,14.0,15.6,14.0,14.0,13.3,17.3,14.0,14.0,15.6,14.0,14.0,14.0,15.6,14.0,12.4,14.0,15.6,14.0,14.0,15.6,14.0,15.0,15.6,14.0,13.3,14.0,15.6,14.0,15.6,15.6,15.6,14.0,14.0,14.0,17.3,14.0,14.0,14.0,14.1,15.6,14.0,15.6,14.0,15.6,14.0,14.0,15.6,17.3,15.6,15.6,14.0,15.6,15.6,14.1,14.0,15.0,15.6,15.6,14.0,13.3,13.0,13.3,15.6,17.3,14.0,15.6,14.0,15.6,15.6,15.6,14.0,15.6,15.6,17.3,15.6,15.6,15.6,13.3,13.4,14.0,15.6,14.0,12.3,13.3,14.0,14.0,14.0,14.0,14.0,15.6,14.0,12.4,17.0,14.0,16.0,15.6,14.0,15.6,14.0,15.6,15.6,15.6,15.6,15.6,15.6,13.3,14.0,14.0,13.0,15.6,14.0,14.0,14.0,15.0,14.0,15.6,15.6,15.6,14.0,13.3,14.0,13.3,13.0,13.3,15.6,14.0,15.6,15.6,15.6,16.1,15.6,15.6,15.6,15.6,14.0,15.6,15.6,15.6,14.0,13.5,14.0,15.6,14.0,17.0,15.6,14.0,15.6,14.0,15.6,15.6,14.0,15.6,14.0,12.4,15.6,17.0,13.3,14.0,15.6,14.0,13.5,14.0,16.0,13.3,15.6,15.6,14.0,14.0,14.0,15.6,15.6,13.3,15.55,14.0,13.5,14.0,14.0,13.3,14.0,15.6,14.0,15.6,15.6,14.0,14.0,14.0,14.0,15.6,15.6,14.0,15.6,14.0,14.0,14.0,13.3,12.5,14.0,13.3,15.6,14.0,15.6,14.0,15.6,14.0,13.3,15.6,14.0,15.6,13.3,14.0,15.6,14.0,17.3,15.6,14.0,14.0,15.6,14.0,15.6,13.3,14.0,17.3,12.5,12.4,15.6,16.0,13.3,15.6,13.3,15.6,13.3,14.0,14.0,15.6,13.3,15.6,14.0,13.3,15.6,15.6,15.6,14.0,14.0,14.0,14.0,15.6,15.6,15.6,13.5,14.0,14.0,14.0,12.5,14.0,13.5,15.6,15.6,15.6,13.5,14.0,15.6,13.3,15.6,14.0,13.3,14.0,15.6,14.0,12.3,14.0,14.0,15.6,16.0,17.3,14.0,14.0,15.6,14.0,17.3,14.0,15.6,13.0,15.6,15.6,15.6,14.0,15.6,12.4,13.3,13.5,14.0,15.6,14.0,14.0,14.0,14.0,13.5,15.6,12.0,12.4,17.3,13.3,15.6,15.6,15.6,15.6,15.6,15.6,15.6,15.6,12.4,15.6,14.0,14.0,15.6,15.6,15.6,15.6,15.6,14.0,13.0,12.0,14.0,13.5,15.0,15.6,15.6,17.3,15.6,15.6,13.3,12.3,13.4,13.3,14.0,15.0,15.6,12.0,14.0,12.5,14.0,13.0,15.6,14.0,13.3,14.0,15.6,17.0,13.5,14.0,14.0,12.0,15.6,14.0,15.6,13.3,13.0,15.6,14.0,16.0,15.6,12.4,15.6,15.6,15.6,12.3,15.6,14.0,15.6,14.0,16.0,14.0,15.6,14.0,13.3,14.0,14.0,14.0,15.6,14.0,12.5,14.0,16.0,13.3,14.0,12.5,15.6,14.0,17.3,14.0,14.0,14.0,12.0,15.6,13.0,15.6,14.0,15.6,13.5,15.6,15.6,14.0,14.0,15.6,12.5,14.0,14.0,12.3,15.6,12.3,15.6,17.0,15.6,13.3,15.6,14.0,15.6,15.6,15.6,15.6,15.5,15.6,14.0,15.6,12.5,14.0,15.6,14.0,15.6,14.0,15.6,14.0,13.3,13.3,14.0,17.3,13.3,14.0,14.0,14.0,14.0,12.5,15.6,14.0,14.0,13.5,14.0,14.0,12.3,15.6,14.0,15.6,15.6,14.0,14.0,15.6,16.0,15.6,14.0,13.3,13.5,15.6,15.6,12.0,12.5,16.1,15.6,13.3,14.0,17.0,16.0,13.3,12.3,15.6,14.0,17.3,17.3,15.6,12.5,13.3,15.6,15.6,14.0,14.0,14.0,14.0,14.0,14.0,12.4,14.0,15.0,13.5,13.5,15.6,14.0,14.0,14.0,15.6,12.4,13.0,16.0,15.6,14.0,15.6,15.6,14.0,14.0,14.0,14.0,17.3,14.0,15.6,15.6,15.6,14.0,12.4,13.5,16.0,10.1,15.0,14.0,15.6,15.6,14.0,12.4,12.3,15.0,15.6,14.0,17.0,15.6,14.0,14.0,14.0,14.0,15.6,13.3,15.6,14.0,16.0,14.0,14.0,13.5,14.0,14.0,15.6,12.4,17.3,17.3,15.6,15.0,13.5,12.5,15.6,15.6,15.6,15.6,13.5,15.6,14.0,14.0,14.0,15.6,14.0,15.6,14.0,13.3,15.0,13.9,12.4,15.0,17.3,16.0,15.6,15.6,14.0,14.0,14.0,15.6,14.0,15.6,14.0,17.3,15.6,15.6,14.0,14.0,13.0,15.6,14.0,15.6,15.6,15.6,16.0,15.6,17.3,14.0,15.6,13.0,14.0,14.0,15.6,13.3,12.3,12.3,15.6,14.0,15.6,13.3,13.5,15.6,15.6,14.0,15.0,15.6,15.6,13.5,15.6,14.0,15.0,14.0,14.0,13.3,15.6,14.0,15.6,15.6,14.0,14.0,14.0,15.6,17.3,13.3,15.4,12.4,15.6,14.0,15.6,13.0,14.0,14.0,14.0,14.0,15.6,17.0,13.3,14.0,14.0,14.0,14.0,13.5,14.0,13.3,15.6,14.0,15.6,14.0,14.1,15.6,13.5,13.3,14.0,13.5,12.4,15.6,14.0,15.6,14.0,15.6,10.5,15.6,14.0,13.5,14.0,14.0,15.6,13.3,15.6,15.6,14.0,14.0,15.6,13.5,14.0,15.6,15.6,14.0,12.4,13.3,13.0,14.0,17.3,15.6,15.6,15.6,17.0,15.6,14.0,14.0,15.55,15.6,14.0,14.0,16.0,12.4,13.3,17.0,14.0,14.0,14.0,13.3,13.3,15.6,14.0,15.6,15.6,15.0,15.6,14.0,14.0,15.6,17.0,14.0,13.0,14.0,14.0,15.6,12.3,15.6,17.3,13.5,12.3,15.6,13.3,14.0,13.5,13.3,17.0,16.0,12.4,16.0,10.5,12.4,14.0,15.6,15.6,14.0,16.0,15.6,15.6,14.0,12.4,12.4,16.0,15.6,13.3,14.0,13.3,16.0,15.6,15.6,17.0,15.6,14.0,13.3,15.6,13.0,14.0,15.6,14.0,13.3,14.0,14.0,15.6,12.4,14.0,16.0,15.6,15.6,10.5,15.6,15.6,14.0,15.6,13.3,14.0,15.6,14.0,13.0,12.3,15.6,14.0,14.0,15.6,13.5,13.3,14.0,14.0,14.1,16.0,14.0,17.0,13.5,13.4,14.0,15.6,16.0,14.0,12.3,15.6,14.0,16.0,17.0,15.6,15.6,14.0,16.0,12.4,17.3,14.0,15.6,14.0,13.3,14.0,14.0,16.0,14.0,13.5,12.3,14.0,14.0,15.6,15.6,13.3,14.0,17.0,15.6,15.6,14.0,15.6,14.0,15.6,14.0,16.0,15.6,13.3,12.4,13.3,15.6,15.6,15.6,14.0],\"x0\":\" \",\"xaxis\":\"x\",\"y0\":\" \",\"yaxis\":\"y\",\"type\":\"box\"}],                        {\"template\":{\"data\":{\"bar\":[{\"error_x\":{\"color\":\"#2a3f5f\"},\"error_y\":{\"color\":\"#2a3f5f\"},\"marker\":{\"line\":{\"color\":\"#E5ECF6\",\"width\":0.5},\"pattern\":{\"fillmode\":\"overlay\",\"size\":10,\"solidity\":0.2}},\"type\":\"bar\"}],\"barpolar\":[{\"marker\":{\"line\":{\"color\":\"#E5ECF6\",\"width\":0.5},\"pattern\":{\"fillmode\":\"overlay\",\"size\":10,\"solidity\":0.2}},\"type\":\"barpolar\"}],\"carpet\":[{\"aaxis\":{\"endlinecolor\":\"#2a3f5f\",\"gridcolor\":\"white\",\"linecolor\":\"white\",\"minorgridcolor\":\"white\",\"startlinecolor\":\"#2a3f5f\"},\"baxis\":{\"endlinecolor\":\"#2a3f5f\",\"gridcolor\":\"white\",\"linecolor\":\"white\",\"minorgridcolor\":\"white\",\"startlinecolor\":\"#2a3f5f\"},\"type\":\"carpet\"}],\"choropleth\":[{\"colorbar\":{\"outlinewidth\":0,\"ticks\":\"\"},\"type\":\"choropleth\"}],\"contour\":[{\"colorbar\":{\"outlinewidth\":0,\"ticks\":\"\"},\"colorscale\":[[0.0,\"#0d0887\"],[0.1111111111111111,\"#46039f\"],[0.2222222222222222,\"#7201a8\"],[0.3333333333333333,\"#9c179e\"],[0.4444444444444444,\"#bd3786\"],[0.5555555555555556,\"#d8576b\"],[0.6666666666666666,\"#ed7953\"],[0.7777777777777778,\"#fb9f3a\"],[0.8888888888888888,\"#fdca26\"],[1.0,\"#f0f921\"]],\"type\":\"contour\"}],\"contourcarpet\":[{\"colorbar\":{\"outlinewidth\":0,\"ticks\":\"\"},\"type\":\"contourcarpet\"}],\"heatmap\":[{\"colorbar\":{\"outlinewidth\":0,\"ticks\":\"\"},\"colorscale\":[[0.0,\"#0d0887\"],[0.1111111111111111,\"#46039f\"],[0.2222222222222222,\"#7201a8\"],[0.3333333333333333,\"#9c179e\"],[0.4444444444444444,\"#bd3786\"],[0.5555555555555556,\"#d8576b\"],[0.6666666666666666,\"#ed7953\"],[0.7777777777777778,\"#fb9f3a\"],[0.8888888888888888,\"#fdca26\"],[1.0,\"#f0f921\"]],\"type\":\"heatmap\"}],\"heatmapgl\":[{\"colorbar\":{\"outlinewidth\":0,\"ticks\":\"\"},\"colorscale\":[[0.0,\"#0d0887\"],[0.1111111111111111,\"#46039f\"],[0.2222222222222222,\"#7201a8\"],[0.3333333333333333,\"#9c179e\"],[0.4444444444444444,\"#bd3786\"],[0.5555555555555556,\"#d8576b\"],[0.6666666666666666,\"#ed7953\"],[0.7777777777777778,\"#fb9f3a\"],[0.8888888888888888,\"#fdca26\"],[1.0,\"#f0f921\"]],\"type\":\"heatmapgl\"}],\"histogram\":[{\"marker\":{\"pattern\":{\"fillmode\":\"overlay\",\"size\":10,\"solidity\":0.2}},\"type\":\"histogram\"}],\"histogram2d\":[{\"colorbar\":{\"outlinewidth\":0,\"ticks\":\"\"},\"colorscale\":[[0.0,\"#0d0887\"],[0.1111111111111111,\"#46039f\"],[0.2222222222222222,\"#7201a8\"],[0.3333333333333333,\"#9c179e\"],[0.4444444444444444,\"#bd3786\"],[0.5555555555555556,\"#d8576b\"],[0.6666666666666666,\"#ed7953\"],[0.7777777777777778,\"#fb9f3a\"],[0.8888888888888888,\"#fdca26\"],[1.0,\"#f0f921\"]],\"type\":\"histogram2d\"}],\"histogram2dcontour\":[{\"colorbar\":{\"outlinewidth\":0,\"ticks\":\"\"},\"colorscale\":[[0.0,\"#0d0887\"],[0.1111111111111111,\"#46039f\"],[0.2222222222222222,\"#7201a8\"],[0.3333333333333333,\"#9c179e\"],[0.4444444444444444,\"#bd3786\"],[0.5555555555555556,\"#d8576b\"],[0.6666666666666666,\"#ed7953\"],[0.7777777777777778,\"#fb9f3a\"],[0.8888888888888888,\"#fdca26\"],[1.0,\"#f0f921\"]],\"type\":\"histogram2dcontour\"}],\"mesh3d\":[{\"colorbar\":{\"outlinewidth\":0,\"ticks\":\"\"},\"type\":\"mesh3d\"}],\"parcoords\":[{\"line\":{\"colorbar\":{\"outlinewidth\":0,\"ticks\":\"\"}},\"type\":\"parcoords\"}],\"pie\":[{\"automargin\":true,\"type\":\"pie\"}],\"scatter\":[{\"marker\":{\"colorbar\":{\"outlinewidth\":0,\"ticks\":\"\"}},\"type\":\"scatter\"}],\"scatter3d\":[{\"line\":{\"colorbar\":{\"outlinewidth\":0,\"ticks\":\"\"}},\"marker\":{\"colorbar\":{\"outlinewidth\":0,\"ticks\":\"\"}},\"type\":\"scatter3d\"}],\"scattercarpet\":[{\"marker\":{\"colorbar\":{\"outlinewidth\":0,\"ticks\":\"\"}},\"type\":\"scattercarpet\"}],\"scattergeo\":[{\"marker\":{\"colorbar\":{\"outlinewidth\":0,\"ticks\":\"\"}},\"type\":\"scattergeo\"}],\"scattergl\":[{\"marker\":{\"colorbar\":{\"outlinewidth\":0,\"ticks\":\"\"}},\"type\":\"scattergl\"}],\"scattermapbox\":[{\"marker\":{\"colorbar\":{\"outlinewidth\":0,\"ticks\":\"\"}},\"type\":\"scattermapbox\"}],\"scatterpolar\":[{\"marker\":{\"colorbar\":{\"outlinewidth\":0,\"ticks\":\"\"}},\"type\":\"scatterpolar\"}],\"scatterpolargl\":[{\"marker\":{\"colorbar\":{\"outlinewidth\":0,\"ticks\":\"\"}},\"type\":\"scatterpolargl\"}],\"scatterternary\":[{\"marker\":{\"colorbar\":{\"outlinewidth\":0,\"ticks\":\"\"}},\"type\":\"scatterternary\"}],\"surface\":[{\"colorbar\":{\"outlinewidth\":0,\"ticks\":\"\"},\"colorscale\":[[0.0,\"#0d0887\"],[0.1111111111111111,\"#46039f\"],[0.2222222222222222,\"#7201a8\"],[0.3333333333333333,\"#9c179e\"],[0.4444444444444444,\"#bd3786\"],[0.5555555555555556,\"#d8576b\"],[0.6666666666666666,\"#ed7953\"],[0.7777777777777778,\"#fb9f3a\"],[0.8888888888888888,\"#fdca26\"],[1.0,\"#f0f921\"]],\"type\":\"surface\"}],\"table\":[{\"cells\":{\"fill\":{\"color\":\"#EBF0F8\"},\"line\":{\"color\":\"white\"}},\"header\":{\"fill\":{\"color\":\"#C8D4E3\"},\"line\":{\"color\":\"white\"}},\"type\":\"table\"}]},\"layout\":{\"annotationdefaults\":{\"arrowcolor\":\"#2a3f5f\",\"arrowhead\":0,\"arrowwidth\":1},\"autotypenumbers\":\"strict\",\"coloraxis\":{\"colorbar\":{\"outlinewidth\":0,\"ticks\":\"\"}},\"colorscale\":{\"diverging\":[[0,\"#8e0152\"],[0.1,\"#c51b7d\"],[0.2,\"#de77ae\"],[0.3,\"#f1b6da\"],[0.4,\"#fde0ef\"],[0.5,\"#f7f7f7\"],[0.6,\"#e6f5d0\"],[0.7,\"#b8e186\"],[0.8,\"#7fbc41\"],[0.9,\"#4d9221\"],[1,\"#276419\"]],\"sequential\":[[0.0,\"#0d0887\"],[0.1111111111111111,\"#46039f\"],[0.2222222222222222,\"#7201a8\"],[0.3333333333333333,\"#9c179e\"],[0.4444444444444444,\"#bd3786\"],[0.5555555555555556,\"#d8576b\"],[0.6666666666666666,\"#ed7953\"],[0.7777777777777778,\"#fb9f3a\"],[0.8888888888888888,\"#fdca26\"],[1.0,\"#f0f921\"]],\"sequentialminus\":[[0.0,\"#0d0887\"],[0.1111111111111111,\"#46039f\"],[0.2222222222222222,\"#7201a8\"],[0.3333333333333333,\"#9c179e\"],[0.4444444444444444,\"#bd3786\"],[0.5555555555555556,\"#d8576b\"],[0.6666666666666666,\"#ed7953\"],[0.7777777777777778,\"#fb9f3a\"],[0.8888888888888888,\"#fdca26\"],[1.0,\"#f0f921\"]]},\"colorway\":[\"#636efa\",\"#EF553B\",\"#00cc96\",\"#ab63fa\",\"#FFA15A\",\"#19d3f3\",\"#FF6692\",\"#B6E880\",\"#FF97FF\",\"#FECB52\"],\"font\":{\"color\":\"#2a3f5f\"},\"geo\":{\"bgcolor\":\"white\",\"lakecolor\":\"white\",\"landcolor\":\"#E5ECF6\",\"showlakes\":true,\"showland\":true,\"subunitcolor\":\"white\"},\"hoverlabel\":{\"align\":\"left\"},\"hovermode\":\"closest\",\"mapbox\":{\"style\":\"light\"},\"paper_bgcolor\":\"white\",\"plot_bgcolor\":\"#E5ECF6\",\"polar\":{\"angularaxis\":{\"gridcolor\":\"white\",\"linecolor\":\"white\",\"ticks\":\"\"},\"bgcolor\":\"#E5ECF6\",\"radialaxis\":{\"gridcolor\":\"white\",\"linecolor\":\"white\",\"ticks\":\"\"}},\"scene\":{\"xaxis\":{\"backgroundcolor\":\"#E5ECF6\",\"gridcolor\":\"white\",\"gridwidth\":2,\"linecolor\":\"white\",\"showbackground\":true,\"ticks\":\"\",\"zerolinecolor\":\"white\"},\"yaxis\":{\"backgroundcolor\":\"#E5ECF6\",\"gridcolor\":\"white\",\"gridwidth\":2,\"linecolor\":\"white\",\"showbackground\":true,\"ticks\":\"\",\"zerolinecolor\":\"white\"},\"zaxis\":{\"backgroundcolor\":\"#E5ECF6\",\"gridcolor\":\"white\",\"gridwidth\":2,\"linecolor\":\"white\",\"showbackground\":true,\"ticks\":\"\",\"zerolinecolor\":\"white\"}},\"shapedefaults\":{\"line\":{\"color\":\"#2a3f5f\"}},\"ternary\":{\"aaxis\":{\"gridcolor\":\"white\",\"linecolor\":\"white\",\"ticks\":\"\"},\"baxis\":{\"gridcolor\":\"white\",\"linecolor\":\"white\",\"ticks\":\"\"},\"bgcolor\":\"#E5ECF6\",\"caxis\":{\"gridcolor\":\"white\",\"linecolor\":\"white\",\"ticks\":\"\"}},\"title\":{\"x\":0.05},\"xaxis\":{\"automargin\":true,\"gridcolor\":\"white\",\"linecolor\":\"white\",\"ticks\":\"\",\"title\":{\"standoff\":15},\"zerolinecolor\":\"white\",\"zerolinewidth\":2},\"yaxis\":{\"automargin\":true,\"gridcolor\":\"white\",\"linecolor\":\"white\",\"ticks\":\"\",\"title\":{\"standoff\":15},\"zerolinecolor\":\"white\",\"zerolinewidth\":2}}},\"xaxis\":{\"anchor\":\"y\",\"domain\":[0.0,1.0],\"title\":{\"text\":\"Screen_Size\"}},\"yaxis\":{\"anchor\":\"x\",\"domain\":[0.0,1.0]},\"legend\":{\"tracegroupgap\":0},\"title\":{\"text\":\"Boxplot of Screen Sizes\"},\"boxmode\":\"group\"},                        {\"responsive\": true}                    ).then(function(){\n",
       "                            \n",
       "var gd = document.getElementById('e2ced095-af8c-4915-acb0-c6066645b22d');\n",
       "var x = new MutationObserver(function (mutations, observer) {{\n",
       "        var display = window.getComputedStyle(gd).display;\n",
       "        if (!display || display === 'none') {{\n",
       "            console.log([gd, 'removed!']);\n",
       "            Plotly.purge(gd);\n",
       "            observer.disconnect();\n",
       "        }}\n",
       "}});\n",
       "\n",
       "// Listen for the removal of the full notebook cells\n",
       "var notebookContainer = gd.closest('#notebook-container');\n",
       "if (notebookContainer) {{\n",
       "    x.observe(notebookContainer, {childList: true});\n",
       "}}\n",
       "\n",
       "// Listen for the clearing of the current output cell\n",
       "var outputEl = gd.closest('.output');\n",
       "if (outputEl) {{\n",
       "    x.observe(outputEl, {childList: true});\n",
       "}}\n",
       "\n",
       "                        })                };                });            </script>        </div>"
      ]
     },
     "metadata": {},
     "output_type": "display_data"
    }
   ],
   "source": [
    "fig = px.box(dane,\n",
    "                x = \"Screen_Size\",\n",
    "                labels ={\n",
    "                      \"count\": \"Count\"\n",
    "                  },\n",
    "                title = \"Boxplot of Screen Sizes\",\n",
    "            orientation = \"h\")\n",
    "fig.show()"
   ]
  },
  {
   "cell_type": "markdown",
   "id": "1498a8d6",
   "metadata": {},
   "source": [
    "Krótko, zwięźle i na temat: outliery, to 10, 10.1, 10.5 (naprawdę małe ekrany), mediana równa 14, wartość największa równa 18 (naprawdę duży ekran - 18 cali to około 45 cm)."
   ]
  },
  {
   "cell_type": "markdown",
   "id": "f78664e7",
   "metadata": {},
   "source": [
    "# Wykresy wskazujące zależności w zbiorze danych z wnioskami"
   ]
  },
  {
   "cell_type": "markdown",
   "id": "39bcc504",
   "metadata": {},
   "source": [
    "## Czy istnieje korelacja pomiędzy rozmiarem ekranu, a ceną?"
   ]
  },
  {
   "cell_type": "code",
   "execution_count": 109,
   "id": "aa804205",
   "metadata": {},
   "outputs": [
    {
     "data": {
      "application/vnd.plotly.v1+json": {
       "config": {
        "plotlyServerURL": "https://plot.ly"
       },
       "data": [
        {
         "coloraxis": "coloraxis",
         "hovertemplate": "x: %{x}<br>y: %{y}<br>color: %{z}<extra></extra>",
         "name": "0",
         "texttemplate": "%{z}",
         "type": "heatmap",
         "x": [
          "Screen_Size",
          "Price"
         ],
         "xaxis": "x",
         "y": [
          "Screen_Size",
          "Price"
         ],
         "yaxis": "y",
         "z": [
          [
           1,
           0.156
          ],
          [
           0.156,
           1
          ]
         ]
        }
       ],
       "layout": {
        "coloraxis": {
         "cmax": 1,
         "cmin": -1,
         "colorscale": [
          [
           0,
           "rgb(5,48,97)"
          ],
          [
           0.1,
           "rgb(33,102,172)"
          ],
          [
           0.2,
           "rgb(67,147,195)"
          ],
          [
           0.3,
           "rgb(146,197,222)"
          ],
          [
           0.4,
           "rgb(209,229,240)"
          ],
          [
           0.5,
           "rgb(247,247,247)"
          ],
          [
           0.6,
           "rgb(253,219,199)"
          ],
          [
           0.7,
           "rgb(244,165,130)"
          ],
          [
           0.8,
           "rgb(214,96,77)"
          ],
          [
           0.9,
           "rgb(178,24,43)"
          ],
          [
           1,
           "rgb(103,0,31)"
          ]
         ]
        },
        "template": {
         "data": {
          "bar": [
           {
            "error_x": {
             "color": "#2a3f5f"
            },
            "error_y": {
             "color": "#2a3f5f"
            },
            "marker": {
             "line": {
              "color": "#E5ECF6",
              "width": 0.5
             },
             "pattern": {
              "fillmode": "overlay",
              "size": 10,
              "solidity": 0.2
             }
            },
            "type": "bar"
           }
          ],
          "barpolar": [
           {
            "marker": {
             "line": {
              "color": "#E5ECF6",
              "width": 0.5
             },
             "pattern": {
              "fillmode": "overlay",
              "size": 10,
              "solidity": 0.2
             }
            },
            "type": "barpolar"
           }
          ],
          "carpet": [
           {
            "aaxis": {
             "endlinecolor": "#2a3f5f",
             "gridcolor": "white",
             "linecolor": "white",
             "minorgridcolor": "white",
             "startlinecolor": "#2a3f5f"
            },
            "baxis": {
             "endlinecolor": "#2a3f5f",
             "gridcolor": "white",
             "linecolor": "white",
             "minorgridcolor": "white",
             "startlinecolor": "#2a3f5f"
            },
            "type": "carpet"
           }
          ],
          "choropleth": [
           {
            "colorbar": {
             "outlinewidth": 0,
             "ticks": ""
            },
            "type": "choropleth"
           }
          ],
          "contour": [
           {
            "colorbar": {
             "outlinewidth": 0,
             "ticks": ""
            },
            "colorscale": [
             [
              0,
              "#0d0887"
             ],
             [
              0.1111111111111111,
              "#46039f"
             ],
             [
              0.2222222222222222,
              "#7201a8"
             ],
             [
              0.3333333333333333,
              "#9c179e"
             ],
             [
              0.4444444444444444,
              "#bd3786"
             ],
             [
              0.5555555555555556,
              "#d8576b"
             ],
             [
              0.6666666666666666,
              "#ed7953"
             ],
             [
              0.7777777777777778,
              "#fb9f3a"
             ],
             [
              0.8888888888888888,
              "#fdca26"
             ],
             [
              1,
              "#f0f921"
             ]
            ],
            "type": "contour"
           }
          ],
          "contourcarpet": [
           {
            "colorbar": {
             "outlinewidth": 0,
             "ticks": ""
            },
            "type": "contourcarpet"
           }
          ],
          "heatmap": [
           {
            "colorbar": {
             "outlinewidth": 0,
             "ticks": ""
            },
            "colorscale": [
             [
              0,
              "#0d0887"
             ],
             [
              0.1111111111111111,
              "#46039f"
             ],
             [
              0.2222222222222222,
              "#7201a8"
             ],
             [
              0.3333333333333333,
              "#9c179e"
             ],
             [
              0.4444444444444444,
              "#bd3786"
             ],
             [
              0.5555555555555556,
              "#d8576b"
             ],
             [
              0.6666666666666666,
              "#ed7953"
             ],
             [
              0.7777777777777778,
              "#fb9f3a"
             ],
             [
              0.8888888888888888,
              "#fdca26"
             ],
             [
              1,
              "#f0f921"
             ]
            ],
            "type": "heatmap"
           }
          ],
          "heatmapgl": [
           {
            "colorbar": {
             "outlinewidth": 0,
             "ticks": ""
            },
            "colorscale": [
             [
              0,
              "#0d0887"
             ],
             [
              0.1111111111111111,
              "#46039f"
             ],
             [
              0.2222222222222222,
              "#7201a8"
             ],
             [
              0.3333333333333333,
              "#9c179e"
             ],
             [
              0.4444444444444444,
              "#bd3786"
             ],
             [
              0.5555555555555556,
              "#d8576b"
             ],
             [
              0.6666666666666666,
              "#ed7953"
             ],
             [
              0.7777777777777778,
              "#fb9f3a"
             ],
             [
              0.8888888888888888,
              "#fdca26"
             ],
             [
              1,
              "#f0f921"
             ]
            ],
            "type": "heatmapgl"
           }
          ],
          "histogram": [
           {
            "marker": {
             "pattern": {
              "fillmode": "overlay",
              "size": 10,
              "solidity": 0.2
             }
            },
            "type": "histogram"
           }
          ],
          "histogram2d": [
           {
            "colorbar": {
             "outlinewidth": 0,
             "ticks": ""
            },
            "colorscale": [
             [
              0,
              "#0d0887"
             ],
             [
              0.1111111111111111,
              "#46039f"
             ],
             [
              0.2222222222222222,
              "#7201a8"
             ],
             [
              0.3333333333333333,
              "#9c179e"
             ],
             [
              0.4444444444444444,
              "#bd3786"
             ],
             [
              0.5555555555555556,
              "#d8576b"
             ],
             [
              0.6666666666666666,
              "#ed7953"
             ],
             [
              0.7777777777777778,
              "#fb9f3a"
             ],
             [
              0.8888888888888888,
              "#fdca26"
             ],
             [
              1,
              "#f0f921"
             ]
            ],
            "type": "histogram2d"
           }
          ],
          "histogram2dcontour": [
           {
            "colorbar": {
             "outlinewidth": 0,
             "ticks": ""
            },
            "colorscale": [
             [
              0,
              "#0d0887"
             ],
             [
              0.1111111111111111,
              "#46039f"
             ],
             [
              0.2222222222222222,
              "#7201a8"
             ],
             [
              0.3333333333333333,
              "#9c179e"
             ],
             [
              0.4444444444444444,
              "#bd3786"
             ],
             [
              0.5555555555555556,
              "#d8576b"
             ],
             [
              0.6666666666666666,
              "#ed7953"
             ],
             [
              0.7777777777777778,
              "#fb9f3a"
             ],
             [
              0.8888888888888888,
              "#fdca26"
             ],
             [
              1,
              "#f0f921"
             ]
            ],
            "type": "histogram2dcontour"
           }
          ],
          "mesh3d": [
           {
            "colorbar": {
             "outlinewidth": 0,
             "ticks": ""
            },
            "type": "mesh3d"
           }
          ],
          "parcoords": [
           {
            "line": {
             "colorbar": {
              "outlinewidth": 0,
              "ticks": ""
             }
            },
            "type": "parcoords"
           }
          ],
          "pie": [
           {
            "automargin": true,
            "type": "pie"
           }
          ],
          "scatter": [
           {
            "marker": {
             "colorbar": {
              "outlinewidth": 0,
              "ticks": ""
             }
            },
            "type": "scatter"
           }
          ],
          "scatter3d": [
           {
            "line": {
             "colorbar": {
              "outlinewidth": 0,
              "ticks": ""
             }
            },
            "marker": {
             "colorbar": {
              "outlinewidth": 0,
              "ticks": ""
             }
            },
            "type": "scatter3d"
           }
          ],
          "scattercarpet": [
           {
            "marker": {
             "colorbar": {
              "outlinewidth": 0,
              "ticks": ""
             }
            },
            "type": "scattercarpet"
           }
          ],
          "scattergeo": [
           {
            "marker": {
             "colorbar": {
              "outlinewidth": 0,
              "ticks": ""
             }
            },
            "type": "scattergeo"
           }
          ],
          "scattergl": [
           {
            "marker": {
             "colorbar": {
              "outlinewidth": 0,
              "ticks": ""
             }
            },
            "type": "scattergl"
           }
          ],
          "scattermapbox": [
           {
            "marker": {
             "colorbar": {
              "outlinewidth": 0,
              "ticks": ""
             }
            },
            "type": "scattermapbox"
           }
          ],
          "scatterpolar": [
           {
            "marker": {
             "colorbar": {
              "outlinewidth": 0,
              "ticks": ""
             }
            },
            "type": "scatterpolar"
           }
          ],
          "scatterpolargl": [
           {
            "marker": {
             "colorbar": {
              "outlinewidth": 0,
              "ticks": ""
             }
            },
            "type": "scatterpolargl"
           }
          ],
          "scatterternary": [
           {
            "marker": {
             "colorbar": {
              "outlinewidth": 0,
              "ticks": ""
             }
            },
            "type": "scatterternary"
           }
          ],
          "surface": [
           {
            "colorbar": {
             "outlinewidth": 0,
             "ticks": ""
            },
            "colorscale": [
             [
              0,
              "#0d0887"
             ],
             [
              0.1111111111111111,
              "#46039f"
             ],
             [
              0.2222222222222222,
              "#7201a8"
             ],
             [
              0.3333333333333333,
              "#9c179e"
             ],
             [
              0.4444444444444444,
              "#bd3786"
             ],
             [
              0.5555555555555556,
              "#d8576b"
             ],
             [
              0.6666666666666666,
              "#ed7953"
             ],
             [
              0.7777777777777778,
              "#fb9f3a"
             ],
             [
              0.8888888888888888,
              "#fdca26"
             ],
             [
              1,
              "#f0f921"
             ]
            ],
            "type": "surface"
           }
          ],
          "table": [
           {
            "cells": {
             "fill": {
              "color": "#EBF0F8"
             },
             "line": {
              "color": "white"
             }
            },
            "header": {
             "fill": {
              "color": "#C8D4E3"
             },
             "line": {
              "color": "white"
             }
            },
            "type": "table"
           }
          ]
         },
         "layout": {
          "annotationdefaults": {
           "arrowcolor": "#2a3f5f",
           "arrowhead": 0,
           "arrowwidth": 1
          },
          "autotypenumbers": "strict",
          "coloraxis": {
           "colorbar": {
            "outlinewidth": 0,
            "ticks": ""
           }
          },
          "colorscale": {
           "diverging": [
            [
             0,
             "#8e0152"
            ],
            [
             0.1,
             "#c51b7d"
            ],
            [
             0.2,
             "#de77ae"
            ],
            [
             0.3,
             "#f1b6da"
            ],
            [
             0.4,
             "#fde0ef"
            ],
            [
             0.5,
             "#f7f7f7"
            ],
            [
             0.6,
             "#e6f5d0"
            ],
            [
             0.7,
             "#b8e186"
            ],
            [
             0.8,
             "#7fbc41"
            ],
            [
             0.9,
             "#4d9221"
            ],
            [
             1,
             "#276419"
            ]
           ],
           "sequential": [
            [
             0,
             "#0d0887"
            ],
            [
             0.1111111111111111,
             "#46039f"
            ],
            [
             0.2222222222222222,
             "#7201a8"
            ],
            [
             0.3333333333333333,
             "#9c179e"
            ],
            [
             0.4444444444444444,
             "#bd3786"
            ],
            [
             0.5555555555555556,
             "#d8576b"
            ],
            [
             0.6666666666666666,
             "#ed7953"
            ],
            [
             0.7777777777777778,
             "#fb9f3a"
            ],
            [
             0.8888888888888888,
             "#fdca26"
            ],
            [
             1,
             "#f0f921"
            ]
           ],
           "sequentialminus": [
            [
             0,
             "#0d0887"
            ],
            [
             0.1111111111111111,
             "#46039f"
            ],
            [
             0.2222222222222222,
             "#7201a8"
            ],
            [
             0.3333333333333333,
             "#9c179e"
            ],
            [
             0.4444444444444444,
             "#bd3786"
            ],
            [
             0.5555555555555556,
             "#d8576b"
            ],
            [
             0.6666666666666666,
             "#ed7953"
            ],
            [
             0.7777777777777778,
             "#fb9f3a"
            ],
            [
             0.8888888888888888,
             "#fdca26"
            ],
            [
             1,
             "#f0f921"
            ]
           ]
          },
          "colorway": [
           "#636efa",
           "#EF553B",
           "#00cc96",
           "#ab63fa",
           "#FFA15A",
           "#19d3f3",
           "#FF6692",
           "#B6E880",
           "#FF97FF",
           "#FECB52"
          ],
          "font": {
           "color": "#2a3f5f"
          },
          "geo": {
           "bgcolor": "white",
           "lakecolor": "white",
           "landcolor": "#E5ECF6",
           "showlakes": true,
           "showland": true,
           "subunitcolor": "white"
          },
          "hoverlabel": {
           "align": "left"
          },
          "hovermode": "closest",
          "mapbox": {
           "style": "light"
          },
          "paper_bgcolor": "white",
          "plot_bgcolor": "#E5ECF6",
          "polar": {
           "angularaxis": {
            "gridcolor": "white",
            "linecolor": "white",
            "ticks": ""
           },
           "bgcolor": "#E5ECF6",
           "radialaxis": {
            "gridcolor": "white",
            "linecolor": "white",
            "ticks": ""
           }
          },
          "scene": {
           "xaxis": {
            "backgroundcolor": "#E5ECF6",
            "gridcolor": "white",
            "gridwidth": 2,
            "linecolor": "white",
            "showbackground": true,
            "ticks": "",
            "zerolinecolor": "white"
           },
           "yaxis": {
            "backgroundcolor": "#E5ECF6",
            "gridcolor": "white",
            "gridwidth": 2,
            "linecolor": "white",
            "showbackground": true,
            "ticks": "",
            "zerolinecolor": "white"
           },
           "zaxis": {
            "backgroundcolor": "#E5ECF6",
            "gridcolor": "white",
            "gridwidth": 2,
            "linecolor": "white",
            "showbackground": true,
            "ticks": "",
            "zerolinecolor": "white"
           }
          },
          "shapedefaults": {
           "line": {
            "color": "#2a3f5f"
           }
          },
          "ternary": {
           "aaxis": {
            "gridcolor": "white",
            "linecolor": "white",
            "ticks": ""
           },
           "baxis": {
            "gridcolor": "white",
            "linecolor": "white",
            "ticks": ""
           },
           "bgcolor": "#E5ECF6",
           "caxis": {
            "gridcolor": "white",
            "linecolor": "white",
            "ticks": ""
           }
          },
          "title": {
           "x": 0.05
          },
          "xaxis": {
           "automargin": true,
           "gridcolor": "white",
           "linecolor": "white",
           "ticks": "",
           "title": {
            "standoff": 15
           },
           "zerolinecolor": "white",
           "zerolinewidth": 2
          },
          "yaxis": {
           "automargin": true,
           "gridcolor": "white",
           "linecolor": "white",
           "ticks": "",
           "title": {
            "standoff": 15
           },
           "zerolinecolor": "white",
           "zerolinewidth": 2
          }
         }
        },
        "title": {
         "text": "Correlation of Screen Size and Price"
        },
        "xaxis": {
         "anchor": "y",
         "constrain": "domain",
         "domain": [
          0,
          1
         ],
         "scaleanchor": "y"
        },
        "yaxis": {
         "anchor": "x",
         "autorange": "reversed",
         "constrain": "domain",
         "domain": [
          0,
          1
         ]
        }
       }
      },
      "text/html": [
       "<div>                            <div id=\"53e9deb7-c6b9-4b50-bd71-6a04c66e77a8\" class=\"plotly-graph-div\" style=\"height:525px; width:100%;\"></div>            <script type=\"text/javascript\">                require([\"plotly\"], function(Plotly) {                    window.PLOTLYENV=window.PLOTLYENV || {};                                    if (document.getElementById(\"53e9deb7-c6b9-4b50-bd71-6a04c66e77a8\")) {                    Plotly.newPlot(                        \"53e9deb7-c6b9-4b50-bd71-6a04c66e77a8\",                        [{\"coloraxis\":\"coloraxis\",\"name\":\"0\",\"texttemplate\":\"%{z}\",\"x\":[\"Screen_Size\",\"Price\"],\"y\":[\"Screen_Size\",\"Price\"],\"z\":[[1.0,0.156],[0.156,1.0]],\"type\":\"heatmap\",\"xaxis\":\"x\",\"yaxis\":\"y\",\"hovertemplate\":\"x: %{x}<br>y: %{y}<br>color: %{z}<extra></extra>\"}],                        {\"template\":{\"data\":{\"bar\":[{\"error_x\":{\"color\":\"#2a3f5f\"},\"error_y\":{\"color\":\"#2a3f5f\"},\"marker\":{\"line\":{\"color\":\"#E5ECF6\",\"width\":0.5},\"pattern\":{\"fillmode\":\"overlay\",\"size\":10,\"solidity\":0.2}},\"type\":\"bar\"}],\"barpolar\":[{\"marker\":{\"line\":{\"color\":\"#E5ECF6\",\"width\":0.5},\"pattern\":{\"fillmode\":\"overlay\",\"size\":10,\"solidity\":0.2}},\"type\":\"barpolar\"}],\"carpet\":[{\"aaxis\":{\"endlinecolor\":\"#2a3f5f\",\"gridcolor\":\"white\",\"linecolor\":\"white\",\"minorgridcolor\":\"white\",\"startlinecolor\":\"#2a3f5f\"},\"baxis\":{\"endlinecolor\":\"#2a3f5f\",\"gridcolor\":\"white\",\"linecolor\":\"white\",\"minorgridcolor\":\"white\",\"startlinecolor\":\"#2a3f5f\"},\"type\":\"carpet\"}],\"choropleth\":[{\"colorbar\":{\"outlinewidth\":0,\"ticks\":\"\"},\"type\":\"choropleth\"}],\"contour\":[{\"colorbar\":{\"outlinewidth\":0,\"ticks\":\"\"},\"colorscale\":[[0.0,\"#0d0887\"],[0.1111111111111111,\"#46039f\"],[0.2222222222222222,\"#7201a8\"],[0.3333333333333333,\"#9c179e\"],[0.4444444444444444,\"#bd3786\"],[0.5555555555555556,\"#d8576b\"],[0.6666666666666666,\"#ed7953\"],[0.7777777777777778,\"#fb9f3a\"],[0.8888888888888888,\"#fdca26\"],[1.0,\"#f0f921\"]],\"type\":\"contour\"}],\"contourcarpet\":[{\"colorbar\":{\"outlinewidth\":0,\"ticks\":\"\"},\"type\":\"contourcarpet\"}],\"heatmap\":[{\"colorbar\":{\"outlinewidth\":0,\"ticks\":\"\"},\"colorscale\":[[0.0,\"#0d0887\"],[0.1111111111111111,\"#46039f\"],[0.2222222222222222,\"#7201a8\"],[0.3333333333333333,\"#9c179e\"],[0.4444444444444444,\"#bd3786\"],[0.5555555555555556,\"#d8576b\"],[0.6666666666666666,\"#ed7953\"],[0.7777777777777778,\"#fb9f3a\"],[0.8888888888888888,\"#fdca26\"],[1.0,\"#f0f921\"]],\"type\":\"heatmap\"}],\"heatmapgl\":[{\"colorbar\":{\"outlinewidth\":0,\"ticks\":\"\"},\"colorscale\":[[0.0,\"#0d0887\"],[0.1111111111111111,\"#46039f\"],[0.2222222222222222,\"#7201a8\"],[0.3333333333333333,\"#9c179e\"],[0.4444444444444444,\"#bd3786\"],[0.5555555555555556,\"#d8576b\"],[0.6666666666666666,\"#ed7953\"],[0.7777777777777778,\"#fb9f3a\"],[0.8888888888888888,\"#fdca26\"],[1.0,\"#f0f921\"]],\"type\":\"heatmapgl\"}],\"histogram\":[{\"marker\":{\"pattern\":{\"fillmode\":\"overlay\",\"size\":10,\"solidity\":0.2}},\"type\":\"histogram\"}],\"histogram2d\":[{\"colorbar\":{\"outlinewidth\":0,\"ticks\":\"\"},\"colorscale\":[[0.0,\"#0d0887\"],[0.1111111111111111,\"#46039f\"],[0.2222222222222222,\"#7201a8\"],[0.3333333333333333,\"#9c179e\"],[0.4444444444444444,\"#bd3786\"],[0.5555555555555556,\"#d8576b\"],[0.6666666666666666,\"#ed7953\"],[0.7777777777777778,\"#fb9f3a\"],[0.8888888888888888,\"#fdca26\"],[1.0,\"#f0f921\"]],\"type\":\"histogram2d\"}],\"histogram2dcontour\":[{\"colorbar\":{\"outlinewidth\":0,\"ticks\":\"\"},\"colorscale\":[[0.0,\"#0d0887\"],[0.1111111111111111,\"#46039f\"],[0.2222222222222222,\"#7201a8\"],[0.3333333333333333,\"#9c179e\"],[0.4444444444444444,\"#bd3786\"],[0.5555555555555556,\"#d8576b\"],[0.6666666666666666,\"#ed7953\"],[0.7777777777777778,\"#fb9f3a\"],[0.8888888888888888,\"#fdca26\"],[1.0,\"#f0f921\"]],\"type\":\"histogram2dcontour\"}],\"mesh3d\":[{\"colorbar\":{\"outlinewidth\":0,\"ticks\":\"\"},\"type\":\"mesh3d\"}],\"parcoords\":[{\"line\":{\"colorbar\":{\"outlinewidth\":0,\"ticks\":\"\"}},\"type\":\"parcoords\"}],\"pie\":[{\"automargin\":true,\"type\":\"pie\"}],\"scatter\":[{\"marker\":{\"colorbar\":{\"outlinewidth\":0,\"ticks\":\"\"}},\"type\":\"scatter\"}],\"scatter3d\":[{\"line\":{\"colorbar\":{\"outlinewidth\":0,\"ticks\":\"\"}},\"marker\":{\"colorbar\":{\"outlinewidth\":0,\"ticks\":\"\"}},\"type\":\"scatter3d\"}],\"scattercarpet\":[{\"marker\":{\"colorbar\":{\"outlinewidth\":0,\"ticks\":\"\"}},\"type\":\"scattercarpet\"}],\"scattergeo\":[{\"marker\":{\"colorbar\":{\"outlinewidth\":0,\"ticks\":\"\"}},\"type\":\"scattergeo\"}],\"scattergl\":[{\"marker\":{\"colorbar\":{\"outlinewidth\":0,\"ticks\":\"\"}},\"type\":\"scattergl\"}],\"scattermapbox\":[{\"marker\":{\"colorbar\":{\"outlinewidth\":0,\"ticks\":\"\"}},\"type\":\"scattermapbox\"}],\"scatterpolar\":[{\"marker\":{\"colorbar\":{\"outlinewidth\":0,\"ticks\":\"\"}},\"type\":\"scatterpolar\"}],\"scatterpolargl\":[{\"marker\":{\"colorbar\":{\"outlinewidth\":0,\"ticks\":\"\"}},\"type\":\"scatterpolargl\"}],\"scatterternary\":[{\"marker\":{\"colorbar\":{\"outlinewidth\":0,\"ticks\":\"\"}},\"type\":\"scatterternary\"}],\"surface\":[{\"colorbar\":{\"outlinewidth\":0,\"ticks\":\"\"},\"colorscale\":[[0.0,\"#0d0887\"],[0.1111111111111111,\"#46039f\"],[0.2222222222222222,\"#7201a8\"],[0.3333333333333333,\"#9c179e\"],[0.4444444444444444,\"#bd3786\"],[0.5555555555555556,\"#d8576b\"],[0.6666666666666666,\"#ed7953\"],[0.7777777777777778,\"#fb9f3a\"],[0.8888888888888888,\"#fdca26\"],[1.0,\"#f0f921\"]],\"type\":\"surface\"}],\"table\":[{\"cells\":{\"fill\":{\"color\":\"#EBF0F8\"},\"line\":{\"color\":\"white\"}},\"header\":{\"fill\":{\"color\":\"#C8D4E3\"},\"line\":{\"color\":\"white\"}},\"type\":\"table\"}]},\"layout\":{\"annotationdefaults\":{\"arrowcolor\":\"#2a3f5f\",\"arrowhead\":0,\"arrowwidth\":1},\"autotypenumbers\":\"strict\",\"coloraxis\":{\"colorbar\":{\"outlinewidth\":0,\"ticks\":\"\"}},\"colorscale\":{\"diverging\":[[0,\"#8e0152\"],[0.1,\"#c51b7d\"],[0.2,\"#de77ae\"],[0.3,\"#f1b6da\"],[0.4,\"#fde0ef\"],[0.5,\"#f7f7f7\"],[0.6,\"#e6f5d0\"],[0.7,\"#b8e186\"],[0.8,\"#7fbc41\"],[0.9,\"#4d9221\"],[1,\"#276419\"]],\"sequential\":[[0.0,\"#0d0887\"],[0.1111111111111111,\"#46039f\"],[0.2222222222222222,\"#7201a8\"],[0.3333333333333333,\"#9c179e\"],[0.4444444444444444,\"#bd3786\"],[0.5555555555555556,\"#d8576b\"],[0.6666666666666666,\"#ed7953\"],[0.7777777777777778,\"#fb9f3a\"],[0.8888888888888888,\"#fdca26\"],[1.0,\"#f0f921\"]],\"sequentialminus\":[[0.0,\"#0d0887\"],[0.1111111111111111,\"#46039f\"],[0.2222222222222222,\"#7201a8\"],[0.3333333333333333,\"#9c179e\"],[0.4444444444444444,\"#bd3786\"],[0.5555555555555556,\"#d8576b\"],[0.6666666666666666,\"#ed7953\"],[0.7777777777777778,\"#fb9f3a\"],[0.8888888888888888,\"#fdca26\"],[1.0,\"#f0f921\"]]},\"colorway\":[\"#636efa\",\"#EF553B\",\"#00cc96\",\"#ab63fa\",\"#FFA15A\",\"#19d3f3\",\"#FF6692\",\"#B6E880\",\"#FF97FF\",\"#FECB52\"],\"font\":{\"color\":\"#2a3f5f\"},\"geo\":{\"bgcolor\":\"white\",\"lakecolor\":\"white\",\"landcolor\":\"#E5ECF6\",\"showlakes\":true,\"showland\":true,\"subunitcolor\":\"white\"},\"hoverlabel\":{\"align\":\"left\"},\"hovermode\":\"closest\",\"mapbox\":{\"style\":\"light\"},\"paper_bgcolor\":\"white\",\"plot_bgcolor\":\"#E5ECF6\",\"polar\":{\"angularaxis\":{\"gridcolor\":\"white\",\"linecolor\":\"white\",\"ticks\":\"\"},\"bgcolor\":\"#E5ECF6\",\"radialaxis\":{\"gridcolor\":\"white\",\"linecolor\":\"white\",\"ticks\":\"\"}},\"scene\":{\"xaxis\":{\"backgroundcolor\":\"#E5ECF6\",\"gridcolor\":\"white\",\"gridwidth\":2,\"linecolor\":\"white\",\"showbackground\":true,\"ticks\":\"\",\"zerolinecolor\":\"white\"},\"yaxis\":{\"backgroundcolor\":\"#E5ECF6\",\"gridcolor\":\"white\",\"gridwidth\":2,\"linecolor\":\"white\",\"showbackground\":true,\"ticks\":\"\",\"zerolinecolor\":\"white\"},\"zaxis\":{\"backgroundcolor\":\"#E5ECF6\",\"gridcolor\":\"white\",\"gridwidth\":2,\"linecolor\":\"white\",\"showbackground\":true,\"ticks\":\"\",\"zerolinecolor\":\"white\"}},\"shapedefaults\":{\"line\":{\"color\":\"#2a3f5f\"}},\"ternary\":{\"aaxis\":{\"gridcolor\":\"white\",\"linecolor\":\"white\",\"ticks\":\"\"},\"baxis\":{\"gridcolor\":\"white\",\"linecolor\":\"white\",\"ticks\":\"\"},\"bgcolor\":\"#E5ECF6\",\"caxis\":{\"gridcolor\":\"white\",\"linecolor\":\"white\",\"ticks\":\"\"}},\"title\":{\"x\":0.05},\"xaxis\":{\"automargin\":true,\"gridcolor\":\"white\",\"linecolor\":\"white\",\"ticks\":\"\",\"title\":{\"standoff\":15},\"zerolinecolor\":\"white\",\"zerolinewidth\":2},\"yaxis\":{\"automargin\":true,\"gridcolor\":\"white\",\"linecolor\":\"white\",\"ticks\":\"\",\"title\":{\"standoff\":15},\"zerolinecolor\":\"white\",\"zerolinewidth\":2}}},\"xaxis\":{\"anchor\":\"y\",\"domain\":[0.0,1.0],\"scaleanchor\":\"y\",\"constrain\":\"domain\"},\"yaxis\":{\"anchor\":\"x\",\"domain\":[0.0,1.0],\"autorange\":\"reversed\",\"constrain\":\"domain\"},\"coloraxis\":{\"colorscale\":[[0.0,\"rgb(5,48,97)\"],[0.1,\"rgb(33,102,172)\"],[0.2,\"rgb(67,147,195)\"],[0.3,\"rgb(146,197,222)\"],[0.4,\"rgb(209,229,240)\"],[0.5,\"rgb(247,247,247)\"],[0.6,\"rgb(253,219,199)\"],[0.7,\"rgb(244,165,130)\"],[0.8,\"rgb(214,96,77)\"],[0.9,\"rgb(178,24,43)\"],[1.0,\"rgb(103,0,31)\"]],\"cmin\":-1,\"cmax\":1},\"title\":{\"text\":\"Correlation of Screen Size and Price\"}},                        {\"responsive\": true}                    ).then(function(){\n",
       "                            \n",
       "var gd = document.getElementById('53e9deb7-c6b9-4b50-bd71-6a04c66e77a8');\n",
       "var x = new MutationObserver(function (mutations, observer) {{\n",
       "        var display = window.getComputedStyle(gd).display;\n",
       "        if (!display || display === 'none') {{\n",
       "            console.log([gd, 'removed!']);\n",
       "            Plotly.purge(gd);\n",
       "            observer.disconnect();\n",
       "        }}\n",
       "}});\n",
       "\n",
       "// Listen for the removal of the full notebook cells\n",
       "var notebookContainer = gd.closest('#notebook-container');\n",
       "if (notebookContainer) {{\n",
       "    x.observe(notebookContainer, {childList: true});\n",
       "}}\n",
       "\n",
       "// Listen for the clearing of the current output cell\n",
       "var outputEl = gd.closest('.output');\n",
       "if (outputEl) {{\n",
       "    x.observe(outputEl, {childList: true});\n",
       "}}\n",
       "\n",
       "                        })                };                });            </script>        </div>"
      ]
     },
     "metadata": {},
     "output_type": "display_data"
    }
   ],
   "source": [
    "correlation_df = dane.loc[:, [\"Screen_Size\", \"Price\"]].corr().round(3)\n",
    "fig = px.imshow(correlation_df, \n",
    "          color_continuous_scale = px.colors.sequential.RdBu_r, \n",
    "          title = \"Correlation of Screen Size and Price\",\n",
    "          zmin = -1,\n",
    "          zmax = 1,\n",
    "          text_auto = True)\n",
    "fig.show()"
   ]
  },
  {
   "cell_type": "markdown",
   "id": "3c8f43dd",
   "metadata": {},
   "source": [
    "Zatem zależność jest bardzo niewielka, prawie niezauważalna"
   ]
  },
  {
   "cell_type": "code",
   "execution_count": 134,
   "id": "ac0da157",
   "metadata": {},
   "outputs": [
    {
     "data": {
      "application/vnd.plotly.v1+json": {
       "config": {
        "plotlyServerURL": "https://plot.ly"
       },
       "data": [
        {
         "alignmentgroup": "True",
         "hovertemplate": "Condition=Excellent - Refurbished<br>Brand=%{x}<br>Price=%{y}<extra></extra>",
         "legendgroup": "Excellent - Refurbished",
         "marker": {
          "color": "#636efa",
          "pattern": {
           "shape": ""
          }
         },
         "name": "Excellent - Refurbished",
         "offsetgroup": "Excellent - Refurbished",
         "orientation": "v",
         "showlegend": true,
         "textposition": "auto",
         "type": "bar",
         "x": [
          "Dell",
          "HP",
          "Lenovo"
         ],
         "xaxis": "x",
         "y": [
          502.09471861471866,
          621.7276666666668,
          549.8692592592593
         ],
         "yaxis": "y"
        },
        {
         "alignmentgroup": "True",
         "hovertemplate": "Condition=Good - Refurbished<br>Brand=%{x}<br>Price=%{y}<extra></extra>",
         "legendgroup": "Good - Refurbished",
         "marker": {
          "color": "#EF553B",
          "pattern": {
           "shape": ""
          }
         },
         "name": "Good - Refurbished",
         "offsetgroup": "Good - Refurbished",
         "orientation": "v",
         "showlegend": true,
         "textposition": "auto",
         "type": "bar",
         "x": [
          "Dell",
          "HP",
          "Lenovo"
         ],
         "xaxis": "x",
         "y": [
          346.9000444444444,
          378.03364583333337,
          351.8914942528736
         ],
         "yaxis": "y"
        },
        {
         "alignmentgroup": "True",
         "hovertemplate": "Condition=New<br>Brand=%{x}<br>Price=%{y}<extra></extra>",
         "legendgroup": "New",
         "marker": {
          "color": "#00cc96",
          "pattern": {
           "shape": ""
          }
         },
         "name": "New",
         "offsetgroup": "New",
         "orientation": "v",
         "showlegend": true,
         "textposition": "auto",
         "type": "bar",
         "x": [
          "Dell",
          "HP",
          "Lenovo"
         ],
         "xaxis": "x",
         "y": [
          598.4680689655172,
          566.1345871559632,
          593.3841052631578
         ],
         "yaxis": "y"
        },
        {
         "alignmentgroup": "True",
         "hovertemplate": "Condition=Open box<br>Brand=%{x}<br>Price=%{y}<extra></extra>",
         "legendgroup": "Open box",
         "marker": {
          "color": "#ab63fa",
          "pattern": {
           "shape": ""
          }
         },
         "name": "Open box",
         "offsetgroup": "Open box",
         "orientation": "v",
         "showlegend": true,
         "textposition": "auto",
         "type": "bar",
         "x": [
          "Dell",
          "HP",
          "Lenovo"
         ],
         "xaxis": "x",
         "y": [
          617.9134403669725,
          579.6007382550335,
          511.9974556213018
         ],
         "yaxis": "y"
        },
        {
         "alignmentgroup": "True",
         "hovertemplate": "Condition=Very Good - Refurbished<br>Brand=%{x}<br>Price=%{y}<extra></extra>",
         "legendgroup": "Very Good - Refurbished",
         "marker": {
          "color": "#FFA15A",
          "pattern": {
           "shape": ""
          }
         },
         "name": "Very Good - Refurbished",
         "offsetgroup": "Very Good - Refurbished",
         "orientation": "v",
         "showlegend": true,
         "textposition": "auto",
         "type": "bar",
         "x": [
          "Dell",
          "HP",
          "Lenovo"
         ],
         "xaxis": "x",
         "y": [
          403.7213103448276,
          400.3430909090909,
          386.3477165354331
         ],
         "yaxis": "y"
        }
       ],
       "layout": {
        "barmode": "group",
        "legend": {
         "title": {
          "text": "Condition"
         },
         "tracegroupgap": 0
        },
        "template": {
         "data": {
          "bar": [
           {
            "error_x": {
             "color": "#2a3f5f"
            },
            "error_y": {
             "color": "#2a3f5f"
            },
            "marker": {
             "line": {
              "color": "#E5ECF6",
              "width": 0.5
             },
             "pattern": {
              "fillmode": "overlay",
              "size": 10,
              "solidity": 0.2
             }
            },
            "type": "bar"
           }
          ],
          "barpolar": [
           {
            "marker": {
             "line": {
              "color": "#E5ECF6",
              "width": 0.5
             },
             "pattern": {
              "fillmode": "overlay",
              "size": 10,
              "solidity": 0.2
             }
            },
            "type": "barpolar"
           }
          ],
          "carpet": [
           {
            "aaxis": {
             "endlinecolor": "#2a3f5f",
             "gridcolor": "white",
             "linecolor": "white",
             "minorgridcolor": "white",
             "startlinecolor": "#2a3f5f"
            },
            "baxis": {
             "endlinecolor": "#2a3f5f",
             "gridcolor": "white",
             "linecolor": "white",
             "minorgridcolor": "white",
             "startlinecolor": "#2a3f5f"
            },
            "type": "carpet"
           }
          ],
          "choropleth": [
           {
            "colorbar": {
             "outlinewidth": 0,
             "ticks": ""
            },
            "type": "choropleth"
           }
          ],
          "contour": [
           {
            "colorbar": {
             "outlinewidth": 0,
             "ticks": ""
            },
            "colorscale": [
             [
              0,
              "#0d0887"
             ],
             [
              0.1111111111111111,
              "#46039f"
             ],
             [
              0.2222222222222222,
              "#7201a8"
             ],
             [
              0.3333333333333333,
              "#9c179e"
             ],
             [
              0.4444444444444444,
              "#bd3786"
             ],
             [
              0.5555555555555556,
              "#d8576b"
             ],
             [
              0.6666666666666666,
              "#ed7953"
             ],
             [
              0.7777777777777778,
              "#fb9f3a"
             ],
             [
              0.8888888888888888,
              "#fdca26"
             ],
             [
              1,
              "#f0f921"
             ]
            ],
            "type": "contour"
           }
          ],
          "contourcarpet": [
           {
            "colorbar": {
             "outlinewidth": 0,
             "ticks": ""
            },
            "type": "contourcarpet"
           }
          ],
          "heatmap": [
           {
            "colorbar": {
             "outlinewidth": 0,
             "ticks": ""
            },
            "colorscale": [
             [
              0,
              "#0d0887"
             ],
             [
              0.1111111111111111,
              "#46039f"
             ],
             [
              0.2222222222222222,
              "#7201a8"
             ],
             [
              0.3333333333333333,
              "#9c179e"
             ],
             [
              0.4444444444444444,
              "#bd3786"
             ],
             [
              0.5555555555555556,
              "#d8576b"
             ],
             [
              0.6666666666666666,
              "#ed7953"
             ],
             [
              0.7777777777777778,
              "#fb9f3a"
             ],
             [
              0.8888888888888888,
              "#fdca26"
             ],
             [
              1,
              "#f0f921"
             ]
            ],
            "type": "heatmap"
           }
          ],
          "heatmapgl": [
           {
            "colorbar": {
             "outlinewidth": 0,
             "ticks": ""
            },
            "colorscale": [
             [
              0,
              "#0d0887"
             ],
             [
              0.1111111111111111,
              "#46039f"
             ],
             [
              0.2222222222222222,
              "#7201a8"
             ],
             [
              0.3333333333333333,
              "#9c179e"
             ],
             [
              0.4444444444444444,
              "#bd3786"
             ],
             [
              0.5555555555555556,
              "#d8576b"
             ],
             [
              0.6666666666666666,
              "#ed7953"
             ],
             [
              0.7777777777777778,
              "#fb9f3a"
             ],
             [
              0.8888888888888888,
              "#fdca26"
             ],
             [
              1,
              "#f0f921"
             ]
            ],
            "type": "heatmapgl"
           }
          ],
          "histogram": [
           {
            "marker": {
             "pattern": {
              "fillmode": "overlay",
              "size": 10,
              "solidity": 0.2
             }
            },
            "type": "histogram"
           }
          ],
          "histogram2d": [
           {
            "colorbar": {
             "outlinewidth": 0,
             "ticks": ""
            },
            "colorscale": [
             [
              0,
              "#0d0887"
             ],
             [
              0.1111111111111111,
              "#46039f"
             ],
             [
              0.2222222222222222,
              "#7201a8"
             ],
             [
              0.3333333333333333,
              "#9c179e"
             ],
             [
              0.4444444444444444,
              "#bd3786"
             ],
             [
              0.5555555555555556,
              "#d8576b"
             ],
             [
              0.6666666666666666,
              "#ed7953"
             ],
             [
              0.7777777777777778,
              "#fb9f3a"
             ],
             [
              0.8888888888888888,
              "#fdca26"
             ],
             [
              1,
              "#f0f921"
             ]
            ],
            "type": "histogram2d"
           }
          ],
          "histogram2dcontour": [
           {
            "colorbar": {
             "outlinewidth": 0,
             "ticks": ""
            },
            "colorscale": [
             [
              0,
              "#0d0887"
             ],
             [
              0.1111111111111111,
              "#46039f"
             ],
             [
              0.2222222222222222,
              "#7201a8"
             ],
             [
              0.3333333333333333,
              "#9c179e"
             ],
             [
              0.4444444444444444,
              "#bd3786"
             ],
             [
              0.5555555555555556,
              "#d8576b"
             ],
             [
              0.6666666666666666,
              "#ed7953"
             ],
             [
              0.7777777777777778,
              "#fb9f3a"
             ],
             [
              0.8888888888888888,
              "#fdca26"
             ],
             [
              1,
              "#f0f921"
             ]
            ],
            "type": "histogram2dcontour"
           }
          ],
          "mesh3d": [
           {
            "colorbar": {
             "outlinewidth": 0,
             "ticks": ""
            },
            "type": "mesh3d"
           }
          ],
          "parcoords": [
           {
            "line": {
             "colorbar": {
              "outlinewidth": 0,
              "ticks": ""
             }
            },
            "type": "parcoords"
           }
          ],
          "pie": [
           {
            "automargin": true,
            "type": "pie"
           }
          ],
          "scatter": [
           {
            "marker": {
             "colorbar": {
              "outlinewidth": 0,
              "ticks": ""
             }
            },
            "type": "scatter"
           }
          ],
          "scatter3d": [
           {
            "line": {
             "colorbar": {
              "outlinewidth": 0,
              "ticks": ""
             }
            },
            "marker": {
             "colorbar": {
              "outlinewidth": 0,
              "ticks": ""
             }
            },
            "type": "scatter3d"
           }
          ],
          "scattercarpet": [
           {
            "marker": {
             "colorbar": {
              "outlinewidth": 0,
              "ticks": ""
             }
            },
            "type": "scattercarpet"
           }
          ],
          "scattergeo": [
           {
            "marker": {
             "colorbar": {
              "outlinewidth": 0,
              "ticks": ""
             }
            },
            "type": "scattergeo"
           }
          ],
          "scattergl": [
           {
            "marker": {
             "colorbar": {
              "outlinewidth": 0,
              "ticks": ""
             }
            },
            "type": "scattergl"
           }
          ],
          "scattermapbox": [
           {
            "marker": {
             "colorbar": {
              "outlinewidth": 0,
              "ticks": ""
             }
            },
            "type": "scattermapbox"
           }
          ],
          "scatterpolar": [
           {
            "marker": {
             "colorbar": {
              "outlinewidth": 0,
              "ticks": ""
             }
            },
            "type": "scatterpolar"
           }
          ],
          "scatterpolargl": [
           {
            "marker": {
             "colorbar": {
              "outlinewidth": 0,
              "ticks": ""
             }
            },
            "type": "scatterpolargl"
           }
          ],
          "scatterternary": [
           {
            "marker": {
             "colorbar": {
              "outlinewidth": 0,
              "ticks": ""
             }
            },
            "type": "scatterternary"
           }
          ],
          "surface": [
           {
            "colorbar": {
             "outlinewidth": 0,
             "ticks": ""
            },
            "colorscale": [
             [
              0,
              "#0d0887"
             ],
             [
              0.1111111111111111,
              "#46039f"
             ],
             [
              0.2222222222222222,
              "#7201a8"
             ],
             [
              0.3333333333333333,
              "#9c179e"
             ],
             [
              0.4444444444444444,
              "#bd3786"
             ],
             [
              0.5555555555555556,
              "#d8576b"
             ],
             [
              0.6666666666666666,
              "#ed7953"
             ],
             [
              0.7777777777777778,
              "#fb9f3a"
             ],
             [
              0.8888888888888888,
              "#fdca26"
             ],
             [
              1,
              "#f0f921"
             ]
            ],
            "type": "surface"
           }
          ],
          "table": [
           {
            "cells": {
             "fill": {
              "color": "#EBF0F8"
             },
             "line": {
              "color": "white"
             }
            },
            "header": {
             "fill": {
              "color": "#C8D4E3"
             },
             "line": {
              "color": "white"
             }
            },
            "type": "table"
           }
          ]
         },
         "layout": {
          "annotationdefaults": {
           "arrowcolor": "#2a3f5f",
           "arrowhead": 0,
           "arrowwidth": 1
          },
          "autotypenumbers": "strict",
          "coloraxis": {
           "colorbar": {
            "outlinewidth": 0,
            "ticks": ""
           }
          },
          "colorscale": {
           "diverging": [
            [
             0,
             "#8e0152"
            ],
            [
             0.1,
             "#c51b7d"
            ],
            [
             0.2,
             "#de77ae"
            ],
            [
             0.3,
             "#f1b6da"
            ],
            [
             0.4,
             "#fde0ef"
            ],
            [
             0.5,
             "#f7f7f7"
            ],
            [
             0.6,
             "#e6f5d0"
            ],
            [
             0.7,
             "#b8e186"
            ],
            [
             0.8,
             "#7fbc41"
            ],
            [
             0.9,
             "#4d9221"
            ],
            [
             1,
             "#276419"
            ]
           ],
           "sequential": [
            [
             0,
             "#0d0887"
            ],
            [
             0.1111111111111111,
             "#46039f"
            ],
            [
             0.2222222222222222,
             "#7201a8"
            ],
            [
             0.3333333333333333,
             "#9c179e"
            ],
            [
             0.4444444444444444,
             "#bd3786"
            ],
            [
             0.5555555555555556,
             "#d8576b"
            ],
            [
             0.6666666666666666,
             "#ed7953"
            ],
            [
             0.7777777777777778,
             "#fb9f3a"
            ],
            [
             0.8888888888888888,
             "#fdca26"
            ],
            [
             1,
             "#f0f921"
            ]
           ],
           "sequentialminus": [
            [
             0,
             "#0d0887"
            ],
            [
             0.1111111111111111,
             "#46039f"
            ],
            [
             0.2222222222222222,
             "#7201a8"
            ],
            [
             0.3333333333333333,
             "#9c179e"
            ],
            [
             0.4444444444444444,
             "#bd3786"
            ],
            [
             0.5555555555555556,
             "#d8576b"
            ],
            [
             0.6666666666666666,
             "#ed7953"
            ],
            [
             0.7777777777777778,
             "#fb9f3a"
            ],
            [
             0.8888888888888888,
             "#fdca26"
            ],
            [
             1,
             "#f0f921"
            ]
           ]
          },
          "colorway": [
           "#636efa",
           "#EF553B",
           "#00cc96",
           "#ab63fa",
           "#FFA15A",
           "#19d3f3",
           "#FF6692",
           "#B6E880",
           "#FF97FF",
           "#FECB52"
          ],
          "font": {
           "color": "#2a3f5f"
          },
          "geo": {
           "bgcolor": "white",
           "lakecolor": "white",
           "landcolor": "#E5ECF6",
           "showlakes": true,
           "showland": true,
           "subunitcolor": "white"
          },
          "hoverlabel": {
           "align": "left"
          },
          "hovermode": "closest",
          "mapbox": {
           "style": "light"
          },
          "paper_bgcolor": "white",
          "plot_bgcolor": "#E5ECF6",
          "polar": {
           "angularaxis": {
            "gridcolor": "white",
            "linecolor": "white",
            "ticks": ""
           },
           "bgcolor": "#E5ECF6",
           "radialaxis": {
            "gridcolor": "white",
            "linecolor": "white",
            "ticks": ""
           }
          },
          "scene": {
           "xaxis": {
            "backgroundcolor": "#E5ECF6",
            "gridcolor": "white",
            "gridwidth": 2,
            "linecolor": "white",
            "showbackground": true,
            "ticks": "",
            "zerolinecolor": "white"
           },
           "yaxis": {
            "backgroundcolor": "#E5ECF6",
            "gridcolor": "white",
            "gridwidth": 2,
            "linecolor": "white",
            "showbackground": true,
            "ticks": "",
            "zerolinecolor": "white"
           },
           "zaxis": {
            "backgroundcolor": "#E5ECF6",
            "gridcolor": "white",
            "gridwidth": 2,
            "linecolor": "white",
            "showbackground": true,
            "ticks": "",
            "zerolinecolor": "white"
           }
          },
          "shapedefaults": {
           "line": {
            "color": "#2a3f5f"
           }
          },
          "ternary": {
           "aaxis": {
            "gridcolor": "white",
            "linecolor": "white",
            "ticks": ""
           },
           "baxis": {
            "gridcolor": "white",
            "linecolor": "white",
            "ticks": ""
           },
           "bgcolor": "#E5ECF6",
           "caxis": {
            "gridcolor": "white",
            "linecolor": "white",
            "ticks": ""
           }
          },
          "title": {
           "x": 0.05
          },
          "xaxis": {
           "automargin": true,
           "gridcolor": "white",
           "linecolor": "white",
           "ticks": "",
           "title": {
            "standoff": 15
           },
           "zerolinecolor": "white",
           "zerolinewidth": 2
          },
          "yaxis": {
           "automargin": true,
           "gridcolor": "white",
           "linecolor": "white",
           "ticks": "",
           "title": {
            "standoff": 15
           },
           "zerolinecolor": "white",
           "zerolinewidth": 2
          }
         }
        },
        "title": {
         "text": "Barplot of Price, Condition and Brand - comparison"
        },
        "xaxis": {
         "anchor": "y",
         "domain": [
          0,
          1
         ],
         "title": {
          "text": "Brand"
         }
        },
        "yaxis": {
         "anchor": "x",
         "domain": [
          0,
          1
         ],
         "title": {
          "text": "Price"
         }
        }
       }
      },
      "text/html": [
       "<div>                            <div id=\"e9b4305e-d3fe-4f60-a774-6d33d0330533\" class=\"plotly-graph-div\" style=\"height:525px; width:100%;\"></div>            <script type=\"text/javascript\">                require([\"plotly\"], function(Plotly) {                    window.PLOTLYENV=window.PLOTLYENV || {};                                    if (document.getElementById(\"e9b4305e-d3fe-4f60-a774-6d33d0330533\")) {                    Plotly.newPlot(                        \"e9b4305e-d3fe-4f60-a774-6d33d0330533\",                        [{\"alignmentgroup\":\"True\",\"hovertemplate\":\"Condition=Excellent - Refurbished<br>Brand=%{x}<br>Price=%{y}<extra></extra>\",\"legendgroup\":\"Excellent - Refurbished\",\"marker\":{\"color\":\"#636efa\",\"pattern\":{\"shape\":\"\"}},\"name\":\"Excellent - Refurbished\",\"offsetgroup\":\"Excellent - Refurbished\",\"orientation\":\"v\",\"showlegend\":true,\"textposition\":\"auto\",\"x\":[\"Dell\",\"HP\",\"Lenovo\"],\"xaxis\":\"x\",\"y\":[502.09471861471866,621.7276666666668,549.8692592592593],\"yaxis\":\"y\",\"type\":\"bar\"},{\"alignmentgroup\":\"True\",\"hovertemplate\":\"Condition=Good - Refurbished<br>Brand=%{x}<br>Price=%{y}<extra></extra>\",\"legendgroup\":\"Good - Refurbished\",\"marker\":{\"color\":\"#EF553B\",\"pattern\":{\"shape\":\"\"}},\"name\":\"Good - Refurbished\",\"offsetgroup\":\"Good - Refurbished\",\"orientation\":\"v\",\"showlegend\":true,\"textposition\":\"auto\",\"x\":[\"Dell\",\"HP\",\"Lenovo\"],\"xaxis\":\"x\",\"y\":[346.9000444444444,378.03364583333337,351.8914942528736],\"yaxis\":\"y\",\"type\":\"bar\"},{\"alignmentgroup\":\"True\",\"hovertemplate\":\"Condition=New<br>Brand=%{x}<br>Price=%{y}<extra></extra>\",\"legendgroup\":\"New\",\"marker\":{\"color\":\"#00cc96\",\"pattern\":{\"shape\":\"\"}},\"name\":\"New\",\"offsetgroup\":\"New\",\"orientation\":\"v\",\"showlegend\":true,\"textposition\":\"auto\",\"x\":[\"Dell\",\"HP\",\"Lenovo\"],\"xaxis\":\"x\",\"y\":[598.4680689655172,566.1345871559632,593.3841052631578],\"yaxis\":\"y\",\"type\":\"bar\"},{\"alignmentgroup\":\"True\",\"hovertemplate\":\"Condition=Open box<br>Brand=%{x}<br>Price=%{y}<extra></extra>\",\"legendgroup\":\"Open box\",\"marker\":{\"color\":\"#ab63fa\",\"pattern\":{\"shape\":\"\"}},\"name\":\"Open box\",\"offsetgroup\":\"Open box\",\"orientation\":\"v\",\"showlegend\":true,\"textposition\":\"auto\",\"x\":[\"Dell\",\"HP\",\"Lenovo\"],\"xaxis\":\"x\",\"y\":[617.9134403669725,579.6007382550335,511.9974556213018],\"yaxis\":\"y\",\"type\":\"bar\"},{\"alignmentgroup\":\"True\",\"hovertemplate\":\"Condition=Very Good - Refurbished<br>Brand=%{x}<br>Price=%{y}<extra></extra>\",\"legendgroup\":\"Very Good - Refurbished\",\"marker\":{\"color\":\"#FFA15A\",\"pattern\":{\"shape\":\"\"}},\"name\":\"Very Good - Refurbished\",\"offsetgroup\":\"Very Good - Refurbished\",\"orientation\":\"v\",\"showlegend\":true,\"textposition\":\"auto\",\"x\":[\"Dell\",\"HP\",\"Lenovo\"],\"xaxis\":\"x\",\"y\":[403.7213103448276,400.3430909090909,386.3477165354331],\"yaxis\":\"y\",\"type\":\"bar\"}],                        {\"template\":{\"data\":{\"bar\":[{\"error_x\":{\"color\":\"#2a3f5f\"},\"error_y\":{\"color\":\"#2a3f5f\"},\"marker\":{\"line\":{\"color\":\"#E5ECF6\",\"width\":0.5},\"pattern\":{\"fillmode\":\"overlay\",\"size\":10,\"solidity\":0.2}},\"type\":\"bar\"}],\"barpolar\":[{\"marker\":{\"line\":{\"color\":\"#E5ECF6\",\"width\":0.5},\"pattern\":{\"fillmode\":\"overlay\",\"size\":10,\"solidity\":0.2}},\"type\":\"barpolar\"}],\"carpet\":[{\"aaxis\":{\"endlinecolor\":\"#2a3f5f\",\"gridcolor\":\"white\",\"linecolor\":\"white\",\"minorgridcolor\":\"white\",\"startlinecolor\":\"#2a3f5f\"},\"baxis\":{\"endlinecolor\":\"#2a3f5f\",\"gridcolor\":\"white\",\"linecolor\":\"white\",\"minorgridcolor\":\"white\",\"startlinecolor\":\"#2a3f5f\"},\"type\":\"carpet\"}],\"choropleth\":[{\"colorbar\":{\"outlinewidth\":0,\"ticks\":\"\"},\"type\":\"choropleth\"}],\"contour\":[{\"colorbar\":{\"outlinewidth\":0,\"ticks\":\"\"},\"colorscale\":[[0.0,\"#0d0887\"],[0.1111111111111111,\"#46039f\"],[0.2222222222222222,\"#7201a8\"],[0.3333333333333333,\"#9c179e\"],[0.4444444444444444,\"#bd3786\"],[0.5555555555555556,\"#d8576b\"],[0.6666666666666666,\"#ed7953\"],[0.7777777777777778,\"#fb9f3a\"],[0.8888888888888888,\"#fdca26\"],[1.0,\"#f0f921\"]],\"type\":\"contour\"}],\"contourcarpet\":[{\"colorbar\":{\"outlinewidth\":0,\"ticks\":\"\"},\"type\":\"contourcarpet\"}],\"heatmap\":[{\"colorbar\":{\"outlinewidth\":0,\"ticks\":\"\"},\"colorscale\":[[0.0,\"#0d0887\"],[0.1111111111111111,\"#46039f\"],[0.2222222222222222,\"#7201a8\"],[0.3333333333333333,\"#9c179e\"],[0.4444444444444444,\"#bd3786\"],[0.5555555555555556,\"#d8576b\"],[0.6666666666666666,\"#ed7953\"],[0.7777777777777778,\"#fb9f3a\"],[0.8888888888888888,\"#fdca26\"],[1.0,\"#f0f921\"]],\"type\":\"heatmap\"}],\"heatmapgl\":[{\"colorbar\":{\"outlinewidth\":0,\"ticks\":\"\"},\"colorscale\":[[0.0,\"#0d0887\"],[0.1111111111111111,\"#46039f\"],[0.2222222222222222,\"#7201a8\"],[0.3333333333333333,\"#9c179e\"],[0.4444444444444444,\"#bd3786\"],[0.5555555555555556,\"#d8576b\"],[0.6666666666666666,\"#ed7953\"],[0.7777777777777778,\"#fb9f3a\"],[0.8888888888888888,\"#fdca26\"],[1.0,\"#f0f921\"]],\"type\":\"heatmapgl\"}],\"histogram\":[{\"marker\":{\"pattern\":{\"fillmode\":\"overlay\",\"size\":10,\"solidity\":0.2}},\"type\":\"histogram\"}],\"histogram2d\":[{\"colorbar\":{\"outlinewidth\":0,\"ticks\":\"\"},\"colorscale\":[[0.0,\"#0d0887\"],[0.1111111111111111,\"#46039f\"],[0.2222222222222222,\"#7201a8\"],[0.3333333333333333,\"#9c179e\"],[0.4444444444444444,\"#bd3786\"],[0.5555555555555556,\"#d8576b\"],[0.6666666666666666,\"#ed7953\"],[0.7777777777777778,\"#fb9f3a\"],[0.8888888888888888,\"#fdca26\"],[1.0,\"#f0f921\"]],\"type\":\"histogram2d\"}],\"histogram2dcontour\":[{\"colorbar\":{\"outlinewidth\":0,\"ticks\":\"\"},\"colorscale\":[[0.0,\"#0d0887\"],[0.1111111111111111,\"#46039f\"],[0.2222222222222222,\"#7201a8\"],[0.3333333333333333,\"#9c179e\"],[0.4444444444444444,\"#bd3786\"],[0.5555555555555556,\"#d8576b\"],[0.6666666666666666,\"#ed7953\"],[0.7777777777777778,\"#fb9f3a\"],[0.8888888888888888,\"#fdca26\"],[1.0,\"#f0f921\"]],\"type\":\"histogram2dcontour\"}],\"mesh3d\":[{\"colorbar\":{\"outlinewidth\":0,\"ticks\":\"\"},\"type\":\"mesh3d\"}],\"parcoords\":[{\"line\":{\"colorbar\":{\"outlinewidth\":0,\"ticks\":\"\"}},\"type\":\"parcoords\"}],\"pie\":[{\"automargin\":true,\"type\":\"pie\"}],\"scatter\":[{\"marker\":{\"colorbar\":{\"outlinewidth\":0,\"ticks\":\"\"}},\"type\":\"scatter\"}],\"scatter3d\":[{\"line\":{\"colorbar\":{\"outlinewidth\":0,\"ticks\":\"\"}},\"marker\":{\"colorbar\":{\"outlinewidth\":0,\"ticks\":\"\"}},\"type\":\"scatter3d\"}],\"scattercarpet\":[{\"marker\":{\"colorbar\":{\"outlinewidth\":0,\"ticks\":\"\"}},\"type\":\"scattercarpet\"}],\"scattergeo\":[{\"marker\":{\"colorbar\":{\"outlinewidth\":0,\"ticks\":\"\"}},\"type\":\"scattergeo\"}],\"scattergl\":[{\"marker\":{\"colorbar\":{\"outlinewidth\":0,\"ticks\":\"\"}},\"type\":\"scattergl\"}],\"scattermapbox\":[{\"marker\":{\"colorbar\":{\"outlinewidth\":0,\"ticks\":\"\"}},\"type\":\"scattermapbox\"}],\"scatterpolar\":[{\"marker\":{\"colorbar\":{\"outlinewidth\":0,\"ticks\":\"\"}},\"type\":\"scatterpolar\"}],\"scatterpolargl\":[{\"marker\":{\"colorbar\":{\"outlinewidth\":0,\"ticks\":\"\"}},\"type\":\"scatterpolargl\"}],\"scatterternary\":[{\"marker\":{\"colorbar\":{\"outlinewidth\":0,\"ticks\":\"\"}},\"type\":\"scatterternary\"}],\"surface\":[{\"colorbar\":{\"outlinewidth\":0,\"ticks\":\"\"},\"colorscale\":[[0.0,\"#0d0887\"],[0.1111111111111111,\"#46039f\"],[0.2222222222222222,\"#7201a8\"],[0.3333333333333333,\"#9c179e\"],[0.4444444444444444,\"#bd3786\"],[0.5555555555555556,\"#d8576b\"],[0.6666666666666666,\"#ed7953\"],[0.7777777777777778,\"#fb9f3a\"],[0.8888888888888888,\"#fdca26\"],[1.0,\"#f0f921\"]],\"type\":\"surface\"}],\"table\":[{\"cells\":{\"fill\":{\"color\":\"#EBF0F8\"},\"line\":{\"color\":\"white\"}},\"header\":{\"fill\":{\"color\":\"#C8D4E3\"},\"line\":{\"color\":\"white\"}},\"type\":\"table\"}]},\"layout\":{\"annotationdefaults\":{\"arrowcolor\":\"#2a3f5f\",\"arrowhead\":0,\"arrowwidth\":1},\"autotypenumbers\":\"strict\",\"coloraxis\":{\"colorbar\":{\"outlinewidth\":0,\"ticks\":\"\"}},\"colorscale\":{\"diverging\":[[0,\"#8e0152\"],[0.1,\"#c51b7d\"],[0.2,\"#de77ae\"],[0.3,\"#f1b6da\"],[0.4,\"#fde0ef\"],[0.5,\"#f7f7f7\"],[0.6,\"#e6f5d0\"],[0.7,\"#b8e186\"],[0.8,\"#7fbc41\"],[0.9,\"#4d9221\"],[1,\"#276419\"]],\"sequential\":[[0.0,\"#0d0887\"],[0.1111111111111111,\"#46039f\"],[0.2222222222222222,\"#7201a8\"],[0.3333333333333333,\"#9c179e\"],[0.4444444444444444,\"#bd3786\"],[0.5555555555555556,\"#d8576b\"],[0.6666666666666666,\"#ed7953\"],[0.7777777777777778,\"#fb9f3a\"],[0.8888888888888888,\"#fdca26\"],[1.0,\"#f0f921\"]],\"sequentialminus\":[[0.0,\"#0d0887\"],[0.1111111111111111,\"#46039f\"],[0.2222222222222222,\"#7201a8\"],[0.3333333333333333,\"#9c179e\"],[0.4444444444444444,\"#bd3786\"],[0.5555555555555556,\"#d8576b\"],[0.6666666666666666,\"#ed7953\"],[0.7777777777777778,\"#fb9f3a\"],[0.8888888888888888,\"#fdca26\"],[1.0,\"#f0f921\"]]},\"colorway\":[\"#636efa\",\"#EF553B\",\"#00cc96\",\"#ab63fa\",\"#FFA15A\",\"#19d3f3\",\"#FF6692\",\"#B6E880\",\"#FF97FF\",\"#FECB52\"],\"font\":{\"color\":\"#2a3f5f\"},\"geo\":{\"bgcolor\":\"white\",\"lakecolor\":\"white\",\"landcolor\":\"#E5ECF6\",\"showlakes\":true,\"showland\":true,\"subunitcolor\":\"white\"},\"hoverlabel\":{\"align\":\"left\"},\"hovermode\":\"closest\",\"mapbox\":{\"style\":\"light\"},\"paper_bgcolor\":\"white\",\"plot_bgcolor\":\"#E5ECF6\",\"polar\":{\"angularaxis\":{\"gridcolor\":\"white\",\"linecolor\":\"white\",\"ticks\":\"\"},\"bgcolor\":\"#E5ECF6\",\"radialaxis\":{\"gridcolor\":\"white\",\"linecolor\":\"white\",\"ticks\":\"\"}},\"scene\":{\"xaxis\":{\"backgroundcolor\":\"#E5ECF6\",\"gridcolor\":\"white\",\"gridwidth\":2,\"linecolor\":\"white\",\"showbackground\":true,\"ticks\":\"\",\"zerolinecolor\":\"white\"},\"yaxis\":{\"backgroundcolor\":\"#E5ECF6\",\"gridcolor\":\"white\",\"gridwidth\":2,\"linecolor\":\"white\",\"showbackground\":true,\"ticks\":\"\",\"zerolinecolor\":\"white\"},\"zaxis\":{\"backgroundcolor\":\"#E5ECF6\",\"gridcolor\":\"white\",\"gridwidth\":2,\"linecolor\":\"white\",\"showbackground\":true,\"ticks\":\"\",\"zerolinecolor\":\"white\"}},\"shapedefaults\":{\"line\":{\"color\":\"#2a3f5f\"}},\"ternary\":{\"aaxis\":{\"gridcolor\":\"white\",\"linecolor\":\"white\",\"ticks\":\"\"},\"baxis\":{\"gridcolor\":\"white\",\"linecolor\":\"white\",\"ticks\":\"\"},\"bgcolor\":\"#E5ECF6\",\"caxis\":{\"gridcolor\":\"white\",\"linecolor\":\"white\",\"ticks\":\"\"}},\"title\":{\"x\":0.05},\"xaxis\":{\"automargin\":true,\"gridcolor\":\"white\",\"linecolor\":\"white\",\"ticks\":\"\",\"title\":{\"standoff\":15},\"zerolinecolor\":\"white\",\"zerolinewidth\":2},\"yaxis\":{\"automargin\":true,\"gridcolor\":\"white\",\"linecolor\":\"white\",\"ticks\":\"\",\"title\":{\"standoff\":15},\"zerolinecolor\":\"white\",\"zerolinewidth\":2}}},\"xaxis\":{\"anchor\":\"y\",\"domain\":[0.0,1.0],\"title\":{\"text\":\"Brand\"}},\"yaxis\":{\"anchor\":\"x\",\"domain\":[0.0,1.0],\"title\":{\"text\":\"Price\"}},\"legend\":{\"title\":{\"text\":\"Condition\"},\"tracegroupgap\":0},\"title\":{\"text\":\"Barplot of Price, Condition and Brand - comparison\"},\"barmode\":\"group\"},                        {\"responsive\": true}                    ).then(function(){\n",
       "                            \n",
       "var gd = document.getElementById('e9b4305e-d3fe-4f60-a774-6d33d0330533');\n",
       "var x = new MutationObserver(function (mutations, observer) {{\n",
       "        var display = window.getComputedStyle(gd).display;\n",
       "        if (!display || display === 'none') {{\n",
       "            console.log([gd, 'removed!']);\n",
       "            Plotly.purge(gd);\n",
       "            observer.disconnect();\n",
       "        }}\n",
       "}});\n",
       "\n",
       "// Listen for the removal of the full notebook cells\n",
       "var notebookContainer = gd.closest('#notebook-container');\n",
       "if (notebookContainer) {{\n",
       "    x.observe(notebookContainer, {childList: true});\n",
       "}}\n",
       "\n",
       "// Listen for the clearing of the current output cell\n",
       "var outputEl = gd.closest('.output');\n",
       "if (outputEl) {{\n",
       "    x.observe(outputEl, {childList: true});\n",
       "}}\n",
       "\n",
       "                        })                };                });            </script>        </div>"
      ]
     },
     "metadata": {},
     "output_type": "display_data"
    }
   ],
   "source": [
    "dane_2 = dane.loc[dane['Brand'].isin([\"Dell\", \"Lenovo\", \"HP\"])]\n",
    "dane_2_grouped = pd.DataFrame(dane_2.groupby([\"Brand\", \"Condition\"]).Price.agg(\"mean\").reset_index())\n",
    "\n",
    "fig = px.bar(dane_2_grouped,\n",
    "            x = \"Brand\",\n",
    "            y = \"Price\",\n",
    "            color = \"Condition\",\n",
    "            barmode = \"group\",\n",
    "            title = \"Barplot of Price, Condition and Brand - comparison\")\n",
    "fig.show()"
   ]
  },
  {
   "cell_type": "markdown",
   "id": "b9c1388e",
   "metadata": {},
   "source": [
    "Na ostatnim wykresie mamy porównanie 3 najpopularniejszych marek w datasecie: Dell, HP i Lenovo. Wykres obrazuje jak zmienia się cena w zależności od marki oraz stanu produktu.\n",
    "1. Dla nowych urządzeń (zielony słupek) cena jest porównywalna dla wszystkich 3 marek\n",
    "2. Między czerwonymi, pomarańczowymi słupkami też nie ma dużej różnicy\n",
    "3. Jedyna dysproporcja na wykresie jest pomiędzy excellent dla Dell i HP oraz open box dla Dell i Lenovo - wniosek: sprzęty marki HP o stanie excellent są o około 100 dolarów droższe oraz laptopy lenovo o stanie open box są również o około 100 dolarów tańsze od Dell."
   ]
  }
 ],
 "metadata": {
  "kernelspec": {
   "display_name": "Python 3 (ipykernel)",
   "language": "python",
   "name": "python3"
  },
  "language_info": {
   "codemirror_mode": {
    "name": "ipython",
    "version": 3
   },
   "file_extension": ".py",
   "mimetype": "text/x-python",
   "name": "python",
   "nbconvert_exporter": "python",
   "pygments_lexer": "ipython3",
   "version": "3.9.12"
  }
 },
 "nbformat": 4,
 "nbformat_minor": 5
}
